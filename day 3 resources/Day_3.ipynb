{
  "nbformat": 4,
  "nbformat_minor": 0,
  "metadata": {
    "colab": {
      "name": "Day 3.ipynb",
      "provenance": [],
      "collapsed_sections": []
    },
    "kernelspec": {
      "name": "python3",
      "display_name": "Python 3"
    },
    "language_info": {
      "name": "python"
    }
  },
  "cells": [
    {
      "cell_type": "markdown",
      "source": [
        "# Welcome to Day 3"
      ],
      "metadata": {
        "id": "I01vdBPz2JC8"
      }
    },
    {
      "cell_type": "markdown",
      "source": [
        "## Today's Contents\n",
        "* Model and Custom Model\n",
        "    1. Data Loading and Preprocessing\n",
        "    2. Model\n",
        "    3. Training\n",
        "    4. Inference\n",
        "    5. Loading and Saving Models\n"
      ],
      "metadata": {
        "id": "-movgQqx2QPI"
      }
    },
    {
      "cell_type": "code",
      "source": [
        "import os\n",
        "from os import path\n",
        "import shutil\n",
        "import time\n",
        "import copy\n",
        "import numpy as np\n",
        "import pandas as pd\n",
        "\n",
        "#Import PyTorch\n",
        "import torch\n",
        "import torch.nn as nn\n",
        "import torch.nn.functional as F\n",
        "import torch.optim as optim\n",
        "from torch.utils.data import Dataset\n",
        "from torch.utils.data.sampler import SubsetRandomSampler\n",
        "from torchvision import datasets, transforms, models\n",
        "\n",
        "#Import Matplotlib\n",
        "import matplotlib\n",
        "import matplotlib.pyplot as plt\n",
        "from PIL import Image"
      ],
      "metadata": {
        "id": "69wkkwmuNgnQ"
      },
      "execution_count": null,
      "outputs": []
    },
    {
      "cell_type": "markdown",
      "source": [
        "# Data Loading and Preprocessing\n"
      ],
      "metadata": {
        "id": "uG2gOPB2vqKZ"
      }
    },
    {
      "cell_type": "code",
      "source": [
        "from google.colab import drive\n",
        "drive.mount('/content/drive')"
      ],
      "metadata": {
        "id": "h68YwToBvrFu",
        "colab": {
          "base_uri": "https://localhost:8080/"
        },
        "outputId": "51fe17c3-6499-43de-f96a-940304cfe42c"
      },
      "execution_count": null,
      "outputs": [
        {
          "output_type": "stream",
          "name": "stdout",
          "text": [
            "Mounted at /content/drive\n"
          ]
        }
      ]
    },
    {
      "cell_type": "code",
      "source": [
        "import os\n",
        "os.makedirs(\"dataset/\")"
      ],
      "metadata": {
        "id": "cVFtXrbhQead"
      },
      "execution_count": null,
      "outputs": []
    },
    {
      "cell_type": "markdown",
      "source": [
        "##### Unzip"
      ],
      "metadata": {
        "id": "jGHdtod_5LjM"
      }
    },
    {
      "cell_type": "code",
      "source": [
        "!unzip /content/drive/MyDrive/PyTorch\\ Tutorial/NUMTA.zip -d /content/dataset/NUMTA"
      ],
      "metadata": {
        "id": "Xk9QnB4TNYOC"
      },
      "execution_count": null,
      "outputs": []
    },
    {
      "cell_type": "code",
      "source": [
        "# Hyperparameters\n",
        "batch_size = 256\n",
        "num_iters = 3200\n",
        "input_shape = 28*28 # num_features = 784\n",
        "output_shape = 10\n",
        "learning_rate = 0.001\n",
        "\n",
        "# Device\n",
        "device = torch.device(\"cuda:0\" if torch.cuda.is_available() else \"cpu\")\n",
        "print(device)"
      ],
      "metadata": {
        "colab": {
          "base_uri": "https://localhost:8080/"
        },
        "id": "MMp8DR5Rwais",
        "outputId": "39bdcfe7-4c9c-485f-8db9-e193c3815c0e"
      },
      "execution_count": null,
      "outputs": [
        {
          "output_type": "stream",
          "name": "stdout",
          "text": [
            "cpu\n"
          ]
        }
      ]
    },
    {
      "cell_type": "code",
      "source": [
        "PATH = 'dataset/NUMTA/'\n",
        "TRAIN_PATH = 'dataset/NUMTA/training-a/'\n",
        "TEST_PATH = 'dataset/NUMTA/testing-all-corrected/testing-a/'\n",
        "os.listdir(PATH)"
      ],
      "metadata": {
        "id": "Io6ilGCWQV9T",
        "colab": {
          "base_uri": "https://localhost:8080/"
        },
        "outputId": "03e16388-85ec-4bc3-8a2f-13034c64b9bd"
      },
      "execution_count": null,
      "outputs": [
        {
          "output_type": "execute_result",
          "data": {
            "text/plain": [
              "['training-e',\n",
              " 'training-e.csv',\n",
              " 'training-b',\n",
              " 'testing-augc',\n",
              " 'training-b.csv',\n",
              " 'training-a',\n",
              " 'testing-a',\n",
              " 'testing-b',\n",
              " 'testing-f',\n",
              " 'testing-e',\n",
              " 'testing-all-corrected',\n",
              " 'training-c.csv',\n",
              " 'training-d.csv',\n",
              " 'testing-c',\n",
              " 'training-d',\n",
              " 'testing-auga',\n",
              " 'testing-d',\n",
              " 'training-c',\n",
              " 'training-a.csv']"
            ]
          },
          "metadata": {},
          "execution_count": 6
        }
      ]
    },
    {
      "cell_type": "code",
      "source": [
        "class Dataset(Dataset):\n",
        "    def __init__(self, df, root, transform=None):\n",
        "        self.data = df\n",
        "        self.root = root\n",
        "        self.transform = transform\n",
        "        \n",
        "    def __len__(self):\n",
        "        return len(self.data)\n",
        "    \n",
        "    def __getitem__(self, index):\n",
        "        item = self.data.iloc[index]\n",
        "        \n",
        "        path = self.root + \"/\" + item[0]\n",
        "        image = Image.open(path).convert('L')\n",
        "        label = item[1]\n",
        "        \n",
        "        if self.transform is not None:\n",
        "            image = self.transform(image)\n",
        "            \n",
        "        return image, label"
      ],
      "metadata": {
        "id": "BS1LpQ6eyzxf"
      },
      "execution_count": null,
      "outputs": []
    },
    {
      "cell_type": "code",
      "source": [
        "df = pd.read_csv(PATH + \"training-a.csv\")[['filename', 'digit']]\n",
        "df.head()"
      ],
      "metadata": {
        "colab": {
          "base_uri": "https://localhost:8080/",
          "height": 206
        },
        "id": "7bjUW4ntzC9Y",
        "outputId": "b4ee726c-b2a9-4805-990e-268d60a9da8a"
      },
      "execution_count": null,
      "outputs": [
        {
          "output_type": "execute_result",
          "data": {
            "text/html": [
              "\n",
              "  <div id=\"df-b0a4c0ab-cb4b-4fac-a1bc-73d59f2d821b\">\n",
              "    <div class=\"colab-df-container\">\n",
              "      <div>\n",
              "<style scoped>\n",
              "    .dataframe tbody tr th:only-of-type {\n",
              "        vertical-align: middle;\n",
              "    }\n",
              "\n",
              "    .dataframe tbody tr th {\n",
              "        vertical-align: top;\n",
              "    }\n",
              "\n",
              "    .dataframe thead th {\n",
              "        text-align: right;\n",
              "    }\n",
              "</style>\n",
              "<table border=\"1\" class=\"dataframe\">\n",
              "  <thead>\n",
              "    <tr style=\"text-align: right;\">\n",
              "      <th></th>\n",
              "      <th>filename</th>\n",
              "      <th>digit</th>\n",
              "    </tr>\n",
              "  </thead>\n",
              "  <tbody>\n",
              "    <tr>\n",
              "      <th>0</th>\n",
              "      <td>a00000.png</td>\n",
              "      <td>5</td>\n",
              "    </tr>\n",
              "    <tr>\n",
              "      <th>1</th>\n",
              "      <td>a00001.png</td>\n",
              "      <td>3</td>\n",
              "    </tr>\n",
              "    <tr>\n",
              "      <th>2</th>\n",
              "      <td>a00002.png</td>\n",
              "      <td>1</td>\n",
              "    </tr>\n",
              "    <tr>\n",
              "      <th>3</th>\n",
              "      <td>a00003.png</td>\n",
              "      <td>7</td>\n",
              "    </tr>\n",
              "    <tr>\n",
              "      <th>4</th>\n",
              "      <td>a00004.png</td>\n",
              "      <td>0</td>\n",
              "    </tr>\n",
              "  </tbody>\n",
              "</table>\n",
              "</div>\n",
              "      <button class=\"colab-df-convert\" onclick=\"convertToInteractive('df-b0a4c0ab-cb4b-4fac-a1bc-73d59f2d821b')\"\n",
              "              title=\"Convert this dataframe to an interactive table.\"\n",
              "              style=\"display:none;\">\n",
              "        \n",
              "  <svg xmlns=\"http://www.w3.org/2000/svg\" height=\"24px\"viewBox=\"0 0 24 24\"\n",
              "       width=\"24px\">\n",
              "    <path d=\"M0 0h24v24H0V0z\" fill=\"none\"/>\n",
              "    <path d=\"M18.56 5.44l.94 2.06.94-2.06 2.06-.94-2.06-.94-.94-2.06-.94 2.06-2.06.94zm-11 1L8.5 8.5l.94-2.06 2.06-.94-2.06-.94L8.5 2.5l-.94 2.06-2.06.94zm10 10l.94 2.06.94-2.06 2.06-.94-2.06-.94-.94-2.06-.94 2.06-2.06.94z\"/><path d=\"M17.41 7.96l-1.37-1.37c-.4-.4-.92-.59-1.43-.59-.52 0-1.04.2-1.43.59L10.3 9.45l-7.72 7.72c-.78.78-.78 2.05 0 2.83L4 21.41c.39.39.9.59 1.41.59.51 0 1.02-.2 1.41-.59l7.78-7.78 2.81-2.81c.8-.78.8-2.07 0-2.86zM5.41 20L4 18.59l7.72-7.72 1.47 1.35L5.41 20z\"/>\n",
              "  </svg>\n",
              "      </button>\n",
              "      \n",
              "  <style>\n",
              "    .colab-df-container {\n",
              "      display:flex;\n",
              "      flex-wrap:wrap;\n",
              "      gap: 12px;\n",
              "    }\n",
              "\n",
              "    .colab-df-convert {\n",
              "      background-color: #E8F0FE;\n",
              "      border: none;\n",
              "      border-radius: 50%;\n",
              "      cursor: pointer;\n",
              "      display: none;\n",
              "      fill: #1967D2;\n",
              "      height: 32px;\n",
              "      padding: 0 0 0 0;\n",
              "      width: 32px;\n",
              "    }\n",
              "\n",
              "    .colab-df-convert:hover {\n",
              "      background-color: #E2EBFA;\n",
              "      box-shadow: 0px 1px 2px rgba(60, 64, 67, 0.3), 0px 1px 3px 1px rgba(60, 64, 67, 0.15);\n",
              "      fill: #174EA6;\n",
              "    }\n",
              "\n",
              "    [theme=dark] .colab-df-convert {\n",
              "      background-color: #3B4455;\n",
              "      fill: #D2E3FC;\n",
              "    }\n",
              "\n",
              "    [theme=dark] .colab-df-convert:hover {\n",
              "      background-color: #434B5C;\n",
              "      box-shadow: 0px 1px 3px 1px rgba(0, 0, 0, 0.15);\n",
              "      filter: drop-shadow(0px 1px 2px rgba(0, 0, 0, 0.3));\n",
              "      fill: #FFFFFF;\n",
              "    }\n",
              "  </style>\n",
              "\n",
              "      <script>\n",
              "        const buttonEl =\n",
              "          document.querySelector('#df-b0a4c0ab-cb4b-4fac-a1bc-73d59f2d821b button.colab-df-convert');\n",
              "        buttonEl.style.display =\n",
              "          google.colab.kernel.accessAllowed ? 'block' : 'none';\n",
              "\n",
              "        async function convertToInteractive(key) {\n",
              "          const element = document.querySelector('#df-b0a4c0ab-cb4b-4fac-a1bc-73d59f2d821b');\n",
              "          const dataTable =\n",
              "            await google.colab.kernel.invokeFunction('convertToInteractive',\n",
              "                                                     [key], {});\n",
              "          if (!dataTable) return;\n",
              "\n",
              "          const docLinkHtml = 'Like what you see? Visit the ' +\n",
              "            '<a target=\"_blank\" href=https://colab.research.google.com/notebooks/data_table.ipynb>data table notebook</a>'\n",
              "            + ' to learn more about interactive tables.';\n",
              "          element.innerHTML = '';\n",
              "          dataTable['output_type'] = 'display_data';\n",
              "          await google.colab.output.renderOutput(dataTable, element);\n",
              "          const docLink = document.createElement('div');\n",
              "          docLink.innerHTML = docLinkHtml;\n",
              "          element.appendChild(docLink);\n",
              "        }\n",
              "      </script>\n",
              "    </div>\n",
              "  </div>\n",
              "  "
            ],
            "text/plain": [
              "     filename  digit\n",
              "0  a00000.png      5\n",
              "1  a00001.png      3\n",
              "2  a00002.png      1\n",
              "3  a00003.png      7\n",
              "4  a00004.png      0"
            ]
          },
          "metadata": {},
          "execution_count": 8
        }
      ]
    },
    {
      "cell_type": "code",
      "source": [
        "mean = [0.5,]\n",
        "std = [0.5, ]\n",
        "\n",
        "transform = test_transform = transforms.Compose([\n",
        "        transforms.Resize(28),\n",
        "        transforms.ToTensor(),\n",
        "        transforms.Normalize(mean, std)\n",
        "])"
      ],
      "metadata": {
        "id": "tvwkLZAD0YFi"
      },
      "execution_count": null,
      "outputs": []
    },
    {
      "cell_type": "code",
      "source": [
        "dataset = Dataset(df, TRAIN_PATH, transform)"
      ],
      "metadata": {
        "id": "2HlM6jNJzxtm"
      },
      "execution_count": null,
      "outputs": []
    },
    {
      "cell_type": "code",
      "source": [
        "len(dataset)"
      ],
      "metadata": {
        "colab": {
          "base_uri": "https://localhost:8080/"
        },
        "id": "_VsMLrcA0c0S",
        "outputId": "231a75af-e42a-45a3-93f5-e580f33463dc"
      },
      "execution_count": null,
      "outputs": [
        {
          "output_type": "execute_result",
          "data": {
            "text/plain": [
              "19702"
            ]
          },
          "metadata": {},
          "execution_count": 11
        }
      ]
    },
    {
      "cell_type": "markdown",
      "source": [
        "## Data Splitting"
      ],
      "metadata": {
        "id": "YFnrUerY4sZM"
      }
    },
    {
      "cell_type": "markdown",
      "source": [
        "Training Set, Validation Set, Testing Set"
      ],
      "metadata": {
        "id": "fbA2UNQ458hI"
      }
    },
    {
      "cell_type": "code",
      "source": [
        "# split data 20% for validation\n",
        "val_size = 0.2\n",
        "\n",
        "# obtain training indices that will be used for validation\n",
        "dataset_size = len(dataset)\n",
        "\n",
        "# mix data\n",
        "# indices of all data\n",
        "indices = list(range(dataset_size))\n",
        "\n",
        "# random the index\n",
        "np.random.shuffle(indices)\n",
        "\n",
        "split = int(np.floor(val_size * dataset_size))\n",
        "\n",
        "# divied into two part\n",
        "train_idx, val_idx = indices[split:], indices[:split]"
      ],
      "metadata": {
        "id": "3EpeDeK7AF13"
      },
      "execution_count": null,
      "outputs": []
    },
    {
      "cell_type": "code",
      "source": [
        "# define the sampler\n",
        "train_sampler = SubsetRandomSampler(train_idx)\n",
        "val_sampler = SubsetRandomSampler(val_idx)\n",
        "\n",
        "print(\"Train Samples: \",len(train_idx))\n",
        "print(\"Validation Samples: \",len(val_idx))"
      ],
      "metadata": {
        "colab": {
          "base_uri": "https://localhost:8080/"
        },
        "id": "iSz5DZ6urgEM",
        "outputId": "927006f7-af73-460e-d96f-dd04a175ca86"
      },
      "execution_count": null,
      "outputs": [
        {
          "output_type": "stream",
          "name": "stdout",
          "text": [
            "Train Samples:  15762\n",
            "Validation Samples:  3940\n"
          ]
        }
      ]
    },
    {
      "cell_type": "code",
      "source": [
        "show_img = dataset[1][0].numpy().reshape(28, 28)\n",
        "plt.imshow(show_img, cmap='gray')"
      ],
      "metadata": {
        "colab": {
          "base_uri": "https://localhost:8080/",
          "height": 283
        },
        "id": "h9l7l3-6003y",
        "outputId": "0c61e271-fc29-46a0-bdcb-fe69b1a5ad8f"
      },
      "execution_count": null,
      "outputs": [
        {
          "output_type": "execute_result",
          "data": {
            "text/plain": [
              "<matplotlib.image.AxesImage at 0x7fe7ba36f6d0>"
            ]
          },
          "metadata": {},
          "execution_count": 15
        },
        {
          "output_type": "display_data",
          "data": {
            "image/png": "[encoded data removed]",
            "text/plain": [
              "<Figure size 432x288 with 1 Axes>"
            ]
          },
          "metadata": {
            "needs_background": "light"
          }
        }
      ]
    },
    {
      "cell_type": "code",
      "source": [
        "dataset[1][1]"
      ],
      "metadata": {
        "colab": {
          "base_uri": "https://localhost:8080/"
        },
        "id": "F7-CbPnF25lY",
        "outputId": "886fbeb3-4a11-410c-e11b-e0c5322cd558"
      },
      "execution_count": null,
      "outputs": [
        {
          "output_type": "execute_result",
          "data": {
            "text/plain": [
              "3"
            ]
          },
          "metadata": {},
          "execution_count": 16
        }
      ]
    },
    {
      "cell_type": "markdown",
      "source": [
        "## Dataloader"
      ],
      "metadata": {
        "id": "OCvsaJFD43IS"
      }
    },
    {
      "cell_type": "code",
      "source": [
        "'''\n",
        "MAKING DATASET ITERABLE\n",
        "'''\n",
        "\n",
        "# prepare loaders\n",
        "train_loader = torch.utils.data.DataLoader(dataset, batch_size=batch_size,sampler=train_sampler)\n",
        "val_loader = torch.utils.data.DataLoader(dataset, batch_size=batch_size, sampler=val_sampler)"
      ],
      "metadata": {
        "id": "fvOUCH2rkL4B"
      },
      "execution_count": null,
      "outputs": []
    },
    {
      "cell_type": "code",
      "source": [
        "image, label = next(iter(val_loader))\n",
        "image.shape, label.shape"
      ],
      "metadata": {
        "colab": {
          "base_uri": "https://localhost:8080/"
        },
        "id": "JzrHxIYJzfAj",
        "outputId": "07a87024-8a83-4e53-85d4-f3e5a638fdad"
      },
      "execution_count": null,
      "outputs": [
        {
          "output_type": "execute_result",
          "data": {
            "text/plain": [
              "(torch.Size([256, 1, 28, 28]), torch.Size([256]))"
            ]
          },
          "metadata": {},
          "execution_count": 19
        }
      ]
    },
    {
      "cell_type": "code",
      "source": [
        "# torch.flatten(image,1,3).shape\n",
        "# image.view(image.shape[0], -1).shape"
      ],
      "metadata": {
        "colab": {
          "base_uri": "https://localhost:8080/"
        },
        "id": "nftA1UoW01N4",
        "outputId": "e393658f-0ce1-4c7d-bcf6-04001670d646"
      },
      "execution_count": null,
      "outputs": [
        {
          "output_type": "execute_result",
          "data": {
            "text/plain": [
              "torch.Size([20, 784])"
            ]
          },
          "metadata": {},
          "execution_count": 60
        }
      ]
    },
    {
      "cell_type": "markdown",
      "source": [
        "# FCN Model"
      ],
      "metadata": {
        "id": "yQJEblrjAT6O"
      }
    },
    {
      "cell_type": "code",
      "source": [
        "class FC(nn.Module):\n",
        "    def __init__(self, input_size, num_classes):\n",
        "        super().__init__()\n",
        "        self.fc1 = nn.Linear(input_size, 512)    #Input Layer\n",
        "        self.fc2 = nn.Linear(512, 256)          #Hidden Layer\n",
        "        self.fc3 = nn.Linear(256, 128)          #Hidden Layer\n",
        "        self.fc4 = nn.Linear(128, num_classes)   #Output Layer\n",
        "\n",
        "    def forward(self, x):\n",
        "        x = x.view(x.shape[0], -1)\n",
        "        x = F.relu(self.fc1(x))\n",
        "        x = F.relu(self.fc2(x))\n",
        "        x = F.relu(self.fc3(x))\n",
        "        \n",
        "        # probas = F.log_softmax(self.fc4(x), dim=1)\n",
        "        logits = self.fc4(x)\n",
        "        \n",
        "        return logits"
      ],
      "metadata": {
        "id": "VC7VjWZkzUo6"
      },
      "execution_count": null,
      "outputs": []
    },
    {
      "cell_type": "code",
      "source": [
        "'''\n",
        "INSTANTIATE MODEL CLASS\n",
        "'''\n",
        "\n",
        "model = FC(input_size=input_shape, num_classes=output_shape)\n",
        "\n",
        "# To enable GPU\n",
        "model.to(device)"
      ],
      "metadata": {
        "colab": {
          "base_uri": "https://localhost:8080/"
        },
        "id": "AqCzCp0R3dSF",
        "outputId": "9b8852c5-35c5-4fd2-e950-0a1be349db72"
      },
      "execution_count": null,
      "outputs": [
        {
          "output_type": "execute_result",
          "data": {
            "text/plain": [
              "FC(\n",
              "  (fc1): Linear(in_features=784, out_features=512, bias=True)\n",
              "  (fc2): Linear(in_features=512, out_features=256, bias=True)\n",
              "  (fc3): Linear(in_features=256, out_features=128, bias=True)\n",
              "  (fc4): Linear(in_features=128, out_features=10, bias=True)\n",
              ")"
            ]
          },
          "metadata": {},
          "execution_count": 21
        }
      ]
    },
    {
      "cell_type": "markdown",
      "source": [
        "## Optimizer and Loss Function"
      ],
      "metadata": {
        "id": "_PmXUnn4A7ya"
      }
    },
    {
      "cell_type": "code",
      "source": [
        "# INSTANTIATE OPTIMIZER CLASS\n",
        "optimizer1 = torch.optim.Adam(model.parameters(), lr=learning_rate)\n",
        "criterion1 = nn.CrossEntropyLoss()"
      ],
      "metadata": {
        "id": "ymMr2fdH3xOt"
      },
      "execution_count": null,
      "outputs": []
    },
    {
      "cell_type": "markdown",
      "source": [
        "## Batch Size, Epochs, Iterations"
      ],
      "metadata": {
        "id": "dKUO1FSXBAsR"
      }
    },
    {
      "cell_type": "code",
      "source": [
        "num_batches = (len(train_idx) / batch_size)\n",
        "num_epochs = num_iters / num_batches\n",
        "num_epochs = int(num_epochs)\n",
        "\n",
        "print(f'Total Epochs: {num_epochs}')"
      ],
      "metadata": {
        "colab": {
          "base_uri": "https://localhost:8080/"
        },
        "id": "AysNHN-b6Of6",
        "outputId": "0de9bb41-1cd0-408d-a221-83b33b82ca8d"
      },
      "execution_count": null,
      "outputs": [
        {
          "output_type": "stream",
          "name": "stdout",
          "text": [
            "Total Epochs: 51\n"
          ]
        }
      ]
    },
    {
      "cell_type": "markdown",
      "source": [
        "# ConvNets"
      ],
      "metadata": {
        "id": "PWtHYUAUO7zd"
      }
    },
    {
      "cell_type": "code",
      "source": [
        "class ConvNet(nn.Module):\n",
        "    def __init__(self, num_classes):\n",
        "        super().__init__()\n",
        "        # input_shape = 1X28X28\n",
        "        #torch.nn.Conv2d(in_channels, out_channels, kernel_size, stride=1, padding=0)\n",
        "        self.conv1 = nn.Conv2d(1, 10, 5) #output: 10X24X24\n",
        "        #torch.nn.MaxPool2d(kernel_size, stride=None)\n",
        "        self.pool1 = nn.MaxPool2d(2, 2) #output: 10X12X12\n",
        "        self.conv2 = nn.Conv2d(10, 20, 5) #output: 20X8X8\n",
        "        self.pool2 = nn.MaxPool2d(2, 2) #output: 20X4X4\n",
        "        self.fc1 = nn.Linear(20 * 4 * 4, 100)\n",
        "        self.fc2 = nn.Linear(100, 50)\n",
        "        self.fc3 = nn.Linear(50, num_classes)\n",
        "\n",
        "    def forward(self, x):\n",
        "        x = self.pool1(F.relu(self.conv1(x)))\n",
        "        x = self.pool2(F.relu(self.conv2(x)))\n",
        "        x = torch.flatten(x, 1) # flatten all dimensions except batch\n",
        "        x = F.relu(self.fc1(x))\n",
        "        x = F.relu(self.fc2(x))\n",
        "        x = self.fc3(x)\n",
        "        return x"
      ],
      "metadata": {
        "id": "k9Lu8w0xO8vb"
      },
      "execution_count": null,
      "outputs": []
    },
    {
      "cell_type": "code",
      "source": [
        "'''\n",
        "INSTANTIATE MODEL CLASS\n",
        "'''\n",
        "\n",
        "model2 = ConvNet(num_classes=output_shape)\n",
        "\n",
        "# To enable GPU\n",
        "model2.to(device)"
      ],
      "metadata": {
        "colab": {
          "base_uri": "https://localhost:8080/"
        },
        "id": "suH2Z0T3PUoJ",
        "outputId": "2eef6e15-60fb-4cc6-9cd8-fb6fec6fda51"
      },
      "execution_count": null,
      "outputs": [
        {
          "output_type": "execute_result",
          "data": {
            "text/plain": [
              "ConvNet(\n",
              "  (conv1): Conv2d(1, 10, kernel_size=(5, 5), stride=(1, 1))\n",
              "  (pool1): MaxPool2d(kernel_size=2, stride=2, padding=0, dilation=1, ceil_mode=False)\n",
              "  (conv2): Conv2d(10, 20, kernel_size=(5, 5), stride=(1, 1))\n",
              "  (pool2): MaxPool2d(kernel_size=2, stride=2, padding=0, dilation=1, ceil_mode=False)\n",
              "  (fc1): Linear(in_features=320, out_features=100, bias=True)\n",
              "  (fc2): Linear(in_features=100, out_features=50, bias=True)\n",
              "  (fc3): Linear(in_features=50, out_features=10, bias=True)\n",
              ")"
            ]
          },
          "metadata": {},
          "execution_count": 24
        }
      ]
    },
    {
      "cell_type": "code",
      "source": [
        "# INSTANTIATE OPTIMIZER CLASS\n",
        "optimizer2 = torch.optim.Adam(model2.parameters(), lr=learning_rate)\n",
        "criterion2 = nn.CrossEntropyLoss()"
      ],
      "metadata": {
        "id": "BnFa6vSJPvnt"
      },
      "execution_count": null,
      "outputs": []
    },
    {
      "cell_type": "code",
      "source": [
        "num_batches = (len(train_idx) / batch_size)\n",
        "num_epochs = num_iters / num_batches\n",
        "num_epochs = int(num_epochs)\n",
        "\n",
        "print(f'Total Epochs: {num_epochs}')"
      ],
      "metadata": {
        "colab": {
          "base_uri": "https://localhost:8080/"
        },
        "id": "z9cTZbKUQbBA",
        "outputId": "4cf7c1a7-54a3-426b-8984-35c8de05a105"
      },
      "execution_count": null,
      "outputs": [
        {
          "output_type": "stream",
          "name": "stdout",
          "text": [
            "Total Epochs: 51\n"
          ]
        }
      ]
    },
    {
      "cell_type": "code",
      "source": [
        "dataloaders = {'train': train_loader, 'val': val_loader}\n",
        "dataset_sizes = {'train': len(train_idx), 'val': len(val_idx)}"
      ],
      "metadata": {
        "id": "dbiLSkA9_5SI"
      },
      "execution_count": null,
      "outputs": []
    },
    {
      "cell_type": "markdown",
      "source": [
        "# Training"
      ],
      "metadata": {
        "id": "ss_UwKI0Cftf"
      }
    },
    {
      "cell_type": "code",
      "source": [
        "def train_model(model, criterion, optimizer, num_epochs=25):\n",
        "    since = time.time()\n",
        "\n",
        "    all_train_loss = []\n",
        "    all_val_loss = []\n",
        "    all_train_acc = []\n",
        "    all_val_acc = []\n",
        "    best_model_wts = copy.deepcopy(model.state_dict())\n",
        "    best_acc = 0.0\n",
        "\n",
        "    for epoch in range(0, num_epochs):\n",
        "        print('Epoch {}/{}'.format(epoch, num_epochs - 1))\n",
        "        print('-' * 10)\n",
        "\n",
        "        # Each epoch has a training and validation phase\n",
        "        for phase in ['train', 'val']:\n",
        "            if phase == 'train':\n",
        "                model.train()  # Set model to training mode\n",
        "            else:\n",
        "                model.eval()   # Set model to evaluate mode\n",
        "\n",
        "            running_loss = 0.0\n",
        "            running_corrects = 0\n",
        "\n",
        "            # Iterate over data.\n",
        "            for inputs, labels in dataloaders[phase]:\n",
        "                inputs = inputs.to(device)\n",
        "                labels = labels.to(device)\n",
        "\n",
        "                # forward\n",
        "                # track history if only in train\n",
        "                with torch.set_grad_enabled(phase == 'train'):\n",
        "                    outputs = model(inputs)\n",
        "                    _, preds = torch.max(outputs, 1)\n",
        "                    loss = criterion(outputs, labels)\n",
        "\n",
        "                    # backward + optimize only if in training phase\n",
        "                    if phase == 'train':\n",
        "                        \n",
        "                        loss.backward() #calculate gradients\n",
        "                        optimizer.step() # weights_update \n",
        "                        optimizer.zero_grad() #prevents of accumulation gradients\n",
        "\n",
        "                # statistics\n",
        "                running_loss += loss.item() * inputs.size(0)\n",
        "                running_corrects += torch.sum(preds == labels.data)\n",
        "\n",
        "            epoch_loss = running_loss / dataset_sizes[phase]\n",
        "            epoch_acc = running_corrects.double() / dataset_sizes[phase]\n",
        "\n",
        "            if phase == 'train':\n",
        "              all_train_loss.append(epoch_loss)\n",
        "              all_train_acc.append(epoch_acc.item())\n",
        "            elif phase == 'val':\n",
        "              all_val_loss.append(epoch_loss)\n",
        "              all_val_acc.append(epoch_acc.item())              \n",
        "\n",
        "            print('{} Loss: {:.4f} Acc: {:.4f}'.format(\n",
        "                phase, epoch_loss, epoch_acc))\n",
        "\n",
        "            # deep copy the model\n",
        "            if phase == 'val' and epoch_acc > best_acc:\n",
        "                best_acc = epoch_acc\n",
        "                best_model_wts = copy.deepcopy(model.state_dict())\n",
        "\n",
        "        print()\n",
        "\n",
        "    time_elapsed = time.time() - since\n",
        "    print('Training complete in {:.0f}m {:.0f}s'.format(\n",
        "        time_elapsed // 60, time_elapsed % 60))\n",
        "    print('Best val Acc: {:4f}'.format(best_acc))\n",
        "\n",
        "    # load best model weights\n",
        "    model.load_state_dict(best_model_wts)\n",
        "\n",
        "    # plotting the training and validation loss\n",
        "    fig, axs = plt.subplots(1,2, figsize=(12,6))\n",
        "    axs[0].plot(all_train_loss, label='Training loss')\n",
        "    axs[0].plot(all_val_loss, label='Validation loss')\n",
        "    axs[0].set_label(\"Training VS. Validation Loss\")\n",
        "    axs[0].set(xlabel=\"Epochs\", ylabel=\"Loss\")\n",
        "    # plotting the training and validation accuracy\n",
        "    axs[1].plot(all_train_acc, label='Training accuracyc')\n",
        "    axs[1].plot(all_val_acc, label='Validation accuracy')\n",
        "    axs[1].set_label(\"Training VS. Validation Accuracy\")\n",
        "    axs[1].set(xlabel=\"Epochs\", ylabel=\"Accuracy\")\n",
        "\n",
        "    axs[0].legend()\n",
        "    axs[1].legend()\n",
        "\n",
        "    # fig.tight_layout()\n",
        "    plt.show()    \n",
        "    return model"
      ],
      "metadata": {
        "id": "imehhQt78aNb"
      },
      "execution_count": null,
      "outputs": []
    },
    {
      "cell_type": "markdown",
      "source": [
        "### Training FCN"
      ],
      "metadata": {
        "id": "g6Ri1ApNW7z1"
      }
    },
    {
      "cell_type": "code",
      "source": [
        "model = train_model(model, criterion1 , optimizer1, num_epochs=25, name=\"fc\")"
      ],
      "metadata": {
        "colab": {
          "base_uri": "https://localhost:8080/",
          "height": 1000
        },
        "id": "pGnTLre1-VH7",
        "outputId": "78df3c0e-632a-49a4-88dc-0620499a54c1"
      },
      "execution_count": null,
      "outputs": [
        {
          "output_type": "stream",
          "name": "stdout",
          "text": [
            "Epoch 0/24\n",
            "----------\n",
            "train Loss: 2.3029 Acc: 0.0986\n",
            "val Loss: 2.2986 Acc: 0.0959\n",
            "\n",
            "Epoch 1/24\n",
            "----------\n",
            "train Loss: 2.2846 Acc: 0.1279\n",
            "val Loss: 2.2613 Acc: 0.1343\n",
            "\n",
            "Epoch 2/24\n",
            "----------\n",
            "train Loss: 2.1563 Acc: 0.2078\n",
            "val Loss: 2.0713 Acc: 0.2365\n",
            "\n",
            "Epoch 3/24\n",
            "----------\n",
            "train Loss: 2.0019 Acc: 0.2811\n",
            "val Loss: 1.9393 Acc: 0.3089\n",
            "\n",
            "Epoch 4/24\n",
            "----------\n",
            "train Loss: 1.9085 Acc: 0.3174\n",
            "val Loss: 1.8787 Acc: 0.3462\n",
            "\n",
            "Epoch 5/24\n",
            "----------\n",
            "train Loss: 1.8038 Acc: 0.3747\n",
            "val Loss: 1.7419 Acc: 0.3774\n",
            "\n",
            "Epoch 6/24\n",
            "----------\n",
            "train Loss: 1.6849 Acc: 0.4142\n",
            "val Loss: 1.5825 Acc: 0.4731\n",
            "\n",
            "Epoch 7/24\n",
            "----------\n",
            "train Loss: 1.5291 Acc: 0.4797\n",
            "val Loss: 1.5865 Acc: 0.4340\n",
            "\n",
            "Epoch 8/24\n",
            "----------\n",
            "train Loss: 1.4831 Acc: 0.4878\n",
            "val Loss: 1.3507 Acc: 0.5467\n",
            "\n",
            "Epoch 9/24\n",
            "----------\n",
            "train Loss: 1.3907 Acc: 0.5299\n",
            "val Loss: 1.2972 Acc: 0.5812\n",
            "\n",
            "Epoch 10/24\n",
            "----------\n",
            "train Loss: 1.3202 Acc: 0.5556\n",
            "val Loss: 1.3073 Acc: 0.5464\n",
            "\n",
            "Epoch 11/24\n",
            "----------\n",
            "train Loss: 1.2091 Acc: 0.6044\n",
            "val Loss: 1.2968 Acc: 0.5495\n",
            "\n",
            "Epoch 12/24\n",
            "----------\n",
            "train Loss: 1.3663 Acc: 0.5367\n",
            "val Loss: 1.1792 Acc: 0.6231\n",
            "\n",
            "Epoch 13/24\n",
            "----------\n",
            "train Loss: 1.1416 Acc: 0.6297\n",
            "val Loss: 1.0939 Acc: 0.6345\n",
            "\n",
            "Epoch 14/24\n",
            "----------\n",
            "train Loss: 1.1198 Acc: 0.6339\n",
            "val Loss: 1.1006 Acc: 0.6320\n",
            "\n",
            "Epoch 15/24\n",
            "----------\n",
            "train Loss: 1.0928 Acc: 0.6347\n",
            "val Loss: 1.0666 Acc: 0.6386\n",
            "\n",
            "Epoch 16/24\n",
            "----------\n",
            "train Loss: 1.0612 Acc: 0.6500\n",
            "val Loss: 1.0791 Acc: 0.6393\n",
            "\n",
            "Epoch 17/24\n",
            "----------\n",
            "train Loss: 1.0585 Acc: 0.6478\n",
            "val Loss: 1.0198 Acc: 0.6602\n",
            "\n",
            "Epoch 18/24\n",
            "----------\n",
            "train Loss: 1.0430 Acc: 0.6540\n",
            "val Loss: 0.9984 Acc: 0.6602\n",
            "\n",
            "Epoch 19/24\n",
            "----------\n",
            "train Loss: 1.0075 Acc: 0.6705\n",
            "val Loss: 1.0016 Acc: 0.6703\n",
            "\n",
            "Epoch 20/24\n",
            "----------\n",
            "train Loss: 0.9788 Acc: 0.6769\n",
            "val Loss: 0.9363 Acc: 0.6855\n",
            "\n",
            "Epoch 21/24\n",
            "----------\n",
            "train Loss: 0.9438 Acc: 0.6941\n",
            "val Loss: 0.9138 Acc: 0.7089\n",
            "\n",
            "Epoch 22/24\n",
            "----------\n",
            "train Loss: 0.9073 Acc: 0.7042\n",
            "val Loss: 0.8715 Acc: 0.7208\n",
            "\n",
            "Epoch 23/24\n",
            "----------\n",
            "train Loss: 0.9137 Acc: 0.7007\n",
            "val Loss: 0.8868 Acc: 0.6975\n",
            "\n",
            "Epoch 24/24\n",
            "----------\n",
            "train Loss: 1.0098 Acc: 0.6580\n",
            "val Loss: 0.9067 Acc: 0.7188\n",
            "\n",
            "Training complete in 19m 34s\n",
            "Best val Acc: 0.720812\n"
          ]
        },
        {
          "output_type": "display_data",
          "data": {
            "image/png": "[encoded data removed]",
            "text/plain": [
              "<Figure size 864x432 with 2 Axes>"
            ]
          },
          "metadata": {
            "needs_background": "light"
          }
        }
      ]
    },
    {
      "cell_type": "markdown",
      "source": [
        "### Training ConvNet"
      ],
      "metadata": {
        "id": "npuT88qsXJMy"
      }
    },
    {
      "cell_type": "code",
      "source": [
        "torch.save(model.state_dict(), \"drive/MyDrive/PyTorch Tutorial/fc.pth\")\n",
        "\n",
        "torch.save(model2.state_dict(), \"drive/MyDrive/PyTorch Tutorial/conv.pth\")"
      ],
      "metadata": {
        "id": "q_7pNH-68IlS"
      },
      "execution_count": null,
      "outputs": []
    },
    {
      "cell_type": "code",
      "source": [
        "ls"
      ],
      "metadata": {
        "colab": {
          "base_uri": "https://localhost:8080/"
        },
        "id": "vh54vYLL8U0S",
        "outputId": "6fb25fe2-465e-4cbc-bcda-b342af19b8bc"
      },
      "execution_count": null,
      "outputs": [
        {
          "output_type": "stream",
          "name": "stdout",
          "text": [
            "\u001b[0m\u001b[01;34mdataset\u001b[0m/  \u001b[01;34mdrive\u001b[0m/  \u001b[01;34msample_data\u001b[0m/\n"
          ]
        }
      ]
    },
    {
      "cell_type": "code",
      "source": [
        "model2 = train_model(model2, criterion2, optimizer2, num_epochs=25, name=\"conv\")"
      ],
      "metadata": {
        "colab": {
          "base_uri": "https://localhost:8080/",
          "height": 1000
        },
        "id": "WFivsArzRCHX",
        "outputId": "4d7dc611-6844-4d77-acbd-8fb42836ce8a"
      },
      "execution_count": null,
      "outputs": [
        {
          "output_type": "stream",
          "name": "stdout",
          "text": [
            "Epoch 0/24\n",
            "----------\n",
            "train Loss: 2.2490 Acc: 0.1615\n",
            "val Loss: 2.0668 Acc: 0.2632\n",
            "\n",
            "Epoch 1/24\n",
            "----------\n",
            "train Loss: 1.8300 Acc: 0.3337\n",
            "val Loss: 1.6356 Acc: 0.4391\n",
            "\n",
            "Epoch 2/24\n",
            "----------\n",
            "train Loss: 1.5177 Acc: 0.4543\n",
            "val Loss: 1.3887 Acc: 0.5198\n",
            "\n",
            "Epoch 3/24\n",
            "----------\n",
            "train Loss: 1.2727 Acc: 0.5583\n",
            "val Loss: 1.2177 Acc: 0.5916\n",
            "\n",
            "Epoch 4/24\n",
            "----------\n",
            "train Loss: 1.1141 Acc: 0.6105\n",
            "val Loss: 1.0260 Acc: 0.6558\n",
            "\n",
            "Epoch 5/24\n",
            "----------\n",
            "train Loss: 0.9647 Acc: 0.6659\n",
            "val Loss: 0.9449 Acc: 0.6855\n",
            "\n",
            "Epoch 6/24\n",
            "----------\n",
            "train Loss: 0.8537 Acc: 0.7092\n",
            "val Loss: 0.8137 Acc: 0.7294\n",
            "\n",
            "Epoch 7/24\n",
            "----------\n",
            "train Loss: 0.7958 Acc: 0.7292\n",
            "val Loss: 0.8531 Acc: 0.7025\n",
            "\n",
            "Epoch 8/24\n",
            "----------\n",
            "train Loss: 0.7630 Acc: 0.7401\n",
            "val Loss: 0.7989 Acc: 0.7277\n",
            "\n",
            "Epoch 9/24\n",
            "----------\n",
            "train Loss: 0.7069 Acc: 0.7619\n",
            "val Loss: 0.7030 Acc: 0.7660\n",
            "\n",
            "Epoch 10/24\n",
            "----------\n",
            "train Loss: 0.6520 Acc: 0.7870\n",
            "val Loss: 0.6355 Acc: 0.7990\n",
            "\n",
            "Epoch 11/24\n",
            "----------\n",
            "train Loss: 0.6163 Acc: 0.7962\n",
            "val Loss: 0.6088 Acc: 0.8046\n",
            "\n",
            "Epoch 12/24\n",
            "----------\n",
            "train Loss: 0.6140 Acc: 0.7986\n",
            "val Loss: 0.6253 Acc: 0.7992\n",
            "\n",
            "Epoch 13/24\n",
            "----------\n",
            "train Loss: 0.5763 Acc: 0.8116\n",
            "val Loss: 0.5752 Acc: 0.8165\n",
            "\n",
            "Epoch 14/24\n",
            "----------\n",
            "train Loss: 0.5227 Acc: 0.8310\n",
            "val Loss: 0.5180 Acc: 0.8396\n",
            "\n",
            "Epoch 15/24\n",
            "----------\n",
            "train Loss: 0.5064 Acc: 0.8313\n",
            "val Loss: 0.4820 Acc: 0.8452\n",
            "\n",
            "Epoch 16/24\n",
            "----------\n",
            "train Loss: 0.4647 Acc: 0.8455\n",
            "val Loss: 0.4902 Acc: 0.8376\n",
            "\n",
            "Epoch 17/24\n",
            "----------\n",
            "train Loss: 0.4435 Acc: 0.8542\n",
            "val Loss: 0.4671 Acc: 0.8459\n",
            "\n",
            "Epoch 18/24\n",
            "----------\n",
            "train Loss: 0.4237 Acc: 0.8608\n",
            "val Loss: 0.4511 Acc: 0.8536\n",
            "\n",
            "Epoch 19/24\n",
            "----------\n",
            "train Loss: 0.4066 Acc: 0.8661\n",
            "val Loss: 0.4229 Acc: 0.8711\n",
            "\n",
            "Epoch 20/24\n",
            "----------\n",
            "train Loss: 0.3822 Acc: 0.8755\n",
            "val Loss: 0.4159 Acc: 0.8678\n",
            "\n",
            "Epoch 21/24\n",
            "----------\n",
            "train Loss: 0.3680 Acc: 0.8798\n",
            "val Loss: 0.3876 Acc: 0.8777\n",
            "\n",
            "Epoch 22/24\n",
            "----------\n",
            "train Loss: 0.3477 Acc: 0.8873\n",
            "val Loss: 0.3733 Acc: 0.8807\n",
            "\n",
            "Epoch 23/24\n",
            "----------\n",
            "train Loss: 0.3353 Acc: 0.8916\n",
            "val Loss: 0.3651 Acc: 0.8888\n",
            "\n",
            "Epoch 24/24\n",
            "----------\n",
            "train Loss: 0.3283 Acc: 0.8942\n",
            "val Loss: 0.3468 Acc: 0.8896\n",
            "\n",
            "Training complete in 20m 5s\n",
            "Best val Acc: 0.889594\n"
          ]
        },
        {
          "output_type": "display_data",
          "data": {
            "image/png": "[encoded data removed]",
            "text/plain": [
              "<Figure size 864x432 with 2 Axes>"
            ]
          },
          "metadata": {
            "needs_background": "light"
          }
        }
      ]
    },
    {
      "cell_type": "markdown",
      "source": [
        "## Evaluating Classwise Performance"
      ],
      "metadata": {
        "id": "jJgsgcG4CrVt"
      }
    },
    {
      "cell_type": "code",
      "source": [
        "classes = np.arange(0,10)"
      ],
      "metadata": {
        "id": "V3G2B-uWJKlP"
      },
      "execution_count": null,
      "outputs": []
    },
    {
      "cell_type": "markdown",
      "source": [
        "## FCN"
      ],
      "metadata": {
        "id": "gHWX_NXk6J4M"
      }
    },
    {
      "cell_type": "code",
      "source": [
        "with torch.no_grad():\n",
        "    n_correct = 0\n",
        "    n_samples = 0\n",
        "    n_class_correct = [0 for i in range(10)]\n",
        "    n_class_samples = [0 for i in range(10)]\n",
        "    for images, labels in val_loader:\n",
        "        images = images.to(device)\n",
        "        labels = labels.to(device)\n",
        "        outputs = model(images)\n",
        "        # max returns (value ,index)\n",
        "        _, predicted = torch.max(outputs, 1)\n",
        "        n_samples += labels.size(0)\n",
        "        n_correct += (predicted == labels).sum().item()\n",
        "        \n",
        "        for i in range(len(labels)):\n",
        "            label = labels[i]\n",
        "            pred = predicted[i]\n",
        "            if (label == pred):\n",
        "                n_class_correct[label] += 1\n",
        "            n_class_samples[label] += 1\n",
        "\n",
        "    acc = 100.0 * n_correct / n_samples\n",
        "    print(f'Accuracy of the network: {acc} %')\n",
        "\n",
        "    for i in range(10):\n",
        "        acc = 100.0 * n_class_correct[i] / n_class_samples[i]\n",
        "        print(f'Accuracy of {classes[i]}: {acc} %')"
      ],
      "metadata": {
        "colab": {
          "base_uri": "https://localhost:8080/"
        },
        "id": "9koQ21CNCj4v",
        "outputId": "ff11a260-7312-48d7-ba77-1e27744d7612"
      },
      "execution_count": null,
      "outputs": [
        {
          "output_type": "stream",
          "name": "stdout",
          "text": [
            "Accuracy of the network: 72.08121827411168 %\n",
            "Accuracy of 0: 64.37994722955145 %\n",
            "Accuracy of 1: 63.75661375661376 %\n",
            "Accuracy of 2: 67.5233644859813 %\n",
            "Accuracy of 3: 81.13207547169812 %\n",
            "Accuracy of 4: 88.04878048780488 %\n",
            "Accuracy of 5: 71.2401055408971 %\n",
            "Accuracy of 6: 95.90361445783132 %\n",
            "Accuracy of 7: 75.97911227154047 %\n",
            "Accuracy of 8: 71.25307125307125 %\n",
            "Accuracy of 9: 39.743589743589745 %\n"
          ]
        }
      ]
    },
    {
      "cell_type": "markdown",
      "source": [
        "## ConvNet"
      ],
      "metadata": {
        "id": "RW731LBY6N1a"
      }
    },
    {
      "cell_type": "code",
      "source": [
        "with torch.no_grad():\n",
        "    n_correct = 0\n",
        "    n_samples = 0\n",
        "    n_class_correct = [0 for i in range(10)]\n",
        "    n_class_samples = [0 for i in range(10)]\n",
        "    for images, labels in val_loader:\n",
        "        images = images.to(device)\n",
        "        labels = labels.to(device)\n",
        "        outputs = model2(images)\n",
        "        # max returns (value ,index)\n",
        "        _, predicted = torch.max(outputs, 1)\n",
        "        n_samples += labels.size(0)\n",
        "        n_correct += (predicted == labels).sum().item()\n",
        "        \n",
        "        for i in range(len(labels)):\n",
        "            label = labels[i]\n",
        "            pred = predicted[i]\n",
        "            if (label == pred):\n",
        "                n_class_correct[label] += 1\n",
        "            n_class_samples[label] += 1\n",
        "\n",
        "    acc = 100.0 * n_correct / n_samples\n",
        "    print(f'Accuracy of the network: {acc} %')\n",
        "\n",
        "    for i in range(10):\n",
        "        acc = 100.0 * n_class_correct[i] / n_class_samples[i]\n",
        "        print(f'Accuracy of {classes[i]}: {acc} %')"
      ],
      "metadata": {
        "id": "CV6qVRTR6PgQ",
        "colab": {
          "base_uri": "https://localhost:8080/"
        },
        "outputId": "8a5ebff7-8eef-41f8-9e61-e1026ad7c5f7"
      },
      "execution_count": null,
      "outputs": [
        {
          "output_type": "stream",
          "name": "stdout",
          "text": [
            "Accuracy of the network: 88.95939086294416 %\n",
            "Accuracy of 0: 86.01583113456465 %\n",
            "Accuracy of 1: 80.68783068783068 %\n",
            "Accuracy of 2: 88.08411214953271 %\n",
            "Accuracy of 3: 89.21832884097034 %\n",
            "Accuracy of 4: 96.82926829268293 %\n",
            "Accuracy of 5: 92.87598944591029 %\n",
            "Accuracy of 6: 93.25301204819277 %\n",
            "Accuracy of 7: 93.21148825065274 %\n",
            "Accuracy of 8: 88.94348894348894 %\n",
            "Accuracy of 9: 79.74358974358974 %\n"
          ]
        }
      ]
    },
    {
      "cell_type": "markdown",
      "source": [
        "# Inference"
      ],
      "metadata": {
        "id": "W53rNLSICyjN"
      }
    },
    {
      "cell_type": "code",
      "source": [
        "test_images[0]"
      ],
      "metadata": {
        "colab": {
          "base_uri": "https://localhost:8080/",
          "height": 167
        },
        "id": "PTDI9sGBfhuR",
        "outputId": "e0ca3317-127e-4ea7-c481-73a8f416138c"
      },
      "execution_count": null,
      "outputs": [
        {
          "output_type": "error",
          "ename": "NameError",
          "evalue": "ignored",
          "traceback": [
            "\u001b[0;31m---------------------------------------------------------------------------\u001b[0m",
            "\u001b[0;31mNameError\u001b[0m                                 Traceback (most recent call last)",
            "\u001b[0;32m<ipython-input-29-29d1aaf5a0af>\u001b[0m in \u001b[0;36m<module>\u001b[0;34m()\u001b[0m\n\u001b[0;32m----> 1\u001b[0;31m \u001b[0mtest_images\u001b[0m\u001b[0;34m[\u001b[0m\u001b[0;36m0\u001b[0m\u001b[0;34m]\u001b[0m\u001b[0;34m\u001b[0m\u001b[0;34m\u001b[0m\u001b[0m\n\u001b[0m",
            "\u001b[0;31mNameError\u001b[0m: name 'test_images' is not defined"
          ]
        }
      ]
    },
    {
      "cell_type": "code",
      "source": [
        "import glob\n",
        "i=3\n",
        "test_images = glob.glob(TEST_PATH+\"/*\")\n",
        "img = Image.open(test_images[i]).convert('L')\n",
        "img = transform(img)\n",
        "plt.imshow(img.reshape(28,28), cmap='gray')"
      ],
      "metadata": {
        "colab": {
          "base_uri": "https://localhost:8080/"
        },
        "id": "YSMflkk6efrv",
        "outputId": "df422527-91b5-4514-942b-3d5bafb57c0d"
      },
      "execution_count": null,
      "outputs": [
        {
          "output_type": "execute_result",
          "data": {
            "text/plain": [
              "<matplotlib.image.AxesImage at 0x7fe6b1199bd0>"
            ]
          },
          "metadata": {},
          "execution_count": 30
        },
        {
          "output_type": "display_data",
          "data": {
            "image/png": "[encoded data removed]",
            "text/plain": [
              "<Figure size 432x288 with 1 Axes>"
            ]
          },
          "metadata": {
            "needs_background": "light"
          }
        }
      ]
    },
    {
      "cell_type": "code",
      "source": [
        "model = torch.load(\"/content/drive/MyDrive/PyTorch Tutorial/fc.pth\",map_location=device)"
      ],
      "metadata": {
        "id": "TLNPQ9r9GDf0"
      },
      "execution_count": null,
      "outputs": []
    },
    {
      "cell_type": "code",
      "source": [
        "prediction = model(img.view(-1, 28*28).to(device))\n",
        "prediction = torch.argmax(prediction, dim=1)\n",
        "print('Predicted label', prediction.cpu().numpy())"
      ],
      "metadata": {
        "colab": {
          "base_uri": "https://localhost:8080/",
          "height": 201
        },
        "id": "14LZR2vSLLh_",
        "outputId": "e6c524f1-6a98-49d9-8562-a1630efc3967"
      },
      "execution_count": null,
      "outputs": [
        {
          "output_type": "error",
          "ename": "NameError",
          "evalue": "ignored",
          "traceback": [
            "\u001b[0;31m---------------------------------------------------------------------------\u001b[0m",
            "\u001b[0;31mNameError\u001b[0m                                 Traceback (most recent call last)",
            "\u001b[0;32m<ipython-input-28-6f398c2cfd34>\u001b[0m in \u001b[0;36m<module>\u001b[0;34m()\u001b[0m\n\u001b[0;32m----> 1\u001b[0;31m \u001b[0mprediction\u001b[0m \u001b[0;34m=\u001b[0m \u001b[0mmodel\u001b[0m\u001b[0;34m(\u001b[0m\u001b[0mimg\u001b[0m\u001b[0;34m.\u001b[0m\u001b[0mview\u001b[0m\u001b[0;34m(\u001b[0m\u001b[0;34m-\u001b[0m\u001b[0;36m1\u001b[0m\u001b[0;34m,\u001b[0m \u001b[0;36m28\u001b[0m\u001b[0;34m*\u001b[0m\u001b[0;36m28\u001b[0m\u001b[0;34m)\u001b[0m\u001b[0;34m.\u001b[0m\u001b[0mto\u001b[0m\u001b[0;34m(\u001b[0m\u001b[0mdevice\u001b[0m\u001b[0;34m)\u001b[0m\u001b[0;34m)\u001b[0m\u001b[0;34m\u001b[0m\u001b[0;34m\u001b[0m\u001b[0m\n\u001b[0m\u001b[1;32m      2\u001b[0m \u001b[0mprediction\u001b[0m \u001b[0;34m=\u001b[0m \u001b[0mtorch\u001b[0m\u001b[0;34m.\u001b[0m\u001b[0margmax\u001b[0m\u001b[0;34m(\u001b[0m\u001b[0mprediction\u001b[0m\u001b[0;34m,\u001b[0m \u001b[0mdim\u001b[0m\u001b[0;34m=\u001b[0m\u001b[0;36m1\u001b[0m\u001b[0;34m)\u001b[0m\u001b[0;34m\u001b[0m\u001b[0;34m\u001b[0m\u001b[0m\n\u001b[1;32m      3\u001b[0m \u001b[0mprint\u001b[0m\u001b[0;34m(\u001b[0m\u001b[0;34m'Predicted label'\u001b[0m\u001b[0;34m,\u001b[0m \u001b[0mprediction\u001b[0m\u001b[0;34m.\u001b[0m\u001b[0mcpu\u001b[0m\u001b[0;34m(\u001b[0m\u001b[0;34m)\u001b[0m\u001b[0;34m.\u001b[0m\u001b[0mnumpy\u001b[0m\u001b[0;34m(\u001b[0m\u001b[0;34m)\u001b[0m\u001b[0;34m)\u001b[0m\u001b[0;34m\u001b[0m\u001b[0;34m\u001b[0m\u001b[0m\n",
            "\u001b[0;31mNameError\u001b[0m: name 'img' is not defined"
          ]
        }
      ]
    },
    {
      "cell_type": "code",
      "source": [
        "prediction2 = model2(img.view(-1, 28*28).to(device))\n",
        "prediction2 = torch.argmax(prediction2, dim=1)\n",
        "print('Predicted label', prediction2.cpu().numpy())"
      ],
      "metadata": {
        "id": "fENoXH1E6ete"
      },
      "execution_count": null,
      "outputs": []
    },
    {
      "cell_type": "code",
      "source": [
        "import torch\n",
        "import torch.nn as nn\n",
        "\n",
        "''' 3 DIFFERENT METHODS TO REMEMBER:\n",
        " - torch.save(arg, PATH) # can be model, tensor, or dictionary\n",
        " - torch.load(PATH)\n",
        " - torch.load_state_dict(arg)\n",
        "'''\n",
        "\n",
        "''' 2 DIFFERENT WAYS OF SAVING\n",
        "# 1) lazy way: save whole model\n",
        "torch.save(model, PATH)\n",
        "\n",
        "# model class must be defined somewhere\n",
        "model = torch.load(PATH)\n",
        "model.eval()\n",
        "\n",
        "# 2) recommended way: save only the state_dict\n",
        "torch.save(model.state_dict(), PATH)\n",
        "\n",
        "# model must be created again with parameters\n",
        "model = Model(*args, **kwargs)\n",
        "model.load_state_dict(torch.load(PATH))\n",
        "model.eval()\n",
        "'''\n",
        "\n",
        "\n",
        "\n",
        "model = FC(input_shape, output_shape)\n",
        "\n",
        "\n",
        "####################save all ######################################\n",
        "for param in model.parameters():\n",
        "    print(param)\n",
        "\n",
        "# save and load entire model\n",
        "\n",
        "FILE = \"model.pth\"\n",
        "torch.save(model, FILE)\n",
        "\n",
        "loaded_model = torch.load(FILE)\n",
        "loaded_model.eval()\n",
        "\n",
        "for param in loaded_model.parameters():\n",
        "    print(param)\n",
        "\n",
        "\n",
        "############save only state dict #########################\n",
        "\n",
        "# save only state dict\n",
        "FILE = \"model.pth\"\n",
        "torch.save(model.state_dict(), FILE)\n",
        "\n",
        "print(model.state_dict())\n",
        "loaded_model = FC(input_shape, output_shape)\n",
        "loaded_model.load_state_dict(torch.load(FILE)) # it takes the loaded dictionary, not the path file itself\n",
        "loaded_model.eval()\n",
        "\n",
        "print(loaded_model.state_dict())\n",
        "\n",
        "\n",
        "###########save & load checkpoint#####################\n",
        "learning_rate = 0.01\n",
        "optimizer = torch.optim.SGD(model.parameters(), lr=learning_rate)\n",
        "\n",
        "checkpoint = {\n",
        "\"epoch\": 90,\n",
        "\"model_state\": model.state_dict(),\n",
        "\"optim_state\": optimizer.state_dict()\n",
        "}\n",
        "print(optimizer.state_dict())\n",
        "FILE = \"checkpoint.pth\"\n",
        "torch.save(checkpoint, FILE)\n",
        "\n",
        "model = Model(n_input_features=6)\n",
        "optimizer = optimizer = torch.optim.SGD(model.parameters(), lr=0)\n",
        "\n",
        "checkpoint = torch.load(FILE)\n",
        "model.load_state_dict(checkpoint['model_state'])\n",
        "optimizer.load_state_dict(checkpoint['optim_state'])\n",
        "epoch = checkpoint['epoch']\n",
        "\n",
        "model.eval()\n",
        "# - or -\n",
        "# model.train()\n",
        "\n",
        "print(optimizer.state_dict())\n",
        "\n",
        "# Remember that you must call model.eval() to set dropout and batch normalization layers \n",
        "# to evaluation mode before running inference. Failing to do this will yield \n",
        "# inconsistent inference results. If you wish to resuming training, \n",
        "# call model.train() to ensure these layers are in training mode."
      ],
      "metadata": {
        "id": "gXLxYHHBJptT"
      },
      "execution_count": null,
      "outputs": []
    },
    {
      "cell_type": "code",
      "source": [
        "\"\"\" SAVING ON GPU/CPU \n",
        "\n",
        "# 1) Save on GPU, Load on CPU\n",
        "device = torch.device(\"cuda\")\n",
        "model.to(device)\n",
        "torch.save(model.state_dict(), PATH)\n",
        "\n",
        "device = torch.device('cpu')\n",
        "model = Model(*args, **kwargs)\n",
        "model.load_state_dict(torch.load(PATH, map_location=device))\n",
        "\n",
        "# 2) Save on GPU, Load on GPU\n",
        "device = torch.device(\"cuda\")\n",
        "model.to(device)\n",
        "torch.save(model.state_dict(), PATH)\n",
        "\n",
        "model = Model(*args, **kwargs)\n",
        "model.load_state_dict(torch.load(PATH))\n",
        "model.to(device)\n",
        "\n",
        "# Note: Be sure to use the .to(torch.device('cuda')) function \n",
        "# on all model inputs, too!\n",
        "\n",
        "# 3) Save on CPU, Load on GPU\n",
        "torch.save(model.state_dict(), PATH)\n",
        "\n",
        "device = torch.device(\"cuda\")\n",
        "model = Model(*args, **kwargs)\n",
        "model.load_state_dict(torch.load(PATH, map_location=\"cuda:0\"))  # Choose whatever GPU device number you want\n",
        "model.to(device)\n",
        "\n",
        "# This loads the model to a given GPU device. \n",
        "# Next, be sure to call model.to(torch.device('cuda')) to convert the model’s parameter tensors to CUDA tensors\n",
        "\"\"\""
      ],
      "metadata": {
        "id": "9C2jd1TyKsuN"
      },
      "execution_count": null,
      "outputs": []
    }
  ]
}