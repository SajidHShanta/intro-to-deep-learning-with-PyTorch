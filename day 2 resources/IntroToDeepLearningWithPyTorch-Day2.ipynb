{
  "nbformat": 4,
  "nbformat_minor": 0,
  "metadata": {
    "colab": {
      "name": "Day2.ipynb",
      "provenance": [],
      "collapsed_sections": []
    },
    "kernelspec": {
      "name": "python3",
      "display_name": "Python 3"
    },
    "language_info": {
      "name": "python"
    }
  },
  "cells": [
    {
      "cell_type": "markdown",
      "source": [
        "# Welcome to Day 2"
      ],
      "metadata": {
        "id": "I01vdBPz2JC8"
      }
    },
    {
      "cell_type": "markdown",
      "source": [
        "## Today's Contents\n",
        "* Basic Python\n",
        "    1. Data types\n",
        "    2. Input Output\n",
        "    3. Conditions and Loops\n",
        "* Python Data Structures\n",
        "    1. Lists, Tuples, Dictionaries\n",
        "    2. List comprehension\n",
        "* OOP with Python\n",
        "* Image Visualization\n",
        "    1. How are images stored?\n",
        "    2. Visualize images\n",
        "* Data Loading\n",
        "    1. Custom Dataset\n",
        "    2. Data Loader"
      ],
      "metadata": {
        "id": "-movgQqx2QPI"
      }
    },
    {
      "cell_type": "markdown",
      "source": [
        "# Basic Python"
      ],
      "metadata": {
        "id": "G0bRLecmDEn1"
      }
    },
    {
      "cell_type": "code",
      "source": [
        "x = 10\n",
        "y = 20.34\n",
        "z = \"Hello World\""
      ],
      "metadata": {
        "id": "ORkfsxHA4Qeb"
      },
      "execution_count": null,
      "outputs": []
    },
    {
      "cell_type": "code",
      "source": [
        "print(x, y, z)"
      ],
      "metadata": {
        "colab": {
          "base_uri": "https://localhost:8080/"
        },
        "id": "RqEutRMIDED6",
        "outputId": "786f4a2c-4a4c-4ca2-897b-cb95a3711435"
      },
      "execution_count": null,
      "outputs": [
        {
          "output_type": "stream",
          "name": "stdout",
          "text": [
            "10 20.34 Hello World\n"
          ]
        }
      ]
    },
    {
      "cell_type": "code",
      "source": [
        "z"
      ],
      "metadata": {
        "colab": {
          "base_uri": "https://localhost:8080/",
          "height": 35
        },
        "id": "dazJeulO-pTD",
        "outputId": "b4ba66ca-08cf-46f9-ec88-9a4c1b419249"
      },
      "execution_count": null,
      "outputs": [
        {
          "output_type": "execute_result",
          "data": {
            "application/vnd.google.colaboratory.intrinsic+json": {
              "type": "string"
            },
            "text/plain": [
              "'Hello World'"
            ]
          },
          "metadata": {},
          "execution_count": 4
        }
      ]
    },
    {
      "cell_type": "code",
      "source": [
        "print(type(x), type(y), type(z))"
      ],
      "metadata": {
        "colab": {
          "base_uri": "https://localhost:8080/"
        },
        "id": "uFOiF7aaGMyN",
        "outputId": "8c27494d-6edb-414a-8dd8-94e13d0b74aa"
      },
      "execution_count": null,
      "outputs": [
        {
          "output_type": "stream",
          "name": "stdout",
          "text": [
            "<class 'int'> <class 'float'> <class 'str'>\n"
          ]
        }
      ]
    },
    {
      "cell_type": "code",
      "source": [
        "print(x, y, z, sep=\"\\n\", end=\"Done Printing\")"
      ],
      "metadata": {
        "colab": {
          "base_uri": "https://localhost:8080/"
        },
        "id": "czVM-5a5GSMp",
        "outputId": "901d263e-45c0-4244-9610-73f1a11388d0"
      },
      "execution_count": null,
      "outputs": [
        {
          "output_type": "stream",
          "name": "stdout",
          "text": [
            "10\n",
            "20.34\n",
            "Hello WorldDone Printing"
          ]
        }
      ]
    },
    {
      "cell_type": "code",
      "source": [
        "marks_str = input(\"Please enter your marks:\")"
      ],
      "metadata": {
        "colab": {
          "base_uri": "https://localhost:8080/"
        },
        "id": "7EoPnHY8GbW7",
        "outputId": "cfe5a88f-a949-44fe-dabb-d114967e8a39"
      },
      "execution_count": null,
      "outputs": [
        {
          "name": "stdout",
          "output_type": "stream",
          "text": [
            "Please enter your marks:99\n"
          ]
        }
      ]
    },
    {
      "cell_type": "code",
      "source": [
        "print(marks_str, type(marks_str))"
      ],
      "metadata": {
        "colab": {
          "base_uri": "https://localhost:8080/"
        },
        "id": "RmZ88M6NGfog",
        "outputId": "73682c20-9d2d-4590-afcf-8d4515db6349"
      },
      "execution_count": null,
      "outputs": [
        {
          "output_type": "stream",
          "name": "stdout",
          "text": [
            "99 <class 'str'>\n"
          ]
        }
      ]
    },
    {
      "cell_type": "code",
      "source": [
        "marks = int(marks_str)"
      ],
      "metadata": {
        "id": "nxohEPjWGj6c"
      },
      "execution_count": null,
      "outputs": []
    },
    {
      "cell_type": "code",
      "source": [
        "print(marks, type(marks))"
      ],
      "metadata": {
        "colab": {
          "base_uri": "https://localhost:8080/"
        },
        "id": "y8G-eaScGnwc",
        "outputId": "e19bfbbe-80e1-4899-89cf-7e72f913b043"
      },
      "execution_count": null,
      "outputs": [
        {
          "output_type": "stream",
          "name": "stdout",
          "text": [
            "99 <class 'int'>\n"
          ]
        }
      ]
    },
    {
      "cell_type": "code",
      "source": [
        "if marks >= 0 and marks <= 60:\n",
        "  print(\"Failed\")\n",
        "elif marks > 60 and marks <= 80:\n",
        "  print(\"Moderate\")\n",
        "elif marks > 80 and marks <= 100:\n",
        "  print(\"Excellent\")\n",
        "else:\n",
        "  print(\"Invalid Marks\")\n",
        "\n",
        "# and or not\n",
        "\n",
        "'''\n",
        "This is a multiline comment\n",
        "'''"
      ],
      "metadata": {
        "colab": {
          "base_uri": "https://localhost:8080/",
          "height": 52
        },
        "id": "7H7p1kMwGuau",
        "outputId": "ca215876-bf3d-428b-aa25-c5e0cc135706"
      },
      "execution_count": null,
      "outputs": [
        {
          "output_type": "stream",
          "name": "stdout",
          "text": [
            "Excellent\n"
          ]
        },
        {
          "output_type": "execute_result",
          "data": {
            "application/vnd.google.colaboratory.intrinsic+json": {
              "type": "string"
            },
            "text/plain": [
              "'\\nThis is a multiline comment\\n'"
            ]
          },
          "metadata": {},
          "execution_count": 12
        }
      ]
    },
    {
      "cell_type": "code",
      "source": [
        "def leap_year(year):  \n",
        "  if (year % 400 == 0) or ((year % 100 != 0) and (year % 4 == 0)):   \n",
        "    return True    \n",
        "  else:  \n",
        "    return False"
      ],
      "metadata": {
        "id": "7v5oUlBeH8fI"
      },
      "execution_count": null,
      "outputs": []
    },
    {
      "cell_type": "code",
      "source": [
        "assert leap_year(4) == True\n",
        "assert leap_year(100) == False\n",
        "assert leap_year(2000) == True\n",
        "assert leap_year(1900) == False\n",
        "assert leap_year(2004) == True"
      ],
      "metadata": {
        "id": "o3zyFW6bIzao"
      },
      "execution_count": null,
      "outputs": []
    },
    {
      "cell_type": "code",
      "source": [
        "for i in range(5):\n",
        "  print(i)"
      ],
      "metadata": {
        "colab": {
          "base_uri": "https://localhost:8080/"
        },
        "id": "izhGvt68JFwa",
        "outputId": "0974a3d3-f357-478a-a959-75f610eda25a"
      },
      "execution_count": null,
      "outputs": [
        {
          "output_type": "stream",
          "name": "stdout",
          "text": [
            "0\n",
            "1\n",
            "2\n",
            "3\n",
            "4\n"
          ]
        }
      ]
    },
    {
      "cell_type": "code",
      "source": [
        "for i in range(2,5):\n",
        "  print(i)"
      ],
      "metadata": {
        "colab": {
          "base_uri": "https://localhost:8080/"
        },
        "id": "KHBd6TeoJ38W",
        "outputId": "759bc594-499e-49c6-ffc9-2addb050ab10"
      },
      "execution_count": null,
      "outputs": [
        {
          "output_type": "stream",
          "name": "stdout",
          "text": [
            "2\n",
            "3\n",
            "4\n"
          ]
        }
      ]
    },
    {
      "cell_type": "code",
      "source": [
        "for i in range(2,10,2):\n",
        "  print(i)"
      ],
      "metadata": {
        "colab": {
          "base_uri": "https://localhost:8080/"
        },
        "id": "Mcgt1NOqJ7Eu",
        "outputId": "8cc85cc8-1848-41aa-eb94-40142913cd46"
      },
      "execution_count": null,
      "outputs": [
        {
          "output_type": "stream",
          "name": "stdout",
          "text": [
            "2\n",
            "4\n",
            "6\n",
            "8\n"
          ]
        }
      ]
    },
    {
      "cell_type": "markdown",
      "source": [
        "# Python Data Structures"
      ],
      "metadata": {
        "id": "_xagxXnoJXAi"
      }
    },
    {
      "cell_type": "code",
      "source": [
        "# List\n",
        "\n",
        "my_list = [2,9,7,6,5,4,3]\n",
        "\n",
        "print(my_list, type(my_list))"
      ],
      "metadata": {
        "colab": {
          "base_uri": "https://localhost:8080/"
        },
        "id": "ZryqxC6KJYnk",
        "outputId": "bfe32e24-ed9b-4c67-af50-1efdb550de96"
      },
      "execution_count": null,
      "outputs": [
        {
          "output_type": "stream",
          "name": "stdout",
          "text": [
            "[2, 9, 7, 6, 5, 4, 3] <class 'list'>\n"
          ]
        }
      ]
    },
    {
      "cell_type": "code",
      "source": [
        "my_list[-2]"
      ],
      "metadata": {
        "colab": {
          "base_uri": "https://localhost:8080/"
        },
        "id": "LpDRDfD5Jb58",
        "outputId": "d823b655-55a8-41fc-cc57-59ae79b15355"
      },
      "execution_count": null,
      "outputs": [
        {
          "output_type": "execute_result",
          "data": {
            "text/plain": [
              "4"
            ]
          },
          "metadata": {},
          "execution_count": 23
        }
      ]
    },
    {
      "cell_type": "code",
      "source": [
        "my_list[2] = 10\n",
        "my_list"
      ],
      "metadata": {
        "colab": {
          "base_uri": "https://localhost:8080/"
        },
        "id": "CqAttkIeJhVi",
        "outputId": "c249cd13-450f-4f55-cae5-a01b7411a795"
      },
      "execution_count": null,
      "outputs": [
        {
          "output_type": "execute_result",
          "data": {
            "text/plain": [
              "[2, 9, 10, 6, 5, 4, 3]"
            ]
          },
          "metadata": {},
          "execution_count": 24
        }
      ]
    },
    {
      "cell_type": "code",
      "source": [
        "len(my_list)"
      ],
      "metadata": {
        "colab": {
          "base_uri": "https://localhost:8080/"
        },
        "id": "boh17c5XJi6X",
        "outputId": "a0906fc1-a1f5-4adb-b1a8-60715f97d5f9"
      },
      "execution_count": null,
      "outputs": [
        {
          "output_type": "execute_result",
          "data": {
            "text/plain": [
              "7"
            ]
          },
          "metadata": {},
          "execution_count": 25
        }
      ]
    },
    {
      "cell_type": "code",
      "source": [
        "my_list_size = len(my_list)\n",
        "\n",
        "for i in range(my_list_size):\n",
        "  print(my_list[i])"
      ],
      "metadata": {
        "colab": {
          "base_uri": "https://localhost:8080/"
        },
        "id": "ISphcO8AJkRp",
        "outputId": "9dffabdf-1332-4970-9b37-3f92b783e9bc"
      },
      "execution_count": null,
      "outputs": [
        {
          "output_type": "stream",
          "name": "stdout",
          "text": [
            "2\n",
            "9\n",
            "10\n",
            "6\n",
            "5\n",
            "4\n",
            "3\n"
          ]
        }
      ]
    },
    {
      "cell_type": "code",
      "source": [
        "for item in my_list:\n",
        "  print(item)"
      ],
      "metadata": {
        "colab": {
          "base_uri": "https://localhost:8080/"
        },
        "id": "RA-m3GeiJq_U",
        "outputId": "80848691-f544-4616-fe99-79320a589e18"
      },
      "execution_count": null,
      "outputs": [
        {
          "output_type": "stream",
          "name": "stdout",
          "text": [
            "2\n",
            "9\n",
            "10\n",
            "6\n",
            "5\n",
            "4\n",
            "3\n"
          ]
        }
      ]
    },
    {
      "cell_type": "code",
      "source": [
        "print(my_list)"
      ],
      "metadata": {
        "id": "F19OZKcaJwG3"
      },
      "execution_count": null,
      "outputs": []
    },
    {
      "cell_type": "code",
      "source": [
        "# My Tuple\n",
        "\n",
        "my_tuple = (1,5,6,7,8)"
      ],
      "metadata": {
        "id": "TeTFdwqrJyLZ"
      },
      "execution_count": null,
      "outputs": []
    },
    {
      "cell_type": "code",
      "source": [
        "my_tuple = (1,2)"
      ],
      "metadata": {
        "id": "WjF3awrjx4vB"
      },
      "execution_count": null,
      "outputs": []
    },
    {
      "cell_type": "code",
      "source": [
        "len(my_tuple)"
      ],
      "metadata": {
        "colab": {
          "base_uri": "https://localhost:8080/"
        },
        "id": "5cMnDJ4EKFka",
        "outputId": "e9989f7f-06b8-42d2-f8d4-fae7bbf1b212"
      },
      "execution_count": null,
      "outputs": [
        {
          "output_type": "execute_result",
          "data": {
            "text/plain": [
              "5"
            ]
          },
          "metadata": {},
          "execution_count": 32
        }
      ]
    },
    {
      "cell_type": "code",
      "source": [
        "my_tuple[0] = 5"
      ],
      "metadata": {
        "colab": {
          "base_uri": "https://localhost:8080/",
          "height": 166
        },
        "id": "Ml80eAibKHkA",
        "outputId": "cd9b929f-777b-44fa-d48d-d9aef01a03e7"
      },
      "execution_count": null,
      "outputs": [
        {
          "output_type": "error",
          "ename": "TypeError",
          "evalue": "ignored",
          "traceback": [
            "\u001b[0;31m---------------------------------------------------------------------------\u001b[0m",
            "\u001b[0;31mTypeError\u001b[0m                                 Traceback (most recent call last)",
            "\u001b[0;32m<ipython-input-66-7202c080a1da>\u001b[0m in \u001b[0;36m<module>\u001b[0;34m()\u001b[0m\n\u001b[0;32m----> 1\u001b[0;31m \u001b[0mmy_tuple\u001b[0m\u001b[0;34m[\u001b[0m\u001b[0;36m0\u001b[0m\u001b[0;34m]\u001b[0m \u001b[0;34m=\u001b[0m \u001b[0;36m5\u001b[0m\u001b[0;34m\u001b[0m\u001b[0;34m\u001b[0m\u001b[0m\n\u001b[0m",
            "\u001b[0;31mTypeError\u001b[0m: 'tuple' object does not support item assignment"
          ]
        }
      ]
    },
    {
      "cell_type": "code",
      "source": [
        "my_tuple_2 = tuple(my_list)"
      ],
      "metadata": {
        "id": "SqSDTQJhKQoA"
      },
      "execution_count": null,
      "outputs": []
    },
    {
      "cell_type": "code",
      "source": [
        "my_tuple_2"
      ],
      "metadata": {
        "colab": {
          "base_uri": "https://localhost:8080/"
        },
        "id": "u4_J4pseKUvl",
        "outputId": "2b1c2b18-78a2-4cfb-cf53-84b37675e3de"
      },
      "execution_count": null,
      "outputs": [
        {
          "output_type": "execute_result",
          "data": {
            "text/plain": [
              "(2, 9, 10, 6, 5, 4, 3)"
            ]
          },
          "metadata": {},
          "execution_count": 35
        }
      ]
    },
    {
      "cell_type": "code",
      "source": [
        "# Set\n",
        "\n",
        "my_set_1 = {2,4,5,4}\n",
        "my_set_1"
      ],
      "metadata": {
        "colab": {
          "base_uri": "https://localhost:8080/"
        },
        "id": "B4dddZdWKVmj",
        "outputId": "33f0da86-fe6a-4722-f7df-c9c3e22792e9"
      },
      "execution_count": null,
      "outputs": [
        {
          "output_type": "execute_result",
          "data": {
            "text/plain": [
              "{2, 4, 5}"
            ]
          },
          "metadata": {},
          "execution_count": 40
        }
      ]
    },
    {
      "cell_type": "code",
      "source": [
        "my_set_2 = set([2,3,6])"
      ],
      "metadata": {
        "id": "NpvuEHwnKl5D"
      },
      "execution_count": null,
      "outputs": []
    },
    {
      "cell_type": "code",
      "source": [
        "my_set_3 = set(my_list)\n",
        "my_set_3"
      ],
      "metadata": {
        "colab": {
          "base_uri": "https://localhost:8080/"
        },
        "id": "6sTLitIetqRn",
        "outputId": "ee8add49-6012-441e-dcb0-ebe46a2a85f5"
      },
      "execution_count": null,
      "outputs": [
        {
          "output_type": "execute_result",
          "data": {
            "text/plain": [
              "{2, 3, 4, 5, 6, 9, 10}"
            ]
          },
          "metadata": {},
          "execution_count": 39
        }
      ]
    },
    {
      "cell_type": "code",
      "source": [
        "my_set_1.union(my_set_2)"
      ],
      "metadata": {
        "colab": {
          "base_uri": "https://localhost:8080/"
        },
        "id": "oZuVQvHZKtCP",
        "outputId": "62d41996-b357-470b-ae46-03f8602d93cc"
      },
      "execution_count": null,
      "outputs": [
        {
          "output_type": "execute_result",
          "data": {
            "text/plain": [
              "{2, 3, 4, 5, 6}"
            ]
          },
          "metadata": {},
          "execution_count": 43
        }
      ]
    },
    {
      "cell_type": "code",
      "source": [
        "my_set_1.intersection(my_set_2)"
      ],
      "metadata": {
        "colab": {
          "base_uri": "https://localhost:8080/"
        },
        "id": "Nf4jbVI-KvfY",
        "outputId": "7dc5e3df-8e02-4402-d420-81f700cf81a4"
      },
      "execution_count": null,
      "outputs": [
        {
          "output_type": "execute_result",
          "data": {
            "text/plain": [
              "{2}"
            ]
          },
          "metadata": {},
          "execution_count": 44
        }
      ]
    },
    {
      "cell_type": "code",
      "source": [
        "my_set_1 - my_set_2"
      ],
      "metadata": {
        "colab": {
          "base_uri": "https://localhost:8080/"
        },
        "id": "wcco5MKmKwwY",
        "outputId": "27efcac9-c0a7-4c91-d31e-8ede98e43189"
      },
      "execution_count": null,
      "outputs": [
        {
          "output_type": "execute_result",
          "data": {
            "text/plain": [
              "{4, 5}"
            ]
          },
          "metadata": {},
          "execution_count": 45
        }
      ]
    },
    {
      "cell_type": "code",
      "source": [
        "# Dictionary\n",
        "\n",
        "protagonists_pets = {\n",
        "    \"Ron\" : \"Scabbers\",\n",
        "    \"Harry\" : \"Hedwig\",\n",
        "    \"Hermione\" : \"Crookshanks\",\n",
        "    \"Neville\" : \"Trevor\"\n",
        "}"
      ],
      "metadata": {
        "id": "rt775dGOKzKg"
      },
      "execution_count": null,
      "outputs": []
    },
    {
      "cell_type": "code",
      "source": [
        "protagonists_pets[\"Ron\"]"
      ],
      "metadata": {
        "colab": {
          "base_uri": "https://localhost:8080/",
          "height": 35
        },
        "id": "xKFoTj-aMG-Z",
        "outputId": "d78d82a5-eab2-4c18-a064-bf1f78318415"
      },
      "execution_count": null,
      "outputs": [
        {
          "output_type": "execute_result",
          "data": {
            "application/vnd.google.colaboratory.intrinsic+json": {
              "type": "string"
            },
            "text/plain": [
              "'Scabbers'"
            ]
          },
          "metadata": {},
          "execution_count": 48
        }
      ]
    },
    {
      "cell_type": "code",
      "source": [
        "house_points = {\n",
        "    \"Gryffindor\" : 150,\n",
        "    \"Slytherin\" : 250,\n",
        "    \"Hufflepuff\" : 200,\n",
        "    \"Ravenclaw\" : 240\n",
        "}"
      ],
      "metadata": {
        "id": "3tyWQGNPMJNs"
      },
      "execution_count": null,
      "outputs": []
    },
    {
      "cell_type": "code",
      "source": [
        "house_points[\"Slytherin\"]"
      ],
      "metadata": {
        "colab": {
          "base_uri": "https://localhost:8080/"
        },
        "id": "NLDrxTIOMKc7",
        "outputId": "585f600e-d956-4acc-855b-fcaf65fbc281"
      },
      "execution_count": null,
      "outputs": [
        {
          "output_type": "execute_result",
          "data": {
            "text/plain": [
              "250"
            ]
          },
          "metadata": {},
          "execution_count": 50
        }
      ]
    },
    {
      "cell_type": "code",
      "source": [
        "house_points.keys()"
      ],
      "metadata": {
        "colab": {
          "base_uri": "https://localhost:8080/"
        },
        "id": "FB-2GZmCMLRO",
        "outputId": "1113f07a-c89e-40f6-a74d-f9f81a50af89"
      },
      "execution_count": null,
      "outputs": [
        {
          "output_type": "execute_result",
          "data": {
            "text/plain": [
              "dict_keys(['Gryffindor', 'Slytherin', 'Hufflepuff', 'Ravenclaw'])"
            ]
          },
          "metadata": {},
          "execution_count": 51
        }
      ]
    },
    {
      "cell_type": "code",
      "source": [
        "for item in house_points:\n",
        "  print(item, house_points[item])\n",
        "\n",
        "print(house_points)"
      ],
      "metadata": {
        "colab": {
          "base_uri": "https://localhost:8080/"
        },
        "id": "6L02pyO2ML3p",
        "outputId": "41b41328-9dd2-4708-bc39-855436f2297d"
      },
      "execution_count": null,
      "outputs": [
        {
          "output_type": "stream",
          "name": "stdout",
          "text": [
            "Gryffindor 150\n",
            "Slytherin 250\n",
            "Hufflepuff 200\n",
            "Ravenclaw 240\n",
            "{'Gryffindor': 150, 'Slytherin': 250, 'Hufflepuff': 200, 'Ravenclaw': 240}\n"
          ]
        }
      ]
    },
    {
      "cell_type": "code",
      "source": [
        "list_comp_1 = [i for i in range(10)]\n",
        "list_comp_1"
      ],
      "metadata": {
        "colab": {
          "base_uri": "https://localhost:8080/"
        },
        "id": "L96F3ctgMM6K",
        "outputId": "07ad6603-1267-4fe5-f7ef-2c11f784e2a0"
      },
      "execution_count": null,
      "outputs": [
        {
          "output_type": "execute_result",
          "data": {
            "text/plain": [
              "[0, 1, 2, 3, 4, 5, 6, 7, 8, 9]"
            ]
          },
          "metadata": {},
          "execution_count": 56
        }
      ]
    },
    {
      "cell_type": "code",
      "source": [
        "list_comp_2 = [i for i in range(2,20,3)]\n",
        "list_comp_2"
      ],
      "metadata": {
        "colab": {
          "base_uri": "https://localhost:8080/"
        },
        "id": "nh8CVCy1MaBa",
        "outputId": "0dfd901b-ce41-4986-d404-c3ffbd058c87"
      },
      "execution_count": null,
      "outputs": [
        {
          "output_type": "execute_result",
          "data": {
            "text/plain": [
              "[2, 5, 8, 11, 14, 17]"
            ]
          },
          "metadata": {},
          "execution_count": 57
        }
      ]
    },
    {
      "cell_type": "code",
      "source": [
        "list_comp_3 = [i+1 for i in range(2,20,3)]\n",
        "list_comp_3"
      ],
      "metadata": {
        "colab": {
          "base_uri": "https://localhost:8080/"
        },
        "id": "iQXIsGo9MeCV",
        "outputId": "0a40cfaa-8912-4205-bca9-cd10955f6691"
      },
      "execution_count": null,
      "outputs": [
        {
          "output_type": "execute_result",
          "data": {
            "text/plain": [
              "[3, 6, 9, 12, 15, 18]"
            ]
          },
          "metadata": {},
          "execution_count": 67
        }
      ]
    },
    {
      "cell_type": "code",
      "source": [
        "tuple_comp_1 = tuple([i for i in range(2,20,3)])\n",
        "tuple_comp_1"
      ],
      "metadata": {
        "colab": {
          "base_uri": "https://localhost:8080/"
        },
        "id": "N2jH-eqVMlSW",
        "outputId": "c7ecec2c-99ae-4f79-9186-7abb710616f0"
      },
      "execution_count": null,
      "outputs": [
        {
          "output_type": "execute_result",
          "data": {
            "text/plain": [
              "(2, 5, 8, 11, 14, 17)"
            ]
          },
          "metadata": {},
          "execution_count": 59
        }
      ]
    },
    {
      "cell_type": "code",
      "source": [
        "set_com_1 = {item for item in list_comp_3}\n",
        "set_com_1"
      ],
      "metadata": {
        "colab": {
          "base_uri": "https://localhost:8080/"
        },
        "id": "50I3DUNwMszi",
        "outputId": "9e54dea8-c4a0-461b-8855-949d3eae6b0f"
      },
      "execution_count": null,
      "outputs": [
        {
          "output_type": "execute_result",
          "data": {
            "text/plain": [
              "{2, 3, 4, 5, 6, 7, 8, 9, 10, 11}"
            ]
          },
          "metadata": {},
          "execution_count": 60
        }
      ]
    },
    {
      "cell_type": "code",
      "source": [
        "house_names = [\"Gryffindor\", \"Slytherin\", \"Hufflepuff\", \"Ravenclaw\"]\n",
        "\n",
        "house_points_init = {name:0 for name in house_names}\n",
        "house_points_init['Gryffindor'] += 50\n"
      ],
      "metadata": {
        "id": "Bq8zke0TM4Ev"
      },
      "execution_count": null,
      "outputs": []
    },
    {
      "cell_type": "code",
      "source": [
        "house_points_init"
      ],
      "metadata": {
        "id": "uniZo4CUNPoO",
        "colab": {
          "base_uri": "https://localhost:8080/"
        },
        "outputId": "b192c5ee-2312-43d7-a551-1e274fc10a4d"
      },
      "execution_count": null,
      "outputs": [
        {
          "output_type": "execute_result",
          "data": {
            "text/plain": [
              "{'Gryffindor': 50, 'Hufflepuff': 0, 'Ravenclaw': 0, 'Slytherin': 0}"
            ]
          },
          "metadata": {},
          "execution_count": 63
        }
      ]
    },
    {
      "cell_type": "markdown",
      "source": [
        "## OOP with Python"
      ],
      "metadata": {
        "id": "QnIKq7VnNV3V"
      }
    },
    {
      "cell_type": "code",
      "source": [
        "class Duck:\n",
        "    # Class attribute\n",
        "    scientific_name = \"Anatidae\"\n",
        "\n",
        "    def __init__(self, name, age):\n",
        "        self.name = name\n",
        "        self.age = age\n",
        "    \n",
        "    def sound(self):\n",
        "      print(\"Quack Quack\")\n",
        "\n",
        "    def __str__(self):\n",
        "      return \"Name: \" + self.name + \" is a duck of age \" + str(self.age) + \".\""
      ],
      "metadata": {
        "id": "7fQg4zq6NXIb"
      },
      "execution_count": null,
      "outputs": []
    },
    {
      "cell_type": "code",
      "source": [
        "duck = Duck(\"Martin\", 1)\n"
      ],
      "metadata": {
        "id": "uDj8YMmwtg3b"
      },
      "execution_count": null,
      "outputs": []
    },
    {
      "cell_type": "code",
      "source": [
        "duck.sound()"
      ],
      "metadata": {
        "colab": {
          "base_uri": "https://localhost:8080/"
        },
        "id": "FudylO74uKl0",
        "outputId": "2d4737a6-d5b5-4008-9226-8e953d75a7f9"
      },
      "execution_count": null,
      "outputs": [
        {
          "output_type": "stream",
          "name": "stdout",
          "text": [
            "Quack Quack\n"
          ]
        }
      ]
    },
    {
      "cell_type": "code",
      "source": [
        "print(duck)"
      ],
      "metadata": {
        "colab": {
          "base_uri": "https://localhost:8080/"
        },
        "id": "eKlDDaDyuLZr",
        "outputId": "9d08ba53-5389-4ff2-8e02-cec0906aa196"
      },
      "execution_count": null,
      "outputs": [
        {
          "output_type": "stream",
          "name": "stdout",
          "text": [
            "Name: Martin is a duck of age 1.\n"
          ]
        }
      ]
    },
    {
      "cell_type": "code",
      "source": [
        "isinstance(duck, Duck)"
      ],
      "metadata": {
        "colab": {
          "base_uri": "https://localhost:8080/"
        },
        "id": "wy2DGdziuMg9",
        "outputId": "6749fda1-bd13-4f76-d93e-c7a6a052afef"
      },
      "execution_count": null,
      "outputs": [
        {
          "output_type": "execute_result",
          "data": {
            "text/plain": [
              "True"
            ]
          },
          "metadata": {},
          "execution_count": 74
        }
      ]
    },
    {
      "cell_type": "code",
      "source": [
        ""
      ],
      "metadata": {
        "id": "2TIroXQsue8t"
      },
      "execution_count": null,
      "outputs": []
    },
    {
      "cell_type": "markdown",
      "source": [
        "## Image Visualization"
      ],
      "metadata": {
        "id": "qGUxE_QlvIMc"
      }
    },
    {
      "cell_type": "code",
      "source": [
        "import torch\n",
        "import matplotlib.pyplot as plt"
      ],
      "metadata": {
        "id": "o-qR8gd9vHap"
      },
      "execution_count": null,
      "outputs": []
    },
    {
      "cell_type": "code",
      "source": [
        "def show_image(pixels, cmap=\"Greys_r\"):\n",
        "  img_t = torch.tensor(pixels, dtype=torch.float32)\n",
        "  plt.imshow(img_t, interpolation='nearest', cmap=cmap, vmin=0, vmax=1)"
      ],
      "metadata": {
        "id": "0br6Mw-bvjo-"
      },
      "execution_count": null,
      "outputs": []
    },
    {
      "cell_type": "code",
      "source": [
        "img1 = [\n",
        "        [0.5,0],\n",
        "        [0.0,1.0]\n",
        "]"
      ],
      "metadata": {
        "id": "gf0YPhoEvhLV"
      },
      "execution_count": null,
      "outputs": []
    },
    {
      "cell_type": "code",
      "source": [
        "show_image(img1)"
      ],
      "metadata": {
        "colab": {
          "base_uri": "https://localhost:8080/",
          "height": 269
        },
        "id": "eMwz8uajvh-W",
        "outputId": "f632f455-cf9a-4963-c23f-77fad2cbec84"
      },
      "execution_count": null,
      "outputs": [
        {
          "output_type": "display_data",
          "data": {
            "image/png": "[encoded data removed]",
            "text/plain": [
              "<Figure size 432x288 with 1 Axes>"
            ]
          },
          "metadata": {
            "needs_background": "light"
          }
        }
      ]
    },
    {
      "cell_type": "code",
      "source": [
        "# RGB\n",
        "\n",
        "img2 = [\n",
        "        [[1,0,0],[0,0,1]],\n",
        "        [[1,1,1],[1,0,1]]\n",
        "]"
      ],
      "metadata": {
        "id": "1dRv-HN6vlNx"
      },
      "execution_count": null,
      "outputs": []
    },
    {
      "cell_type": "code",
      "source": [
        "show_image(img2, cmap=None)"
      ],
      "metadata": {
        "id": "C0x6nqnsvmJa",
        "outputId": "4083579e-3a29-4240-a566-8e4249dc3ebf",
        "colab": {
          "base_uri": "https://localhost:8080/",
          "height": 269
        }
      },
      "execution_count": null,
      "outputs": [
        {
          "output_type": "display_data",
          "data": {
            "image/png": "[encoded data removed]",
            "text/plain": [
              "<Figure size 432x288 with 1 Axes>"
            ]
          },
          "metadata": {
            "needs_background": "light"
          }
        }
      ]
    },
    {
      "cell_type": "code",
      "source": [
        ""
      ],
      "metadata": {
        "id": "kx9inAL3vnEP"
      },
      "execution_count": null,
      "outputs": []
    },
    {
      "cell_type": "code",
      "source": [
        ""
      ],
      "metadata": {
        "id": "i-1K5can_qUN"
      },
      "execution_count": null,
      "outputs": []
    },
    {
      "cell_type": "markdown",
      "source": [
        "## Tensors"
      ],
      "metadata": {
        "id": "7E9DzjrH_qm8"
      }
    },
    {
      "cell_type": "code",
      "source": [
        "import torch\n",
        "torch.manual_seed(100)"
      ],
      "metadata": {
        "colab": {
          "base_uri": "https://localhost:8080/"
        },
        "id": "LUDOqWM8_sIf",
        "outputId": "3927ad39-548e-47ef-a440-a6a2345c46db"
      },
      "execution_count": null,
      "outputs": [
        {
          "output_type": "execute_result",
          "data": {
            "text/plain": [
              "<torch._C.Generator at 0x7fb3cd595290>"
            ]
          },
          "metadata": {},
          "execution_count": 84
        }
      ]
    },
    {
      "cell_type": "code",
      "source": [
        "x = torch.tensor(1.0)"
      ],
      "metadata": {
        "id": "XAbl0xAqAUGa"
      },
      "execution_count": null,
      "outputs": []
    },
    {
      "cell_type": "code",
      "source": [
        "x.shape"
      ],
      "metadata": {
        "colab": {
          "base_uri": "https://localhost:8080/"
        },
        "id": "mQaw3uYmAXbJ",
        "outputId": "6e17c716-e0a7-4142-d086-e71594d5200d"
      },
      "execution_count": null,
      "outputs": [
        {
          "output_type": "execute_result",
          "data": {
            "text/plain": [
              "torch.Size([])"
            ]
          },
          "metadata": {},
          "execution_count": 86
        }
      ]
    },
    {
      "cell_type": "code",
      "source": [
        "x"
      ],
      "metadata": {
        "colab": {
          "base_uri": "https://localhost:8080/"
        },
        "id": "ZaL6kKTm_sLA",
        "outputId": "f5b9d555-0b45-48bc-b71f-031dead6d3e7"
      },
      "execution_count": null,
      "outputs": [
        {
          "output_type": "execute_result",
          "data": {
            "text/plain": [
              "tensor(1.)"
            ]
          },
          "metadata": {},
          "execution_count": 87
        }
      ]
    },
    {
      "cell_type": "code",
      "source": [
        "x = torch.tensor([1.0,2.0,4.0])"
      ],
      "metadata": {
        "id": "dUR9Lysj_sNn"
      },
      "execution_count": null,
      "outputs": []
    },
    {
      "cell_type": "code",
      "source": [
        "x"
      ],
      "metadata": {
        "colab": {
          "base_uri": "https://localhost:8080/"
        },
        "id": "N5vHFNbA_7I_",
        "outputId": "9ff3bcdf-a165-4b96-c228-3e65520aa0db"
      },
      "execution_count": null,
      "outputs": [
        {
          "output_type": "execute_result",
          "data": {
            "text/plain": [
              "tensor([1., 2., 4.])"
            ]
          },
          "metadata": {},
          "execution_count": 94
        }
      ]
    },
    {
      "cell_type": "code",
      "source": [
        "x.shape"
      ],
      "metadata": {
        "colab": {
          "base_uri": "https://localhost:8080/"
        },
        "id": "Jw33iMl5_7LM",
        "outputId": "3accabb6-4ed7-4084-ef5e-1af303fe1292"
      },
      "execution_count": null,
      "outputs": [
        {
          "output_type": "execute_result",
          "data": {
            "text/plain": [
              "torch.Size([3])"
            ]
          },
          "metadata": {},
          "execution_count": 95
        }
      ]
    },
    {
      "cell_type": "code",
      "source": [
        "a = [2.0, 3.0, 4.0]"
      ],
      "metadata": {
        "id": "3PJ3H5g6_7Ne"
      },
      "execution_count": null,
      "outputs": []
    },
    {
      "cell_type": "code",
      "source": [
        "x = torch.tensor(a)"
      ],
      "metadata": {
        "id": "OsP9jjmz_7Py"
      },
      "execution_count": null,
      "outputs": []
    },
    {
      "cell_type": "code",
      "source": [
        "x"
      ],
      "metadata": {
        "colab": {
          "base_uri": "https://localhost:8080/"
        },
        "id": "XS--XGWB_7SD",
        "outputId": "95714c00-fa55-4877-dfbb-87677ccc8b22"
      },
      "execution_count": null,
      "outputs": [
        {
          "output_type": "execute_result",
          "data": {
            "text/plain": [
              "tensor([2., 3., 4.])"
            ]
          },
          "metadata": {},
          "execution_count": 99
        }
      ]
    },
    {
      "cell_type": "code",
      "source": [
        "type(x)"
      ],
      "metadata": {
        "colab": {
          "base_uri": "https://localhost:8080/"
        },
        "id": "_h-4DRiZ_7UJ",
        "outputId": "7e8e49ec-f499-43cc-9c53-518adeaf3b9e"
      },
      "execution_count": null,
      "outputs": [
        {
          "output_type": "execute_result",
          "data": {
            "text/plain": [
              "torch.Tensor"
            ]
          },
          "metadata": {},
          "execution_count": 100
        }
      ]
    },
    {
      "cell_type": "code",
      "source": [
        "a = [\n",
        "     [1.0, 2.0, 3.0],\n",
        "     [8.0, 9.0, 3.0],\n",
        "     [1.0, 5.0, 7.0],\n",
        "     [6.0, 5.0, 7.0]\n",
        "]"
      ],
      "metadata": {
        "id": "DLe_MCmm_7WX"
      },
      "execution_count": null,
      "outputs": []
    },
    {
      "cell_type": "code",
      "source": [
        "x = torch.tensor(a)"
      ],
      "metadata": {
        "id": "TIGa7U4b_7Yn"
      },
      "execution_count": null,
      "outputs": []
    },
    {
      "cell_type": "code",
      "source": [
        "x.shape"
      ],
      "metadata": {
        "colab": {
          "base_uri": "https://localhost:8080/"
        },
        "id": "Xh_Q54t4_7a1",
        "outputId": "0d96c1ee-01be-4b3a-8c5f-c41a699ea21f"
      },
      "execution_count": null,
      "outputs": [
        {
          "output_type": "execute_result",
          "data": {
            "text/plain": [
              "torch.Size([4, 3])"
            ]
          },
          "metadata": {},
          "execution_count": 104
        }
      ]
    },
    {
      "cell_type": "code",
      "source": [
        "zeros = torch.zeros(2,3)"
      ],
      "metadata": {
        "id": "6tex22fR_7dI"
      },
      "execution_count": null,
      "outputs": []
    },
    {
      "cell_type": "code",
      "source": [
        "zeros"
      ],
      "metadata": {
        "colab": {
          "base_uri": "https://localhost:8080/"
        },
        "id": "ra9n4fPK_7fX",
        "outputId": "2b6297f8-6ed4-4852-a617-5cbe50c7de16"
      },
      "execution_count": null,
      "outputs": [
        {
          "output_type": "execute_result",
          "data": {
            "text/plain": [
              "tensor([[0., 0., 0.],\n",
              "        [0., 0., 0.]])"
            ]
          },
          "metadata": {},
          "execution_count": 107
        }
      ]
    },
    {
      "cell_type": "code",
      "source": [
        "zeros.shape"
      ],
      "metadata": {
        "colab": {
          "base_uri": "https://localhost:8080/"
        },
        "id": "duXlYVxY_7hp",
        "outputId": "9948efc1-b7bf-4966-f463-0e46ab891e4a"
      },
      "execution_count": null,
      "outputs": [
        {
          "output_type": "execute_result",
          "data": {
            "text/plain": [
              "torch.Size([2, 3])"
            ]
          },
          "metadata": {},
          "execution_count": 108
        }
      ]
    },
    {
      "cell_type": "code",
      "source": [
        "ones = torch.ones(2,4)\n",
        "ones"
      ],
      "metadata": {
        "colab": {
          "base_uri": "https://localhost:8080/"
        },
        "id": "42p-fRjZ_7kG",
        "outputId": "5ccbaf6b-176b-4afd-9a7f-da84f73f8f3c"
      },
      "execution_count": null,
      "outputs": [
        {
          "output_type": "execute_result",
          "data": {
            "text/plain": [
              "tensor([[1., 1., 1., 1.],\n",
              "        [1., 1., 1., 1.]])"
            ]
          },
          "metadata": {},
          "execution_count": 109
        }
      ]
    },
    {
      "cell_type": "code",
      "source": [
        "ones.shape"
      ],
      "metadata": {
        "colab": {
          "base_uri": "https://localhost:8080/"
        },
        "id": "bKhSQpkMBBI3",
        "outputId": "548bf9af-dc7b-41a8-a58c-5a682e799d76"
      },
      "execution_count": null,
      "outputs": [
        {
          "output_type": "execute_result",
          "data": {
            "text/plain": [
              "torch.Size([2, 4])"
            ]
          },
          "metadata": {},
          "execution_count": 110
        }
      ]
    },
    {
      "cell_type": "code",
      "source": [
        "rands = torch.rand(3,4)\n",
        "rands"
      ],
      "metadata": {
        "colab": {
          "base_uri": "https://localhost:8080/"
        },
        "id": "N9KMWHvJBBLG",
        "outputId": "5f0d0d77-d76c-4017-9b31-8da8647e0562"
      },
      "execution_count": null,
      "outputs": [
        {
          "output_type": "execute_result",
          "data": {
            "text/plain": [
              "tensor([[0.1117, 0.8158, 0.2626, 0.4839],\n",
              "        [0.6765, 0.7539, 0.2627, 0.0428],\n",
              "        [0.2080, 0.1180, 0.1217, 0.7356]])"
            ]
          },
          "metadata": {},
          "execution_count": 111
        }
      ]
    },
    {
      "cell_type": "markdown",
      "source": [
        "### Datatypes\n",
        "\n",
        "1. torch.bool\n",
        "2. torch.int8\n",
        "3. torch.uint8\n",
        "4. torch.int16\n",
        "5. torch.int32\n",
        "6. torch.int64\n",
        "7. torch.half\n",
        "8. torch.float\n",
        "9. torch.double\n",
        "10. torch.bfloat"
      ],
      "metadata": {
        "id": "RSG3tYn4CKeN"
      }
    },
    {
      "cell_type": "code",
      "source": [
        "rands.dtype"
      ],
      "metadata": {
        "colab": {
          "base_uri": "https://localhost:8080/"
        },
        "id": "YbE1sroMBBNX",
        "outputId": "a1660770-f91b-4340-9620-447e2cda0a2e"
      },
      "execution_count": null,
      "outputs": [
        {
          "output_type": "execute_result",
          "data": {
            "text/plain": [
              "torch.float32"
            ]
          },
          "metadata": {},
          "execution_count": 112
        }
      ]
    },
    {
      "cell_type": "code",
      "source": [
        "ones = torch.ones((3,4), dtype=torch.int16)\n",
        "ones"
      ],
      "metadata": {
        "colab": {
          "base_uri": "https://localhost:8080/"
        },
        "id": "TEEq1SHTBBPs",
        "outputId": "cb9aca79-fe4e-4f31-cab1-9a8be777bdde"
      },
      "execution_count": null,
      "outputs": [
        {
          "output_type": "execute_result",
          "data": {
            "text/plain": [
              "tensor([[1, 1, 1, 1],\n",
              "        [1, 1, 1, 1],\n",
              "        [1, 1, 1, 1]], dtype=torch.int16)"
            ]
          },
          "metadata": {},
          "execution_count": 113
        }
      ]
    },
    {
      "cell_type": "code",
      "source": [
        "ones = torch.ones((3,4), dtype=torch.float32)\n",
        "ones"
      ],
      "metadata": {
        "colab": {
          "base_uri": "https://localhost:8080/"
        },
        "id": "sNNMs5HgBzNs",
        "outputId": "b91905f0-7e13-4456-d780-abde522a8b5a"
      },
      "execution_count": null,
      "outputs": [
        {
          "output_type": "execute_result",
          "data": {
            "text/plain": [
              "tensor([[1., 1., 1., 1.],\n",
              "        [1., 1., 1., 1.],\n",
              "        [1., 1., 1., 1.]])"
            ]
          },
          "metadata": {},
          "execution_count": 114
        }
      ]
    },
    {
      "cell_type": "code",
      "source": [
        "rands = rands.to(dtype=torch.int16)\n",
        "rands"
      ],
      "metadata": {
        "colab": {
          "base_uri": "https://localhost:8080/"
        },
        "id": "N_a-V0SsB5gg",
        "outputId": "ac965afd-059c-475a-ca9d-f0a485ef03eb"
      },
      "execution_count": null,
      "outputs": [
        {
          "output_type": "execute_result",
          "data": {
            "text/plain": [
              "tensor([[0, 0, 0, 0],\n",
              "        [0, 0, 0, 0],\n",
              "        [0, 0, 0, 0]], dtype=torch.int16)"
            ]
          },
          "metadata": {},
          "execution_count": 116
        }
      ]
    },
    {
      "cell_type": "markdown",
      "source": [
        "### Operations on tensors"
      ],
      "metadata": {
        "id": "KxHhWADlCzN7"
      }
    },
    {
      "cell_type": "code",
      "source": [
        "x = torch.zeros(2,2)\n",
        "x"
      ],
      "metadata": {
        "colab": {
          "base_uri": "https://localhost:8080/"
        },
        "id": "CZ5rBT-PBBUn",
        "outputId": "68d08da4-1114-45a9-96fe-025300e55219"
      },
      "execution_count": null,
      "outputs": [
        {
          "output_type": "execute_result",
          "data": {
            "text/plain": [
              "tensor([[0., 0.],\n",
              "        [0., 0.]])"
            ]
          },
          "metadata": {},
          "execution_count": 118
        }
      ]
    },
    {
      "cell_type": "code",
      "source": [
        "x + 1"
      ],
      "metadata": {
        "colab": {
          "base_uri": "https://localhost:8080/"
        },
        "id": "jLAPkkATBBW5",
        "outputId": "d8a306ae-407f-4ca0-e936-7f691174d20c"
      },
      "execution_count": null,
      "outputs": [
        {
          "output_type": "execute_result",
          "data": {
            "text/plain": [
              "tensor([[1., 1.],\n",
              "        [1., 1.]])"
            ]
          },
          "metadata": {},
          "execution_count": 119
        }
      ]
    },
    {
      "cell_type": "code",
      "source": [
        "x"
      ],
      "metadata": {
        "colab": {
          "base_uri": "https://localhost:8080/"
        },
        "id": "6Fpfe-pcBBZQ",
        "outputId": "92c3cde8-3725-42e1-ad00-287fe53efa7a"
      },
      "execution_count": null,
      "outputs": [
        {
          "output_type": "execute_result",
          "data": {
            "text/plain": [
              "tensor([[0., 0.],\n",
              "        [0., 0.]])"
            ]
          },
          "metadata": {},
          "execution_count": 120
        }
      ]
    },
    {
      "cell_type": "code",
      "source": [
        "x = x + 1"
      ],
      "metadata": {
        "id": "_7sCfieSDQuj"
      },
      "execution_count": null,
      "outputs": []
    },
    {
      "cell_type": "code",
      "source": [
        "x"
      ],
      "metadata": {
        "colab": {
          "base_uri": "https://localhost:8080/"
        },
        "id": "gpjSq96wDQxH",
        "outputId": "318486f3-38a3-49dc-df4d-9ccb89685bed"
      },
      "execution_count": null,
      "outputs": [
        {
          "output_type": "execute_result",
          "data": {
            "text/plain": [
              "tensor([[1., 1.],\n",
              "        [1., 1.]])"
            ]
          },
          "metadata": {},
          "execution_count": 122
        }
      ]
    },
    {
      "cell_type": "code",
      "source": [
        "y = torch.rand(2,2)\n",
        "y"
      ],
      "metadata": {
        "colab": {
          "base_uri": "https://localhost:8080/"
        },
        "id": "mO69kxtvDQzh",
        "outputId": "7cbaaec0-92a9-47a2-9783-36b0eafcdd38"
      },
      "execution_count": null,
      "outputs": [
        {
          "output_type": "execute_result",
          "data": {
            "text/plain": [
              "tensor([[0.7118, 0.7876],\n",
              "        [0.4183, 0.9014]])"
            ]
          },
          "metadata": {},
          "execution_count": 123
        }
      ]
    },
    {
      "cell_type": "code",
      "source": [
        "z = x + y\n",
        "z"
      ],
      "metadata": {
        "colab": {
          "base_uri": "https://localhost:8080/"
        },
        "id": "QVltz3a-DQ18",
        "outputId": "98a8f38b-95b3-4319-88a9-1c190df38d31"
      },
      "execution_count": null,
      "outputs": [
        {
          "output_type": "execute_result",
          "data": {
            "text/plain": [
              "tensor([[1.7118, 1.7876],\n",
              "        [1.4183, 1.9014]])"
            ]
          },
          "metadata": {},
          "execution_count": 124
        }
      ]
    },
    {
      "cell_type": "code",
      "source": [
        "z ** 2"
      ],
      "metadata": {
        "colab": {
          "base_uri": "https://localhost:8080/"
        },
        "id": "E22VsDScDQ9L",
        "outputId": "7478f154-c951-4518-ea71-a28c1c653c81"
      },
      "execution_count": null,
      "outputs": [
        {
          "output_type": "execute_result",
          "data": {
            "text/plain": [
              "tensor([[2.9301, 3.1954],\n",
              "        [2.0116, 3.6154]])"
            ]
          },
          "metadata": {},
          "execution_count": 126
        }
      ]
    },
    {
      "cell_type": "code",
      "source": [
        "2 ** 3"
      ],
      "metadata": {
        "id": "eQQBc8feDQ_7",
        "colab": {
          "base_uri": "https://localhost:8080/"
        },
        "outputId": "113816d4-3cd5-4d93-9fc5-174549427c3a"
      },
      "execution_count": null,
      "outputs": [
        {
          "output_type": "execute_result",
          "data": {
            "text/plain": [
              "8"
            ]
          },
          "metadata": {},
          "execution_count": 125
        }
      ]
    },
    {
      "cell_type": "markdown",
      "source": [
        "### Broadcasting"
      ],
      "metadata": {
        "id": "oi3u1JXVDuDM"
      }
    },
    {
      "cell_type": "code",
      "source": [
        "a = torch.tensor([\n",
        "                [2.0, 3.0],\n",
        "                [1.0, 4.0]\n",
        "])\n",
        "a"
      ],
      "metadata": {
        "id": "vBCXtfexDvq8"
      },
      "execution_count": null,
      "outputs": []
    },
    {
      "cell_type": "code",
      "source": [
        "b = torch.tensor([1.0, 2.0])\n",
        "b"
      ],
      "metadata": {
        "id": "9tFuhQ2kDvtS"
      },
      "execution_count": null,
      "outputs": []
    },
    {
      "cell_type": "code",
      "source": [
        "c = a * b\n",
        "c"
      ],
      "metadata": {
        "id": "RDniXivsDvvt"
      },
      "execution_count": null,
      "outputs": []
    },
    {
      "cell_type": "code",
      "source": [
        ""
      ],
      "metadata": {
        "id": "rZo9qVEdDvx6"
      },
      "execution_count": null,
      "outputs": []
    },
    {
      "cell_type": "markdown",
      "source": [
        "### Matrix Multiplication"
      ],
      "metadata": {
        "id": "AkM58kRMZsIq"
      }
    },
    {
      "cell_type": "code",
      "source": [
        "v1 = torch.tensor([1.0,2.0,1.0])"
      ],
      "metadata": {
        "id": "Fk0NoLwpDvz2"
      },
      "execution_count": null,
      "outputs": []
    },
    {
      "cell_type": "code",
      "source": [
        "M = torch.tensor([\n",
        "     [1.0,2.0,3.0],\n",
        "     [2.0,2.0,2.0],\n",
        "     [1.0,4.0,7.0],\n",
        "])"
      ],
      "metadata": {
        "id": "hMApD5AEDv18"
      },
      "execution_count": null,
      "outputs": []
    },
    {
      "cell_type": "code",
      "source": [
        "torch.matmul(M, v1)"
      ],
      "metadata": {
        "colab": {
          "base_uri": "https://localhost:8080/"
        },
        "id": "VEYNM4ZHDv4P",
        "outputId": "7a856d56-2e22-48db-bb82-6a33b5fd6e42"
      },
      "execution_count": null,
      "outputs": [
        {
          "output_type": "execute_result",
          "data": {
            "text/plain": [
              "tensor([ 8.,  8., 16.])"
            ]
          },
          "metadata": {},
          "execution_count": 129
        }
      ]
    },
    {
      "cell_type": "code",
      "source": [
        "M * v1"
      ],
      "metadata": {
        "colab": {
          "base_uri": "https://localhost:8080/"
        },
        "id": "V9en07unDv61",
        "outputId": "9a2a7334-e062-4771-aac8-60df80e3b7ff"
      },
      "execution_count": null,
      "outputs": [
        {
          "output_type": "execute_result",
          "data": {
            "text/plain": [
              "tensor([[1., 4., 3.],\n",
              "        [2., 4., 2.],\n",
              "        [1., 8., 7.]])"
            ]
          },
          "metadata": {},
          "execution_count": 130
        }
      ]
    },
    {
      "cell_type": "code",
      "source": [
        "M @ v1"
      ],
      "metadata": {
        "colab": {
          "base_uri": "https://localhost:8080/"
        },
        "id": "jV-I0gX_Dv9F",
        "outputId": "692004e9-c7ef-48e8-b1dc-cde1d8487050"
      },
      "execution_count": null,
      "outputs": [
        {
          "output_type": "execute_result",
          "data": {
            "text/plain": [
              "tensor([ 8.,  8., 16.])"
            ]
          },
          "metadata": {},
          "execution_count": 131
        }
      ]
    },
    {
      "cell_type": "code",
      "source": [
        "M.T"
      ],
      "metadata": {
        "id": "WvsJpPe3Dv_g",
        "colab": {
          "base_uri": "https://localhost:8080/"
        },
        "outputId": "c6edf4f9-c3d8-47d0-8590-4298c3f36da3"
      },
      "execution_count": null,
      "outputs": [
        {
          "output_type": "execute_result",
          "data": {
            "text/plain": [
              "tensor([[1., 2., 1.],\n",
              "        [2., 2., 4.],\n",
              "        [3., 2., 7.]])"
            ]
          },
          "metadata": {},
          "execution_count": 133
        }
      ]
    },
    {
      "cell_type": "markdown",
      "source": [
        "### Squeeze Unsqueeze"
      ],
      "metadata": {
        "id": "b8QS95EObKDL"
      }
    },
    {
      "cell_type": "code",
      "source": [
        "x = torch.tensor([1.0, 2.0, 3.0, 4.0])"
      ],
      "metadata": {
        "id": "bQ-YGF8xbMYE"
      },
      "execution_count": null,
      "outputs": []
    },
    {
      "cell_type": "code",
      "source": [
        "x"
      ],
      "metadata": {
        "colab": {
          "base_uri": "https://localhost:8080/"
        },
        "id": "e_pli2si4DM_",
        "outputId": "33d2ebd4-0871-4828-aee2-3b7012c795f4"
      },
      "execution_count": null,
      "outputs": [
        {
          "output_type": "execute_result",
          "data": {
            "text/plain": [
              "tensor([1., 2., 3., 4.])"
            ]
          },
          "metadata": {},
          "execution_count": 140
        }
      ]
    },
    {
      "cell_type": "code",
      "source": [
        "x.shape"
      ],
      "metadata": {
        "colab": {
          "base_uri": "https://localhost:8080/"
        },
        "id": "Yf1UqaiMbMbp",
        "outputId": "02fb4a6f-2b55-49cc-976e-7f67afbe3f5c"
      },
      "execution_count": null,
      "outputs": [
        {
          "output_type": "execute_result",
          "data": {
            "text/plain": [
              "torch.Size([4])"
            ]
          },
          "metadata": {},
          "execution_count": 141
        }
      ]
    },
    {
      "cell_type": "code",
      "source": [
        "x = x.unsqueeze(0)"
      ],
      "metadata": {
        "id": "z5JbKeaRbMeK"
      },
      "execution_count": null,
      "outputs": []
    },
    {
      "cell_type": "code",
      "source": [
        "x"
      ],
      "metadata": {
        "colab": {
          "base_uri": "https://localhost:8080/"
        },
        "id": "8M_G5Gs94A8a",
        "outputId": "6d445fce-a2c7-44ae-fa0f-32af00841fd6"
      },
      "execution_count": null,
      "outputs": [
        {
          "output_type": "execute_result",
          "data": {
            "text/plain": [
              "tensor([[1., 2., 3., 4.]])"
            ]
          },
          "metadata": {},
          "execution_count": 144
        }
      ]
    },
    {
      "cell_type": "code",
      "source": [
        "x.shape"
      ],
      "metadata": {
        "colab": {
          "base_uri": "https://localhost:8080/"
        },
        "id": "UDxxpdmhbMgn",
        "outputId": "047bf6d0-f7a2-4b45-9da8-a5f7001f538d"
      },
      "execution_count": null,
      "outputs": [
        {
          "output_type": "execute_result",
          "data": {
            "text/plain": [
              "torch.Size([1, 4])"
            ]
          },
          "metadata": {},
          "execution_count": 145
        }
      ]
    },
    {
      "cell_type": "code",
      "source": [
        "x = x.unsqueeze(2)"
      ],
      "metadata": {
        "id": "Kkq3d0KybV9q"
      },
      "execution_count": null,
      "outputs": []
    },
    {
      "cell_type": "code",
      "source": [
        "x.shape"
      ],
      "metadata": {
        "colab": {
          "base_uri": "https://localhost:8080/"
        },
        "id": "hHM6zJRTbV_5",
        "outputId": "85d9d630-bdf8-46cf-ee44-d63816b55475"
      },
      "execution_count": null,
      "outputs": [
        {
          "output_type": "execute_result",
          "data": {
            "text/plain": [
              "torch.Size([1, 4, 1])"
            ]
          },
          "metadata": {},
          "execution_count": 148
        }
      ]
    },
    {
      "cell_type": "code",
      "source": [
        "x = x.squeeze(0)"
      ],
      "metadata": {
        "id": "cR4JlDUMbWCl"
      },
      "execution_count": null,
      "outputs": []
    },
    {
      "cell_type": "code",
      "source": [
        "x.shape"
      ],
      "metadata": {
        "colab": {
          "base_uri": "https://localhost:8080/"
        },
        "id": "bpAZdM9oben1",
        "outputId": "22915762-8b1e-41a6-ee9c-9798acd60f2b"
      },
      "execution_count": null,
      "outputs": [
        {
          "output_type": "execute_result",
          "data": {
            "text/plain": [
              "torch.Size([4, 1])"
            ]
          },
          "metadata": {},
          "execution_count": 150
        }
      ]
    },
    {
      "cell_type": "code",
      "source": [
        "x = x.squeeze(1)"
      ],
      "metadata": {
        "id": "FHpfvLH64WGP"
      },
      "execution_count": null,
      "outputs": []
    },
    {
      "cell_type": "code",
      "source": [
        "x.shape"
      ],
      "metadata": {
        "colab": {
          "base_uri": "https://localhost:8080/"
        },
        "id": "FuCHBZHU4Y3u",
        "outputId": "48d88554-2e5b-4c4a-f346-687b3357cecf"
      },
      "execution_count": null,
      "outputs": [
        {
          "output_type": "execute_result",
          "data": {
            "text/plain": [
              "torch.Size([4])"
            ]
          },
          "metadata": {},
          "execution_count": 152
        }
      ]
    },
    {
      "cell_type": "markdown",
      "source": [
        "## Data Loading"
      ],
      "metadata": {
        "id": "uG2gOPB2vqKZ"
      }
    },
    {
      "cell_type": "code",
      "source": [
        "from google.colab import drive\n",
        "drive.mount('/content/drive')"
      ],
      "metadata": {
        "id": "h68YwToBvrFu",
        "colab": {
          "base_uri": "https://localhost:8080/"
        },
        "outputId": "1133f350-912a-454a-dc9c-6f97dda42572"
      },
      "execution_count": null,
      "outputs": [
        {
          "output_type": "stream",
          "name": "stdout",
          "text": [
            "Drive already mounted at /content/drive; to attempt to forcibly remount, call drive.mount(\"/content/drive\", force_remount=True).\n"
          ]
        }
      ]
    },
    {
      "cell_type": "code",
      "source": [
        "import os\n",
        "os.makedirs(\"dataset/NUMTA\")"
      ],
      "metadata": {
        "id": "cVFtXrbhQead"
      },
      "execution_count": null,
      "outputs": []
    },
    {
      "cell_type": "code",
      "source": [
        "!cp \"/content/drive/My Drive/Colab Notebooks/datasets/NUMTA.zip\" dataset/NUMTA.zip"
      ],
      "metadata": {
        "id": "KmmRuOiIM_OS"
      },
      "execution_count": null,
      "outputs": []
    },
    {
      "cell_type": "code",
      "source": [
        "!unzip dataset/NUMTA.zip -d dataset/NUMTA"
      ],
      "metadata": {
        "id": "Xk9QnB4TNYOC",
        "colab": {
          "base_uri": "https://localhost:8080/"
        },
        "outputId": "5e78ff76-f1db-4627-b3c0-c62a9ffd60a6"
      },
      "execution_count": null,
      "outputs": [
        {
          "output_type": "stream",
          "name": "stdout",
          "text": [
            "\u001b[1;30;43mStreaming output truncated to the last 5000 lines.\u001b[0m\n",
            "  inflating: dataset/NUMTA/training-e/e11778.png  \n",
            "  inflating: dataset/NUMTA/training-e/e11779.png  \n",
            "  inflating: dataset/NUMTA/training-e/e11780.png  \n",
            "  inflating: dataset/NUMTA/training-e/e11781.png  \n",
            "  inflating: dataset/NUMTA/training-e/e11782.png  \n",
            "  inflating: dataset/NUMTA/training-e/e11783.png  \n",
            "  inflating: dataset/NUMTA/training-e/e11784.png  \n",
            "  inflating: dataset/NUMTA/training-e/e11785.png  \n",
            "  inflating: dataset/NUMTA/training-e/e11786.png  \n",
            "  inflating: dataset/NUMTA/training-e/e11787.png  \n",
            "  inflating: dataset/NUMTA/training-e/e11788.png  \n",
            "  inflating: dataset/NUMTA/training-e/e11789.png  \n",
            "  inflating: dataset/NUMTA/training-e/e11790.png  \n",
            "  inflating: dataset/NUMTA/training-e/e11791.png  \n",
            "  inflating: dataset/NUMTA/training-e/e11792.png  \n",
            "  inflating: dataset/NUMTA/training-e/e11793.png  \n",
            "  inflating: dataset/NUMTA/training-e/e11794.png  \n",
            "  inflating: dataset/NUMTA/training-e/e11795.png  \n",
            "  inflating: dataset/NUMTA/training-e/e11796.png  \n",
            "  inflating: dataset/NUMTA/training-e/e11797.png  \n",
            "  inflating: dataset/NUMTA/training-e/e11798.png  \n",
            "  inflating: dataset/NUMTA/training-e/e11799.png  \n",
            "  inflating: dataset/NUMTA/training-e/e11800.png  \n",
            "  inflating: dataset/NUMTA/training-e/e11801.png  \n",
            "  inflating: dataset/NUMTA/training-e/e11802.png  \n",
            "  inflating: dataset/NUMTA/training-e/e11803.png  \n",
            "  inflating: dataset/NUMTA/training-e/e11804.png  \n",
            "  inflating: dataset/NUMTA/training-e/e11805.png  \n",
            "  inflating: dataset/NUMTA/training-e/e11806.png  \n",
            "  inflating: dataset/NUMTA/training-e/e11807.png  \n",
            "  inflating: dataset/NUMTA/training-e/e11808.png  \n",
            "  inflating: dataset/NUMTA/training-e/e11809.png  \n",
            "  inflating: dataset/NUMTA/training-e/e11810.png  \n",
            "  inflating: dataset/NUMTA/training-e/e11811.png  \n",
            "  inflating: dataset/NUMTA/training-e/e11812.png  \n",
            "  inflating: dataset/NUMTA/training-e/e11813.png  \n",
            "  inflating: dataset/NUMTA/training-e/e11814.png  \n",
            "  inflating: dataset/NUMTA/training-e/e11815.png  \n",
            "  inflating: dataset/NUMTA/training-e/e11816.png  \n",
            "  inflating: dataset/NUMTA/training-e/e11817.png  \n",
            "  inflating: dataset/NUMTA/training-e/e11818.png  \n",
            "  inflating: dataset/NUMTA/training-e/e11819.png  \n",
            "  inflating: dataset/NUMTA/training-e/e11820.png  \n",
            "  inflating: dataset/NUMTA/training-e/e11821.png  \n",
            "  inflating: dataset/NUMTA/training-e/e11822.png  \n",
            "  inflating: dataset/NUMTA/training-e/e11823.png  \n",
            "  inflating: dataset/NUMTA/training-e/e11824.png  \n",
            "  inflating: dataset/NUMTA/training-e/e11825.png  \n",
            "  inflating: dataset/NUMTA/training-e/e11826.png  \n",
            "  inflating: dataset/NUMTA/training-e/e11827.png  \n",
            "  inflating: dataset/NUMTA/training-e/e11828.png  \n",
            "  inflating: dataset/NUMTA/training-e/e11829.png  \n",
            "  inflating: dataset/NUMTA/training-e/e11830.png  \n",
            "  inflating: dataset/NUMTA/training-e/e11831.png  \n",
            "  inflating: dataset/NUMTA/training-e/e11832.png  \n",
            "  inflating: dataset/NUMTA/training-e/e11833.png  \n",
            "  inflating: dataset/NUMTA/training-e/e11834.png  \n",
            "  inflating: dataset/NUMTA/training-e/e11835.png  \n",
            "  inflating: dataset/NUMTA/training-e/e11836.png  \n",
            "  inflating: dataset/NUMTA/training-e/e11837.png  \n",
            "  inflating: dataset/NUMTA/training-e/e11838.png  \n",
            "  inflating: dataset/NUMTA/training-e/e11839.png  \n",
            "  inflating: dataset/NUMTA/training-e/e11840.png  \n",
            "  inflating: dataset/NUMTA/training-e/e11841.png  \n",
            "  inflating: dataset/NUMTA/training-e/e11842.png  \n",
            "  inflating: dataset/NUMTA/training-e/e11843.png  \n",
            "  inflating: dataset/NUMTA/training-e/e11844.png  \n",
            "  inflating: dataset/NUMTA/training-e/e11845.png  \n",
            "  inflating: dataset/NUMTA/training-e/e11846.png  \n",
            "  inflating: dataset/NUMTA/training-e/e11847.png  \n",
            "  inflating: dataset/NUMTA/training-e/e11848.png  \n",
            "  inflating: dataset/NUMTA/training-e/e11849.png  \n",
            "  inflating: dataset/NUMTA/training-e/e11850.png  \n",
            "  inflating: dataset/NUMTA/training-e/e11851.png  \n",
            "  inflating: dataset/NUMTA/training-e/e11852.png  \n",
            "  inflating: dataset/NUMTA/training-e/e11853.png  \n",
            "  inflating: dataset/NUMTA/training-e/e11854.png  \n",
            "  inflating: dataset/NUMTA/training-e/e11855.png  \n",
            "  inflating: dataset/NUMTA/training-e/e11856.png  \n",
            "  inflating: dataset/NUMTA/training-e/e11857.png  \n",
            "  inflating: dataset/NUMTA/training-e/e11858.png  \n",
            "  inflating: dataset/NUMTA/training-e/e11859.png  \n",
            "  inflating: dataset/NUMTA/training-e/e11860.png  \n",
            "  inflating: dataset/NUMTA/training-e/e11861.png  \n",
            "  inflating: dataset/NUMTA/training-e/e11862.png  \n",
            "  inflating: dataset/NUMTA/training-e/e11863.png  \n",
            "  inflating: dataset/NUMTA/training-e/e11864.png  \n",
            "  inflating: dataset/NUMTA/training-e/e11865.png  \n",
            "  inflating: dataset/NUMTA/training-e/e11866.png  \n",
            "  inflating: dataset/NUMTA/training-e/e11867.png  \n",
            "  inflating: dataset/NUMTA/training-e/e11868.png  \n",
            "  inflating: dataset/NUMTA/training-e/e11869.png  \n",
            "  inflating: dataset/NUMTA/training-e/e11870.png  \n",
            "  inflating: dataset/NUMTA/training-e/e11871.png  \n",
            "  inflating: dataset/NUMTA/training-e/e11872.png  \n",
            "  inflating: dataset/NUMTA/training-e/e11873.png  \n",
            "  inflating: dataset/NUMTA/training-e/e11874.png  \n",
            "  inflating: dataset/NUMTA/training-e/e11875.png  \n",
            "  inflating: dataset/NUMTA/training-e/e11876.png  \n",
            "  inflating: dataset/NUMTA/training-e/e11877.png  \n",
            "  inflating: dataset/NUMTA/training-e/e11878.png  \n",
            "  inflating: dataset/NUMTA/training-e/e11879.png  \n",
            "  inflating: dataset/NUMTA/training-e/e11880.png  \n",
            "  inflating: dataset/NUMTA/training-e/e11881.png  \n",
            "  inflating: dataset/NUMTA/training-e/e11882.png  \n",
            "  inflating: dataset/NUMTA/training-e/e11883.png  \n",
            "  inflating: dataset/NUMTA/training-e/e11884.png  \n",
            "  inflating: dataset/NUMTA/training-e/e11885.png  \n",
            "  inflating: dataset/NUMTA/training-e/e11886.png  \n",
            "  inflating: dataset/NUMTA/training-e/e11887.png  \n",
            "  inflating: dataset/NUMTA/training-e/e11888.png  \n",
            "  inflating: dataset/NUMTA/training-e/e11889.png  \n",
            "  inflating: dataset/NUMTA/training-e/e11890.png  \n",
            "  inflating: dataset/NUMTA/training-e/e11891.png  \n",
            "  inflating: dataset/NUMTA/training-e/e11892.png  \n",
            "  inflating: dataset/NUMTA/training-e/e11893.png  \n",
            "  inflating: dataset/NUMTA/training-e/e11894.png  \n",
            "  inflating: dataset/NUMTA/training-e/e11895.png  \n",
            "  inflating: dataset/NUMTA/training-e/e11896.png  \n",
            "  inflating: dataset/NUMTA/training-e/e11897.png  \n",
            "  inflating: dataset/NUMTA/training-e/e11898.png  \n",
            "  inflating: dataset/NUMTA/training-e/e11899.png  \n",
            "  inflating: dataset/NUMTA/training-e/e11900.png  \n",
            "  inflating: dataset/NUMTA/training-e/e11901.png  \n",
            "  inflating: dataset/NUMTA/training-e/e11902.png  \n",
            "  inflating: dataset/NUMTA/training-e/e11903.png  \n",
            "  inflating: dataset/NUMTA/training-e/e11904.png  \n",
            "  inflating: dataset/NUMTA/training-e/e11905.png  \n",
            "  inflating: dataset/NUMTA/training-e/e11906.png  \n",
            "  inflating: dataset/NUMTA/training-e/e11907.png  \n",
            "  inflating: dataset/NUMTA/training-e/e11908.png  \n",
            "  inflating: dataset/NUMTA/training-e/e11909.png  \n",
            "  inflating: dataset/NUMTA/training-e/e11910.png  \n",
            "  inflating: dataset/NUMTA/training-e/e11911.png  \n",
            "  inflating: dataset/NUMTA/training-e/e11912.png  \n",
            "  inflating: dataset/NUMTA/training-e/e11913.png  \n",
            "  inflating: dataset/NUMTA/training-e/e11914.png  \n",
            "  inflating: dataset/NUMTA/training-e/e11915.png  \n",
            "  inflating: dataset/NUMTA/training-e/e11916.png  \n",
            "  inflating: dataset/NUMTA/training-e/e11917.png  \n",
            "  inflating: dataset/NUMTA/training-e/e11918.png  \n",
            "  inflating: dataset/NUMTA/training-e/e11919.png  \n",
            "  inflating: dataset/NUMTA/training-e/e11920.png  \n",
            "  inflating: dataset/NUMTA/training-e/e11921.png  \n",
            "  inflating: dataset/NUMTA/training-e/e11922.png  \n",
            "  inflating: dataset/NUMTA/training-e/e11923.png  \n",
            "  inflating: dataset/NUMTA/training-e/e11924.png  \n",
            "  inflating: dataset/NUMTA/training-e/e11925.png  \n",
            "  inflating: dataset/NUMTA/training-e/e11926.png  \n",
            "  inflating: dataset/NUMTA/training-e/e11927.png  \n",
            "  inflating: dataset/NUMTA/training-e/e11928.png  \n",
            "  inflating: dataset/NUMTA/training-e/e11929.png  \n",
            "  inflating: dataset/NUMTA/training-e/e11930.png  \n",
            "  inflating: dataset/NUMTA/training-e/e11931.png  \n",
            "  inflating: dataset/NUMTA/training-e/e11932.png  \n",
            "  inflating: dataset/NUMTA/training-e/e11933.png  \n",
            "  inflating: dataset/NUMTA/training-e/e11934.png  \n",
            "  inflating: dataset/NUMTA/training-e/e11935.png  \n",
            "  inflating: dataset/NUMTA/training-e/e11936.png  \n",
            "  inflating: dataset/NUMTA/training-e/e11937.png  \n",
            "  inflating: dataset/NUMTA/training-e/e11938.png  \n",
            "  inflating: dataset/NUMTA/training-e/e11939.png  \n",
            "  inflating: dataset/NUMTA/training-e/e11940.png  \n",
            "  inflating: dataset/NUMTA/training-e/e11941.png  \n",
            "  inflating: dataset/NUMTA/training-e/e11942.png  \n",
            "  inflating: dataset/NUMTA/training-e/e11943.png  \n",
            "  inflating: dataset/NUMTA/training-e/e11944.png  \n",
            "  inflating: dataset/NUMTA/training-e/e11945.png  \n",
            "  inflating: dataset/NUMTA/training-e/e11946.png  \n",
            "  inflating: dataset/NUMTA/training-e/e11947.png  \n",
            "  inflating: dataset/NUMTA/training-e/e11948.png  \n",
            "  inflating: dataset/NUMTA/training-e/e11949.png  \n",
            "  inflating: dataset/NUMTA/training-e/e11950.png  \n",
            "  inflating: dataset/NUMTA/training-e/e11951.png  \n",
            "  inflating: dataset/NUMTA/training-e/e11952.png  \n",
            "  inflating: dataset/NUMTA/training-e/e11953.png  \n",
            "  inflating: dataset/NUMTA/training-e/e11954.png  \n",
            "  inflating: dataset/NUMTA/training-e/e11955.png  \n",
            "  inflating: dataset/NUMTA/training-e/e11956.png  \n",
            "  inflating: dataset/NUMTA/training-e/e11957.png  \n",
            "  inflating: dataset/NUMTA/training-e/e11958.png  \n",
            "  inflating: dataset/NUMTA/training-e/e11959.png  \n",
            "  inflating: dataset/NUMTA/training-e/e11960.png  \n",
            "  inflating: dataset/NUMTA/training-e/e11961.png  \n",
            "  inflating: dataset/NUMTA/training-e/e11962.png  \n",
            "  inflating: dataset/NUMTA/training-e/e11963.png  \n",
            "  inflating: dataset/NUMTA/training-e/e11964.png  \n",
            "  inflating: dataset/NUMTA/training-e/e11965.png  \n",
            "  inflating: dataset/NUMTA/training-e/e11966.png  \n",
            "  inflating: dataset/NUMTA/training-e/e11967.png  \n",
            "  inflating: dataset/NUMTA/training-e/e11968.png  \n",
            "  inflating: dataset/NUMTA/training-e/e11969.png  \n",
            "  inflating: dataset/NUMTA/training-e/e11970.png  \n",
            "  inflating: dataset/NUMTA/training-e/e11971.png  \n",
            "  inflating: dataset/NUMTA/training-e/e11972.png  \n",
            "  inflating: dataset/NUMTA/training-e/e11973.png  \n",
            "  inflating: dataset/NUMTA/training-e/e11974.png  \n",
            "  inflating: dataset/NUMTA/training-e/e11975.png  \n",
            "  inflating: dataset/NUMTA/training-e/e11976.png  \n",
            "  inflating: dataset/NUMTA/training-e/e11977.png  \n",
            "  inflating: dataset/NUMTA/training-e/e11978.png  \n",
            "  inflating: dataset/NUMTA/training-e/e11979.png  \n",
            "  inflating: dataset/NUMTA/training-e/e11980.png  \n",
            "  inflating: dataset/NUMTA/training-e/e11981.png  \n",
            "  inflating: dataset/NUMTA/training-e/e11982.png  \n",
            "  inflating: dataset/NUMTA/training-e/e11983.png  \n",
            "  inflating: dataset/NUMTA/training-e/e11984.png  \n",
            "  inflating: dataset/NUMTA/training-e/e11985.png  \n",
            "  inflating: dataset/NUMTA/training-e/e11986.png  \n",
            "  inflating: dataset/NUMTA/training-e/e11987.png  \n",
            "  inflating: dataset/NUMTA/training-e/e11988.png  \n",
            "  inflating: dataset/NUMTA/training-e/e11989.png  \n",
            "  inflating: dataset/NUMTA/training-e/e11990.png  \n",
            "  inflating: dataset/NUMTA/training-e/e11991.png  \n",
            "  inflating: dataset/NUMTA/training-e/e11992.png  \n",
            "  inflating: dataset/NUMTA/training-e/e11993.png  \n",
            "  inflating: dataset/NUMTA/training-e/e11994.png  \n",
            "  inflating: dataset/NUMTA/training-e/e11995.png  \n",
            "  inflating: dataset/NUMTA/training-e/e11996.png  \n",
            "  inflating: dataset/NUMTA/training-e/e11997.png  \n",
            "  inflating: dataset/NUMTA/training-e/e11998.png  \n",
            "  inflating: dataset/NUMTA/training-e/e11999.png  \n",
            "  inflating: dataset/NUMTA/training-e/e12000.png  \n",
            "  inflating: dataset/NUMTA/training-e/e12001.png  \n",
            "  inflating: dataset/NUMTA/training-e/e12002.png  \n",
            "  inflating: dataset/NUMTA/training-e/e12003.png  \n",
            "  inflating: dataset/NUMTA/training-e/e12004.png  \n",
            "  inflating: dataset/NUMTA/training-e/e12005.png  \n",
            "  inflating: dataset/NUMTA/training-e/e12006.png  \n",
            "  inflating: dataset/NUMTA/training-e/e12007.png  \n",
            "  inflating: dataset/NUMTA/training-e/e12008.png  \n",
            "  inflating: dataset/NUMTA/training-e/e12009.png  \n",
            "  inflating: dataset/NUMTA/training-e/e12010.png  \n",
            "  inflating: dataset/NUMTA/training-e/e12011.png  \n",
            "  inflating: dataset/NUMTA/training-e/e12012.png  \n",
            "  inflating: dataset/NUMTA/training-e/e12013.png  \n",
            "  inflating: dataset/NUMTA/training-e/e12014.png  \n",
            "  inflating: dataset/NUMTA/training-e/e12015.png  \n",
            "  inflating: dataset/NUMTA/training-e/e12016.png  \n",
            "  inflating: dataset/NUMTA/training-e/e12017.png  \n",
            "  inflating: dataset/NUMTA/training-e/e12018.png  \n",
            "  inflating: dataset/NUMTA/training-e/e12019.png  \n",
            "  inflating: dataset/NUMTA/training-e/e12020.png  \n",
            "  inflating: dataset/NUMTA/training-e/e12021.png  \n",
            "  inflating: dataset/NUMTA/training-e/e12022.png  \n",
            "  inflating: dataset/NUMTA/training-e/e12023.png  \n",
            "  inflating: dataset/NUMTA/training-e/e12024.png  \n",
            "  inflating: dataset/NUMTA/training-e/e12025.png  \n",
            "  inflating: dataset/NUMTA/training-e/e12026.png  \n",
            "  inflating: dataset/NUMTA/training-e/e12027.png  \n",
            "  inflating: dataset/NUMTA/training-e/e12028.png  \n",
            "  inflating: dataset/NUMTA/training-e/e12029.png  \n",
            "  inflating: dataset/NUMTA/training-e/e12030.png  \n",
            "  inflating: dataset/NUMTA/training-e/e12031.png  \n",
            "  inflating: dataset/NUMTA/training-e/e12032.png  \n",
            "  inflating: dataset/NUMTA/training-e/e12033.png  \n",
            "  inflating: dataset/NUMTA/training-e/e12034.png  \n",
            "  inflating: dataset/NUMTA/training-e/e12035.png  \n",
            "  inflating: dataset/NUMTA/training-e/e12036.png  \n",
            "  inflating: dataset/NUMTA/training-e/e12037.png  \n",
            "  inflating: dataset/NUMTA/training-e/e12038.png  \n",
            "  inflating: dataset/NUMTA/training-e/e12039.png  \n",
            "  inflating: dataset/NUMTA/training-e/e12040.png  \n",
            "  inflating: dataset/NUMTA/training-e/e12041.png  \n",
            "  inflating: dataset/NUMTA/training-e/e12042.png  \n",
            "  inflating: dataset/NUMTA/training-e/e12043.png  \n",
            "  inflating: dataset/NUMTA/training-e/e12044.png  \n",
            "  inflating: dataset/NUMTA/training-e/e12045.png  \n",
            "  inflating: dataset/NUMTA/training-e/e12046.png  \n",
            "  inflating: dataset/NUMTA/training-e/e12047.png  \n",
            "  inflating: dataset/NUMTA/training-e/e12048.png  \n",
            "  inflating: dataset/NUMTA/training-e/e12049.png  \n",
            "  inflating: dataset/NUMTA/training-e/e12050.png  \n",
            "  inflating: dataset/NUMTA/training-e/e12051.png  \n",
            "  inflating: dataset/NUMTA/training-e/e12052.png  \n",
            "  inflating: dataset/NUMTA/training-e/e12053.png  \n",
            "  inflating: dataset/NUMTA/training-e/e12054.png  \n",
            "  inflating: dataset/NUMTA/training-e/e12055.png  \n",
            "  inflating: dataset/NUMTA/training-e/e12056.png  \n",
            "  inflating: dataset/NUMTA/training-e/e12057.png  \n",
            "  inflating: dataset/NUMTA/training-e/e12058.png  \n",
            "  inflating: dataset/NUMTA/training-e/e12059.png  \n",
            "  inflating: dataset/NUMTA/training-e/e12060.png  \n",
            "  inflating: dataset/NUMTA/training-e/e12061.png  \n",
            "  inflating: dataset/NUMTA/training-e/e12062.png  \n",
            "  inflating: dataset/NUMTA/training-e/e12063.png  \n",
            "  inflating: dataset/NUMTA/training-e/e12064.png  \n",
            "  inflating: dataset/NUMTA/training-e/e12065.png  \n",
            "  inflating: dataset/NUMTA/training-e/e12066.png  \n",
            "  inflating: dataset/NUMTA/training-e/e12067.png  \n",
            "  inflating: dataset/NUMTA/training-e/e12068.png  \n",
            "  inflating: dataset/NUMTA/training-e/e12069.png  \n",
            "  inflating: dataset/NUMTA/training-e/e12070.png  \n",
            "  inflating: dataset/NUMTA/training-e/e12071.png  \n",
            "  inflating: dataset/NUMTA/training-e/e12072.png  \n",
            "  inflating: dataset/NUMTA/training-e/e12073.png  \n",
            "  inflating: dataset/NUMTA/training-e/e12074.png  \n",
            "  inflating: dataset/NUMTA/training-e/e12075.png  \n",
            "  inflating: dataset/NUMTA/training-e/e12076.png  \n",
            "  inflating: dataset/NUMTA/training-e/e12077.png  \n",
            "  inflating: dataset/NUMTA/training-e/e12078.png  \n",
            "  inflating: dataset/NUMTA/training-e/e12079.png  \n",
            "  inflating: dataset/NUMTA/training-e/e12080.png  \n",
            "  inflating: dataset/NUMTA/training-e/e12081.png  \n",
            "  inflating: dataset/NUMTA/training-e/e12082.png  \n",
            "  inflating: dataset/NUMTA/training-e/e12083.png  \n",
            "  inflating: dataset/NUMTA/training-e/e12084.png  \n",
            "  inflating: dataset/NUMTA/training-e/e12085.png  \n",
            "  inflating: dataset/NUMTA/training-e/e12086.png  \n",
            "  inflating: dataset/NUMTA/training-e/e12087.png  \n",
            "  inflating: dataset/NUMTA/training-e/e12088.png  \n",
            "  inflating: dataset/NUMTA/training-e/e12089.png  \n",
            "  inflating: dataset/NUMTA/training-e/e12090.png  \n",
            "  inflating: dataset/NUMTA/training-e/e12091.png  \n",
            "  inflating: dataset/NUMTA/training-e/e12092.png  \n",
            "  inflating: dataset/NUMTA/training-e/e12093.png  \n",
            "  inflating: dataset/NUMTA/training-e/e12094.png  \n",
            "  inflating: dataset/NUMTA/training-e/e12095.png  \n",
            "  inflating: dataset/NUMTA/training-e/e12096.png  \n",
            "  inflating: dataset/NUMTA/training-e/e12097.png  \n",
            "  inflating: dataset/NUMTA/training-e/e12098.png  \n",
            "  inflating: dataset/NUMTA/training-e/e12099.png  \n",
            "  inflating: dataset/NUMTA/training-e/e12100.png  \n",
            "  inflating: dataset/NUMTA/training-e/e12101.png  \n",
            "  inflating: dataset/NUMTA/training-e/e12102.png  \n",
            "  inflating: dataset/NUMTA/training-e/e12103.png  \n",
            "  inflating: dataset/NUMTA/training-e/e12104.png  \n",
            "  inflating: dataset/NUMTA/training-e/e12105.png  \n",
            "  inflating: dataset/NUMTA/training-e/e12106.png  \n",
            "  inflating: dataset/NUMTA/training-e/e12107.png  \n",
            "  inflating: dataset/NUMTA/training-e/e12108.png  \n",
            "  inflating: dataset/NUMTA/training-e/e12109.png  \n",
            "  inflating: dataset/NUMTA/training-e/e12110.png  \n",
            "  inflating: dataset/NUMTA/training-e/e12111.png  \n",
            "  inflating: dataset/NUMTA/training-e/e12112.png  \n",
            "  inflating: dataset/NUMTA/training-e/e12113.png  \n",
            "  inflating: dataset/NUMTA/training-e/e12114.png  \n",
            "  inflating: dataset/NUMTA/training-e/e12115.png  \n",
            "  inflating: dataset/NUMTA/training-e/e12116.png  \n",
            "  inflating: dataset/NUMTA/training-e/e12117.png  \n",
            "  inflating: dataset/NUMTA/training-e/e12118.png  \n",
            "  inflating: dataset/NUMTA/training-e/e12119.png  \n",
            "  inflating: dataset/NUMTA/training-e/e12120.png  \n",
            "  inflating: dataset/NUMTA/training-e/e12121.png  \n",
            "  inflating: dataset/NUMTA/training-e/e12122.png  \n",
            "  inflating: dataset/NUMTA/training-e/e12123.png  \n",
            "  inflating: dataset/NUMTA/training-e/e12124.png  \n",
            "  inflating: dataset/NUMTA/training-e/e12125.png  \n",
            "  inflating: dataset/NUMTA/training-e/e12126.png  \n",
            "  inflating: dataset/NUMTA/training-e/e12127.png  \n",
            "  inflating: dataset/NUMTA/training-e/e12128.png  \n",
            "  inflating: dataset/NUMTA/training-e/e12129.png  \n",
            "  inflating: dataset/NUMTA/training-e/e12130.png  \n",
            "  inflating: dataset/NUMTA/training-e/e12131.png  \n",
            "  inflating: dataset/NUMTA/training-e/e12132.png  \n",
            "  inflating: dataset/NUMTA/training-e/e12133.png  \n",
            "  inflating: dataset/NUMTA/training-e/e12134.png  \n",
            "  inflating: dataset/NUMTA/training-e/e12135.png  \n",
            "  inflating: dataset/NUMTA/training-e/e12136.png  \n",
            "  inflating: dataset/NUMTA/training-e/e12137.png  \n",
            "  inflating: dataset/NUMTA/training-e/e12138.png  \n",
            "  inflating: dataset/NUMTA/training-e/e12139.png  \n",
            "  inflating: dataset/NUMTA/training-e/e12140.png  \n",
            "  inflating: dataset/NUMTA/training-e/e12141.png  \n",
            "  inflating: dataset/NUMTA/training-e/e12142.png  \n",
            "  inflating: dataset/NUMTA/training-e/e12143.png  \n",
            "  inflating: dataset/NUMTA/training-e/e12144.png  \n",
            "  inflating: dataset/NUMTA/training-e/e12145.png  \n",
            "  inflating: dataset/NUMTA/training-e/e12146.png  \n",
            "  inflating: dataset/NUMTA/training-e/e12147.png  \n",
            "  inflating: dataset/NUMTA/training-e/e12148.png  \n",
            "  inflating: dataset/NUMTA/training-e/e12149.png  \n",
            "  inflating: dataset/NUMTA/training-e/e12150.png  \n",
            "  inflating: dataset/NUMTA/training-e/e12151.png  \n",
            "  inflating: dataset/NUMTA/training-e/e12152.png  \n",
            "  inflating: dataset/NUMTA/training-e/e12153.png  \n",
            "  inflating: dataset/NUMTA/training-e/e12154.png  \n",
            "  inflating: dataset/NUMTA/training-e/e12155.png  \n",
            "  inflating: dataset/NUMTA/training-e/e12156.png  \n",
            "  inflating: dataset/NUMTA/training-e/e12157.png  \n",
            "  inflating: dataset/NUMTA/training-e/e12158.png  \n",
            "  inflating: dataset/NUMTA/training-e/e12159.png  \n",
            "  inflating: dataset/NUMTA/training-e/e12160.png  \n",
            "  inflating: dataset/NUMTA/training-e/e12161.png  \n",
            "  inflating: dataset/NUMTA/training-e/e12162.png  \n",
            "  inflating: dataset/NUMTA/training-e/e12163.png  \n",
            "  inflating: dataset/NUMTA/training-e/e12164.png  \n",
            "  inflating: dataset/NUMTA/training-e/e12165.png  \n",
            "  inflating: dataset/NUMTA/training-e/e12166.png  \n",
            "  inflating: dataset/NUMTA/training-e/e12167.png  \n",
            "  inflating: dataset/NUMTA/training-e/e12168.png  \n",
            "  inflating: dataset/NUMTA/training-e/e12169.png  \n",
            "  inflating: dataset/NUMTA/training-e/e12170.png  \n",
            "  inflating: dataset/NUMTA/training-e/e12171.png  \n",
            "  inflating: dataset/NUMTA/training-e/e12172.png  \n",
            "  inflating: dataset/NUMTA/training-e/e12173.png  \n",
            "  inflating: dataset/NUMTA/training-e/e12174.png  \n",
            "  inflating: dataset/NUMTA/training-e/e12175.png  \n",
            "  inflating: dataset/NUMTA/training-e/e12176.png  \n",
            "  inflating: dataset/NUMTA/training-e/e12177.png  \n",
            "  inflating: dataset/NUMTA/training-e/e12178.png  \n",
            "  inflating: dataset/NUMTA/training-e/e12179.png  \n",
            "  inflating: dataset/NUMTA/training-e/e12180.png  \n",
            "  inflating: dataset/NUMTA/training-e/e12181.png  \n",
            "  inflating: dataset/NUMTA/training-e/e12182.png  \n",
            "  inflating: dataset/NUMTA/training-e/e12183.png  \n",
            "  inflating: dataset/NUMTA/training-e/e12184.png  \n",
            "  inflating: dataset/NUMTA/training-e/e12185.png  \n",
            "  inflating: dataset/NUMTA/training-e/e12186.png  \n",
            "  inflating: dataset/NUMTA/training-e/e12187.png  \n",
            "  inflating: dataset/NUMTA/training-e/e12188.png  \n",
            "  inflating: dataset/NUMTA/training-e/e12189.png  \n",
            "  inflating: dataset/NUMTA/training-e/e12190.png  \n",
            "  inflating: dataset/NUMTA/training-e/e12191.png  \n",
            "  inflating: dataset/NUMTA/training-e/e12192.png  \n",
            "  inflating: dataset/NUMTA/training-e/e12193.png  \n",
            "  inflating: dataset/NUMTA/training-e/e12194.png  \n",
            "  inflating: dataset/NUMTA/training-e/e12195.png  \n",
            "  inflating: dataset/NUMTA/training-e/e12196.png  \n",
            "  inflating: dataset/NUMTA/training-e/e12197.png  \n",
            "  inflating: dataset/NUMTA/training-e/e12198.png  \n",
            "  inflating: dataset/NUMTA/training-e/e12199.png  \n",
            "  inflating: dataset/NUMTA/training-e/e12200.png  \n",
            "  inflating: dataset/NUMTA/training-e/e12201.png  \n",
            "  inflating: dataset/NUMTA/training-e/e12202.png  \n",
            "  inflating: dataset/NUMTA/training-e/e12203.png  \n",
            "  inflating: dataset/NUMTA/training-e/e12204.png  \n",
            "  inflating: dataset/NUMTA/training-e/e12205.png  \n",
            "  inflating: dataset/NUMTA/training-e/e12206.png  \n",
            "  inflating: dataset/NUMTA/training-e/e12207.png  \n",
            "  inflating: dataset/NUMTA/training-e/e12208.png  \n",
            "  inflating: dataset/NUMTA/training-e/e12209.png  \n",
            "  inflating: dataset/NUMTA/training-e/e12210.png  \n",
            "  inflating: dataset/NUMTA/training-e/e12211.png  \n",
            "  inflating: dataset/NUMTA/training-e/e12212.png  \n",
            "  inflating: dataset/NUMTA/training-e/e12213.png  \n",
            "  inflating: dataset/NUMTA/training-e/e12214.png  \n",
            "  inflating: dataset/NUMTA/training-e/e12215.png  \n",
            "  inflating: dataset/NUMTA/training-e/e12216.png  \n",
            "  inflating: dataset/NUMTA/training-e/e12217.png  \n",
            "  inflating: dataset/NUMTA/training-e/e12218.png  \n",
            "  inflating: dataset/NUMTA/training-e/e12219.png  \n",
            "  inflating: dataset/NUMTA/training-e/e12220.png  \n",
            "  inflating: dataset/NUMTA/training-e/e12221.png  \n",
            "  inflating: dataset/NUMTA/training-e/e12222.png  \n",
            "  inflating: dataset/NUMTA/training-e/e12223.png  \n",
            "  inflating: dataset/NUMTA/training-e/e12224.png  \n",
            "  inflating: dataset/NUMTA/training-e/e12225.png  \n",
            "  inflating: dataset/NUMTA/training-e/e12226.png  \n",
            "  inflating: dataset/NUMTA/training-e/e12227.png  \n",
            "  inflating: dataset/NUMTA/training-e/e12228.png  \n",
            "  inflating: dataset/NUMTA/training-e/e12229.png  \n",
            "  inflating: dataset/NUMTA/training-e/e12230.png  \n",
            "  inflating: dataset/NUMTA/training-e/e12231.png  \n",
            "  inflating: dataset/NUMTA/training-e/e12232.png  \n",
            "  inflating: dataset/NUMTA/training-e/e12233.png  \n",
            "  inflating: dataset/NUMTA/training-e/e12234.png  \n",
            "  inflating: dataset/NUMTA/training-e/e12235.png  \n",
            "  inflating: dataset/NUMTA/training-e/e12236.png  \n",
            "  inflating: dataset/NUMTA/training-e/e12237.png  \n",
            "  inflating: dataset/NUMTA/training-e/e12238.png  \n",
            "  inflating: dataset/NUMTA/training-e/e12239.png  \n",
            "  inflating: dataset/NUMTA/training-e/e12240.png  \n",
            "  inflating: dataset/NUMTA/training-e/e12241.png  \n",
            "  inflating: dataset/NUMTA/training-e/e12242.png  \n",
            "  inflating: dataset/NUMTA/training-e/e12243.png  \n",
            "  inflating: dataset/NUMTA/training-e/e12244.png  \n",
            "  inflating: dataset/NUMTA/training-e/e12245.png  \n",
            "  inflating: dataset/NUMTA/training-e/e12246.png  \n",
            "  inflating: dataset/NUMTA/training-e/e12247.png  \n",
            "  inflating: dataset/NUMTA/training-e/e12248.png  \n",
            "  inflating: dataset/NUMTA/training-e/e12249.png  \n",
            "  inflating: dataset/NUMTA/training-e/e12250.png  \n",
            "  inflating: dataset/NUMTA/training-e/e12251.png  \n",
            "  inflating: dataset/NUMTA/training-e/e12252.png  \n",
            "  inflating: dataset/NUMTA/training-e/e12253.png  \n",
            "  inflating: dataset/NUMTA/training-e/e12254.png  \n",
            "  inflating: dataset/NUMTA/training-e/e12255.png  \n",
            "  inflating: dataset/NUMTA/training-e/e12256.png  \n",
            "  inflating: dataset/NUMTA/training-e/e12257.png  \n",
            "  inflating: dataset/NUMTA/training-e/e12258.png  \n",
            "  inflating: dataset/NUMTA/training-e/e12259.png  \n",
            "  inflating: dataset/NUMTA/training-e/e12260.png  \n",
            "  inflating: dataset/NUMTA/training-e/e12261.png  \n",
            "  inflating: dataset/NUMTA/training-e/e12262.png  \n",
            "  inflating: dataset/NUMTA/training-e/e12263.png  \n",
            "  inflating: dataset/NUMTA/training-e/e12264.png  \n",
            "  inflating: dataset/NUMTA/training-e/e12265.png  \n",
            "  inflating: dataset/NUMTA/training-e/e12266.png  \n",
            "  inflating: dataset/NUMTA/training-e/e12267.png  \n",
            "  inflating: dataset/NUMTA/training-e/e12268.png  \n",
            "  inflating: dataset/NUMTA/training-e/e12269.png  \n",
            "  inflating: dataset/NUMTA/training-e/e12270.png  \n",
            "  inflating: dataset/NUMTA/training-e/e12271.png  \n",
            "  inflating: dataset/NUMTA/training-e/e12272.png  \n",
            "  inflating: dataset/NUMTA/training-e/e12273.png  \n",
            "  inflating: dataset/NUMTA/training-e/e12274.png  \n",
            "  inflating: dataset/NUMTA/training-e/e12275.png  \n",
            "  inflating: dataset/NUMTA/training-e/e12276.png  \n",
            "  inflating: dataset/NUMTA/training-e/e12277.png  \n",
            "  inflating: dataset/NUMTA/training-e/e12278.png  \n",
            "  inflating: dataset/NUMTA/training-e/e12279.png  \n",
            "  inflating: dataset/NUMTA/training-e/e12280.png  \n",
            "  inflating: dataset/NUMTA/training-e/e12281.png  \n",
            "  inflating: dataset/NUMTA/training-e/e12282.png  \n",
            "  inflating: dataset/NUMTA/training-e/e12283.png  \n",
            "  inflating: dataset/NUMTA/training-e/e12284.png  \n",
            "  inflating: dataset/NUMTA/training-e/e12285.png  \n",
            "  inflating: dataset/NUMTA/training-e/e12286.png  \n",
            "  inflating: dataset/NUMTA/training-e/e12287.png  \n",
            "  inflating: dataset/NUMTA/training-e/e12288.png  \n",
            "  inflating: dataset/NUMTA/training-e/e12289.png  \n",
            "  inflating: dataset/NUMTA/training-e/e12290.png  \n",
            "  inflating: dataset/NUMTA/training-e/e12291.png  \n",
            "  inflating: dataset/NUMTA/training-e/e12292.png  \n",
            "  inflating: dataset/NUMTA/training-e/e12293.png  \n",
            "  inflating: dataset/NUMTA/training-e/e12294.png  \n",
            "  inflating: dataset/NUMTA/training-e/e12295.png  \n",
            "  inflating: dataset/NUMTA/training-e/e12296.png  \n",
            "  inflating: dataset/NUMTA/training-e/e12297.png  \n",
            "  inflating: dataset/NUMTA/training-e/e12298.png  \n",
            "  inflating: dataset/NUMTA/training-e/e12299.png  \n",
            "  inflating: dataset/NUMTA/training-e/e12300.png  \n",
            "  inflating: dataset/NUMTA/training-e/e12301.png  \n",
            "  inflating: dataset/NUMTA/training-e/e12302.png  \n",
            "  inflating: dataset/NUMTA/training-e/e12303.png  \n",
            "  inflating: dataset/NUMTA/training-e/e12304.png  \n",
            "  inflating: dataset/NUMTA/training-e/e12305.png  \n",
            "  inflating: dataset/NUMTA/training-e/e12306.png  \n",
            "  inflating: dataset/NUMTA/training-e/e12307.png  \n",
            "  inflating: dataset/NUMTA/training-e/e12308.png  \n",
            "  inflating: dataset/NUMTA/training-e/e12309.png  \n",
            "  inflating: dataset/NUMTA/training-e/e12310.png  \n",
            "  inflating: dataset/NUMTA/training-e/e12311.png  \n",
            "  inflating: dataset/NUMTA/training-e/e12312.png  \n",
            "  inflating: dataset/NUMTA/training-e/e12313.png  \n",
            "  inflating: dataset/NUMTA/training-e/e12314.png  \n",
            "  inflating: dataset/NUMTA/training-e/e12315.png  \n",
            "  inflating: dataset/NUMTA/training-e/e12316.png  \n",
            "  inflating: dataset/NUMTA/training-e/e12317.png  \n",
            "  inflating: dataset/NUMTA/training-e/e12318.png  \n",
            "  inflating: dataset/NUMTA/training-e/e12319.png  \n",
            "  inflating: dataset/NUMTA/training-e/e12320.png  \n",
            "  inflating: dataset/NUMTA/training-e/e12321.png  \n",
            "  inflating: dataset/NUMTA/training-e/e12322.png  \n",
            "  inflating: dataset/NUMTA/training-e/e12323.png  \n",
            "  inflating: dataset/NUMTA/training-e/e12324.png  \n",
            "  inflating: dataset/NUMTA/training-e/e12325.png  \n",
            "  inflating: dataset/NUMTA/training-e/e12326.png  \n",
            "  inflating: dataset/NUMTA/training-e/e12327.png  \n",
            "  inflating: dataset/NUMTA/training-e/e12328.png  \n",
            "  inflating: dataset/NUMTA/training-e/e12329.png  \n",
            "  inflating: dataset/NUMTA/training-e/e12330.png  \n",
            "  inflating: dataset/NUMTA/training-e/e12331.png  \n",
            "  inflating: dataset/NUMTA/training-e/e12332.png  \n",
            "  inflating: dataset/NUMTA/training-e/e12333.png  \n",
            "  inflating: dataset/NUMTA/training-e/e12334.png  \n",
            "  inflating: dataset/NUMTA/training-e/e12335.png  \n",
            "  inflating: dataset/NUMTA/training-e/e12336.png  \n",
            "  inflating: dataset/NUMTA/training-e/e12337.png  \n",
            "  inflating: dataset/NUMTA/training-e/e12338.png  \n",
            "  inflating: dataset/NUMTA/training-e/e12339.png  \n",
            "  inflating: dataset/NUMTA/training-e/e12340.png  \n",
            "  inflating: dataset/NUMTA/training-e/e12341.png  \n",
            "  inflating: dataset/NUMTA/training-e/e12342.png  \n",
            "  inflating: dataset/NUMTA/training-e/e12343.png  \n",
            "  inflating: dataset/NUMTA/training-e/e12344.png  \n",
            "  inflating: dataset/NUMTA/training-e/e12345.png  \n",
            "  inflating: dataset/NUMTA/training-e/e12346.png  \n",
            "  inflating: dataset/NUMTA/training-e/e12347.png  \n",
            "  inflating: dataset/NUMTA/training-e/e12348.png  \n",
            "  inflating: dataset/NUMTA/training-e/e12349.png  \n",
            "  inflating: dataset/NUMTA/training-e/e12350.png  \n",
            "  inflating: dataset/NUMTA/training-e/e12351.png  \n",
            "  inflating: dataset/NUMTA/training-e/e12352.png  \n",
            "  inflating: dataset/NUMTA/training-e/e12353.png  \n",
            "  inflating: dataset/NUMTA/training-e/e12354.png  \n",
            "  inflating: dataset/NUMTA/training-e/e12355.png  \n",
            "  inflating: dataset/NUMTA/training-e/e12356.png  \n",
            "  inflating: dataset/NUMTA/training-e/e12357.png  \n",
            "  inflating: dataset/NUMTA/training-e/e12358.png  \n",
            "  inflating: dataset/NUMTA/training-e/e12359.png  \n",
            "  inflating: dataset/NUMTA/training-e/e12360.png  \n",
            "  inflating: dataset/NUMTA/training-e/e12361.png  \n",
            "  inflating: dataset/NUMTA/training-e/e12362.png  \n",
            "  inflating: dataset/NUMTA/training-e/e12363.png  \n",
            "  inflating: dataset/NUMTA/training-e/e12364.png  \n",
            "  inflating: dataset/NUMTA/training-e/e12365.png  \n",
            "  inflating: dataset/NUMTA/training-e/e12366.png  \n",
            "  inflating: dataset/NUMTA/training-e/e12367.png  \n",
            "  inflating: dataset/NUMTA/training-e/e12368.png  \n",
            "  inflating: dataset/NUMTA/training-e/e12369.png  \n",
            "  inflating: dataset/NUMTA/training-e/e12370.png  \n",
            "  inflating: dataset/NUMTA/training-e/e12371.png  \n",
            "  inflating: dataset/NUMTA/training-e/e12372.png  \n",
            "  inflating: dataset/NUMTA/training-e/e12373.png  \n",
            "  inflating: dataset/NUMTA/training-e/e12374.png  \n",
            "  inflating: dataset/NUMTA/training-e/e12375.png  \n",
            "  inflating: dataset/NUMTA/training-e/e12376.png  \n",
            "  inflating: dataset/NUMTA/training-e/e12377.png  \n",
            "  inflating: dataset/NUMTA/training-e/e12378.png  \n",
            "  inflating: dataset/NUMTA/training-e/e12379.png  \n",
            "  inflating: dataset/NUMTA/training-e/e12380.png  \n",
            "  inflating: dataset/NUMTA/training-e/e12381.png  \n",
            "  inflating: dataset/NUMTA/training-e/e12382.png  \n",
            "  inflating: dataset/NUMTA/training-e/e12383.png  \n",
            "  inflating: dataset/NUMTA/training-e/e12384.png  \n",
            "  inflating: dataset/NUMTA/training-e/e12385.png  \n",
            "  inflating: dataset/NUMTA/training-e/e12386.png  \n",
            "  inflating: dataset/NUMTA/training-e/e12387.png  \n",
            "  inflating: dataset/NUMTA/training-e/e12388.png  \n",
            "  inflating: dataset/NUMTA/training-e/e12389.png  \n",
            "  inflating: dataset/NUMTA/training-e/e12390.png  \n",
            "  inflating: dataset/NUMTA/training-e/e12391.png  \n",
            "  inflating: dataset/NUMTA/training-e/e12392.png  \n",
            "  inflating: dataset/NUMTA/training-e/e12393.png  \n",
            "  inflating: dataset/NUMTA/training-e/e12394.png  \n",
            "  inflating: dataset/NUMTA/training-e/e12395.png  \n",
            "  inflating: dataset/NUMTA/training-e/e12396.png  \n",
            "  inflating: dataset/NUMTA/training-e/e12397.png  \n",
            "  inflating: dataset/NUMTA/training-e/e12398.png  \n",
            "  inflating: dataset/NUMTA/training-e/e12399.png  \n",
            "  inflating: dataset/NUMTA/training-e/e12400.png  \n",
            "  inflating: dataset/NUMTA/training-e/e12401.png  \n",
            "  inflating: dataset/NUMTA/training-e/e12402.png  \n",
            "  inflating: dataset/NUMTA/training-e/e12403.png  \n",
            "  inflating: dataset/NUMTA/training-e/e12404.png  \n",
            "  inflating: dataset/NUMTA/training-e/e12405.png  \n",
            "  inflating: dataset/NUMTA/training-e/e12406.png  \n",
            "  inflating: dataset/NUMTA/training-e/e12407.png  \n",
            "  inflating: dataset/NUMTA/training-e/e12408.png  \n",
            "  inflating: dataset/NUMTA/training-e/e12409.png  \n",
            "  inflating: dataset/NUMTA/training-e/e12410.png  \n",
            "  inflating: dataset/NUMTA/training-e/e12411.png  \n",
            "  inflating: dataset/NUMTA/training-e/e12412.png  \n",
            "  inflating: dataset/NUMTA/training-e/e12413.png  \n",
            "  inflating: dataset/NUMTA/training-e/e12414.png  \n",
            "  inflating: dataset/NUMTA/training-e/e12415.png  \n",
            "  inflating: dataset/NUMTA/training-e/e12416.png  \n",
            "  inflating: dataset/NUMTA/training-e/e12417.png  \n",
            "  inflating: dataset/NUMTA/training-e/e12418.png  \n",
            "  inflating: dataset/NUMTA/training-e/e12419.png  \n",
            "  inflating: dataset/NUMTA/training-e/e12420.png  \n",
            "  inflating: dataset/NUMTA/training-e/e12421.png  \n",
            "  inflating: dataset/NUMTA/training-e/e12422.png  \n",
            "  inflating: dataset/NUMTA/training-e/e12423.png  \n",
            "  inflating: dataset/NUMTA/training-e/e12424.png  \n",
            "  inflating: dataset/NUMTA/training-e/e12425.png  \n",
            "  inflating: dataset/NUMTA/training-e/e12426.png  \n",
            "  inflating: dataset/NUMTA/training-e/e12427.png  \n",
            "  inflating: dataset/NUMTA/training-e/e12428.png  \n",
            "  inflating: dataset/NUMTA/training-e/e12429.png  \n",
            "  inflating: dataset/NUMTA/training-e/e12430.png  \n",
            "  inflating: dataset/NUMTA/training-e/e12431.png  \n",
            "  inflating: dataset/NUMTA/training-e/e12432.png  \n",
            "  inflating: dataset/NUMTA/training-e/e12433.png  \n",
            "  inflating: dataset/NUMTA/training-e/e12434.png  \n",
            "  inflating: dataset/NUMTA/training-e/e12435.png  \n",
            "  inflating: dataset/NUMTA/training-e/e12436.png  \n",
            "  inflating: dataset/NUMTA/training-e/e12437.png  \n",
            "  inflating: dataset/NUMTA/training-e/e12438.png  \n",
            "  inflating: dataset/NUMTA/training-e/e12439.png  \n",
            "  inflating: dataset/NUMTA/training-e/e12440.png  \n",
            "  inflating: dataset/NUMTA/training-e/e12441.png  \n",
            "  inflating: dataset/NUMTA/training-e/e12442.png  \n",
            "  inflating: dataset/NUMTA/training-e/e12443.png  \n",
            "  inflating: dataset/NUMTA/training-e/e12444.png  \n",
            "  inflating: dataset/NUMTA/training-e/e12445.png  \n",
            "  inflating: dataset/NUMTA/training-e/e12446.png  \n",
            "  inflating: dataset/NUMTA/training-e/e12447.png  \n",
            "  inflating: dataset/NUMTA/training-e/e12448.png  \n",
            "  inflating: dataset/NUMTA/training-e/e12449.png  \n",
            "  inflating: dataset/NUMTA/training-e/e12450.png  \n",
            "  inflating: dataset/NUMTA/training-e/e12451.png  \n",
            "  inflating: dataset/NUMTA/training-e/e12452.png  \n",
            "  inflating: dataset/NUMTA/training-e/e12453.png  \n",
            "  inflating: dataset/NUMTA/training-e/e12454.png  \n",
            "  inflating: dataset/NUMTA/training-e/e12455.png  \n",
            "  inflating: dataset/NUMTA/training-e/e12456.png  \n",
            "  inflating: dataset/NUMTA/training-e/e12457.png  \n",
            "  inflating: dataset/NUMTA/training-e/e12458.png  \n",
            "  inflating: dataset/NUMTA/training-e/e12459.png  \n",
            "  inflating: dataset/NUMTA/training-e/e12460.png  \n",
            "  inflating: dataset/NUMTA/training-e/e12461.png  \n",
            "  inflating: dataset/NUMTA/training-e/e12462.png  \n",
            "  inflating: dataset/NUMTA/training-e/e12463.png  \n",
            "  inflating: dataset/NUMTA/training-e/e12464.png  \n",
            "  inflating: dataset/NUMTA/training-e/e12465.png  \n",
            "  inflating: dataset/NUMTA/training-e/e12466.png  \n",
            "  inflating: dataset/NUMTA/training-e/e12467.png  \n",
            "  inflating: dataset/NUMTA/training-e/e12468.png  \n",
            "  inflating: dataset/NUMTA/training-e/e12469.png  \n",
            "  inflating: dataset/NUMTA/training-e/e12470.png  \n",
            "  inflating: dataset/NUMTA/training-e/e12471.png  \n",
            "  inflating: dataset/NUMTA/training-e/e12472.png  \n",
            "  inflating: dataset/NUMTA/training-e/e12473.png  \n",
            "  inflating: dataset/NUMTA/training-e/e12474.png  \n",
            "  inflating: dataset/NUMTA/training-e/e12475.png  \n",
            "  inflating: dataset/NUMTA/training-e/e12476.png  \n",
            "  inflating: dataset/NUMTA/training-e/e12477.png  \n",
            "  inflating: dataset/NUMTA/training-e/e12478.png  \n",
            "  inflating: dataset/NUMTA/training-e/e12479.png  \n",
            "  inflating: dataset/NUMTA/training-e/e12480.png  \n",
            "  inflating: dataset/NUMTA/training-e/e12481.png  \n",
            "  inflating: dataset/NUMTA/training-e/e12482.png  \n",
            "  inflating: dataset/NUMTA/training-e/e12483.png  \n",
            "  inflating: dataset/NUMTA/training-e/e12484.png  \n",
            "  inflating: dataset/NUMTA/training-e/e12485.png  \n",
            "  inflating: dataset/NUMTA/training-e/e12486.png  \n",
            "  inflating: dataset/NUMTA/training-e/e12487.png  \n",
            "  inflating: dataset/NUMTA/training-e/e12488.png  \n",
            "  inflating: dataset/NUMTA/training-e/e12489.png  \n",
            "  inflating: dataset/NUMTA/training-e/e12490.png  \n",
            "  inflating: dataset/NUMTA/training-e/e12491.png  \n",
            "  inflating: dataset/NUMTA/training-e/e12492.png  \n",
            "  inflating: dataset/NUMTA/training-e/e12493.png  \n",
            "  inflating: dataset/NUMTA/training-e/e12494.png  \n",
            "  inflating: dataset/NUMTA/training-e/e12495.png  \n",
            "  inflating: dataset/NUMTA/training-e/e12496.png  \n",
            "  inflating: dataset/NUMTA/training-e/e12497.png  \n",
            "  inflating: dataset/NUMTA/training-e/e12498.png  \n",
            "  inflating: dataset/NUMTA/training-e/e12499.png  \n",
            "  inflating: dataset/NUMTA/training-e/e12500.png  \n",
            "  inflating: dataset/NUMTA/training-e/e12501.png  \n",
            "  inflating: dataset/NUMTA/training-e/e12502.png  \n",
            "  inflating: dataset/NUMTA/training-e/e12503.png  \n",
            "  inflating: dataset/NUMTA/training-e/e12504.png  \n",
            "  inflating: dataset/NUMTA/training-e/e12505.png  \n",
            "  inflating: dataset/NUMTA/training-e/e12506.png  \n",
            "  inflating: dataset/NUMTA/training-e/e12507.png  \n",
            "  inflating: dataset/NUMTA/training-e/e12508.png  \n",
            "  inflating: dataset/NUMTA/training-e/e12509.png  \n",
            "  inflating: dataset/NUMTA/training-e/e12510.png  \n",
            "  inflating: dataset/NUMTA/training-e/e12511.png  \n",
            "  inflating: dataset/NUMTA/training-e/e12512.png  \n",
            "  inflating: dataset/NUMTA/training-e/e12513.png  \n",
            "  inflating: dataset/NUMTA/training-e/e12514.png  \n",
            "  inflating: dataset/NUMTA/training-e/e12515.png  \n",
            "  inflating: dataset/NUMTA/training-e/e12516.png  \n",
            "  inflating: dataset/NUMTA/training-e/e12517.png  \n",
            "  inflating: dataset/NUMTA/training-e/e12518.png  \n",
            "  inflating: dataset/NUMTA/training-e/e12519.png  \n",
            "  inflating: dataset/NUMTA/training-e/e12520.png  \n",
            "  inflating: dataset/NUMTA/training-e/e12521.png  \n",
            "  inflating: dataset/NUMTA/training-e/e12522.png  \n",
            "  inflating: dataset/NUMTA/training-e/e12523.png  \n",
            "  inflating: dataset/NUMTA/training-e/e12524.png  \n",
            "  inflating: dataset/NUMTA/training-e/e12525.png  \n",
            "  inflating: dataset/NUMTA/training-e/e12526.png  \n",
            "  inflating: dataset/NUMTA/training-e/e12527.png  \n",
            "  inflating: dataset/NUMTA/training-e/e12528.png  \n",
            "  inflating: dataset/NUMTA/training-e/e12529.png  \n",
            "  inflating: dataset/NUMTA/training-e/e12530.png  \n",
            "  inflating: dataset/NUMTA/training-e/e12531.png  \n",
            "  inflating: dataset/NUMTA/training-e/e12532.png  \n",
            "  inflating: dataset/NUMTA/training-e/e12533.png  \n",
            "  inflating: dataset/NUMTA/training-e/e12534.png  \n",
            "  inflating: dataset/NUMTA/training-e/e12535.png  \n",
            "  inflating: dataset/NUMTA/training-e/e12536.png  \n",
            "  inflating: dataset/NUMTA/training-e/e12537.png  \n",
            "  inflating: dataset/NUMTA/training-e/e12538.png  \n",
            "  inflating: dataset/NUMTA/training-e/e12539.png  \n",
            "  inflating: dataset/NUMTA/training-e/e12540.png  \n",
            "  inflating: dataset/NUMTA/training-e/e12541.png  \n",
            "  inflating: dataset/NUMTA/training-e/e12542.png  \n",
            "  inflating: dataset/NUMTA/training-e/e12543.png  \n",
            "  inflating: dataset/NUMTA/training-e/e12544.png  \n",
            "  inflating: dataset/NUMTA/training-e/e12545.png  \n",
            "  inflating: dataset/NUMTA/training-e/e12546.png  \n",
            "  inflating: dataset/NUMTA/training-e/e12547.png  \n",
            "  inflating: dataset/NUMTA/training-e/e12548.png  \n",
            "  inflating: dataset/NUMTA/training-e/e12549.png  \n",
            "  inflating: dataset/NUMTA/training-e/e12550.png  \n",
            "  inflating: dataset/NUMTA/training-e/e12551.png  \n",
            "  inflating: dataset/NUMTA/training-e/e12552.png  \n",
            "  inflating: dataset/NUMTA/training-e/e12553.png  \n",
            "  inflating: dataset/NUMTA/training-e/e12554.png  \n",
            "  inflating: dataset/NUMTA/training-e/e12555.png  \n",
            "  inflating: dataset/NUMTA/training-e/e12556.png  \n",
            "  inflating: dataset/NUMTA/training-e/e12557.png  \n",
            "  inflating: dataset/NUMTA/training-e/e12558.png  \n",
            "  inflating: dataset/NUMTA/training-e/e12559.png  \n",
            "  inflating: dataset/NUMTA/training-e/e12560.png  \n",
            "  inflating: dataset/NUMTA/training-e/e12561.png  \n",
            "  inflating: dataset/NUMTA/training-e/e12562.png  \n",
            "  inflating: dataset/NUMTA/training-e/e12563.png  \n",
            "  inflating: dataset/NUMTA/training-e/e12564.png  \n",
            "  inflating: dataset/NUMTA/training-e/e12565.png  \n",
            "  inflating: dataset/NUMTA/training-e/e12566.png  \n",
            "  inflating: dataset/NUMTA/training-e/e12567.png  \n",
            "  inflating: dataset/NUMTA/training-e/e12568.png  \n",
            "  inflating: dataset/NUMTA/training-e/e12569.png  \n",
            "  inflating: dataset/NUMTA/training-e/e12570.png  \n",
            "  inflating: dataset/NUMTA/training-e/e12571.png  \n",
            "  inflating: dataset/NUMTA/training-e/e12572.png  \n",
            "  inflating: dataset/NUMTA/training-e/e12573.png  \n",
            "  inflating: dataset/NUMTA/training-e/e12574.png  \n",
            "  inflating: dataset/NUMTA/training-e/e12575.png  \n",
            "  inflating: dataset/NUMTA/training-e/e12576.png  \n",
            "  inflating: dataset/NUMTA/training-e/e12577.png  \n",
            "  inflating: dataset/NUMTA/training-e/e12578.png  \n",
            "  inflating: dataset/NUMTA/training-e/e12579.png  \n",
            "  inflating: dataset/NUMTA/training-e/e12580.png  \n",
            "  inflating: dataset/NUMTA/training-e/e12581.png  \n",
            "  inflating: dataset/NUMTA/training-e/e12582.png  \n",
            "  inflating: dataset/NUMTA/training-e/e12583.png  \n",
            "  inflating: dataset/NUMTA/training-e/e12584.png  \n",
            "  inflating: dataset/NUMTA/training-e/e12585.png  \n",
            "  inflating: dataset/NUMTA/training-e/e12586.png  \n",
            "  inflating: dataset/NUMTA/training-e/e12587.png  \n",
            "  inflating: dataset/NUMTA/training-e/e12588.png  \n",
            "  inflating: dataset/NUMTA/training-e/e12589.png  \n",
            "  inflating: dataset/NUMTA/training-e/e12590.png  \n",
            "  inflating: dataset/NUMTA/training-e/e12591.png  \n",
            "  inflating: dataset/NUMTA/training-e/e12592.png  \n",
            "  inflating: dataset/NUMTA/training-e/e12593.png  \n",
            "  inflating: dataset/NUMTA/training-e/e12594.png  \n",
            "  inflating: dataset/NUMTA/training-e/e12595.png  \n",
            "  inflating: dataset/NUMTA/training-e/e12596.png  \n",
            "  inflating: dataset/NUMTA/training-e/e12597.png  \n",
            "  inflating: dataset/NUMTA/training-e/e12598.png  \n",
            "  inflating: dataset/NUMTA/training-e/e12599.png  \n",
            "  inflating: dataset/NUMTA/training-e/e12600.png  \n",
            "  inflating: dataset/NUMTA/training-e/e12601.png  \n",
            "  inflating: dataset/NUMTA/training-e/e12602.png  \n",
            "  inflating: dataset/NUMTA/training-e/e12603.png  \n",
            "  inflating: dataset/NUMTA/training-e/e12604.png  \n",
            "  inflating: dataset/NUMTA/training-e/e12605.png  \n",
            "  inflating: dataset/NUMTA/training-e/e12606.png  \n",
            "  inflating: dataset/NUMTA/training-e/e12607.png  \n",
            "  inflating: dataset/NUMTA/training-e/e12608.png  \n",
            "  inflating: dataset/NUMTA/training-e/e12609.png  \n",
            "  inflating: dataset/NUMTA/training-e/e12610.png  \n",
            "  inflating: dataset/NUMTA/training-e/e12611.png  \n",
            "  inflating: dataset/NUMTA/training-e/e12612.png  \n",
            "  inflating: dataset/NUMTA/training-e/e12613.png  \n",
            "  inflating: dataset/NUMTA/training-e/e12614.png  \n",
            "  inflating: dataset/NUMTA/training-e/e12615.png  \n",
            "  inflating: dataset/NUMTA/training-e/e12616.png  \n",
            "  inflating: dataset/NUMTA/training-e/e12617.png  \n",
            "  inflating: dataset/NUMTA/training-e/e12618.png  \n",
            "  inflating: dataset/NUMTA/training-e/e12619.png  \n",
            "  inflating: dataset/NUMTA/training-e/e12620.png  \n",
            "  inflating: dataset/NUMTA/training-e/e12621.png  \n",
            "  inflating: dataset/NUMTA/training-e/e12622.png  \n",
            "  inflating: dataset/NUMTA/training-e/e12623.png  \n",
            "  inflating: dataset/NUMTA/training-e/e12624.png  \n",
            "  inflating: dataset/NUMTA/training-e/e12625.png  \n",
            "  inflating: dataset/NUMTA/training-e/e12626.png  \n",
            "  inflating: dataset/NUMTA/training-e/e12627.png  \n",
            "  inflating: dataset/NUMTA/training-e/e12628.png  \n",
            "  inflating: dataset/NUMTA/training-e/e12629.png  \n",
            "  inflating: dataset/NUMTA/training-e/e12630.png  \n",
            "  inflating: dataset/NUMTA/training-e/e12631.png  \n",
            "  inflating: dataset/NUMTA/training-e/e12632.png  \n",
            "  inflating: dataset/NUMTA/training-e/e12633.png  \n",
            "  inflating: dataset/NUMTA/training-e/e12634.png  \n",
            "  inflating: dataset/NUMTA/training-e/e12635.png  \n",
            "  inflating: dataset/NUMTA/training-e/e12636.png  \n",
            "  inflating: dataset/NUMTA/training-e/e12637.png  \n",
            "  inflating: dataset/NUMTA/training-e/e12638.png  \n",
            "  inflating: dataset/NUMTA/training-e/e12639.png  \n",
            "  inflating: dataset/NUMTA/training-e/e12640.png  \n",
            "  inflating: dataset/NUMTA/training-e/e12641.png  \n",
            "  inflating: dataset/NUMTA/training-e/e12642.png  \n",
            "  inflating: dataset/NUMTA/training-e/e12643.png  \n",
            "  inflating: dataset/NUMTA/training-e/e12644.png  \n",
            "  inflating: dataset/NUMTA/training-e/e12645.png  \n",
            "  inflating: dataset/NUMTA/training-e/e12646.png  \n",
            "  inflating: dataset/NUMTA/training-e/e12647.png  \n",
            "  inflating: dataset/NUMTA/training-e/e12648.png  \n",
            "  inflating: dataset/NUMTA/training-e/e12649.png  \n",
            "  inflating: dataset/NUMTA/training-e/e12650.png  \n",
            "  inflating: dataset/NUMTA/training-e/e12651.png  \n",
            "  inflating: dataset/NUMTA/training-e/e12652.png  \n",
            "  inflating: dataset/NUMTA/training-e/e12653.png  \n",
            "  inflating: dataset/NUMTA/training-e/e12654.png  \n",
            "  inflating: dataset/NUMTA/training-e/e12655.png  \n",
            "  inflating: dataset/NUMTA/training-e/e12656.png  \n",
            "  inflating: dataset/NUMTA/training-e/e12657.png  \n",
            "  inflating: dataset/NUMTA/training-e/e12658.png  \n",
            "  inflating: dataset/NUMTA/training-e/e12659.png  \n",
            "  inflating: dataset/NUMTA/training-e/e12660.png  \n",
            "  inflating: dataset/NUMTA/training-e/e12661.png  \n",
            "  inflating: dataset/NUMTA/training-e/e12662.png  \n",
            "  inflating: dataset/NUMTA/training-e/e12663.png  \n",
            "  inflating: dataset/NUMTA/training-e/e12664.png  \n",
            "  inflating: dataset/NUMTA/training-e/e12665.png  \n",
            "  inflating: dataset/NUMTA/training-e/e12666.png  \n",
            "  inflating: dataset/NUMTA/training-e/e12667.png  \n",
            "  inflating: dataset/NUMTA/training-e/e12668.png  \n",
            "  inflating: dataset/NUMTA/training-e/e12669.png  \n",
            "  inflating: dataset/NUMTA/training-e/e12670.png  \n",
            "  inflating: dataset/NUMTA/training-e/e12671.png  \n",
            "  inflating: dataset/NUMTA/training-e/e12672.png  \n",
            "  inflating: dataset/NUMTA/training-e/e12673.png  \n",
            "  inflating: dataset/NUMTA/training-e/e12674.png  \n",
            "  inflating: dataset/NUMTA/training-e/e12675.png  \n",
            "  inflating: dataset/NUMTA/training-e/e12676.png  \n",
            "  inflating: dataset/NUMTA/training-e/e12677.png  \n",
            "  inflating: dataset/NUMTA/training-e/e12678.png  \n",
            "  inflating: dataset/NUMTA/training-e/e12679.png  \n",
            "  inflating: dataset/NUMTA/training-e/e12680.png  \n",
            "  inflating: dataset/NUMTA/training-e/e12681.png  \n",
            "  inflating: dataset/NUMTA/training-e/e12682.png  \n",
            "  inflating: dataset/NUMTA/training-e/e12683.png  \n",
            "  inflating: dataset/NUMTA/training-e/e12684.png  \n",
            "  inflating: dataset/NUMTA/training-e/e12685.png  \n",
            "  inflating: dataset/NUMTA/training-e/e12686.png  \n",
            "  inflating: dataset/NUMTA/training-e/e12687.png  \n",
            "  inflating: dataset/NUMTA/training-e/e12688.png  \n",
            "  inflating: dataset/NUMTA/training-e/e12689.png  \n",
            "  inflating: dataset/NUMTA/training-e/e12690.png  \n",
            "  inflating: dataset/NUMTA/training-e/e12691.png  \n",
            "  inflating: dataset/NUMTA/training-e/e12692.png  \n",
            "  inflating: dataset/NUMTA/training-e/e12693.png  \n",
            "  inflating: dataset/NUMTA/training-e/e12694.png  \n",
            "  inflating: dataset/NUMTA/training-e/e12695.png  \n",
            "  inflating: dataset/NUMTA/training-e/e12696.png  \n",
            "  inflating: dataset/NUMTA/training-e/e12697.png  \n",
            "  inflating: dataset/NUMTA/training-e/e12698.png  \n",
            "  inflating: dataset/NUMTA/training-e/e12699.png  \n",
            "  inflating: dataset/NUMTA/training-e/e12700.png  \n",
            "  inflating: dataset/NUMTA/training-e/e12701.png  \n",
            "  inflating: dataset/NUMTA/training-e/e12702.png  \n",
            "  inflating: dataset/NUMTA/training-e/e12703.png  \n",
            "  inflating: dataset/NUMTA/training-e/e12704.png  \n",
            "  inflating: dataset/NUMTA/training-e/e12705.png  \n",
            "  inflating: dataset/NUMTA/training-e/e12706.png  \n",
            "  inflating: dataset/NUMTA/training-e/e12707.png  \n",
            "  inflating: dataset/NUMTA/training-e/e12708.png  \n",
            "  inflating: dataset/NUMTA/training-e/e12709.png  \n",
            "  inflating: dataset/NUMTA/training-e/e12710.png  \n",
            "  inflating: dataset/NUMTA/training-e/e12711.png  \n",
            "  inflating: dataset/NUMTA/training-e/e12712.png  \n",
            "  inflating: dataset/NUMTA/training-e/e12713.png  \n",
            "  inflating: dataset/NUMTA/training-e/e12714.png  \n",
            "  inflating: dataset/NUMTA/training-e/e12715.png  \n",
            "  inflating: dataset/NUMTA/training-e/e12716.png  \n",
            "  inflating: dataset/NUMTA/training-e/e12717.png  \n",
            "  inflating: dataset/NUMTA/training-e/e12718.png  \n",
            "  inflating: dataset/NUMTA/training-e/e12719.png  \n",
            "  inflating: dataset/NUMTA/training-e/e12720.png  \n",
            "  inflating: dataset/NUMTA/training-e/e12721.png  \n",
            "  inflating: dataset/NUMTA/training-e/e12722.png  \n",
            "  inflating: dataset/NUMTA/training-e/e12723.png  \n",
            "  inflating: dataset/NUMTA/training-e/e12724.png  \n",
            "  inflating: dataset/NUMTA/training-e/e12725.png  \n",
            "  inflating: dataset/NUMTA/training-e/e12726.png  \n",
            "  inflating: dataset/NUMTA/training-e/e12727.png  \n",
            "  inflating: dataset/NUMTA/training-e/e12728.png  \n",
            "  inflating: dataset/NUMTA/training-e/e12729.png  \n",
            "  inflating: dataset/NUMTA/training-e/e12730.png  \n",
            "  inflating: dataset/NUMTA/training-e/e12731.png  \n",
            "  inflating: dataset/NUMTA/training-e/e12732.png  \n",
            "  inflating: dataset/NUMTA/training-e/e12733.png  \n",
            "  inflating: dataset/NUMTA/training-e/e12734.png  \n",
            "  inflating: dataset/NUMTA/training-e/e12735.png  \n",
            "  inflating: dataset/NUMTA/training-e/e12736.png  \n",
            "  inflating: dataset/NUMTA/training-e/e12737.png  \n",
            "  inflating: dataset/NUMTA/training-e/e12738.png  \n",
            "  inflating: dataset/NUMTA/training-e/e12739.png  \n",
            "  inflating: dataset/NUMTA/training-e/e12740.png  \n",
            "  inflating: dataset/NUMTA/training-e/e12741.png  \n",
            "  inflating: dataset/NUMTA/training-e/e12742.png  \n",
            "  inflating: dataset/NUMTA/training-e/e12743.png  \n",
            "  inflating: dataset/NUMTA/training-e/e12744.png  \n",
            "  inflating: dataset/NUMTA/training-e/e12745.png  \n",
            "  inflating: dataset/NUMTA/training-e/e12746.png  \n",
            "  inflating: dataset/NUMTA/training-e/e12747.png  \n",
            "  inflating: dataset/NUMTA/training-e/e12748.png  \n",
            "  inflating: dataset/NUMTA/training-e/e12749.png  \n",
            "  inflating: dataset/NUMTA/training-e/e12750.png  \n",
            "  inflating: dataset/NUMTA/training-e/e12751.png  \n",
            "  inflating: dataset/NUMTA/training-e/e12752.png  \n",
            "  inflating: dataset/NUMTA/training-e/e12753.png  \n",
            "  inflating: dataset/NUMTA/training-e/e12754.png  \n",
            "  inflating: dataset/NUMTA/training-e/e12755.png  \n",
            "  inflating: dataset/NUMTA/training-e/e12756.png  \n",
            "  inflating: dataset/NUMTA/training-e/e12757.png  \n",
            "  inflating: dataset/NUMTA/training-e/e12758.png  \n",
            "  inflating: dataset/NUMTA/training-e/e12759.png  \n",
            "  inflating: dataset/NUMTA/training-e/e12760.png  \n",
            "  inflating: dataset/NUMTA/training-e/e12761.png  \n",
            "  inflating: dataset/NUMTA/training-e/e12762.png  \n",
            "  inflating: dataset/NUMTA/training-e/e12763.png  \n",
            "  inflating: dataset/NUMTA/training-e/e12764.png  \n",
            "  inflating: dataset/NUMTA/training-e/e12765.png  \n",
            "  inflating: dataset/NUMTA/training-e/e12766.png  \n",
            "  inflating: dataset/NUMTA/training-e/e12767.png  \n",
            "  inflating: dataset/NUMTA/training-e/e12768.png  \n",
            "  inflating: dataset/NUMTA/training-e/e12769.png  \n",
            "  inflating: dataset/NUMTA/training-e/e12770.png  \n",
            "  inflating: dataset/NUMTA/training-e/e12771.png  \n",
            "  inflating: dataset/NUMTA/training-e/e12772.png  \n",
            "  inflating: dataset/NUMTA/training-e/e12773.png  \n",
            "  inflating: dataset/NUMTA/training-e/e12774.png  \n",
            "  inflating: dataset/NUMTA/training-e/e12775.png  \n",
            "  inflating: dataset/NUMTA/training-e/e12776.png  \n",
            "  inflating: dataset/NUMTA/training-e/e12777.png  \n",
            "  inflating: dataset/NUMTA/training-e/e12778.png  \n",
            "  inflating: dataset/NUMTA/training-e/e12779.png  \n",
            "  inflating: dataset/NUMTA/training-e/e12780.png  \n",
            "  inflating: dataset/NUMTA/training-e/e12781.png  \n",
            "  inflating: dataset/NUMTA/training-e/e12782.png  \n",
            "  inflating: dataset/NUMTA/training-e/e12783.png  \n",
            "  inflating: dataset/NUMTA/training-e/e12784.png  \n",
            "  inflating: dataset/NUMTA/training-e/e12785.png  \n",
            "  inflating: dataset/NUMTA/training-e/e12786.png  \n",
            "  inflating: dataset/NUMTA/training-e/e12787.png  \n",
            "  inflating: dataset/NUMTA/training-e/e12788.png  \n",
            "  inflating: dataset/NUMTA/training-e/e12789.png  \n",
            "  inflating: dataset/NUMTA/training-e/e12790.png  \n",
            "  inflating: dataset/NUMTA/training-e/e12791.png  \n",
            "  inflating: dataset/NUMTA/training-e/e12792.png  \n",
            "  inflating: dataset/NUMTA/training-e/e12793.png  \n",
            "  inflating: dataset/NUMTA/training-e/e12794.png  \n",
            "  inflating: dataset/NUMTA/training-e/e12795.png  \n",
            "  inflating: dataset/NUMTA/training-e/e12796.png  \n",
            "  inflating: dataset/NUMTA/training-e/e12797.png  \n",
            "  inflating: dataset/NUMTA/training-e/e12798.png  \n",
            "  inflating: dataset/NUMTA/training-e/e12799.png  \n",
            "  inflating: dataset/NUMTA/training-e/e12800.png  \n",
            "  inflating: dataset/NUMTA/training-e/e12801.png  \n",
            "  inflating: dataset/NUMTA/training-e/e12802.png  \n",
            "  inflating: dataset/NUMTA/training-e/e12803.png  \n",
            "  inflating: dataset/NUMTA/training-e/e12804.png  \n",
            "  inflating: dataset/NUMTA/training-e/e12805.png  \n",
            "  inflating: dataset/NUMTA/training-e/e12806.png  \n",
            "  inflating: dataset/NUMTA/training-e/e12807.png  \n",
            "  inflating: dataset/NUMTA/training-e/e12808.png  \n",
            "  inflating: dataset/NUMTA/training-e/e12809.png  \n",
            "  inflating: dataset/NUMTA/training-e/e12810.png  \n",
            "  inflating: dataset/NUMTA/training-e/e12811.png  \n",
            "  inflating: dataset/NUMTA/training-e/e12812.png  \n",
            "  inflating: dataset/NUMTA/training-e/e12813.png  \n",
            "  inflating: dataset/NUMTA/training-e/e12814.png  \n",
            "  inflating: dataset/NUMTA/training-e/e12815.png  \n",
            "  inflating: dataset/NUMTA/training-e/e12816.png  \n",
            "  inflating: dataset/NUMTA/training-e/e12817.png  \n",
            "  inflating: dataset/NUMTA/training-e/e12818.png  \n",
            "  inflating: dataset/NUMTA/training-e/e12819.png  \n",
            "  inflating: dataset/NUMTA/training-e/e12820.png  \n",
            "  inflating: dataset/NUMTA/training-e/e12821.png  \n",
            "  inflating: dataset/NUMTA/training-e/e12822.png  \n",
            "  inflating: dataset/NUMTA/training-e/e12823.png  \n",
            "  inflating: dataset/NUMTA/training-e/e12824.png  \n",
            "  inflating: dataset/NUMTA/training-e/e12825.png  \n",
            "  inflating: dataset/NUMTA/training-e/e12826.png  \n",
            "  inflating: dataset/NUMTA/training-e/e12827.png  \n",
            "  inflating: dataset/NUMTA/training-e/e12828.png  \n",
            "  inflating: dataset/NUMTA/training-e/e12829.png  \n",
            "  inflating: dataset/NUMTA/training-e/e12830.png  \n",
            "  inflating: dataset/NUMTA/training-e/e12831.png  \n",
            "  inflating: dataset/NUMTA/training-e/e12832.png  \n",
            "  inflating: dataset/NUMTA/training-e/e12833.png  \n",
            "  inflating: dataset/NUMTA/training-e/e12834.png  \n",
            "  inflating: dataset/NUMTA/training-e/e12835.png  \n",
            "  inflating: dataset/NUMTA/training-e/e12836.png  \n",
            "  inflating: dataset/NUMTA/training-e/e12837.png  \n",
            "  inflating: dataset/NUMTA/training-e/e12838.png  \n",
            "  inflating: dataset/NUMTA/training-e/e12839.png  \n",
            "  inflating: dataset/NUMTA/training-e/e12840.png  \n",
            "  inflating: dataset/NUMTA/training-e/e12841.png  \n",
            "  inflating: dataset/NUMTA/training-e/e12842.png  \n",
            "  inflating: dataset/NUMTA/training-e/e12843.png  \n",
            "  inflating: dataset/NUMTA/training-e/e12844.png  \n",
            "  inflating: dataset/NUMTA/training-e/e12845.png  \n",
            "  inflating: dataset/NUMTA/training-e/e12846.png  \n",
            "  inflating: dataset/NUMTA/training-e/e12847.png  \n",
            "  inflating: dataset/NUMTA/training-e/e12848.png  \n",
            "  inflating: dataset/NUMTA/training-e/e12849.png  \n",
            "  inflating: dataset/NUMTA/training-e/e12850.png  \n",
            "  inflating: dataset/NUMTA/training-e/e12851.png  \n",
            "  inflating: dataset/NUMTA/training-e/e12852.png  \n",
            "  inflating: dataset/NUMTA/training-e/e12853.png  \n",
            "  inflating: dataset/NUMTA/training-e/e12854.png  \n",
            "  inflating: dataset/NUMTA/training-e/e12855.png  \n",
            "  inflating: dataset/NUMTA/training-e/e12856.png  \n",
            "  inflating: dataset/NUMTA/training-e/e12857.png  \n",
            "  inflating: dataset/NUMTA/training-e/e12858.png  \n",
            "  inflating: dataset/NUMTA/training-e/e12859.png  \n",
            "  inflating: dataset/NUMTA/training-e/e12860.png  \n",
            "  inflating: dataset/NUMTA/training-e/e12861.png  \n",
            "  inflating: dataset/NUMTA/training-e/e12862.png  \n",
            "  inflating: dataset/NUMTA/training-e/e12863.png  \n",
            "  inflating: dataset/NUMTA/training-e/e12864.png  \n",
            "  inflating: dataset/NUMTA/training-e/e12865.png  \n",
            "  inflating: dataset/NUMTA/training-e/e12866.png  \n",
            "  inflating: dataset/NUMTA/training-e/e12867.png  \n",
            "  inflating: dataset/NUMTA/training-e/e12868.png  \n",
            "  inflating: dataset/NUMTA/training-e/e12869.png  \n",
            "  inflating: dataset/NUMTA/training-e/e12870.png  \n",
            "  inflating: dataset/NUMTA/training-e/e12871.png  \n",
            "  inflating: dataset/NUMTA/training-e/e12872.png  \n",
            "  inflating: dataset/NUMTA/training-e/e12873.png  \n",
            "  inflating: dataset/NUMTA/training-e/e12874.png  \n",
            "  inflating: dataset/NUMTA/training-e/e12875.png  \n",
            "  inflating: dataset/NUMTA/training-e/e12876.png  \n",
            "  inflating: dataset/NUMTA/training-e/e12877.png  \n",
            "  inflating: dataset/NUMTA/training-e/e12878.png  \n",
            "  inflating: dataset/NUMTA/training-e/e12879.png  \n",
            "  inflating: dataset/NUMTA/training-e/e12880.png  \n",
            "  inflating: dataset/NUMTA/training-e/e12881.png  \n",
            "  inflating: dataset/NUMTA/training-e/e12882.png  \n",
            "  inflating: dataset/NUMTA/training-e/e12883.png  \n",
            "  inflating: dataset/NUMTA/training-e/e12884.png  \n",
            "  inflating: dataset/NUMTA/training-e/e12885.png  \n",
            "  inflating: dataset/NUMTA/training-e/e12886.png  \n",
            "  inflating: dataset/NUMTA/training-e/e12887.png  \n",
            "  inflating: dataset/NUMTA/training-e/e12888.png  \n",
            "  inflating: dataset/NUMTA/training-e/e12889.png  \n",
            "  inflating: dataset/NUMTA/training-e/e12890.png  \n",
            "  inflating: dataset/NUMTA/training-e/e12891.png  \n",
            "  inflating: dataset/NUMTA/training-e/e12892.png  \n",
            "  inflating: dataset/NUMTA/training-e/e12893.png  \n",
            "  inflating: dataset/NUMTA/training-e/e12894.png  \n",
            "  inflating: dataset/NUMTA/training-e/e12895.png  \n",
            "  inflating: dataset/NUMTA/training-e/e12896.png  \n",
            "  inflating: dataset/NUMTA/training-e/e12897.png  \n",
            "  inflating: dataset/NUMTA/training-e/e12898.png  \n",
            "  inflating: dataset/NUMTA/training-e/e12899.png  \n",
            "  inflating: dataset/NUMTA/training-e/e12900.png  \n",
            "  inflating: dataset/NUMTA/training-e/e12901.png  \n",
            "  inflating: dataset/NUMTA/training-e/e12902.png  \n",
            "  inflating: dataset/NUMTA/training-e/e12903.png  \n",
            "  inflating: dataset/NUMTA/training-e/e12904.png  \n",
            "  inflating: dataset/NUMTA/training-e/e12905.png  \n",
            "  inflating: dataset/NUMTA/training-e/e12906.png  \n",
            "  inflating: dataset/NUMTA/training-e/e12907.png  \n",
            "  inflating: dataset/NUMTA/training-e/e12908.png  \n",
            "  inflating: dataset/NUMTA/training-e/e12909.png  \n",
            "  inflating: dataset/NUMTA/training-e/e12910.png  \n",
            "  inflating: dataset/NUMTA/training-e/e12911.png  \n",
            "  inflating: dataset/NUMTA/training-e/e12912.png  \n",
            "  inflating: dataset/NUMTA/training-e/e12913.png  \n",
            "  inflating: dataset/NUMTA/training-e/e12914.png  \n",
            "  inflating: dataset/NUMTA/training-e/e12915.png  \n",
            "  inflating: dataset/NUMTA/training-e/e12916.png  \n",
            "  inflating: dataset/NUMTA/training-e/e12917.png  \n",
            "  inflating: dataset/NUMTA/training-e/e12918.png  \n",
            "  inflating: dataset/NUMTA/training-e/e12919.png  \n",
            "  inflating: dataset/NUMTA/training-e/e12920.png  \n",
            "  inflating: dataset/NUMTA/training-e/e12921.png  \n",
            "  inflating: dataset/NUMTA/training-e/e12922.png  \n",
            "  inflating: dataset/NUMTA/training-e/e12923.png  \n",
            "  inflating: dataset/NUMTA/training-e/e12924.png  \n",
            "  inflating: dataset/NUMTA/training-e/e12925.png  \n",
            "  inflating: dataset/NUMTA/training-e/e12926.png  \n",
            "  inflating: dataset/NUMTA/training-e/e12927.png  \n",
            "  inflating: dataset/NUMTA/training-e/e12928.png  \n",
            "  inflating: dataset/NUMTA/training-e/e12929.png  \n",
            "  inflating: dataset/NUMTA/training-e/e12930.png  \n",
            "  inflating: dataset/NUMTA/training-e/e12931.png  \n",
            "  inflating: dataset/NUMTA/training-e/e12932.png  \n",
            "  inflating: dataset/NUMTA/training-e/e12933.png  \n",
            "  inflating: dataset/NUMTA/training-e/e12934.png  \n",
            "  inflating: dataset/NUMTA/training-e/e12935.png  \n",
            "  inflating: dataset/NUMTA/training-e/e12936.png  \n",
            "  inflating: dataset/NUMTA/training-e/e12937.png  \n",
            "  inflating: dataset/NUMTA/training-e/e12938.png  \n",
            "  inflating: dataset/NUMTA/training-e/e12939.png  \n",
            "  inflating: dataset/NUMTA/training-e/e12940.png  \n",
            "  inflating: dataset/NUMTA/training-e/e12941.png  \n",
            "  inflating: dataset/NUMTA/training-e/e12942.png  \n",
            "  inflating: dataset/NUMTA/training-e/e12943.png  \n",
            "  inflating: dataset/NUMTA/training-e/e12944.png  \n",
            "  inflating: dataset/NUMTA/training-e/e12945.png  \n",
            "  inflating: dataset/NUMTA/training-e/e12946.png  \n",
            "  inflating: dataset/NUMTA/training-e/e12947.png  \n",
            "  inflating: dataset/NUMTA/training-e/e12948.png  \n",
            "  inflating: dataset/NUMTA/training-e/e12949.png  \n",
            "  inflating: dataset/NUMTA/training-e/e12950.png  \n",
            "  inflating: dataset/NUMTA/training-e/e12951.png  \n",
            "  inflating: dataset/NUMTA/training-e/e12952.png  \n",
            "  inflating: dataset/NUMTA/training-e/e12953.png  \n",
            "  inflating: dataset/NUMTA/training-e/e12954.png  \n",
            "  inflating: dataset/NUMTA/training-e/e12955.png  \n",
            "  inflating: dataset/NUMTA/training-e/e12956.png  \n",
            "  inflating: dataset/NUMTA/training-e/e12957.png  \n",
            "  inflating: dataset/NUMTA/training-e/e12958.png  \n",
            "  inflating: dataset/NUMTA/training-e/e12959.png  \n",
            "  inflating: dataset/NUMTA/training-e/e12960.png  \n",
            "  inflating: dataset/NUMTA/training-e/e12961.png  \n",
            "  inflating: dataset/NUMTA/training-e/e12962.png  \n",
            "  inflating: dataset/NUMTA/training-e/e12963.png  \n",
            "  inflating: dataset/NUMTA/training-e/e12964.png  \n",
            "  inflating: dataset/NUMTA/training-e/e12965.png  \n",
            "  inflating: dataset/NUMTA/training-e/e12966.png  \n",
            "  inflating: dataset/NUMTA/training-e/e12967.png  \n",
            "  inflating: dataset/NUMTA/training-e/e12968.png  \n",
            "  inflating: dataset/NUMTA/training-e/e12969.png  \n",
            "  inflating: dataset/NUMTA/training-e/e12970.png  \n",
            "  inflating: dataset/NUMTA/training-e/e12971.png  \n",
            "  inflating: dataset/NUMTA/training-e/e12972.png  \n",
            "  inflating: dataset/NUMTA/training-e/e12973.png  \n",
            "  inflating: dataset/NUMTA/training-e/e12974.png  \n",
            "  inflating: dataset/NUMTA/training-e/e12975.png  \n",
            "  inflating: dataset/NUMTA/training-e/e12976.png  \n",
            "  inflating: dataset/NUMTA/training-e/e12977.png  \n",
            "  inflating: dataset/NUMTA/training-e/e12978.png  \n",
            "  inflating: dataset/NUMTA/training-e/e12979.png  \n",
            "  inflating: dataset/NUMTA/training-e/e12980.png  \n",
            "  inflating: dataset/NUMTA/training-e/e12981.png  \n",
            "  inflating: dataset/NUMTA/training-e/e12982.png  \n",
            "  inflating: dataset/NUMTA/training-e/e12983.png  \n",
            "  inflating: dataset/NUMTA/training-e/e12984.png  \n",
            "  inflating: dataset/NUMTA/training-e/e12985.png  \n",
            "  inflating: dataset/NUMTA/training-e/e12986.png  \n",
            "  inflating: dataset/NUMTA/training-e/e12987.png  \n",
            "  inflating: dataset/NUMTA/training-e/e12988.png  \n",
            "  inflating: dataset/NUMTA/training-e/e12989.png  \n",
            "  inflating: dataset/NUMTA/training-e/e12990.png  \n",
            "  inflating: dataset/NUMTA/training-e/e12991.png  \n",
            "  inflating: dataset/NUMTA/training-e/e12992.png  \n",
            "  inflating: dataset/NUMTA/training-e/e12993.png  \n",
            "  inflating: dataset/NUMTA/training-e/e12994.png  \n",
            "  inflating: dataset/NUMTA/training-e/e12995.png  \n",
            "  inflating: dataset/NUMTA/training-e/e12996.png  \n",
            "  inflating: dataset/NUMTA/training-e/e12997.png  \n",
            "  inflating: dataset/NUMTA/training-e/e12998.png  \n",
            "  inflating: dataset/NUMTA/training-e/e12999.png  \n",
            "  inflating: dataset/NUMTA/training-e/e13000.png  \n",
            "  inflating: dataset/NUMTA/training-e/e13001.png  \n",
            "  inflating: dataset/NUMTA/training-e/e13002.png  \n",
            "  inflating: dataset/NUMTA/training-e/e13003.png  \n",
            "  inflating: dataset/NUMTA/training-e/e13004.png  \n",
            "  inflating: dataset/NUMTA/training-e/e13005.png  \n",
            "  inflating: dataset/NUMTA/training-e/e13006.png  \n",
            "  inflating: dataset/NUMTA/training-e/e13007.png  \n",
            "  inflating: dataset/NUMTA/training-e/e13008.png  \n",
            "  inflating: dataset/NUMTA/training-e/e13009.png  \n",
            "  inflating: dataset/NUMTA/training-e/e13010.png  \n",
            "  inflating: dataset/NUMTA/training-e/e13011.png  \n",
            "  inflating: dataset/NUMTA/training-e/e13012.png  \n",
            "  inflating: dataset/NUMTA/training-e/e13013.png  \n",
            "  inflating: dataset/NUMTA/training-e/e13014.png  \n",
            "  inflating: dataset/NUMTA/training-e/e13015.png  \n",
            "  inflating: dataset/NUMTA/training-e/e13016.png  \n",
            "  inflating: dataset/NUMTA/training-e/e13017.png  \n",
            "  inflating: dataset/NUMTA/training-e/e13018.png  \n",
            "  inflating: dataset/NUMTA/training-e/e13019.png  \n",
            "  inflating: dataset/NUMTA/training-e/e13020.png  \n",
            "  inflating: dataset/NUMTA/training-e/e13021.png  \n",
            "  inflating: dataset/NUMTA/training-e/e13022.png  \n",
            "  inflating: dataset/NUMTA/training-e/e13023.png  \n",
            "  inflating: dataset/NUMTA/training-e/e13024.png  \n",
            "  inflating: dataset/NUMTA/training-e/e13025.png  \n",
            "  inflating: dataset/NUMTA/training-e/e13026.png  \n",
            "  inflating: dataset/NUMTA/training-e/e13027.png  \n",
            "  inflating: dataset/NUMTA/training-e/e13028.png  \n",
            "  inflating: dataset/NUMTA/training-e/e13029.png  \n",
            "  inflating: dataset/NUMTA/training-e/e13030.png  \n",
            "  inflating: dataset/NUMTA/training-e/e13031.png  \n",
            "  inflating: dataset/NUMTA/training-e/e13032.png  \n",
            "  inflating: dataset/NUMTA/training-e/e13033.png  \n",
            "  inflating: dataset/NUMTA/training-e/e13034.png  \n",
            "  inflating: dataset/NUMTA/training-e/e13035.png  \n",
            "  inflating: dataset/NUMTA/training-e/e13036.png  \n",
            "  inflating: dataset/NUMTA/training-e/e13037.png  \n",
            "  inflating: dataset/NUMTA/training-e/e13038.png  \n",
            "  inflating: dataset/NUMTA/training-e/e13039.png  \n",
            "  inflating: dataset/NUMTA/training-e/e13040.png  \n",
            "  inflating: dataset/NUMTA/training-e/e13041.png  \n",
            "  inflating: dataset/NUMTA/training-e/e13042.png  \n",
            "  inflating: dataset/NUMTA/training-e/e13043.png  \n",
            "  inflating: dataset/NUMTA/training-e/e13044.png  \n",
            "  inflating: dataset/NUMTA/training-e/e13045.png  \n",
            "  inflating: dataset/NUMTA/training-e/e13046.png  \n",
            "  inflating: dataset/NUMTA/training-e/e13047.png  \n",
            "  inflating: dataset/NUMTA/training-e/e13048.png  \n",
            "  inflating: dataset/NUMTA/training-e/e13049.png  \n",
            "  inflating: dataset/NUMTA/training-e/e13050.png  \n",
            "  inflating: dataset/NUMTA/training-e/e13051.png  \n",
            "  inflating: dataset/NUMTA/training-e/e13052.png  \n",
            "  inflating: dataset/NUMTA/training-e/e13053.png  \n",
            "  inflating: dataset/NUMTA/training-e/e13054.png  \n",
            "  inflating: dataset/NUMTA/training-e/e13055.png  \n",
            "  inflating: dataset/NUMTA/training-e/e13056.png  \n",
            "  inflating: dataset/NUMTA/training-e/e13057.png  \n",
            "  inflating: dataset/NUMTA/training-e/e13058.png  \n",
            "  inflating: dataset/NUMTA/training-e/e13059.png  \n",
            "  inflating: dataset/NUMTA/training-e/e13060.png  \n",
            "  inflating: dataset/NUMTA/training-e/e13061.png  \n",
            "  inflating: dataset/NUMTA/training-e/e13062.png  \n",
            "  inflating: dataset/NUMTA/training-e/e13063.png  \n",
            "  inflating: dataset/NUMTA/training-e/e13064.png  \n",
            "  inflating: dataset/NUMTA/training-e/e13065.png  \n",
            "  inflating: dataset/NUMTA/training-e/e13066.png  \n",
            "  inflating: dataset/NUMTA/training-e/e13067.png  \n",
            "  inflating: dataset/NUMTA/training-e/e13068.png  \n",
            "  inflating: dataset/NUMTA/training-e/e13069.png  \n",
            "  inflating: dataset/NUMTA/training-e/e13070.png  \n",
            "  inflating: dataset/NUMTA/training-e/e13071.png  \n",
            "  inflating: dataset/NUMTA/training-e/e13072.png  \n",
            "  inflating: dataset/NUMTA/training-e/e13073.png  \n",
            "  inflating: dataset/NUMTA/training-e/e13074.png  \n",
            "  inflating: dataset/NUMTA/training-e/e13075.png  \n",
            "  inflating: dataset/NUMTA/training-e/e13076.png  \n",
            "  inflating: dataset/NUMTA/training-e/e13077.png  \n",
            "  inflating: dataset/NUMTA/training-e/e13078.png  \n",
            "  inflating: dataset/NUMTA/training-e/e13079.png  \n",
            "  inflating: dataset/NUMTA/training-e/e13080.png  \n",
            "  inflating: dataset/NUMTA/training-e/e13081.png  \n",
            "  inflating: dataset/NUMTA/training-e/e13082.png  \n",
            "  inflating: dataset/NUMTA/training-e/e13083.png  \n",
            "  inflating: dataset/NUMTA/training-e/e13084.png  \n",
            "  inflating: dataset/NUMTA/training-e/e13085.png  \n",
            "  inflating: dataset/NUMTA/training-e/e13086.png  \n",
            "  inflating: dataset/NUMTA/training-e/e13087.png  \n",
            "  inflating: dataset/NUMTA/training-e/e13088.png  \n",
            "  inflating: dataset/NUMTA/training-e/e13089.png  \n",
            "  inflating: dataset/NUMTA/training-e/e13090.png  \n",
            "  inflating: dataset/NUMTA/training-e/e13091.png  \n",
            "  inflating: dataset/NUMTA/training-e/e13092.png  \n",
            "  inflating: dataset/NUMTA/training-e/e13093.png  \n",
            "  inflating: dataset/NUMTA/training-e/e13094.png  \n",
            "  inflating: dataset/NUMTA/training-e/e13095.png  \n",
            "  inflating: dataset/NUMTA/training-e/e13096.png  \n",
            "  inflating: dataset/NUMTA/training-e/e13097.png  \n",
            "  inflating: dataset/NUMTA/training-e/e13098.png  \n",
            "  inflating: dataset/NUMTA/training-e/e13099.png  \n",
            "  inflating: dataset/NUMTA/training-e/e13100.png  \n",
            "  inflating: dataset/NUMTA/training-e/e13101.png  \n",
            "  inflating: dataset/NUMTA/training-e/e13102.png  \n",
            "  inflating: dataset/NUMTA/training-e/e13103.png  \n",
            "  inflating: dataset/NUMTA/training-e/e13104.png  \n",
            "  inflating: dataset/NUMTA/training-e/e13105.png  \n",
            "  inflating: dataset/NUMTA/training-e/e13106.png  \n",
            "  inflating: dataset/NUMTA/training-e/e13107.png  \n",
            "  inflating: dataset/NUMTA/training-e/e13108.png  \n",
            "  inflating: dataset/NUMTA/training-e/e13109.png  \n",
            "  inflating: dataset/NUMTA/training-e/e13110.png  \n",
            "  inflating: dataset/NUMTA/training-e/e13111.png  \n",
            "  inflating: dataset/NUMTA/training-e/e13112.png  \n",
            "  inflating: dataset/NUMTA/training-e/e13113.png  \n",
            "  inflating: dataset/NUMTA/training-e/e13114.png  \n",
            "  inflating: dataset/NUMTA/training-e/e13115.png  \n",
            "  inflating: dataset/NUMTA/training-e/e13116.png  \n",
            "  inflating: dataset/NUMTA/training-e/e13117.png  \n",
            "  inflating: dataset/NUMTA/training-e/e13118.png  \n",
            "  inflating: dataset/NUMTA/training-e/e13119.png  \n",
            "  inflating: dataset/NUMTA/training-e/e13120.png  \n",
            "  inflating: dataset/NUMTA/training-e/e13121.png  \n",
            "  inflating: dataset/NUMTA/training-e/e13122.png  \n",
            "  inflating: dataset/NUMTA/training-e/e13123.png  \n",
            "  inflating: dataset/NUMTA/training-e/e13124.png  \n",
            "  inflating: dataset/NUMTA/training-e/e13125.png  \n",
            "  inflating: dataset/NUMTA/training-e/e13126.png  \n",
            "  inflating: dataset/NUMTA/training-e/e13127.png  \n",
            "  inflating: dataset/NUMTA/training-e/e13128.png  \n",
            "  inflating: dataset/NUMTA/training-e/e13129.png  \n",
            "  inflating: dataset/NUMTA/training-e/e13130.png  \n",
            "  inflating: dataset/NUMTA/training-e/e13131.png  \n",
            "  inflating: dataset/NUMTA/training-e/e13132.png  \n",
            "  inflating: dataset/NUMTA/training-e/e13133.png  \n",
            "  inflating: dataset/NUMTA/training-e/e13134.png  \n",
            "  inflating: dataset/NUMTA/training-e/e13135.png  \n",
            "  inflating: dataset/NUMTA/training-e/e13136.png  \n",
            "  inflating: dataset/NUMTA/training-e/e13137.png  \n",
            "  inflating: dataset/NUMTA/training-e/e13138.png  \n",
            "  inflating: dataset/NUMTA/training-e/e13139.png  \n",
            "  inflating: dataset/NUMTA/training-e/e13140.png  \n",
            "  inflating: dataset/NUMTA/training-e/e13141.png  \n",
            "  inflating: dataset/NUMTA/training-e/e13142.png  \n",
            "  inflating: dataset/NUMTA/training-e/e13143.png  \n",
            "  inflating: dataset/NUMTA/training-e/e13144.png  \n",
            "  inflating: dataset/NUMTA/training-e/e13145.png  \n",
            "  inflating: dataset/NUMTA/training-e/e13146.png  \n",
            "  inflating: dataset/NUMTA/training-e/e13147.png  \n",
            "  inflating: dataset/NUMTA/training-e/e13148.png  \n",
            "  inflating: dataset/NUMTA/training-e/e13149.png  \n",
            "  inflating: dataset/NUMTA/training-e/e13150.png  \n",
            "  inflating: dataset/NUMTA/training-e/e13151.png  \n",
            "  inflating: dataset/NUMTA/training-e/e13152.png  \n",
            "  inflating: dataset/NUMTA/training-e/e13153.png  \n",
            "  inflating: dataset/NUMTA/training-e/e13154.png  \n",
            "  inflating: dataset/NUMTA/training-e/e13155.png  \n",
            "  inflating: dataset/NUMTA/training-e/e13156.png  \n",
            "  inflating: dataset/NUMTA/training-e/e13157.png  \n",
            "  inflating: dataset/NUMTA/training-e/e13158.png  \n",
            "  inflating: dataset/NUMTA/training-e/e13159.png  \n",
            "  inflating: dataset/NUMTA/training-e/e13160.png  \n",
            "  inflating: dataset/NUMTA/training-e/e13161.png  \n",
            "  inflating: dataset/NUMTA/training-e/e13162.png  \n",
            "  inflating: dataset/NUMTA/training-e/e13163.png  \n",
            "  inflating: dataset/NUMTA/training-e/e13164.png  \n",
            "  inflating: dataset/NUMTA/training-e/e13165.png  \n",
            "  inflating: dataset/NUMTA/training-e/e13166.png  \n",
            "  inflating: dataset/NUMTA/training-e/e13167.png  \n",
            "  inflating: dataset/NUMTA/training-e/e13168.png  \n",
            "  inflating: dataset/NUMTA/training-e/e13169.png  \n",
            "  inflating: dataset/NUMTA/training-e/e13170.png  \n",
            "  inflating: dataset/NUMTA/training-e/e13171.png  \n",
            "  inflating: dataset/NUMTA/training-e/e13172.png  \n",
            "  inflating: dataset/NUMTA/training-e/e13173.png  \n",
            "  inflating: dataset/NUMTA/training-e/e13174.png  \n",
            "  inflating: dataset/NUMTA/training-e/e13175.png  \n",
            "  inflating: dataset/NUMTA/training-e/e13176.png  \n",
            "  inflating: dataset/NUMTA/training-e/e13177.png  \n",
            "  inflating: dataset/NUMTA/training-e/e13178.png  \n",
            "  inflating: dataset/NUMTA/training-e/e13179.png  \n",
            "  inflating: dataset/NUMTA/training-e/e13180.png  \n",
            "  inflating: dataset/NUMTA/training-e/e13181.png  \n",
            "  inflating: dataset/NUMTA/training-e/e13182.png  \n",
            "  inflating: dataset/NUMTA/training-e/e13183.png  \n",
            "  inflating: dataset/NUMTA/training-e/e13184.png  \n",
            "  inflating: dataset/NUMTA/training-e/e13185.png  \n",
            "  inflating: dataset/NUMTA/training-e/e13186.png  \n",
            "  inflating: dataset/NUMTA/training-e/e13187.png  \n",
            "  inflating: dataset/NUMTA/training-e/e13188.png  \n",
            "  inflating: dataset/NUMTA/training-e/e13189.png  \n",
            "  inflating: dataset/NUMTA/training-e/e13190.png  \n",
            "  inflating: dataset/NUMTA/training-e/e13191.png  \n",
            "  inflating: dataset/NUMTA/training-e/e13192.png  \n",
            "  inflating: dataset/NUMTA/training-e/e13193.png  \n",
            "  inflating: dataset/NUMTA/training-e/e13194.png  \n",
            "  inflating: dataset/NUMTA/training-e/e13195.png  \n",
            "  inflating: dataset/NUMTA/training-e/e13196.png  \n",
            "  inflating: dataset/NUMTA/training-e/e13197.png  \n",
            "  inflating: dataset/NUMTA/training-e/e13198.png  \n",
            "  inflating: dataset/NUMTA/training-e/e13199.png  \n",
            "  inflating: dataset/NUMTA/training-e/e13200.png  \n",
            "  inflating: dataset/NUMTA/training-e/e13201.png  \n",
            "  inflating: dataset/NUMTA/training-e/e13202.png  \n",
            "  inflating: dataset/NUMTA/training-e/e13203.png  \n",
            "  inflating: dataset/NUMTA/training-e/e13204.png  \n",
            "  inflating: dataset/NUMTA/training-e/e13205.png  \n",
            "  inflating: dataset/NUMTA/training-e/e13206.png  \n",
            "  inflating: dataset/NUMTA/training-e/e13207.png  \n",
            "  inflating: dataset/NUMTA/training-e/e13208.png  \n",
            "  inflating: dataset/NUMTA/training-e/e13209.png  \n",
            "  inflating: dataset/NUMTA/training-e/e13210.png  \n",
            "  inflating: dataset/NUMTA/training-e/e13211.png  \n",
            "  inflating: dataset/NUMTA/training-e/e13212.png  \n",
            "  inflating: dataset/NUMTA/training-e/e13213.png  \n",
            "  inflating: dataset/NUMTA/training-e/e13214.png  \n",
            "  inflating: dataset/NUMTA/training-e/e13215.png  \n",
            "  inflating: dataset/NUMTA/training-e/e13216.png  \n",
            "  inflating: dataset/NUMTA/training-e/e13217.png  \n",
            "  inflating: dataset/NUMTA/training-e/e13218.png  \n",
            "  inflating: dataset/NUMTA/training-e/e13219.png  \n",
            "  inflating: dataset/NUMTA/training-e/e13220.png  \n",
            "  inflating: dataset/NUMTA/training-e/e13221.png  \n",
            "  inflating: dataset/NUMTA/training-e/e13222.png  \n",
            "  inflating: dataset/NUMTA/training-e/e13223.png  \n",
            "  inflating: dataset/NUMTA/training-e/e13224.png  \n",
            "  inflating: dataset/NUMTA/training-e/e13225.png  \n",
            "  inflating: dataset/NUMTA/training-e/e13226.png  \n",
            "  inflating: dataset/NUMTA/training-e/e13227.png  \n",
            "  inflating: dataset/NUMTA/training-e/e13228.png  \n",
            "  inflating: dataset/NUMTA/training-e/e13229.png  \n",
            "  inflating: dataset/NUMTA/training-e/e13230.png  \n",
            "  inflating: dataset/NUMTA/training-e/e13231.png  \n",
            "  inflating: dataset/NUMTA/training-e/e13232.png  \n",
            "  inflating: dataset/NUMTA/training-e/e13233.png  \n",
            "  inflating: dataset/NUMTA/training-e/e13234.png  \n",
            "  inflating: dataset/NUMTA/training-e/e13235.png  \n",
            "  inflating: dataset/NUMTA/training-e/e13236.png  \n",
            "  inflating: dataset/NUMTA/training-e/e13237.png  \n",
            "  inflating: dataset/NUMTA/training-e/e13238.png  \n",
            "  inflating: dataset/NUMTA/training-e/e13239.png  \n",
            "  inflating: dataset/NUMTA/training-e/e13240.png  \n",
            "  inflating: dataset/NUMTA/training-e/e13241.png  \n",
            "  inflating: dataset/NUMTA/training-e/e13242.png  \n",
            "  inflating: dataset/NUMTA/training-e/e13243.png  \n",
            "  inflating: dataset/NUMTA/training-e/e13244.png  \n",
            "  inflating: dataset/NUMTA/training-e/e13245.png  \n",
            "  inflating: dataset/NUMTA/training-e/e13246.png  \n",
            "  inflating: dataset/NUMTA/training-e/e13247.png  \n",
            "  inflating: dataset/NUMTA/training-e/e13248.png  \n",
            "  inflating: dataset/NUMTA/training-e/e13249.png  \n",
            "  inflating: dataset/NUMTA/training-e/e13250.png  \n",
            "  inflating: dataset/NUMTA/training-e/e13251.png  \n",
            "  inflating: dataset/NUMTA/training-e/e13252.png  \n",
            "  inflating: dataset/NUMTA/training-e/e13253.png  \n",
            "  inflating: dataset/NUMTA/training-e/e13254.png  \n",
            "  inflating: dataset/NUMTA/training-e/e13255.png  \n",
            "  inflating: dataset/NUMTA/training-e/e13256.png  \n",
            "  inflating: dataset/NUMTA/training-e/e13257.png  \n",
            "  inflating: dataset/NUMTA/training-e/e13258.png  \n",
            "  inflating: dataset/NUMTA/training-e/e13259.png  \n",
            "  inflating: dataset/NUMTA/training-e/e13260.png  \n",
            "  inflating: dataset/NUMTA/training-e/e13261.png  \n",
            "  inflating: dataset/NUMTA/training-e/e13262.png  \n",
            "  inflating: dataset/NUMTA/training-e/e13263.png  \n",
            "  inflating: dataset/NUMTA/training-e/e13264.png  \n",
            "  inflating: dataset/NUMTA/training-e/e13265.png  \n",
            "  inflating: dataset/NUMTA/training-e/e13266.png  \n",
            "  inflating: dataset/NUMTA/training-e/e13267.png  \n",
            "  inflating: dataset/NUMTA/training-e/e13268.png  \n",
            "  inflating: dataset/NUMTA/training-e/e13269.png  \n",
            "  inflating: dataset/NUMTA/training-e/e13270.png  \n",
            "  inflating: dataset/NUMTA/training-e/e13271.png  \n",
            "  inflating: dataset/NUMTA/training-e/e13272.png  \n",
            "  inflating: dataset/NUMTA/training-e/e13273.png  \n",
            "  inflating: dataset/NUMTA/training-e/e13274.png  \n",
            "  inflating: dataset/NUMTA/training-e/e13275.png  \n",
            "  inflating: dataset/NUMTA/training-e/e13276.png  \n",
            "  inflating: dataset/NUMTA/training-e/e13277.png  \n",
            "  inflating: dataset/NUMTA/training-e/e13278.png  \n",
            "  inflating: dataset/NUMTA/training-e/e13279.png  \n",
            "  inflating: dataset/NUMTA/training-e/e13280.png  \n",
            "  inflating: dataset/NUMTA/training-e/e13281.png  \n",
            "  inflating: dataset/NUMTA/training-e/e13282.png  \n",
            "  inflating: dataset/NUMTA/training-e/e13283.png  \n",
            "  inflating: dataset/NUMTA/training-e/e13284.png  \n",
            "  inflating: dataset/NUMTA/training-e/e13285.png  \n",
            "  inflating: dataset/NUMTA/training-e/e13286.png  \n",
            "  inflating: dataset/NUMTA/training-e/e13287.png  \n",
            "  inflating: dataset/NUMTA/training-e/e13288.png  \n",
            "  inflating: dataset/NUMTA/training-e/e13289.png  \n",
            "  inflating: dataset/NUMTA/training-e/e13290.png  \n",
            "  inflating: dataset/NUMTA/training-e/e13291.png  \n",
            "  inflating: dataset/NUMTA/training-e/e13292.png  \n",
            "  inflating: dataset/NUMTA/training-e/e13293.png  \n",
            "  inflating: dataset/NUMTA/training-e/e13294.png  \n",
            "  inflating: dataset/NUMTA/training-e/e13295.png  \n",
            "  inflating: dataset/NUMTA/training-e/e13296.png  \n",
            "  inflating: dataset/NUMTA/training-e/e13297.png  \n",
            "  inflating: dataset/NUMTA/training-e/e13298.png  \n",
            "  inflating: dataset/NUMTA/training-e/e13299.png  \n",
            "  inflating: dataset/NUMTA/training-e/e13300.png  \n",
            "  inflating: dataset/NUMTA/training-e/e13301.png  \n",
            "  inflating: dataset/NUMTA/training-e/e13302.png  \n",
            "  inflating: dataset/NUMTA/training-e/e13303.png  \n",
            "  inflating: dataset/NUMTA/training-e/e13304.png  \n",
            "  inflating: dataset/NUMTA/training-e/e13305.png  \n",
            "  inflating: dataset/NUMTA/training-e/e13306.png  \n",
            "  inflating: dataset/NUMTA/training-e/e13307.png  \n",
            "  inflating: dataset/NUMTA/training-e/e13308.png  \n",
            "  inflating: dataset/NUMTA/training-e/e13309.png  \n",
            "  inflating: dataset/NUMTA/training-e/e13310.png  \n",
            "  inflating: dataset/NUMTA/training-e/e13311.png  \n",
            "  inflating: dataset/NUMTA/training-e/e13312.png  \n",
            "  inflating: dataset/NUMTA/training-e/e13313.png  \n",
            "  inflating: dataset/NUMTA/training-e/e13314.png  \n",
            "  inflating: dataset/NUMTA/training-e/e13315.png  \n",
            "  inflating: dataset/NUMTA/training-e/e13316.png  \n",
            "  inflating: dataset/NUMTA/training-e/e13317.png  \n",
            "  inflating: dataset/NUMTA/training-e/e13318.png  \n",
            "  inflating: dataset/NUMTA/training-e/e13319.png  \n",
            "  inflating: dataset/NUMTA/training-e/e13320.png  \n",
            "  inflating: dataset/NUMTA/training-e/e13321.png  \n",
            "  inflating: dataset/NUMTA/training-e/e13322.png  \n",
            "  inflating: dataset/NUMTA/training-e/e13323.png  \n",
            "  inflating: dataset/NUMTA/training-e/e13324.png  \n",
            "  inflating: dataset/NUMTA/training-e/e13325.png  \n",
            "  inflating: dataset/NUMTA/training-e/e13326.png  \n",
            "  inflating: dataset/NUMTA/training-e/e13327.png  \n",
            "  inflating: dataset/NUMTA/training-e/e13328.png  \n",
            "  inflating: dataset/NUMTA/training-e/e13329.png  \n",
            "  inflating: dataset/NUMTA/training-e/e13330.png  \n",
            "  inflating: dataset/NUMTA/training-e/e13331.png  \n",
            "  inflating: dataset/NUMTA/training-e/e13332.png  \n",
            "  inflating: dataset/NUMTA/training-e/e13333.png  \n",
            "  inflating: dataset/NUMTA/training-e/e13334.png  \n",
            "  inflating: dataset/NUMTA/training-e/e13335.png  \n",
            "  inflating: dataset/NUMTA/training-e/e13336.png  \n",
            "  inflating: dataset/NUMTA/training-e/e13337.png  \n",
            "  inflating: dataset/NUMTA/training-e/e13338.png  \n",
            "  inflating: dataset/NUMTA/training-e/e13339.png  \n",
            "  inflating: dataset/NUMTA/training-e/e13340.png  \n",
            "  inflating: dataset/NUMTA/training-e/e13341.png  \n",
            "  inflating: dataset/NUMTA/training-e/e13342.png  \n",
            "  inflating: dataset/NUMTA/training-e/e13343.png  \n",
            "  inflating: dataset/NUMTA/training-e/e13344.png  \n",
            "  inflating: dataset/NUMTA/training-e/e13345.png  \n",
            "  inflating: dataset/NUMTA/training-e/e13346.png  \n",
            "  inflating: dataset/NUMTA/training-e/e13347.png  \n",
            "  inflating: dataset/NUMTA/training-e/e13348.png  \n",
            "  inflating: dataset/NUMTA/training-e/e13349.png  \n",
            "  inflating: dataset/NUMTA/training-e/e13350.png  \n",
            "  inflating: dataset/NUMTA/training-e/e13351.png  \n",
            "  inflating: dataset/NUMTA/training-e/e13352.png  \n",
            "  inflating: dataset/NUMTA/training-e/e13353.png  \n",
            "  inflating: dataset/NUMTA/training-e/e13354.png  \n",
            "  inflating: dataset/NUMTA/training-e/e13355.png  \n",
            "  inflating: dataset/NUMTA/training-e/e13356.png  \n",
            "  inflating: dataset/NUMTA/training-e/e13357.png  \n",
            "  inflating: dataset/NUMTA/training-e/e13358.png  \n",
            "  inflating: dataset/NUMTA/training-e/e13359.png  \n",
            "  inflating: dataset/NUMTA/training-e/e13360.png  \n",
            "  inflating: dataset/NUMTA/training-e/e13361.png  \n",
            "  inflating: dataset/NUMTA/training-e/e13362.png  \n",
            "  inflating: dataset/NUMTA/training-e/e13363.png  \n",
            "  inflating: dataset/NUMTA/training-e/e13364.png  \n",
            "  inflating: dataset/NUMTA/training-e/e13365.png  \n",
            "  inflating: dataset/NUMTA/training-e/e13366.png  \n",
            "  inflating: dataset/NUMTA/training-e/e13367.png  \n",
            "  inflating: dataset/NUMTA/training-e/e13368.png  \n",
            "  inflating: dataset/NUMTA/training-e/e13369.png  \n",
            "  inflating: dataset/NUMTA/training-e/e13370.png  \n",
            "  inflating: dataset/NUMTA/training-e/e13371.png  \n",
            "  inflating: dataset/NUMTA/training-e/e13372.png  \n",
            "  inflating: dataset/NUMTA/training-e/e13373.png  \n",
            "  inflating: dataset/NUMTA/training-e/e13374.png  \n",
            "  inflating: dataset/NUMTA/training-e/e13375.png  \n",
            "  inflating: dataset/NUMTA/training-e/e13376.png  \n",
            "  inflating: dataset/NUMTA/training-e/e13377.png  \n",
            "  inflating: dataset/NUMTA/training-e/e13378.png  \n",
            "  inflating: dataset/NUMTA/training-e/e13379.png  \n",
            "  inflating: dataset/NUMTA/training-e/e13380.png  \n",
            "  inflating: dataset/NUMTA/training-e/e13381.png  \n",
            "  inflating: dataset/NUMTA/training-e/e13382.png  \n",
            "  inflating: dataset/NUMTA/training-e/e13383.png  \n",
            "  inflating: dataset/NUMTA/training-e/e13384.png  \n",
            "  inflating: dataset/NUMTA/training-e/e13385.png  \n",
            "  inflating: dataset/NUMTA/training-e/e13386.png  \n",
            "  inflating: dataset/NUMTA/training-e/e13387.png  \n",
            "  inflating: dataset/NUMTA/training-e/e13388.png  \n",
            "  inflating: dataset/NUMTA/training-e/e13389.png  \n",
            "  inflating: dataset/NUMTA/training-e/e13390.png  \n",
            "  inflating: dataset/NUMTA/training-e/e13391.png  \n",
            "  inflating: dataset/NUMTA/training-e/e13392.png  \n",
            "  inflating: dataset/NUMTA/training-e/e13393.png  \n",
            "  inflating: dataset/NUMTA/training-e/e13394.png  \n",
            "  inflating: dataset/NUMTA/training-e/e13395.png  \n",
            "  inflating: dataset/NUMTA/training-e/e13396.png  \n",
            "  inflating: dataset/NUMTA/training-e/e13397.png  \n",
            "  inflating: dataset/NUMTA/training-e/e13398.png  \n",
            "  inflating: dataset/NUMTA/training-e/e13399.png  \n",
            "  inflating: dataset/NUMTA/training-e/e13400.png  \n",
            "  inflating: dataset/NUMTA/training-e/e13401.png  \n",
            "  inflating: dataset/NUMTA/training-e/e13402.png  \n",
            "  inflating: dataset/NUMTA/training-e/e13403.png  \n",
            "  inflating: dataset/NUMTA/training-e/e13404.png  \n",
            "  inflating: dataset/NUMTA/training-e/e13405.png  \n",
            "  inflating: dataset/NUMTA/training-e/e13406.png  \n",
            "  inflating: dataset/NUMTA/training-e/e13407.png  \n",
            "  inflating: dataset/NUMTA/training-e/e13408.png  \n",
            "  inflating: dataset/NUMTA/training-e/e13409.png  \n",
            "  inflating: dataset/NUMTA/training-e/e13410.png  \n",
            "  inflating: dataset/NUMTA/training-e/e13411.png  \n",
            "  inflating: dataset/NUMTA/training-e/e13412.png  \n",
            "  inflating: dataset/NUMTA/training-e/e13413.png  \n",
            "  inflating: dataset/NUMTA/training-e/e13414.png  \n",
            "  inflating: dataset/NUMTA/training-e/e13415.png  \n",
            "  inflating: dataset/NUMTA/training-e/e13416.png  \n",
            "  inflating: dataset/NUMTA/training-e/e13417.png  \n",
            "  inflating: dataset/NUMTA/training-e/e13418.png  \n",
            "  inflating: dataset/NUMTA/training-e/e13419.png  \n",
            "  inflating: dataset/NUMTA/training-e/e13420.png  \n",
            "  inflating: dataset/NUMTA/training-e/e13421.png  \n",
            "  inflating: dataset/NUMTA/training-e/e13422.png  \n",
            "  inflating: dataset/NUMTA/training-e/e13423.png  \n",
            "  inflating: dataset/NUMTA/training-e/e13424.png  \n",
            "  inflating: dataset/NUMTA/training-e/e13425.png  \n",
            "  inflating: dataset/NUMTA/training-e/e13426.png  \n",
            "  inflating: dataset/NUMTA/training-e/e13427.png  \n",
            "  inflating: dataset/NUMTA/training-e/e13428.png  \n",
            "  inflating: dataset/NUMTA/training-e/e13429.png  \n",
            "  inflating: dataset/NUMTA/training-e/e13430.png  \n",
            "  inflating: dataset/NUMTA/training-e/e13431.png  \n",
            "  inflating: dataset/NUMTA/training-e/e13432.png  \n",
            "  inflating: dataset/NUMTA/training-e/e13433.png  \n",
            "  inflating: dataset/NUMTA/training-e/e13434.png  \n",
            "  inflating: dataset/NUMTA/training-e/e13435.png  \n",
            "  inflating: dataset/NUMTA/training-e/e13436.png  \n",
            "  inflating: dataset/NUMTA/training-e/e13437.png  \n",
            "  inflating: dataset/NUMTA/training-e/e13438.png  \n",
            "  inflating: dataset/NUMTA/training-e/e13439.png  \n",
            "  inflating: dataset/NUMTA/training-e/e13440.png  \n",
            "  inflating: dataset/NUMTA/training-e/e13441.png  \n",
            "  inflating: dataset/NUMTA/training-e/e13442.png  \n",
            "  inflating: dataset/NUMTA/training-e/e13443.png  \n",
            "  inflating: dataset/NUMTA/training-e/e13444.png  \n",
            "  inflating: dataset/NUMTA/training-e/e13445.png  \n",
            "  inflating: dataset/NUMTA/training-e/e13446.png  \n",
            "  inflating: dataset/NUMTA/training-e/e13447.png  \n",
            "  inflating: dataset/NUMTA/training-e/e13448.png  \n",
            "  inflating: dataset/NUMTA/training-e/e13449.png  \n",
            "  inflating: dataset/NUMTA/training-e/e13450.png  \n",
            "  inflating: dataset/NUMTA/training-e/e13451.png  \n",
            "  inflating: dataset/NUMTA/training-e/e13452.png  \n",
            "  inflating: dataset/NUMTA/training-e/e13453.png  \n",
            "  inflating: dataset/NUMTA/training-e/e13454.png  \n",
            "  inflating: dataset/NUMTA/training-e/e13455.png  \n",
            "  inflating: dataset/NUMTA/training-e/e13456.png  \n",
            "  inflating: dataset/NUMTA/training-e/e13457.png  \n",
            "  inflating: dataset/NUMTA/training-e/e13458.png  \n",
            "  inflating: dataset/NUMTA/training-e/e13459.png  \n",
            "  inflating: dataset/NUMTA/training-e/e13460.png  \n",
            "  inflating: dataset/NUMTA/training-e/e13461.png  \n",
            "  inflating: dataset/NUMTA/training-e/e13462.png  \n",
            "  inflating: dataset/NUMTA/training-e/e13463.png  \n",
            "  inflating: dataset/NUMTA/training-e/e13464.png  \n",
            "  inflating: dataset/NUMTA/training-e/e13465.png  \n",
            "  inflating: dataset/NUMTA/training-e/e13466.png  \n",
            "  inflating: dataset/NUMTA/training-e/e13467.png  \n",
            "  inflating: dataset/NUMTA/training-e/e13468.png  \n",
            "  inflating: dataset/NUMTA/training-e/e13469.png  \n",
            "  inflating: dataset/NUMTA/training-e/e13470.png  \n",
            "  inflating: dataset/NUMTA/training-e/e13471.png  \n",
            "  inflating: dataset/NUMTA/training-e/e13472.png  \n",
            "  inflating: dataset/NUMTA/training-e/e13473.png  \n",
            "  inflating: dataset/NUMTA/training-e/e13474.png  \n",
            "  inflating: dataset/NUMTA/training-e/e13475.png  \n",
            "  inflating: dataset/NUMTA/training-e/e13476.png  \n",
            "  inflating: dataset/NUMTA/training-e/e13477.png  \n",
            "  inflating: dataset/NUMTA/training-e/e13478.png  \n",
            "  inflating: dataset/NUMTA/training-e/e13479.png  \n",
            "  inflating: dataset/NUMTA/training-e/e13480.png  \n",
            "  inflating: dataset/NUMTA/training-e/e13481.png  \n",
            "  inflating: dataset/NUMTA/training-e/e13482.png  \n",
            "  inflating: dataset/NUMTA/training-e/e13483.png  \n",
            "  inflating: dataset/NUMTA/training-e/e13484.png  \n",
            "  inflating: dataset/NUMTA/training-e/e13485.png  \n",
            "  inflating: dataset/NUMTA/training-e/e13486.png  \n",
            "  inflating: dataset/NUMTA/training-e/e13487.png  \n",
            "  inflating: dataset/NUMTA/training-e/e13488.png  \n",
            "  inflating: dataset/NUMTA/training-e/e13489.png  \n",
            "  inflating: dataset/NUMTA/training-e/e13490.png  \n",
            "  inflating: dataset/NUMTA/training-e/e13491.png  \n",
            "  inflating: dataset/NUMTA/training-e/e13492.png  \n",
            "  inflating: dataset/NUMTA/training-e/e13493.png  \n",
            "  inflating: dataset/NUMTA/training-e/e13494.png  \n",
            "  inflating: dataset/NUMTA/training-e/e13495.png  \n",
            "  inflating: dataset/NUMTA/training-e/e13496.png  \n",
            "  inflating: dataset/NUMTA/training-e/e13497.png  \n",
            "  inflating: dataset/NUMTA/training-e/e13498.png  \n",
            "  inflating: dataset/NUMTA/training-e/e13499.png  \n",
            "  inflating: dataset/NUMTA/training-e/e13500.png  \n",
            "  inflating: dataset/NUMTA/training-e/e13501.png  \n",
            "  inflating: dataset/NUMTA/training-e/e13502.png  \n",
            "  inflating: dataset/NUMTA/training-e/e13503.png  \n",
            "  inflating: dataset/NUMTA/training-e/e13504.png  \n",
            "  inflating: dataset/NUMTA/training-e/e13505.png  \n",
            "  inflating: dataset/NUMTA/training-e/e13506.png  \n",
            "  inflating: dataset/NUMTA/training-e/e13507.png  \n",
            "  inflating: dataset/NUMTA/training-e/e13508.png  \n",
            "  inflating: dataset/NUMTA/training-e/e13509.png  \n",
            "  inflating: dataset/NUMTA/training-e/e13510.png  \n",
            "  inflating: dataset/NUMTA/training-e/e13511.png  \n",
            "  inflating: dataset/NUMTA/training-e/e13512.png  \n",
            "  inflating: dataset/NUMTA/training-e/e13513.png  \n",
            "  inflating: dataset/NUMTA/training-e/e13514.png  \n",
            "  inflating: dataset/NUMTA/training-e/e13515.png  \n",
            "  inflating: dataset/NUMTA/training-e/e13516.png  \n",
            "  inflating: dataset/NUMTA/training-e/e13517.png  \n",
            "  inflating: dataset/NUMTA/training-e/e13518.png  \n",
            "  inflating: dataset/NUMTA/training-e/e13519.png  \n",
            "  inflating: dataset/NUMTA/training-e/e13520.png  \n",
            "  inflating: dataset/NUMTA/training-e/e13521.png  \n",
            "  inflating: dataset/NUMTA/training-e/e13522.png  \n",
            "  inflating: dataset/NUMTA/training-e/e13523.png  \n",
            "  inflating: dataset/NUMTA/training-e/e13524.png  \n",
            "  inflating: dataset/NUMTA/training-e/e13525.png  \n",
            "  inflating: dataset/NUMTA/training-e/e13526.png  \n",
            "  inflating: dataset/NUMTA/training-e/e13527.png  \n",
            "  inflating: dataset/NUMTA/training-e/e13528.png  \n",
            "  inflating: dataset/NUMTA/training-e/e13529.png  \n",
            "  inflating: dataset/NUMTA/training-e/e13530.png  \n",
            "  inflating: dataset/NUMTA/training-e/e13531.png  \n",
            "  inflating: dataset/NUMTA/training-e/e13532.png  \n",
            "  inflating: dataset/NUMTA/training-e/e13533.png  \n",
            "  inflating: dataset/NUMTA/training-e/e13534.png  \n",
            "  inflating: dataset/NUMTA/training-e/e13535.png  \n",
            "  inflating: dataset/NUMTA/training-e/e13536.png  \n",
            "  inflating: dataset/NUMTA/training-e/e13537.png  \n",
            "  inflating: dataset/NUMTA/training-e/e13538.png  \n",
            "  inflating: dataset/NUMTA/training-e/e13539.png  \n",
            "  inflating: dataset/NUMTA/training-e/e13540.png  \n",
            "  inflating: dataset/NUMTA/training-e/e13541.png  \n",
            "  inflating: dataset/NUMTA/training-e/e13542.png  \n",
            "  inflating: dataset/NUMTA/training-e/e13543.png  \n",
            "  inflating: dataset/NUMTA/training-e/e13544.png  \n",
            "  inflating: dataset/NUMTA/training-e/e13545.png  \n",
            "  inflating: dataset/NUMTA/training-e/e13546.png  \n",
            "  inflating: dataset/NUMTA/training-e/e13547.png  \n",
            "  inflating: dataset/NUMTA/training-e/e13548.png  \n",
            "  inflating: dataset/NUMTA/training-e/e13549.png  \n",
            "  inflating: dataset/NUMTA/training-e/e13550.png  \n",
            "  inflating: dataset/NUMTA/training-e/e13551.png  \n",
            "  inflating: dataset/NUMTA/training-e/e13552.png  \n",
            "  inflating: dataset/NUMTA/training-e/e13553.png  \n",
            "  inflating: dataset/NUMTA/training-e/e13554.png  \n",
            "  inflating: dataset/NUMTA/training-e/e13555.png  \n",
            "  inflating: dataset/NUMTA/training-e/e13556.png  \n",
            "  inflating: dataset/NUMTA/training-e/e13557.png  \n",
            "  inflating: dataset/NUMTA/training-e/e13558.png  \n",
            "  inflating: dataset/NUMTA/training-e/e13559.png  \n",
            "  inflating: dataset/NUMTA/training-e/e13560.png  \n",
            "  inflating: dataset/NUMTA/training-e/e13561.png  \n",
            "  inflating: dataset/NUMTA/training-e/e13562.png  \n",
            "  inflating: dataset/NUMTA/training-e/e13563.png  \n",
            "  inflating: dataset/NUMTA/training-e/e13564.png  \n",
            "  inflating: dataset/NUMTA/training-e/e13565.png  \n",
            "  inflating: dataset/NUMTA/training-e/e13566.png  \n",
            "  inflating: dataset/NUMTA/training-e/e13567.png  \n",
            "  inflating: dataset/NUMTA/training-e/e13568.png  \n",
            "  inflating: dataset/NUMTA/training-e/e13569.png  \n",
            "  inflating: dataset/NUMTA/training-e/e13570.png  \n",
            "  inflating: dataset/NUMTA/training-e/e13571.png  \n",
            "  inflating: dataset/NUMTA/training-e/e13572.png  \n",
            "  inflating: dataset/NUMTA/training-e/e13573.png  \n",
            "  inflating: dataset/NUMTA/training-e/e13574.png  \n",
            "  inflating: dataset/NUMTA/training-e/e13575.png  \n",
            "  inflating: dataset/NUMTA/training-e/e13576.png  \n",
            "  inflating: dataset/NUMTA/training-e/e13577.png  \n",
            "  inflating: dataset/NUMTA/training-e/e13578.png  \n",
            "  inflating: dataset/NUMTA/training-e/e13579.png  \n",
            "  inflating: dataset/NUMTA/training-e/e13580.png  \n",
            "  inflating: dataset/NUMTA/training-e/e13581.png  \n",
            "  inflating: dataset/NUMTA/training-e/e13582.png  \n",
            "  inflating: dataset/NUMTA/training-e/e13583.png  \n",
            "  inflating: dataset/NUMTA/training-e/e13584.png  \n",
            "  inflating: dataset/NUMTA/training-e/e13585.png  \n",
            "  inflating: dataset/NUMTA/training-e/e13586.png  \n",
            "  inflating: dataset/NUMTA/training-e/e13587.png  \n",
            "  inflating: dataset/NUMTA/training-e/e13588.png  \n",
            "  inflating: dataset/NUMTA/training-e/e13589.png  \n",
            "  inflating: dataset/NUMTA/training-e/e13590.png  \n",
            "  inflating: dataset/NUMTA/training-e/e13591.png  \n",
            "  inflating: dataset/NUMTA/training-e/e13592.png  \n",
            "  inflating: dataset/NUMTA/training-e/e13593.png  \n",
            "  inflating: dataset/NUMTA/training-e/e13594.png  \n",
            "  inflating: dataset/NUMTA/training-e/e13595.png  \n",
            "  inflating: dataset/NUMTA/training-e/e13596.png  \n",
            "  inflating: dataset/NUMTA/training-e/e13597.png  \n",
            "  inflating: dataset/NUMTA/training-e/e13598.png  \n",
            "  inflating: dataset/NUMTA/training-e/e13599.png  \n",
            "  inflating: dataset/NUMTA/training-e/e13600.png  \n",
            "  inflating: dataset/NUMTA/training-e/e13601.png  \n",
            "  inflating: dataset/NUMTA/training-e/e13602.png  \n",
            "  inflating: dataset/NUMTA/training-e/e13603.png  \n",
            "  inflating: dataset/NUMTA/training-e/e13604.png  \n",
            "  inflating: dataset/NUMTA/training-e/e13605.png  \n",
            "  inflating: dataset/NUMTA/training-e/e13606.png  \n",
            "  inflating: dataset/NUMTA/training-e/e13607.png  \n",
            "  inflating: dataset/NUMTA/training-e/e13608.png  \n",
            "  inflating: dataset/NUMTA/training-e/e13609.png  \n",
            "  inflating: dataset/NUMTA/training-e/e13610.png  \n",
            "  inflating: dataset/NUMTA/training-e/e13611.png  \n",
            "  inflating: dataset/NUMTA/training-e/e13612.png  \n",
            "  inflating: dataset/NUMTA/training-e/e13613.png  \n",
            "  inflating: dataset/NUMTA/training-e/e13614.png  \n",
            "  inflating: dataset/NUMTA/training-e/e13615.png  \n",
            "  inflating: dataset/NUMTA/training-e/e13616.png  \n",
            "  inflating: dataset/NUMTA/training-e/e13617.png  \n",
            "  inflating: dataset/NUMTA/training-e/e13618.png  \n",
            "  inflating: dataset/NUMTA/training-e/e13619.png  \n",
            "  inflating: dataset/NUMTA/training-e/e13620.png  \n",
            "  inflating: dataset/NUMTA/training-e/e13621.png  \n",
            "  inflating: dataset/NUMTA/training-e/e13622.png  \n",
            "  inflating: dataset/NUMTA/training-e/e13623.png  \n",
            "  inflating: dataset/NUMTA/training-e/e13624.png  \n",
            "  inflating: dataset/NUMTA/training-e/e13625.png  \n",
            "  inflating: dataset/NUMTA/training-e/e13626.png  \n",
            "  inflating: dataset/NUMTA/training-e/e13627.png  \n",
            "  inflating: dataset/NUMTA/training-e/e13628.png  \n",
            "  inflating: dataset/NUMTA/training-e/e13629.png  \n",
            "  inflating: dataset/NUMTA/training-e/e13630.png  \n",
            "  inflating: dataset/NUMTA/training-e/e13631.png  \n",
            "  inflating: dataset/NUMTA/training-e/e13632.png  \n",
            "  inflating: dataset/NUMTA/training-e/e13633.png  \n",
            "  inflating: dataset/NUMTA/training-e/e13634.png  \n",
            "  inflating: dataset/NUMTA/training-e/e13635.png  \n",
            "  inflating: dataset/NUMTA/training-e/e13636.png  \n",
            "  inflating: dataset/NUMTA/training-e/e13637.png  \n",
            "  inflating: dataset/NUMTA/training-e/e13638.png  \n",
            "  inflating: dataset/NUMTA/training-e/e13639.png  \n",
            "  inflating: dataset/NUMTA/training-e/e13640.png  \n",
            "  inflating: dataset/NUMTA/training-e/e13641.png  \n",
            "  inflating: dataset/NUMTA/training-e/e13642.png  \n",
            "  inflating: dataset/NUMTA/training-e/e13643.png  \n",
            "  inflating: dataset/NUMTA/training-e/e13644.png  \n",
            "  inflating: dataset/NUMTA/training-e/e13645.png  \n",
            "  inflating: dataset/NUMTA/training-e/e13646.png  \n",
            "  inflating: dataset/NUMTA/training-e/e13647.png  \n",
            "  inflating: dataset/NUMTA/training-e/e13648.png  \n",
            "  inflating: dataset/NUMTA/training-e/e13649.png  \n",
            "  inflating: dataset/NUMTA/training-e/e13650.png  \n",
            "  inflating: dataset/NUMTA/training-e/e13651.png  \n",
            "  inflating: dataset/NUMTA/training-e/e13652.png  \n",
            "  inflating: dataset/NUMTA/training-e/e13653.png  \n",
            "  inflating: dataset/NUMTA/training-e/e13654.png  \n",
            "  inflating: dataset/NUMTA/training-e/e13655.png  \n",
            "  inflating: dataset/NUMTA/training-e/e13656.png  \n",
            "  inflating: dataset/NUMTA/training-e/e13657.png  \n",
            "  inflating: dataset/NUMTA/training-e/e13658.png  \n",
            "  inflating: dataset/NUMTA/training-e/e13659.png  \n",
            "  inflating: dataset/NUMTA/training-e/e13660.png  \n",
            "  inflating: dataset/NUMTA/training-e/e13661.png  \n",
            "  inflating: dataset/NUMTA/training-e/e13662.png  \n",
            "  inflating: dataset/NUMTA/training-e/e13663.png  \n",
            "  inflating: dataset/NUMTA/training-e/e13664.png  \n",
            "  inflating: dataset/NUMTA/training-e/e13665.png  \n",
            "  inflating: dataset/NUMTA/training-e/e13666.png  \n",
            "  inflating: dataset/NUMTA/training-e/e13667.png  \n",
            "  inflating: dataset/NUMTA/training-e/e13668.png  \n",
            "  inflating: dataset/NUMTA/training-e/e13669.png  \n",
            "  inflating: dataset/NUMTA/training-e/e13670.png  \n",
            "  inflating: dataset/NUMTA/training-e/e13671.png  \n",
            "  inflating: dataset/NUMTA/training-e/e13672.png  \n",
            "  inflating: dataset/NUMTA/training-e/e13673.png  \n",
            "  inflating: dataset/NUMTA/training-e/e13674.png  \n",
            "  inflating: dataset/NUMTA/training-e/e13675.png  \n",
            "  inflating: dataset/NUMTA/training-e/e13676.png  \n",
            "  inflating: dataset/NUMTA/training-e/e13677.png  \n",
            "  inflating: dataset/NUMTA/training-e/e13678.png  \n",
            "  inflating: dataset/NUMTA/training-e/e13679.png  \n",
            "  inflating: dataset/NUMTA/training-e/e13680.png  \n",
            "  inflating: dataset/NUMTA/training-e/e13681.png  \n",
            "  inflating: dataset/NUMTA/training-e/e13682.png  \n",
            "  inflating: dataset/NUMTA/training-e/e13683.png  \n",
            "  inflating: dataset/NUMTA/training-e/e13684.png  \n",
            "  inflating: dataset/NUMTA/training-e/e13685.png  \n",
            "  inflating: dataset/NUMTA/training-e/e13686.png  \n",
            "  inflating: dataset/NUMTA/training-e/e13687.png  \n",
            "  inflating: dataset/NUMTA/training-e/e13688.png  \n",
            "  inflating: dataset/NUMTA/training-e/e13689.png  \n",
            "  inflating: dataset/NUMTA/training-e/e13690.png  \n",
            "  inflating: dataset/NUMTA/training-e/e13691.png  \n",
            "  inflating: dataset/NUMTA/training-e/e13692.png  \n",
            "  inflating: dataset/NUMTA/training-e/e13693.png  \n",
            "  inflating: dataset/NUMTA/training-e/e13694.png  \n",
            "  inflating: dataset/NUMTA/training-e/e13695.png  \n",
            "  inflating: dataset/NUMTA/training-e/e13696.png  \n",
            "  inflating: dataset/NUMTA/training-e/e13697.png  \n",
            "  inflating: dataset/NUMTA/training-e/e13698.png  \n",
            "  inflating: dataset/NUMTA/training-e/e13699.png  \n",
            "  inflating: dataset/NUMTA/training-e/e13700.png  \n",
            "  inflating: dataset/NUMTA/training-e/e13701.png  \n",
            "  inflating: dataset/NUMTA/training-e/e13702.png  \n",
            "  inflating: dataset/NUMTA/training-e/e13703.png  \n",
            "  inflating: dataset/NUMTA/training-e/e13704.png  \n",
            "  inflating: dataset/NUMTA/training-e/e13705.png  \n",
            "  inflating: dataset/NUMTA/training-e/e13706.png  \n",
            "  inflating: dataset/NUMTA/training-e/e13707.png  \n",
            "  inflating: dataset/NUMTA/training-e/e13708.png  \n",
            "  inflating: dataset/NUMTA/training-e/e13709.png  \n",
            "  inflating: dataset/NUMTA/training-e/e13710.png  \n",
            "  inflating: dataset/NUMTA/training-e/e13711.png  \n",
            "  inflating: dataset/NUMTA/training-e/e13712.png  \n",
            "  inflating: dataset/NUMTA/training-e/e13713.png  \n",
            "  inflating: dataset/NUMTA/training-e/e13714.png  \n",
            "  inflating: dataset/NUMTA/training-e/e13715.png  \n",
            "  inflating: dataset/NUMTA/training-e/e13716.png  \n",
            "  inflating: dataset/NUMTA/training-e/e13717.png  \n",
            "  inflating: dataset/NUMTA/training-e/e13718.png  \n",
            "  inflating: dataset/NUMTA/training-e/e13719.png  \n",
            "  inflating: dataset/NUMTA/training-e/e13720.png  \n",
            "  inflating: dataset/NUMTA/training-e/e13721.png  \n",
            "  inflating: dataset/NUMTA/training-e/e13722.png  \n",
            "  inflating: dataset/NUMTA/training-e/e13723.png  \n",
            "  inflating: dataset/NUMTA/training-e/e13724.png  \n",
            "  inflating: dataset/NUMTA/training-e/e13725.png  \n",
            "  inflating: dataset/NUMTA/training-e/e13726.png  \n",
            "  inflating: dataset/NUMTA/training-e/e13727.png  \n",
            "  inflating: dataset/NUMTA/training-e/e13728.png  \n",
            "  inflating: dataset/NUMTA/training-e/e13729.png  \n",
            "  inflating: dataset/NUMTA/training-e/e13730.png  \n",
            "  inflating: dataset/NUMTA/training-e/e13731.png  \n",
            "  inflating: dataset/NUMTA/training-e/e13732.png  \n",
            "  inflating: dataset/NUMTA/training-e/e13733.png  \n",
            "  inflating: dataset/NUMTA/training-e/e13734.png  \n",
            "  inflating: dataset/NUMTA/training-e/e13735.png  \n",
            "  inflating: dataset/NUMTA/training-e/e13736.png  \n",
            "  inflating: dataset/NUMTA/training-e/e13737.png  \n",
            "  inflating: dataset/NUMTA/training-e/e13738.png  \n",
            "  inflating: dataset/NUMTA/training-e/e13739.png  \n",
            "  inflating: dataset/NUMTA/training-e/e13740.png  \n",
            "  inflating: dataset/NUMTA/training-e/e13741.png  \n",
            "  inflating: dataset/NUMTA/training-e/e13742.png  \n",
            "  inflating: dataset/NUMTA/training-e/e13743.png  \n",
            "  inflating: dataset/NUMTA/training-e/e13744.png  \n",
            "  inflating: dataset/NUMTA/training-e/e13745.png  \n",
            "  inflating: dataset/NUMTA/training-e/e13746.png  \n",
            "  inflating: dataset/NUMTA/training-e/e13747.png  \n",
            "  inflating: dataset/NUMTA/training-e/e13748.png  \n",
            "  inflating: dataset/NUMTA/training-e/e13749.png  \n",
            "  inflating: dataset/NUMTA/training-e/e13750.png  \n",
            "  inflating: dataset/NUMTA/training-e/e13751.png  \n",
            "  inflating: dataset/NUMTA/training-e/e13752.png  \n",
            "  inflating: dataset/NUMTA/training-e/e13753.png  \n",
            "  inflating: dataset/NUMTA/training-e/e13754.png  \n",
            "  inflating: dataset/NUMTA/training-e/e13755.png  \n",
            "  inflating: dataset/NUMTA/training-e/e13756.png  \n",
            "  inflating: dataset/NUMTA/training-e/e13757.png  \n",
            "  inflating: dataset/NUMTA/training-e/e13758.png  \n",
            "  inflating: dataset/NUMTA/training-e/e13759.png  \n",
            "  inflating: dataset/NUMTA/training-e/e13760.png  \n",
            "  inflating: dataset/NUMTA/training-e/e13761.png  \n",
            "  inflating: dataset/NUMTA/training-e/e13762.png  \n",
            "  inflating: dataset/NUMTA/training-e/e13763.png  \n",
            "  inflating: dataset/NUMTA/training-e/e13764.png  \n",
            "  inflating: dataset/NUMTA/training-e/e13765.png  \n",
            "  inflating: dataset/NUMTA/training-e/e13766.png  \n",
            "  inflating: dataset/NUMTA/training-e/e13767.png  \n",
            "  inflating: dataset/NUMTA/training-e/e13768.png  \n",
            "  inflating: dataset/NUMTA/training-e/e13769.png  \n",
            "  inflating: dataset/NUMTA/training-e/e13770.png  \n",
            "  inflating: dataset/NUMTA/training-e/e13771.png  \n",
            "  inflating: dataset/NUMTA/training-e/e13772.png  \n",
            "  inflating: dataset/NUMTA/training-e/e13773.png  \n",
            "  inflating: dataset/NUMTA/training-e/e13774.png  \n",
            "  inflating: dataset/NUMTA/training-e/e13775.png  \n",
            "  inflating: dataset/NUMTA/training-e/e13776.png  \n",
            "  inflating: dataset/NUMTA/training-e/e13777.png  \n",
            "  inflating: dataset/NUMTA/training-e/e13778.png  \n",
            "  inflating: dataset/NUMTA/training-e/e13779.png  \n",
            "  inflating: dataset/NUMTA/training-e/e13780.png  \n",
            "  inflating: dataset/NUMTA/training-e/e13781.png  \n",
            "  inflating: dataset/NUMTA/training-e/e13782.png  \n",
            "  inflating: dataset/NUMTA/training-e/e13783.png  \n",
            "  inflating: dataset/NUMTA/training-e/e13784.png  \n",
            "  inflating: dataset/NUMTA/training-e/e13785.png  \n",
            "  inflating: dataset/NUMTA/training-e/e13786.png  \n",
            "  inflating: dataset/NUMTA/training-e/e13787.png  \n",
            "  inflating: dataset/NUMTA/training-e/e13788.png  \n",
            "  inflating: dataset/NUMTA/training-e/e13789.png  \n",
            "  inflating: dataset/NUMTA/training-e/e13790.png  \n",
            "  inflating: dataset/NUMTA/training-e/e13791.png  \n",
            "  inflating: dataset/NUMTA/training-e/e13792.png  \n",
            "  inflating: dataset/NUMTA/training-e/e13793.png  \n",
            "  inflating: dataset/NUMTA/training-e/e13794.png  \n",
            "  inflating: dataset/NUMTA/training-e/e13795.png  \n",
            "  inflating: dataset/NUMTA/training-e/e13796.png  \n",
            "  inflating: dataset/NUMTA/training-e/e13797.png  \n",
            "  inflating: dataset/NUMTA/training-e/e13798.png  \n",
            "  inflating: dataset/NUMTA/training-e/e13799.png  \n",
            "  inflating: dataset/NUMTA/training-e/e13800.png  \n",
            "  inflating: dataset/NUMTA/training-e/e13801.png  \n",
            "  inflating: dataset/NUMTA/training-e/e13802.png  \n",
            "  inflating: dataset/NUMTA/training-e/e13803.png  \n",
            "  inflating: dataset/NUMTA/training-e/e13804.png  \n",
            "  inflating: dataset/NUMTA/training-e/e13805.png  \n",
            "  inflating: dataset/NUMTA/training-e/e13806.png  \n",
            "  inflating: dataset/NUMTA/training-e/e13807.png  \n",
            "  inflating: dataset/NUMTA/training-e/e13808.png  \n",
            "  inflating: dataset/NUMTA/training-e/e13809.png  \n",
            "  inflating: dataset/NUMTA/training-e/e13810.png  \n",
            "  inflating: dataset/NUMTA/training-e/e13811.png  \n",
            "  inflating: dataset/NUMTA/training-e/e13812.png  \n",
            "  inflating: dataset/NUMTA/training-e/e13813.png  \n",
            "  inflating: dataset/NUMTA/training-e/e13814.png  \n",
            "  inflating: dataset/NUMTA/training-e/e13815.png  \n",
            "  inflating: dataset/NUMTA/training-e/e13816.png  \n",
            "  inflating: dataset/NUMTA/training-e/e13817.png  \n",
            "  inflating: dataset/NUMTA/training-e/e13818.png  \n",
            "  inflating: dataset/NUMTA/training-e/e13819.png  \n",
            "  inflating: dataset/NUMTA/training-e/e13820.png  \n",
            "  inflating: dataset/NUMTA/training-e/e13821.png  \n",
            "  inflating: dataset/NUMTA/training-e/e13822.png  \n",
            "  inflating: dataset/NUMTA/training-e/e13823.png  \n",
            "  inflating: dataset/NUMTA/training-e/e13824.png  \n",
            "  inflating: dataset/NUMTA/training-e/e13825.png  \n",
            "  inflating: dataset/NUMTA/training-e/e13826.png  \n",
            "  inflating: dataset/NUMTA/training-e/e13827.png  \n",
            "  inflating: dataset/NUMTA/training-e/e13828.png  \n",
            "  inflating: dataset/NUMTA/training-e/e13829.png  \n",
            "  inflating: dataset/NUMTA/training-e/e13830.png  \n",
            "  inflating: dataset/NUMTA/training-e/e13831.png  \n",
            "  inflating: dataset/NUMTA/training-e/e13832.png  \n",
            "  inflating: dataset/NUMTA/training-e/e13833.png  \n",
            "  inflating: dataset/NUMTA/training-e/e13834.png  \n",
            "  inflating: dataset/NUMTA/training-e/e13835.png  \n",
            "  inflating: dataset/NUMTA/training-e/e13836.png  \n",
            "  inflating: dataset/NUMTA/training-e/e13837.png  \n",
            "  inflating: dataset/NUMTA/training-e/e13838.png  \n",
            "  inflating: dataset/NUMTA/training-e/e13839.png  \n",
            "  inflating: dataset/NUMTA/training-e/e13840.png  \n",
            "  inflating: dataset/NUMTA/training-e/e13841.png  \n",
            "  inflating: dataset/NUMTA/training-e/e13842.png  \n",
            "  inflating: dataset/NUMTA/training-e/e13843.png  \n",
            "  inflating: dataset/NUMTA/training-e/e13844.png  \n",
            "  inflating: dataset/NUMTA/training-e/e13845.png  \n",
            "  inflating: dataset/NUMTA/training-e/e13846.png  \n",
            "  inflating: dataset/NUMTA/training-e/e13847.png  \n",
            "  inflating: dataset/NUMTA/training-e/e13848.png  \n",
            "  inflating: dataset/NUMTA/training-e/e13849.png  \n",
            "  inflating: dataset/NUMTA/training-e/e13850.png  \n",
            "  inflating: dataset/NUMTA/training-e/e13851.png  \n",
            "  inflating: dataset/NUMTA/training-e/e13852.png  \n",
            "  inflating: dataset/NUMTA/training-e/e13853.png  \n",
            "  inflating: dataset/NUMTA/training-e/e13854.png  \n",
            "  inflating: dataset/NUMTA/training-e/e13855.png  \n",
            "  inflating: dataset/NUMTA/training-e/e13856.png  \n",
            "  inflating: dataset/NUMTA/training-e/e13857.png  \n",
            "  inflating: dataset/NUMTA/training-e/e13858.png  \n",
            "  inflating: dataset/NUMTA/training-e/e13859.png  \n",
            "  inflating: dataset/NUMTA/training-e/e13860.png  \n",
            "  inflating: dataset/NUMTA/training-e/e13861.png  \n",
            "  inflating: dataset/NUMTA/training-e/e13862.png  \n",
            "  inflating: dataset/NUMTA/training-e/e13863.png  \n",
            "  inflating: dataset/NUMTA/training-e/e13864.png  \n",
            "  inflating: dataset/NUMTA/training-e/e13865.png  \n",
            "  inflating: dataset/NUMTA/training-e/e13866.png  \n",
            "  inflating: dataset/NUMTA/training-e/e13867.png  \n",
            "  inflating: dataset/NUMTA/training-e/e13868.png  \n",
            "  inflating: dataset/NUMTA/training-e/e13869.png  \n",
            "  inflating: dataset/NUMTA/training-e/e13870.png  \n",
            "  inflating: dataset/NUMTA/training-e/e13871.png  \n",
            "  inflating: dataset/NUMTA/training-e/e13872.png  \n",
            "  inflating: dataset/NUMTA/training-e/e13873.png  \n",
            "  inflating: dataset/NUMTA/training-e/e13874.png  \n",
            "  inflating: dataset/NUMTA/training-e/e13875.png  \n",
            "  inflating: dataset/NUMTA/training-e/e13876.png  \n",
            "  inflating: dataset/NUMTA/training-e/e13877.png  \n",
            "  inflating: dataset/NUMTA/training-e/e13878.png  \n",
            "  inflating: dataset/NUMTA/training-e/e13879.png  \n",
            "  inflating: dataset/NUMTA/training-e/e13880.png  \n",
            "  inflating: dataset/NUMTA/training-e/e13881.png  \n",
            "  inflating: dataset/NUMTA/training-e/e13882.png  \n",
            "  inflating: dataset/NUMTA/training-e/e13883.png  \n",
            "  inflating: dataset/NUMTA/training-e/e13884.png  \n",
            "  inflating: dataset/NUMTA/training-e/e13885.png  \n",
            "  inflating: dataset/NUMTA/training-e/e13886.png  \n",
            "  inflating: dataset/NUMTA/training-e/e13887.png  \n",
            "  inflating: dataset/NUMTA/training-e/e13888.png  \n",
            "  inflating: dataset/NUMTA/training-e/e13889.png  \n",
            "  inflating: dataset/NUMTA/training-e/e13890.png  \n",
            "  inflating: dataset/NUMTA/training-e/e13891.png  \n",
            "  inflating: dataset/NUMTA/training-e/e13892.png  \n",
            "  inflating: dataset/NUMTA/training-e/e13893.png  \n",
            "  inflating: dataset/NUMTA/training-e/e13894.png  \n",
            "  inflating: dataset/NUMTA/training-e/e13895.png  \n",
            "  inflating: dataset/NUMTA/training-e/e13896.png  \n",
            "  inflating: dataset/NUMTA/training-e/e13897.png  \n",
            "  inflating: dataset/NUMTA/training-e/e13898.png  \n",
            "  inflating: dataset/NUMTA/training-e/e13899.png  \n",
            "  inflating: dataset/NUMTA/training-e/e13900.png  \n",
            "  inflating: dataset/NUMTA/training-e/e13901.png  \n",
            "  inflating: dataset/NUMTA/training-e/e13902.png  \n",
            "  inflating: dataset/NUMTA/training-e/e13903.png  \n",
            "  inflating: dataset/NUMTA/training-e/e13904.png  \n",
            "  inflating: dataset/NUMTA/training-e/e13905.png  \n",
            "  inflating: dataset/NUMTA/training-e/e13906.png  \n",
            "  inflating: dataset/NUMTA/training-e/e13907.png  \n",
            "  inflating: dataset/NUMTA/training-e/e13908.png  \n",
            "  inflating: dataset/NUMTA/training-e/e13909.png  \n",
            "  inflating: dataset/NUMTA/training-e/e13910.png  \n",
            "  inflating: dataset/NUMTA/training-e/e13911.png  \n",
            "  inflating: dataset/NUMTA/training-e/e13912.png  \n",
            "  inflating: dataset/NUMTA/training-e/e13913.png  \n",
            "  inflating: dataset/NUMTA/training-e/e13914.png  \n",
            "  inflating: dataset/NUMTA/training-e/e13915.png  \n",
            "  inflating: dataset/NUMTA/training-e/e13916.png  \n",
            "  inflating: dataset/NUMTA/training-e/e13917.png  \n",
            "  inflating: dataset/NUMTA/training-e/e13918.png  \n",
            "  inflating: dataset/NUMTA/training-e/e13919.png  \n",
            "  inflating: dataset/NUMTA/training-e/e13920.png  \n",
            "  inflating: dataset/NUMTA/training-e/e13921.png  \n",
            "  inflating: dataset/NUMTA/training-e/e13922.png  \n",
            "  inflating: dataset/NUMTA/training-e/e13923.png  \n",
            "  inflating: dataset/NUMTA/training-e/e13924.png  \n",
            "  inflating: dataset/NUMTA/training-e/e13925.png  \n",
            "  inflating: dataset/NUMTA/training-e/e13926.png  \n",
            "  inflating: dataset/NUMTA/training-e/e13927.png  \n",
            "  inflating: dataset/NUMTA/training-e/e13928.png  \n",
            "  inflating: dataset/NUMTA/training-e/e13929.png  \n",
            "  inflating: dataset/NUMTA/training-e/e13930.png  \n",
            "  inflating: dataset/NUMTA/training-e/e13931.png  \n",
            "  inflating: dataset/NUMTA/training-e/e13932.png  \n",
            "  inflating: dataset/NUMTA/training-e/e13933.png  \n",
            "  inflating: dataset/NUMTA/training-e/e13934.png  \n",
            "  inflating: dataset/NUMTA/training-e/e13935.png  \n",
            "  inflating: dataset/NUMTA/training-e/e13936.png  \n",
            "  inflating: dataset/NUMTA/training-e/e13937.png  \n",
            "  inflating: dataset/NUMTA/training-e/e13938.png  \n",
            "  inflating: dataset/NUMTA/training-e/e13939.png  \n",
            "  inflating: dataset/NUMTA/training-e/e13940.png  \n",
            "  inflating: dataset/NUMTA/training-e/e13941.png  \n",
            "  inflating: dataset/NUMTA/training-e/e13942.png  \n",
            "  inflating: dataset/NUMTA/training-e/e13943.png  \n",
            "  inflating: dataset/NUMTA/training-e/e13944.png  \n",
            "  inflating: dataset/NUMTA/training-e/e13945.png  \n",
            "  inflating: dataset/NUMTA/training-e/e13946.png  \n",
            "  inflating: dataset/NUMTA/training-e/e13947.png  \n",
            "  inflating: dataset/NUMTA/training-e/e13948.png  \n",
            "  inflating: dataset/NUMTA/training-e/e13949.png  \n",
            "  inflating: dataset/NUMTA/training-e/e13950.png  \n",
            "  inflating: dataset/NUMTA/training-e/e13951.png  \n",
            "  inflating: dataset/NUMTA/training-e/e13952.png  \n",
            "  inflating: dataset/NUMTA/training-e/e13953.png  \n",
            "  inflating: dataset/NUMTA/training-e/e13954.png  \n",
            "  inflating: dataset/NUMTA/training-e/e13955.png  \n",
            "  inflating: dataset/NUMTA/training-e/e13956.png  \n",
            "  inflating: dataset/NUMTA/training-e/e13957.png  \n",
            "  inflating: dataset/NUMTA/training-e/e13958.png  \n",
            "  inflating: dataset/NUMTA/training-e/e13959.png  \n",
            "  inflating: dataset/NUMTA/training-e/e13960.png  \n",
            "  inflating: dataset/NUMTA/training-e/e13961.png  \n",
            "  inflating: dataset/NUMTA/training-e/e13962.png  \n",
            "  inflating: dataset/NUMTA/training-e/e13963.png  \n",
            "  inflating: dataset/NUMTA/training-e/e13964.png  \n",
            "  inflating: dataset/NUMTA/training-e/e13965.png  \n",
            "  inflating: dataset/NUMTA/training-e/e13966.png  \n",
            "  inflating: dataset/NUMTA/training-e/e13967.png  \n",
            "  inflating: dataset/NUMTA/training-e/e13968.png  \n",
            "  inflating: dataset/NUMTA/training-e/e13969.png  \n",
            "  inflating: dataset/NUMTA/training-e/e13970.png  \n",
            "  inflating: dataset/NUMTA/training-e/e13971.png  \n",
            "  inflating: dataset/NUMTA/training-e/e13972.png  \n",
            "  inflating: dataset/NUMTA/training-e/e13973.png  \n",
            "  inflating: dataset/NUMTA/training-e/e13974.png  \n",
            "  inflating: dataset/NUMTA/training-e/e13975.png  \n",
            "  inflating: dataset/NUMTA/training-e/e13976.png  \n",
            "  inflating: dataset/NUMTA/training-e/e13977.png  \n",
            "  inflating: dataset/NUMTA/training-e/e13978.png  \n",
            "  inflating: dataset/NUMTA/training-e/e13979.png  \n",
            "  inflating: dataset/NUMTA/training-e/e13980.png  \n",
            "  inflating: dataset/NUMTA/training-e/e13981.png  \n",
            "  inflating: dataset/NUMTA/training-e/e13982.png  \n",
            "  inflating: dataset/NUMTA/training-e/e13983.png  \n",
            "  inflating: dataset/NUMTA/training-e/e13984.png  \n",
            "  inflating: dataset/NUMTA/training-e/e13985.png  \n",
            "  inflating: dataset/NUMTA/training-e/e13986.png  \n",
            "  inflating: dataset/NUMTA/training-e/e13987.png  \n",
            "  inflating: dataset/NUMTA/training-e/e13988.png  \n",
            "  inflating: dataset/NUMTA/training-e/e13989.png  \n",
            "  inflating: dataset/NUMTA/training-e/e13990.png  \n",
            "  inflating: dataset/NUMTA/training-e/e13991.png  \n",
            "  inflating: dataset/NUMTA/training-e/e13992.png  \n",
            "  inflating: dataset/NUMTA/training-e/e13993.png  \n",
            "  inflating: dataset/NUMTA/training-e/e13994.png  \n",
            "  inflating: dataset/NUMTA/training-e/e13995.png  \n",
            "  inflating: dataset/NUMTA/training-e/e13996.png  \n",
            "  inflating: dataset/NUMTA/training-e/e13997.png  \n",
            "  inflating: dataset/NUMTA/training-e/e13998.png  \n",
            "  inflating: dataset/NUMTA/training-e/e13999.png  \n",
            "  inflating: dataset/NUMTA/training-e/e14000.png  \n",
            "  inflating: dataset/NUMTA/training-e/e14001.png  \n",
            "  inflating: dataset/NUMTA/training-e/e14002.png  \n",
            "  inflating: dataset/NUMTA/training-e/e14003.png  \n",
            "  inflating: dataset/NUMTA/training-e/e14004.png  \n",
            "  inflating: dataset/NUMTA/training-e/e14005.png  \n",
            "  inflating: dataset/NUMTA/training-e/e14006.png  \n",
            "  inflating: dataset/NUMTA/training-e/e14007.png  \n",
            "  inflating: dataset/NUMTA/training-e/e14008.png  \n",
            "  inflating: dataset/NUMTA/training-e/e14009.png  \n",
            "  inflating: dataset/NUMTA/training-e/e14010.png  \n",
            "  inflating: dataset/NUMTA/training-e/e14011.png  \n",
            "  inflating: dataset/NUMTA/training-e/e14012.png  \n",
            "  inflating: dataset/NUMTA/training-e/e14013.png  \n",
            "  inflating: dataset/NUMTA/training-e/e14014.png  \n",
            "  inflating: dataset/NUMTA/training-e/e14015.png  \n",
            "  inflating: dataset/NUMTA/training-e/e14016.png  \n",
            "  inflating: dataset/NUMTA/training-e/e14017.png  \n",
            "  inflating: dataset/NUMTA/training-e/e14018.png  \n",
            "  inflating: dataset/NUMTA/training-e/e14019.png  \n",
            "  inflating: dataset/NUMTA/training-e/e14020.png  \n",
            "  inflating: dataset/NUMTA/training-e/e14021.png  \n",
            "  inflating: dataset/NUMTA/training-e/e14022.png  \n",
            "  inflating: dataset/NUMTA/training-e/e14023.png  \n",
            "  inflating: dataset/NUMTA/training-e/e14024.png  \n",
            "  inflating: dataset/NUMTA/training-e/e14025.png  \n",
            "  inflating: dataset/NUMTA/training-e/e14026.png  \n",
            "  inflating: dataset/NUMTA/training-e/e14027.png  \n",
            "  inflating: dataset/NUMTA/training-e/e14028.png  \n",
            "  inflating: dataset/NUMTA/training-e/e14029.png  \n",
            "  inflating: dataset/NUMTA/training-e/e14030.png  \n",
            "  inflating: dataset/NUMTA/training-e/e14031.png  \n",
            "  inflating: dataset/NUMTA/training-e/e14032.png  \n",
            "  inflating: dataset/NUMTA/training-e/e14033.png  \n",
            "  inflating: dataset/NUMTA/training-e/e14034.png  \n",
            "  inflating: dataset/NUMTA/training-e/e14035.png  \n",
            "  inflating: dataset/NUMTA/training-e/e14036.png  \n",
            "  inflating: dataset/NUMTA/training-e/e14037.png  \n",
            "  inflating: dataset/NUMTA/training-e/e14038.png  \n",
            "  inflating: dataset/NUMTA/training-e/e14039.png  \n",
            "  inflating: dataset/NUMTA/training-e/e14040.png  \n",
            "  inflating: dataset/NUMTA/training-e/e14041.png  \n",
            "  inflating: dataset/NUMTA/training-e/e14042.png  \n",
            "  inflating: dataset/NUMTA/training-e/e14043.png  \n",
            "  inflating: dataset/NUMTA/training-e/e14044.png  \n",
            "  inflating: dataset/NUMTA/training-e/e14045.png  \n",
            "  inflating: dataset/NUMTA/training-e/e14046.png  \n",
            "  inflating: dataset/NUMTA/training-e/e14047.png  \n",
            "  inflating: dataset/NUMTA/training-e/e14048.png  \n",
            "  inflating: dataset/NUMTA/training-e/e14049.png  \n",
            "  inflating: dataset/NUMTA/training-e/e14050.png  \n",
            "  inflating: dataset/NUMTA/training-e/e14051.png  \n",
            "  inflating: dataset/NUMTA/training-e/e14052.png  \n",
            "  inflating: dataset/NUMTA/training-e/e14053.png  \n",
            "  inflating: dataset/NUMTA/training-e/e14054.png  \n",
            "  inflating: dataset/NUMTA/training-e/e14055.png  \n",
            "  inflating: dataset/NUMTA/training-e/e14056.png  \n",
            "  inflating: dataset/NUMTA/training-e/e14057.png  \n",
            "  inflating: dataset/NUMTA/training-e/e14058.png  \n",
            "  inflating: dataset/NUMTA/training-e/e14059.png  \n",
            "  inflating: dataset/NUMTA/training-e/e14060.png  \n",
            "  inflating: dataset/NUMTA/training-e/e14061.png  \n",
            "  inflating: dataset/NUMTA/training-e/e14062.png  \n",
            "  inflating: dataset/NUMTA/training-e/e14063.png  \n",
            "  inflating: dataset/NUMTA/training-e/e14064.png  \n",
            "  inflating: dataset/NUMTA/training-e/e14065.png  \n",
            "  inflating: dataset/NUMTA/training-e/e14066.png  \n",
            "  inflating: dataset/NUMTA/training-e/e14067.png  \n",
            "  inflating: dataset/NUMTA/training-e/e14068.png  \n",
            "  inflating: dataset/NUMTA/training-e/e14069.png  \n",
            "  inflating: dataset/NUMTA/training-e/e14070.png  \n",
            "  inflating: dataset/NUMTA/training-e/e14071.png  \n",
            "  inflating: dataset/NUMTA/training-e/e14072.png  \n",
            "  inflating: dataset/NUMTA/training-e/e14073.png  \n",
            "  inflating: dataset/NUMTA/training-e/e14074.png  \n",
            "  inflating: dataset/NUMTA/training-e/e14075.png  \n",
            "  inflating: dataset/NUMTA/training-e/e14076.png  \n",
            "  inflating: dataset/NUMTA/training-e/e14077.png  \n",
            "  inflating: dataset/NUMTA/training-e/e14078.png  \n",
            "  inflating: dataset/NUMTA/training-e/e14079.png  \n",
            "  inflating: dataset/NUMTA/training-e/e14080.png  \n",
            "  inflating: dataset/NUMTA/training-e/e14081.png  \n",
            "  inflating: dataset/NUMTA/training-e/e14082.png  \n",
            "  inflating: dataset/NUMTA/training-e/e14083.png  \n",
            "  inflating: dataset/NUMTA/training-e/e14084.png  \n",
            "  inflating: dataset/NUMTA/training-e/e14085.png  \n",
            "  inflating: dataset/NUMTA/training-e/e14086.png  \n",
            "  inflating: dataset/NUMTA/training-e/e14087.png  \n",
            "  inflating: dataset/NUMTA/training-e/e14088.png  \n",
            "  inflating: dataset/NUMTA/training-e/e14089.png  \n",
            "  inflating: dataset/NUMTA/training-e/e14090.png  \n",
            "  inflating: dataset/NUMTA/training-e/e14091.png  \n",
            "  inflating: dataset/NUMTA/training-e/e14092.png  \n",
            "  inflating: dataset/NUMTA/training-e/e14093.png  \n",
            "  inflating: dataset/NUMTA/training-e/e14094.png  \n",
            "  inflating: dataset/NUMTA/training-e/e14095.png  \n",
            "  inflating: dataset/NUMTA/training-e/e14096.png  \n",
            "  inflating: dataset/NUMTA/training-e/e14097.png  \n",
            "  inflating: dataset/NUMTA/training-e/e14098.png  \n",
            "  inflating: dataset/NUMTA/training-e/e14099.png  \n",
            "  inflating: dataset/NUMTA/training-e/e14100.png  \n",
            "  inflating: dataset/NUMTA/training-e/e14101.png  \n",
            "  inflating: dataset/NUMTA/training-e/e14102.png  \n",
            "  inflating: dataset/NUMTA/training-e/e14103.png  \n",
            "  inflating: dataset/NUMTA/training-e/e14104.png  \n",
            "  inflating: dataset/NUMTA/training-e/e14105.png  \n",
            "  inflating: dataset/NUMTA/training-e/e14106.png  \n",
            "  inflating: dataset/NUMTA/training-e/e14107.png  \n",
            "  inflating: dataset/NUMTA/training-e/e14108.png  \n",
            "  inflating: dataset/NUMTA/training-e/e14109.png  \n",
            "  inflating: dataset/NUMTA/training-e/e14110.png  \n",
            "  inflating: dataset/NUMTA/training-e/e14111.png  \n",
            "  inflating: dataset/NUMTA/training-e/e14112.png  \n",
            "  inflating: dataset/NUMTA/training-e/e14113.png  \n",
            "  inflating: dataset/NUMTA/training-e/e14114.png  \n",
            "  inflating: dataset/NUMTA/training-e/e14115.png  \n",
            "  inflating: dataset/NUMTA/training-e/e14116.png  \n",
            "  inflating: dataset/NUMTA/training-e/e14117.png  \n",
            "  inflating: dataset/NUMTA/training-e/e14118.png  \n",
            "  inflating: dataset/NUMTA/training-e/e14119.png  \n",
            "  inflating: dataset/NUMTA/training-e/e14120.png  \n",
            "  inflating: dataset/NUMTA/training-e/e14121.png  \n",
            "  inflating: dataset/NUMTA/training-e/e14122.png  \n",
            "  inflating: dataset/NUMTA/training-e/e14123.png  \n",
            "  inflating: dataset/NUMTA/training-e/e14124.png  \n",
            "  inflating: dataset/NUMTA/training-e/e14125.png  \n",
            "  inflating: dataset/NUMTA/training-e/e14126.png  \n",
            "  inflating: dataset/NUMTA/training-e/e14127.png  \n",
            "  inflating: dataset/NUMTA/training-e/e14128.png  \n",
            "  inflating: dataset/NUMTA/training-e/e14129.png  \n",
            "  inflating: dataset/NUMTA/training-e/e14130.png  \n",
            "  inflating: dataset/NUMTA/training-e/e14131.png  \n",
            "  inflating: dataset/NUMTA/training-e/e14132.png  \n",
            "  inflating: dataset/NUMTA/training-e/e14133.png  \n",
            "  inflating: dataset/NUMTA/training-e/e14134.png  \n",
            "  inflating: dataset/NUMTA/training-e/e14135.png  \n",
            "  inflating: dataset/NUMTA/training-e/e14136.png  \n",
            "  inflating: dataset/NUMTA/training-e/e14137.png  \n",
            "  inflating: dataset/NUMTA/training-e/e14138.png  \n",
            "  inflating: dataset/NUMTA/training-e/e14139.png  \n",
            "  inflating: dataset/NUMTA/training-e/e14140.png  \n",
            "  inflating: dataset/NUMTA/training-e/e14141.png  \n",
            "  inflating: dataset/NUMTA/training-e/e14142.png  \n",
            "  inflating: dataset/NUMTA/training-e/e14143.png  \n",
            "  inflating: dataset/NUMTA/training-e/e14144.png  \n",
            "  inflating: dataset/NUMTA/training-e/e14145.png  \n",
            "  inflating: dataset/NUMTA/training-e/e14146.png  \n",
            "  inflating: dataset/NUMTA/training-e/e14147.png  \n",
            "  inflating: dataset/NUMTA/training-e/e14148.png  \n",
            "  inflating: dataset/NUMTA/training-e/e14149.png  \n",
            "  inflating: dataset/NUMTA/training-e/e14150.png  \n",
            "  inflating: dataset/NUMTA/training-e/e14151.png  \n",
            "  inflating: dataset/NUMTA/training-e/e14152.png  \n",
            "  inflating: dataset/NUMTA/training-e/e14153.png  \n",
            "  inflating: dataset/NUMTA/training-e/e14154.png  \n",
            "  inflating: dataset/NUMTA/training-e/e14155.png  \n",
            "  inflating: dataset/NUMTA/training-e/e14156.png  \n",
            "  inflating: dataset/NUMTA/training-e/e14157.png  \n",
            "  inflating: dataset/NUMTA/training-e/e14158.png  \n",
            "  inflating: dataset/NUMTA/training-e/e14159.png  \n",
            "  inflating: dataset/NUMTA/training-e/e14160.png  \n",
            "  inflating: dataset/NUMTA/training-e/e14161.png  \n",
            "  inflating: dataset/NUMTA/training-e/e14162.png  \n",
            "  inflating: dataset/NUMTA/training-e/e14163.png  \n",
            "  inflating: dataset/NUMTA/training-e/e14164.png  \n",
            "  inflating: dataset/NUMTA/training-e/e14165.png  \n",
            "  inflating: dataset/NUMTA/training-e/e14166.png  \n",
            "  inflating: dataset/NUMTA/training-e/e14167.png  \n",
            "  inflating: dataset/NUMTA/training-e/e14168.png  \n",
            "  inflating: dataset/NUMTA/training-e/e14169.png  \n",
            "  inflating: dataset/NUMTA/training-e/e14170.png  \n",
            "  inflating: dataset/NUMTA/training-e/e14171.png  \n",
            "  inflating: dataset/NUMTA/training-e/e14172.png  \n",
            "  inflating: dataset/NUMTA/training-e/e14173.png  \n",
            "  inflating: dataset/NUMTA/training-e/e14174.png  \n",
            "  inflating: dataset/NUMTA/training-e/e14175.png  \n",
            "  inflating: dataset/NUMTA/training-e/e14176.png  \n",
            "  inflating: dataset/NUMTA/training-e/e14177.png  \n",
            "  inflating: dataset/NUMTA/training-e/e14178.png  \n",
            "  inflating: dataset/NUMTA/training-e/e14179.png  \n",
            "  inflating: dataset/NUMTA/training-e/e14180.png  \n",
            "  inflating: dataset/NUMTA/training-e/e14181.png  \n",
            "  inflating: dataset/NUMTA/training-e/e14182.png  \n",
            "  inflating: dataset/NUMTA/training-e/e14183.png  \n",
            "  inflating: dataset/NUMTA/training-e/e14184.png  \n",
            "  inflating: dataset/NUMTA/training-e/e14185.png  \n",
            "  inflating: dataset/NUMTA/training-e/e14186.png  \n",
            "  inflating: dataset/NUMTA/training-e/e14187.png  \n",
            "  inflating: dataset/NUMTA/training-e/e14188.png  \n",
            "  inflating: dataset/NUMTA/training-e/e14189.png  \n",
            "  inflating: dataset/NUMTA/training-e/e14190.png  \n",
            "  inflating: dataset/NUMTA/training-e/e14191.png  \n",
            "  inflating: dataset/NUMTA/training-e/e14192.png  \n",
            "  inflating: dataset/NUMTA/training-e/e14193.png  \n",
            "  inflating: dataset/NUMTA/training-e/e14194.png  \n",
            "  inflating: dataset/NUMTA/training-e/e14195.png  \n",
            "  inflating: dataset/NUMTA/training-e/e14196.png  \n",
            "  inflating: dataset/NUMTA/training-e/e14197.png  \n",
            "  inflating: dataset/NUMTA/training-e/e14198.png  \n",
            "  inflating: dataset/NUMTA/training-e/e14199.png  \n",
            "  inflating: dataset/NUMTA/training-e/e14200.png  \n",
            "  inflating: dataset/NUMTA/training-e/e14201.png  \n",
            "  inflating: dataset/NUMTA/training-e/e14202.png  \n",
            "  inflating: dataset/NUMTA/training-e/e14203.png  \n",
            "  inflating: dataset/NUMTA/training-e/e14204.png  \n",
            "  inflating: dataset/NUMTA/training-e/e14205.png  \n",
            "  inflating: dataset/NUMTA/training-e/e14206.png  \n",
            "  inflating: dataset/NUMTA/training-e/e14207.png  \n",
            "  inflating: dataset/NUMTA/training-e/e14208.png  \n",
            "  inflating: dataset/NUMTA/training-e/e14209.png  \n",
            "  inflating: dataset/NUMTA/training-e/e14210.png  \n",
            "  inflating: dataset/NUMTA/training-e/e14211.png  \n",
            "  inflating: dataset/NUMTA/training-e/e14212.png  \n",
            "  inflating: dataset/NUMTA/training-e/e14213.png  \n",
            "  inflating: dataset/NUMTA/training-e/e14214.png  \n",
            "  inflating: dataset/NUMTA/training-e/e14215.png  \n",
            "  inflating: dataset/NUMTA/training-e/e14216.png  \n",
            "  inflating: dataset/NUMTA/training-e/e14217.png  \n",
            "  inflating: dataset/NUMTA/training-e/e14218.png  \n",
            "  inflating: dataset/NUMTA/training-e/e14219.png  \n",
            "  inflating: dataset/NUMTA/training-e/e14220.png  \n",
            "  inflating: dataset/NUMTA/training-e/e14221.png  \n",
            "  inflating: dataset/NUMTA/training-e/e14222.png  \n",
            "  inflating: dataset/NUMTA/training-e/e14223.png  \n",
            "  inflating: dataset/NUMTA/training-e/e14224.png  \n",
            "  inflating: dataset/NUMTA/training-e/e14225.png  \n",
            "  inflating: dataset/NUMTA/training-e/e14226.png  \n",
            "  inflating: dataset/NUMTA/training-e/e14227.png  \n",
            "  inflating: dataset/NUMTA/training-e/e14228.png  \n",
            "  inflating: dataset/NUMTA/training-e/e14229.png  \n",
            "  inflating: dataset/NUMTA/training-e/e14230.png  \n",
            "  inflating: dataset/NUMTA/training-e/e14231.png  \n",
            "  inflating: dataset/NUMTA/training-e/e14232.png  \n",
            "  inflating: dataset/NUMTA/training-e/e14233.png  \n",
            "  inflating: dataset/NUMTA/training-e/e14234.png  \n",
            "  inflating: dataset/NUMTA/training-e/e14235.png  \n",
            "  inflating: dataset/NUMTA/training-e/e14236.png  \n",
            "  inflating: dataset/NUMTA/training-e/e14237.png  \n",
            "  inflating: dataset/NUMTA/training-e/e14238.png  \n",
            "  inflating: dataset/NUMTA/training-e/e14239.png  \n",
            "  inflating: dataset/NUMTA/training-e/e14240.png  \n",
            "  inflating: dataset/NUMTA/training-e/e14241.png  \n",
            "  inflating: dataset/NUMTA/training-e/e14242.png  \n",
            "  inflating: dataset/NUMTA/training-e/e14243.png  \n",
            "  inflating: dataset/NUMTA/training-e/e14244.png  \n",
            "  inflating: dataset/NUMTA/training-e/e14245.png  \n",
            "  inflating: dataset/NUMTA/training-e/e14246.png  \n",
            "  inflating: dataset/NUMTA/training-e/e14247.png  \n",
            "  inflating: dataset/NUMTA/training-e/e14248.png  \n",
            "  inflating: dataset/NUMTA/training-e/e14249.png  \n",
            "  inflating: dataset/NUMTA/training-e/e14250.png  \n",
            "  inflating: dataset/NUMTA/training-e/e14251.png  \n",
            "  inflating: dataset/NUMTA/training-e/e14252.png  \n",
            "  inflating: dataset/NUMTA/training-e/e14253.png  \n",
            "  inflating: dataset/NUMTA/training-e/e14254.png  \n",
            "  inflating: dataset/NUMTA/training-e/e14255.png  \n",
            "  inflating: dataset/NUMTA/training-e/e14256.png  \n",
            "  inflating: dataset/NUMTA/training-e/e14257.png  \n",
            "  inflating: dataset/NUMTA/training-e/e14258.png  \n",
            "  inflating: dataset/NUMTA/training-e/e14259.png  \n",
            "  inflating: dataset/NUMTA/training-e/e14260.png  \n",
            "  inflating: dataset/NUMTA/training-e/e14261.png  \n",
            "  inflating: dataset/NUMTA/training-e/e14262.png  \n",
            "  inflating: dataset/NUMTA/training-e/e14263.png  \n",
            "  inflating: dataset/NUMTA/training-e/e14264.png  \n",
            "  inflating: dataset/NUMTA/training-e/e14265.png  \n",
            "  inflating: dataset/NUMTA/training-e/e14266.png  \n",
            "  inflating: dataset/NUMTA/training-e/e14267.png  \n",
            "  inflating: dataset/NUMTA/training-e/e14268.png  \n",
            "  inflating: dataset/NUMTA/training-e/e14269.png  \n",
            "  inflating: dataset/NUMTA/training-e/e14270.png  \n",
            "  inflating: dataset/NUMTA/training-e/e14271.png  \n",
            "  inflating: dataset/NUMTA/training-e/e14272.png  \n",
            "  inflating: dataset/NUMTA/training-e/e14273.png  \n",
            "  inflating: dataset/NUMTA/training-e/e14274.png  \n",
            "  inflating: dataset/NUMTA/training-e/e14275.png  \n",
            "  inflating: dataset/NUMTA/training-e/e14276.png  \n",
            "  inflating: dataset/NUMTA/training-e/e14277.png  \n",
            "  inflating: dataset/NUMTA/training-e/e14278.png  \n",
            "  inflating: dataset/NUMTA/training-e/e14279.png  \n",
            "  inflating: dataset/NUMTA/training-e/e14280.png  \n",
            "  inflating: dataset/NUMTA/training-e/e14281.png  \n",
            "  inflating: dataset/NUMTA/training-e/e14282.png  \n",
            "  inflating: dataset/NUMTA/training-e/e14283.png  \n",
            "  inflating: dataset/NUMTA/training-e/e14284.png  \n",
            "  inflating: dataset/NUMTA/training-e/e14285.png  \n",
            "  inflating: dataset/NUMTA/training-e/e14286.png  \n",
            "  inflating: dataset/NUMTA/training-e/e14287.png  \n",
            "  inflating: dataset/NUMTA/training-e/e14288.png  \n",
            "  inflating: dataset/NUMTA/training-e/e14289.png  \n",
            "  inflating: dataset/NUMTA/training-e/e14290.png  \n",
            "  inflating: dataset/NUMTA/training-e/e14291.png  \n",
            "  inflating: dataset/NUMTA/training-e/e14292.png  \n",
            "  inflating: dataset/NUMTA/training-e/e14293.png  \n",
            "  inflating: dataset/NUMTA/training-e/e14294.png  \n",
            "  inflating: dataset/NUMTA/training-e/e14295.png  \n",
            "  inflating: dataset/NUMTA/training-e/e14296.png  \n",
            "  inflating: dataset/NUMTA/training-e/e14297.png  \n",
            "  inflating: dataset/NUMTA/training-e/e14298.png  \n",
            "  inflating: dataset/NUMTA/training-e/e14299.png  \n",
            "  inflating: dataset/NUMTA/training-e/e14300.png  \n",
            "  inflating: dataset/NUMTA/training-e/e14301.png  \n",
            "  inflating: dataset/NUMTA/training-e/e14302.png  \n",
            "  inflating: dataset/NUMTA/training-e/e14303.png  \n",
            "  inflating: dataset/NUMTA/training-e/e14304.png  \n",
            "  inflating: dataset/NUMTA/training-e/e14305.png  \n",
            "  inflating: dataset/NUMTA/training-e/e14306.png  \n",
            "  inflating: dataset/NUMTA/training-e/e14307.png  \n",
            "  inflating: dataset/NUMTA/training-e/e14308.png  \n",
            "  inflating: dataset/NUMTA/training-e/e14309.png  \n",
            "  inflating: dataset/NUMTA/training-e/e14310.png  \n",
            "  inflating: dataset/NUMTA/training-e/e14311.png  \n",
            "  inflating: dataset/NUMTA/training-e/e14312.png  \n",
            "  inflating: dataset/NUMTA/training-e/e14313.png  \n",
            "  inflating: dataset/NUMTA/training-e/e14314.png  \n",
            "  inflating: dataset/NUMTA/training-e/e14315.png  \n",
            "  inflating: dataset/NUMTA/training-e/e14316.png  \n",
            "  inflating: dataset/NUMTA/training-e/e14317.png  \n",
            "  inflating: dataset/NUMTA/training-e/e14318.png  \n",
            "  inflating: dataset/NUMTA/training-e/e14319.png  \n",
            "  inflating: dataset/NUMTA/training-e/e14320.png  \n",
            "  inflating: dataset/NUMTA/training-e/e14321.png  \n",
            "  inflating: dataset/NUMTA/training-e/e14322.png  \n",
            "  inflating: dataset/NUMTA/training-e/e14323.png  \n",
            "  inflating: dataset/NUMTA/training-e/e14324.png  \n",
            "  inflating: dataset/NUMTA/training-e/e14325.png  \n",
            "  inflating: dataset/NUMTA/training-e/e14326.png  \n",
            "  inflating: dataset/NUMTA/training-e/e14327.png  \n",
            "  inflating: dataset/NUMTA/training-e/e14328.png  \n",
            "  inflating: dataset/NUMTA/training-e/e14329.png  \n",
            "  inflating: dataset/NUMTA/training-e/e14330.png  \n",
            "  inflating: dataset/NUMTA/training-e/e14331.png  \n",
            "  inflating: dataset/NUMTA/training-e/e14332.png  \n",
            "  inflating: dataset/NUMTA/training-e/e14333.png  \n",
            "  inflating: dataset/NUMTA/training-e/e14334.png  \n",
            "  inflating: dataset/NUMTA/training-e/e14335.png  \n",
            "  inflating: dataset/NUMTA/training-e/e14336.png  \n",
            "  inflating: dataset/NUMTA/training-e/e14337.png  \n",
            "  inflating: dataset/NUMTA/training-e/e14338.png  \n",
            "  inflating: dataset/NUMTA/training-e/e14339.png  \n",
            "  inflating: dataset/NUMTA/training-e/e14340.png  \n",
            "  inflating: dataset/NUMTA/training-e/e14341.png  \n",
            "  inflating: dataset/NUMTA/training-e/e14342.png  \n",
            "  inflating: dataset/NUMTA/training-e/e14343.png  \n",
            "  inflating: dataset/NUMTA/training-e/e14344.png  \n",
            "  inflating: dataset/NUMTA/training-e/e14345.png  \n",
            "  inflating: dataset/NUMTA/training-e/e14346.png  \n",
            "  inflating: dataset/NUMTA/training-e/e14347.png  \n",
            "  inflating: dataset/NUMTA/training-e/e14348.png  \n",
            "  inflating: dataset/NUMTA/training-e/e14349.png  \n",
            "  inflating: dataset/NUMTA/training-e/e14350.png  \n",
            "  inflating: dataset/NUMTA/training-e/e14351.png  \n",
            "  inflating: dataset/NUMTA/training-e/e14352.png  \n",
            "  inflating: dataset/NUMTA/training-e/e14353.png  \n",
            "  inflating: dataset/NUMTA/training-e/e14354.png  \n",
            "  inflating: dataset/NUMTA/training-e/e14355.png  \n",
            "  inflating: dataset/NUMTA/training-e/e14356.png  \n",
            "  inflating: dataset/NUMTA/training-e/e14357.png  \n",
            "  inflating: dataset/NUMTA/training-e/e14358.png  \n",
            "  inflating: dataset/NUMTA/training-e/e14359.png  \n",
            "  inflating: dataset/NUMTA/training-e/e14360.png  \n",
            "  inflating: dataset/NUMTA/training-e/e14361.png  \n",
            "  inflating: dataset/NUMTA/training-e/e14362.png  \n",
            "  inflating: dataset/NUMTA/training-e/e14363.png  \n",
            "  inflating: dataset/NUMTA/training-e/e14364.png  \n",
            "  inflating: dataset/NUMTA/training-e/e14365.png  \n",
            "  inflating: dataset/NUMTA/training-e/e14366.png  \n",
            "  inflating: dataset/NUMTA/training-e/e14367.png  \n",
            "  inflating: dataset/NUMTA/training-e/e14368.png  \n",
            "  inflating: dataset/NUMTA/training-e/e14369.png  \n",
            "  inflating: dataset/NUMTA/training-e/e14370.png  \n",
            "  inflating: dataset/NUMTA/training-e/e14371.png  \n",
            "  inflating: dataset/NUMTA/training-e/e14372.png  \n",
            "  inflating: dataset/NUMTA/training-e/e14373.png  \n",
            "  inflating: dataset/NUMTA/training-e/e14374.png  \n",
            "  inflating: dataset/NUMTA/training-e/e14375.png  \n",
            "  inflating: dataset/NUMTA/training-e/e14376.png  \n",
            "  inflating: dataset/NUMTA/training-e/e14377.png  \n",
            "  inflating: dataset/NUMTA/training-e/e14378.png  \n",
            "  inflating: dataset/NUMTA/training-e/e14379.png  \n",
            "  inflating: dataset/NUMTA/training-e/e14380.png  \n",
            "  inflating: dataset/NUMTA/training-e/e14381.png  \n",
            "  inflating: dataset/NUMTA/training-e/e14382.png  \n",
            "  inflating: dataset/NUMTA/training-e/e14383.png  \n",
            "  inflating: dataset/NUMTA/training-e/e14384.png  \n",
            "  inflating: dataset/NUMTA/training-e/e14385.png  \n",
            "  inflating: dataset/NUMTA/training-e/e14386.png  \n",
            "  inflating: dataset/NUMTA/training-e/e14387.png  \n",
            "  inflating: dataset/NUMTA/training-e/e14388.png  \n",
            "  inflating: dataset/NUMTA/training-e/e14389.png  \n",
            "  inflating: dataset/NUMTA/training-e/e14390.png  \n",
            "  inflating: dataset/NUMTA/training-e/e14391.png  \n",
            "  inflating: dataset/NUMTA/training-e/e14392.png  \n",
            "  inflating: dataset/NUMTA/training-e/e14393.png  \n",
            "  inflating: dataset/NUMTA/training-e/e14394.png  \n",
            "  inflating: dataset/NUMTA/training-e/e14395.png  \n",
            "  inflating: dataset/NUMTA/training-e/e14396.png  \n",
            "  inflating: dataset/NUMTA/training-e/e14397.png  \n",
            "  inflating: dataset/NUMTA/training-e/e14398.png  \n",
            "  inflating: dataset/NUMTA/training-e/e14399.png  \n",
            "  inflating: dataset/NUMTA/training-e/e14400.png  \n",
            "  inflating: dataset/NUMTA/training-e/e14401.png  \n",
            "  inflating: dataset/NUMTA/training-e/e14402.png  \n",
            "  inflating: dataset/NUMTA/training-e/e14403.png  \n",
            "  inflating: dataset/NUMTA/training-e/e14404.png  \n",
            "  inflating: dataset/NUMTA/training-e/e14405.png  \n",
            "  inflating: dataset/NUMTA/training-e/e14406.png  \n",
            "  inflating: dataset/NUMTA/training-e/e14407.png  \n",
            "  inflating: dataset/NUMTA/training-e/e14408.png  \n",
            "  inflating: dataset/NUMTA/training-e/e14409.png  \n",
            "  inflating: dataset/NUMTA/training-e/e14410.png  \n",
            "  inflating: dataset/NUMTA/training-e/e14411.png  \n",
            "  inflating: dataset/NUMTA/training-e/e14412.png  \n",
            "  inflating: dataset/NUMTA/training-e/e14413.png  \n",
            "  inflating: dataset/NUMTA/training-e/e14414.png  \n",
            "  inflating: dataset/NUMTA/training-e/e14415.png  \n",
            "  inflating: dataset/NUMTA/training-e/e14416.png  \n",
            "  inflating: dataset/NUMTA/training-e/e14417.png  \n",
            "  inflating: dataset/NUMTA/training-e/e14418.png  \n",
            "  inflating: dataset/NUMTA/training-e/e14419.png  \n",
            "  inflating: dataset/NUMTA/training-e/e14420.png  \n",
            "  inflating: dataset/NUMTA/training-e/e14421.png  \n",
            "  inflating: dataset/NUMTA/training-e/e14422.png  \n",
            "  inflating: dataset/NUMTA/training-e/e14423.png  \n",
            "  inflating: dataset/NUMTA/training-e/e14424.png  \n",
            "  inflating: dataset/NUMTA/training-e/e14425.png  \n",
            "  inflating: dataset/NUMTA/training-e/e14426.png  \n",
            "  inflating: dataset/NUMTA/training-e/e14427.png  \n",
            "  inflating: dataset/NUMTA/training-e/e14428.png  \n",
            "  inflating: dataset/NUMTA/training-e/e14429.png  \n",
            "  inflating: dataset/NUMTA/training-e/e14430.png  \n",
            "  inflating: dataset/NUMTA/training-e/e14431.png  \n",
            "  inflating: dataset/NUMTA/training-e/e14432.png  \n",
            "  inflating: dataset/NUMTA/training-e/e14433.png  \n",
            "  inflating: dataset/NUMTA/training-e/e14434.png  \n",
            "  inflating: dataset/NUMTA/training-e/e14435.png  \n",
            "  inflating: dataset/NUMTA/training-e/e14436.png  \n",
            "  inflating: dataset/NUMTA/training-e/e14437.png  \n",
            "  inflating: dataset/NUMTA/training-e/e14438.png  \n",
            "  inflating: dataset/NUMTA/training-e/e14439.png  \n",
            "  inflating: dataset/NUMTA/training-e/e14440.png  \n",
            "  inflating: dataset/NUMTA/training-e/e14441.png  \n",
            "  inflating: dataset/NUMTA/training-e/e14442.png  \n",
            "  inflating: dataset/NUMTA/training-e/e14443.png  \n",
            "  inflating: dataset/NUMTA/training-e/e14444.png  \n",
            "  inflating: dataset/NUMTA/training-e/e14445.png  \n",
            "  inflating: dataset/NUMTA/training-e/e14446.png  \n",
            "  inflating: dataset/NUMTA/training-e/e14447.png  \n",
            "  inflating: dataset/NUMTA/training-e/e14448.png  \n",
            "  inflating: dataset/NUMTA/training-e/e14449.png  \n",
            "  inflating: dataset/NUMTA/training-e/e14450.png  \n",
            "  inflating: dataset/NUMTA/training-e/e14451.png  \n",
            "  inflating: dataset/NUMTA/training-e/e14452.png  \n",
            "  inflating: dataset/NUMTA/training-e/e14453.png  \n",
            "  inflating: dataset/NUMTA/training-e/e14454.png  \n",
            "  inflating: dataset/NUMTA/training-e/e14455.png  \n",
            "  inflating: dataset/NUMTA/training-e/e14456.png  \n",
            "  inflating: dataset/NUMTA/training-e/e14457.png  \n",
            "  inflating: dataset/NUMTA/training-e/e14458.png  \n",
            "  inflating: dataset/NUMTA/training-e/e14459.png  \n",
            "  inflating: dataset/NUMTA/training-e/e14460.png  \n",
            "  inflating: dataset/NUMTA/training-e/e14461.png  \n",
            "  inflating: dataset/NUMTA/training-e/e14462.png  \n",
            "  inflating: dataset/NUMTA/training-e/e14463.png  \n",
            "  inflating: dataset/NUMTA/training-e/e14464.png  \n",
            "  inflating: dataset/NUMTA/training-e/e14465.png  \n",
            "  inflating: dataset/NUMTA/training-e/e14466.png  \n",
            "  inflating: dataset/NUMTA/training-e/e14467.png  \n",
            "  inflating: dataset/NUMTA/training-e/e14468.png  \n",
            "  inflating: dataset/NUMTA/training-e/e14469.png  \n",
            "  inflating: dataset/NUMTA/training-e/e14470.png  \n",
            "  inflating: dataset/NUMTA/training-e/e14471.png  \n",
            "  inflating: dataset/NUMTA/training-e/e14472.png  \n",
            "  inflating: dataset/NUMTA/training-e/e14473.png  \n",
            "  inflating: dataset/NUMTA/training-e/e14474.png  \n",
            "  inflating: dataset/NUMTA/training-e/e14475.png  \n",
            "  inflating: dataset/NUMTA/training-e/e14476.png  \n",
            "  inflating: dataset/NUMTA/training-e/e14477.png  \n",
            "  inflating: dataset/NUMTA/training-e/e14478.png  \n",
            "  inflating: dataset/NUMTA/training-e/e14479.png  \n",
            "  inflating: dataset/NUMTA/training-e/e14480.png  \n",
            "  inflating: dataset/NUMTA/training-e/e14481.png  \n",
            "  inflating: dataset/NUMTA/training-e/e14482.png  \n",
            "  inflating: dataset/NUMTA/training-e/e14483.png  \n",
            "  inflating: dataset/NUMTA/training-e/e14484.png  \n",
            "  inflating: dataset/NUMTA/training-e/e14485.png  \n",
            "  inflating: dataset/NUMTA/training-e/e14486.png  \n",
            "  inflating: dataset/NUMTA/training-e/e14487.png  \n",
            "  inflating: dataset/NUMTA/training-e/e14488.png  \n",
            "  inflating: dataset/NUMTA/training-e/e14489.png  \n",
            "  inflating: dataset/NUMTA/training-e/e14490.png  \n",
            "  inflating: dataset/NUMTA/training-e/e14491.png  \n",
            "  inflating: dataset/NUMTA/training-e/e14492.png  \n",
            "  inflating: dataset/NUMTA/training-e/e14493.png  \n",
            "  inflating: dataset/NUMTA/training-e/e14494.png  \n",
            "  inflating: dataset/NUMTA/training-e/e14495.png  \n",
            "  inflating: dataset/NUMTA/training-e/e14496.png  \n",
            "  inflating: dataset/NUMTA/training-e/e14497.png  \n",
            "  inflating: dataset/NUMTA/training-e/e14498.png  \n",
            "  inflating: dataset/NUMTA/training-e/e14499.png  \n",
            "  inflating: dataset/NUMTA/training-e/e14500.png  \n",
            "  inflating: dataset/NUMTA/training-e/e14501.png  \n",
            "  inflating: dataset/NUMTA/training-e/e14502.png  \n",
            "  inflating: dataset/NUMTA/training-e/e14503.png  \n",
            "  inflating: dataset/NUMTA/training-e/e14504.png  \n",
            "  inflating: dataset/NUMTA/training-e/e14505.png  \n",
            "  inflating: dataset/NUMTA/training-e/e14506.png  \n",
            "  inflating: dataset/NUMTA/training-e/e14507.png  \n",
            "  inflating: dataset/NUMTA/training-e/e14508.png  \n",
            "  inflating: dataset/NUMTA/training-e/e14509.png  \n",
            "  inflating: dataset/NUMTA/training-e/e14510.png  \n",
            "  inflating: dataset/NUMTA/training-e/e14511.png  \n",
            "  inflating: dataset/NUMTA/training-e/e14512.png  \n",
            "  inflating: dataset/NUMTA/training-e/e14513.png  \n",
            "  inflating: dataset/NUMTA/training-e/e14514.png  \n",
            "  inflating: dataset/NUMTA/training-e/e14515.png  \n",
            "  inflating: dataset/NUMTA/training-e/e14516.png  \n",
            "  inflating: dataset/NUMTA/training-e/e14517.png  \n",
            "  inflating: dataset/NUMTA/training-e/e14518.png  \n",
            "  inflating: dataset/NUMTA/training-e/e14519.png  \n",
            "  inflating: dataset/NUMTA/training-e/e14520.png  \n",
            "  inflating: dataset/NUMTA/training-e/e14521.png  \n",
            "  inflating: dataset/NUMTA/training-e/e14522.png  \n",
            "  inflating: dataset/NUMTA/training-e/e14523.png  \n",
            "  inflating: dataset/NUMTA/training-e/e14524.png  \n",
            "  inflating: dataset/NUMTA/training-e/e14525.png  \n",
            "  inflating: dataset/NUMTA/training-e/e14526.png  \n",
            "  inflating: dataset/NUMTA/training-e/e14527.png  \n",
            "  inflating: dataset/NUMTA/training-e/e14528.png  \n",
            "  inflating: dataset/NUMTA/training-e/e14529.png  \n",
            "  inflating: dataset/NUMTA/training-e/e14530.png  \n",
            "  inflating: dataset/NUMTA/training-e/e14531.png  \n",
            "  inflating: dataset/NUMTA/training-e/e14532.png  \n",
            "  inflating: dataset/NUMTA/training-e/e14533.png  \n",
            "  inflating: dataset/NUMTA/training-e/e14534.png  \n",
            "  inflating: dataset/NUMTA/training-e/e14535.png  \n",
            "  inflating: dataset/NUMTA/training-e/e14536.png  \n",
            "  inflating: dataset/NUMTA/training-e/e14537.png  \n",
            "  inflating: dataset/NUMTA/training-e/e14538.png  \n",
            "  inflating: dataset/NUMTA/training-e/e14539.png  \n",
            "  inflating: dataset/NUMTA/training-e/e14540.png  \n",
            "  inflating: dataset/NUMTA/training-e/e14541.png  \n",
            "  inflating: dataset/NUMTA/training-e/e14542.png  \n",
            "  inflating: dataset/NUMTA/training-e/e14543.png  \n",
            "  inflating: dataset/NUMTA/training-e/e14544.png  \n",
            "  inflating: dataset/NUMTA/training-e/e14545.png  \n",
            "  inflating: dataset/NUMTA/training-e/e14546.png  \n",
            "  inflating: dataset/NUMTA/training-e/e14547.png  \n",
            "  inflating: dataset/NUMTA/training-e/e14548.png  \n",
            "  inflating: dataset/NUMTA/training-e/e14549.png  \n",
            "  inflating: dataset/NUMTA/training-e/e14550.png  \n",
            "  inflating: dataset/NUMTA/training-e/e14551.png  \n",
            "  inflating: dataset/NUMTA/training-e/e14552.png  \n",
            "  inflating: dataset/NUMTA/training-e/e14553.png  \n",
            "  inflating: dataset/NUMTA/training-e/e14554.png  \n",
            "  inflating: dataset/NUMTA/training-e/e14555.png  \n",
            "  inflating: dataset/NUMTA/training-e/e14556.png  \n",
            "  inflating: dataset/NUMTA/training-e/e14557.png  \n",
            "  inflating: dataset/NUMTA/training-e/e14558.png  \n",
            "  inflating: dataset/NUMTA/training-e/e14559.png  \n",
            "  inflating: dataset/NUMTA/training-e/e14560.png  \n",
            "  inflating: dataset/NUMTA/training-e/e14561.png  \n",
            "  inflating: dataset/NUMTA/training-e/e14562.png  \n",
            "  inflating: dataset/NUMTA/training-e/e14563.png  \n",
            "  inflating: dataset/NUMTA/training-e/e14564.png  \n",
            "  inflating: dataset/NUMTA/training-e/e14565.png  \n",
            "  inflating: dataset/NUMTA/training-e/e14566.png  \n",
            "  inflating: dataset/NUMTA/training-e/e14567.png  \n",
            "  inflating: dataset/NUMTA/training-e/e14568.png  \n",
            "  inflating: dataset/NUMTA/training-e/e14569.png  \n",
            "  inflating: dataset/NUMTA/training-e/e14570.png  \n",
            "  inflating: dataset/NUMTA/training-e/e14571.png  \n",
            "  inflating: dataset/NUMTA/training-e/e14572.png  \n",
            "  inflating: dataset/NUMTA/training-e/e14573.png  \n",
            "  inflating: dataset/NUMTA/training-e/e14574.png  \n",
            "  inflating: dataset/NUMTA/training-e/e14575.png  \n",
            "  inflating: dataset/NUMTA/training-e/e14576.png  \n",
            "  inflating: dataset/NUMTA/training-e/e14577.png  \n",
            "  inflating: dataset/NUMTA/training-e/e14578.png  \n",
            "  inflating: dataset/NUMTA/training-e/e14579.png  \n",
            "  inflating: dataset/NUMTA/training-e/e14580.png  \n",
            "  inflating: dataset/NUMTA/training-e/e14581.png  \n",
            "  inflating: dataset/NUMTA/training-e/e14582.png  \n",
            "  inflating: dataset/NUMTA/training-e/e14583.png  \n",
            "  inflating: dataset/NUMTA/training-e/e14584.png  \n",
            "  inflating: dataset/NUMTA/training-e/e14585.png  \n",
            "  inflating: dataset/NUMTA/training-e/e14586.png  \n",
            "  inflating: dataset/NUMTA/training-e/e14587.png  \n",
            "  inflating: dataset/NUMTA/training-e/e14588.png  \n",
            "  inflating: dataset/NUMTA/training-e/e14589.png  \n",
            "  inflating: dataset/NUMTA/training-e/e14590.png  \n",
            "  inflating: dataset/NUMTA/training-e/e14591.png  \n",
            "  inflating: dataset/NUMTA/training-e/e14592.png  \n",
            "  inflating: dataset/NUMTA/training-e/e14593.png  \n",
            "  inflating: dataset/NUMTA/training-e/e14594.png  \n",
            "  inflating: dataset/NUMTA/training-e/e14595.png  \n",
            "  inflating: dataset/NUMTA/training-e/e14596.png  \n",
            "  inflating: dataset/NUMTA/training-e/e14597.png  \n",
            "  inflating: dataset/NUMTA/training-e/e14598.png  \n",
            "  inflating: dataset/NUMTA/training-e/e14599.png  \n",
            "  inflating: dataset/NUMTA/training-e/e14600.png  \n",
            "  inflating: dataset/NUMTA/training-e/e14601.png  \n",
            "  inflating: dataset/NUMTA/training-e/e14602.png  \n",
            "  inflating: dataset/NUMTA/training-e/e14603.png  \n",
            "  inflating: dataset/NUMTA/training-e/e14604.png  \n",
            "  inflating: dataset/NUMTA/training-e/e14605.png  \n",
            "  inflating: dataset/NUMTA/training-e/e14606.png  \n",
            "  inflating: dataset/NUMTA/training-e/e14607.png  \n",
            "  inflating: dataset/NUMTA/training-e/e14608.png  \n",
            "  inflating: dataset/NUMTA/training-e/e14609.png  \n",
            "  inflating: dataset/NUMTA/training-e/e14610.png  \n",
            "  inflating: dataset/NUMTA/training-e/e14611.png  \n",
            "  inflating: dataset/NUMTA/training-e/e14612.png  \n",
            "  inflating: dataset/NUMTA/training-e/e14613.png  \n",
            "  inflating: dataset/NUMTA/training-e/e14614.png  \n",
            "  inflating: dataset/NUMTA/training-e/e14615.png  \n",
            "  inflating: dataset/NUMTA/training-e/e14616.png  \n",
            "  inflating: dataset/NUMTA/training-e/e14617.png  \n",
            "  inflating: dataset/NUMTA/training-e/e14618.png  \n",
            "  inflating: dataset/NUMTA/training-e/e14619.png  \n",
            "  inflating: dataset/NUMTA/training-e/e14620.png  \n",
            "  inflating: dataset/NUMTA/training-e/e14621.png  \n",
            "  inflating: dataset/NUMTA/training-e/e14622.png  \n",
            "  inflating: dataset/NUMTA/training-e/e14623.png  \n",
            "  inflating: dataset/NUMTA/training-e/e14624.png  \n",
            "  inflating: dataset/NUMTA/training-e/e14625.png  \n",
            "  inflating: dataset/NUMTA/training-e/e14626.png  \n",
            "  inflating: dataset/NUMTA/training-e/e14627.png  \n",
            "  inflating: dataset/NUMTA/training-e/e14628.png  \n",
            "  inflating: dataset/NUMTA/training-e/e14629.png  \n",
            "  inflating: dataset/NUMTA/training-e/e14630.png  \n",
            "  inflating: dataset/NUMTA/training-e/e14631.png  \n",
            "  inflating: dataset/NUMTA/training-e/e14632.png  \n",
            "  inflating: dataset/NUMTA/training-e/e14633.png  \n",
            "  inflating: dataset/NUMTA/training-e/e14634.png  \n",
            "  inflating: dataset/NUMTA/training-e/e14635.png  \n",
            "  inflating: dataset/NUMTA/training-e/e14636.png  \n",
            "  inflating: dataset/NUMTA/training-e/e14637.png  \n",
            "  inflating: dataset/NUMTA/training-e/e14638.png  \n",
            "  inflating: dataset/NUMTA/training-e/e14639.png  \n",
            "  inflating: dataset/NUMTA/training-e/e14640.png  \n",
            "  inflating: dataset/NUMTA/training-e/e14641.png  \n",
            "  inflating: dataset/NUMTA/training-e/e14642.png  \n",
            "  inflating: dataset/NUMTA/training-e/e14643.png  \n",
            "  inflating: dataset/NUMTA/training-e/e14644.png  \n",
            "  inflating: dataset/NUMTA/training-e/e14645.png  \n",
            "  inflating: dataset/NUMTA/training-e/e14646.png  \n",
            "  inflating: dataset/NUMTA/training-e/e14647.png  \n",
            "  inflating: dataset/NUMTA/training-e/e14648.png  \n",
            "  inflating: dataset/NUMTA/training-e/e14649.png  \n",
            "  inflating: dataset/NUMTA/training-e/e14650.png  \n",
            "  inflating: dataset/NUMTA/training-e/e14651.png  \n",
            "  inflating: dataset/NUMTA/training-e/e14652.png  \n",
            "  inflating: dataset/NUMTA/training-e/e14653.png  \n",
            "  inflating: dataset/NUMTA/training-e/e14654.png  \n",
            "  inflating: dataset/NUMTA/training-e/e14655.png  \n",
            "  inflating: dataset/NUMTA/training-e/e14656.png  \n",
            "  inflating: dataset/NUMTA/training-e/e14657.png  \n",
            "  inflating: dataset/NUMTA/training-e/e14658.png  \n",
            "  inflating: dataset/NUMTA/training-e/e14659.png  \n",
            "  inflating: dataset/NUMTA/training-e/e14660.png  \n",
            "  inflating: dataset/NUMTA/training-e/e14661.png  \n",
            "  inflating: dataset/NUMTA/training-e/e14662.png  \n",
            "  inflating: dataset/NUMTA/training-e/e14663.png  \n",
            "  inflating: dataset/NUMTA/training-e/e14664.png  \n",
            "  inflating: dataset/NUMTA/training-e/e14665.png  \n",
            "  inflating: dataset/NUMTA/training-e/e14666.png  \n",
            "  inflating: dataset/NUMTA/training-e/e14667.png  \n",
            "  inflating: dataset/NUMTA/training-e/e14668.png  \n",
            "  inflating: dataset/NUMTA/training-e/e14669.png  \n",
            "  inflating: dataset/NUMTA/training-e/e14670.png  \n",
            "  inflating: dataset/NUMTA/training-e/e14671.png  \n",
            "  inflating: dataset/NUMTA/training-e/e14672.png  \n",
            "  inflating: dataset/NUMTA/training-e/e14673.png  \n",
            "  inflating: dataset/NUMTA/training-e/e14674.png  \n",
            "  inflating: dataset/NUMTA/training-e/e14675.png  \n",
            "  inflating: dataset/NUMTA/training-e/e14676.png  \n",
            "  inflating: dataset/NUMTA/training-e/e14677.png  \n",
            "  inflating: dataset/NUMTA/training-e/e14678.png  \n",
            "  inflating: dataset/NUMTA/training-e/e14679.png  \n",
            "  inflating: dataset/NUMTA/training-e/e14680.png  \n",
            "  inflating: dataset/NUMTA/training-e/e14681.png  \n",
            "  inflating: dataset/NUMTA/training-e/e14682.png  \n",
            "  inflating: dataset/NUMTA/training-e/e14683.png  \n",
            "  inflating: dataset/NUMTA/training-e/e14684.png  \n",
            "  inflating: dataset/NUMTA/training-e/e14685.png  \n",
            "  inflating: dataset/NUMTA/training-e/e14686.png  \n",
            "  inflating: dataset/NUMTA/training-e/e14687.png  \n",
            "  inflating: dataset/NUMTA/training-e/e14688.png  \n",
            "  inflating: dataset/NUMTA/training-e/e14689.png  \n",
            "  inflating: dataset/NUMTA/training-e/e14690.png  \n",
            "  inflating: dataset/NUMTA/training-e/e14691.png  \n",
            "  inflating: dataset/NUMTA/training-e/e14692.png  \n",
            "  inflating: dataset/NUMTA/training-e/e14693.png  \n",
            "  inflating: dataset/NUMTA/training-e/e14694.png  \n",
            "  inflating: dataset/NUMTA/training-e/e14695.png  \n",
            "  inflating: dataset/NUMTA/training-e/e14696.png  \n",
            "  inflating: dataset/NUMTA/training-e/e14697.png  \n",
            "  inflating: dataset/NUMTA/training-e/e14698.png  \n",
            "  inflating: dataset/NUMTA/training-e/e14699.png  \n",
            "  inflating: dataset/NUMTA/training-e/e14700.png  \n",
            "  inflating: dataset/NUMTA/training-e/e14701.png  \n",
            "  inflating: dataset/NUMTA/training-e/e14702.png  \n",
            "  inflating: dataset/NUMTA/training-e/e14703.png  \n",
            "  inflating: dataset/NUMTA/training-e/e14704.png  \n",
            "  inflating: dataset/NUMTA/training-e/e14705.png  \n",
            "  inflating: dataset/NUMTA/training-e/e14706.png  \n",
            "  inflating: dataset/NUMTA/training-e/e14707.png  \n",
            "  inflating: dataset/NUMTA/training-e/e14708.png  \n",
            "  inflating: dataset/NUMTA/training-e/e14709.png  \n",
            "  inflating: dataset/NUMTA/training-e/e14710.png  \n",
            "  inflating: dataset/NUMTA/training-e/e14711.png  \n",
            "  inflating: dataset/NUMTA/training-e/e14712.png  \n",
            "  inflating: dataset/NUMTA/training-e/e14713.png  \n",
            "  inflating: dataset/NUMTA/training-e/e14714.png  \n",
            "  inflating: dataset/NUMTA/training-e/e14715.png  \n",
            "  inflating: dataset/NUMTA/training-e/e14716.png  \n",
            "  inflating: dataset/NUMTA/training-e/e14717.png  \n",
            "  inflating: dataset/NUMTA/training-e/e14718.png  \n",
            "  inflating: dataset/NUMTA/training-e/e14719.png  \n",
            "  inflating: dataset/NUMTA/training-e/e14720.png  \n",
            "  inflating: dataset/NUMTA/training-e/e14721.png  \n",
            "  inflating: dataset/NUMTA/training-e/e14722.png  \n",
            "  inflating: dataset/NUMTA/training-e/e14723.png  \n",
            "  inflating: dataset/NUMTA/training-e/e14724.png  \n",
            "  inflating: dataset/NUMTA/training-e/e14725.png  \n",
            "  inflating: dataset/NUMTA/training-e/e14726.png  \n",
            "  inflating: dataset/NUMTA/training-e/e14727.png  \n",
            "  inflating: dataset/NUMTA/training-e/e14728.png  \n",
            "  inflating: dataset/NUMTA/training-e/e14729.png  \n",
            "  inflating: dataset/NUMTA/training-e/e14730.png  \n",
            "  inflating: dataset/NUMTA/training-e/e14731.png  \n",
            "  inflating: dataset/NUMTA/training-e/e14732.png  \n",
            "  inflating: dataset/NUMTA/training-e/e14733.png  \n",
            "  inflating: dataset/NUMTA/training-e/e14734.png  \n",
            "  inflating: dataset/NUMTA/training-e/e14735.png  \n",
            "  inflating: dataset/NUMTA/training-e/e14736.png  \n",
            "  inflating: dataset/NUMTA/training-e/e14737.png  \n",
            "  inflating: dataset/NUMTA/training-e/e14738.png  \n",
            "  inflating: dataset/NUMTA/training-e/e14739.png  \n",
            "  inflating: dataset/NUMTA/training-e/e14740.png  \n",
            "  inflating: dataset/NUMTA/training-e/e14741.png  \n",
            "  inflating: dataset/NUMTA/training-e/e14742.png  \n",
            "  inflating: dataset/NUMTA/training-e/e14743.png  \n",
            "  inflating: dataset/NUMTA/training-e/e14744.png  \n",
            "  inflating: dataset/NUMTA/training-e/e14745.png  \n",
            "  inflating: dataset/NUMTA/training-e/e14746.png  \n",
            "  inflating: dataset/NUMTA/training-e/e14747.png  \n",
            "  inflating: dataset/NUMTA/training-e/e14748.png  \n",
            "  inflating: dataset/NUMTA/training-e/e14749.png  \n",
            "  inflating: dataset/NUMTA/training-e/e14750.png  \n",
            "  inflating: dataset/NUMTA/training-e/e14751.png  \n",
            "  inflating: dataset/NUMTA/training-e/e14752.png  \n",
            "  inflating: dataset/NUMTA/training-e/e14753.png  \n",
            "  inflating: dataset/NUMTA/training-e/e14754.png  \n",
            "  inflating: dataset/NUMTA/training-e/e14755.png  \n",
            "  inflating: dataset/NUMTA/training-e/e14756.png  \n",
            "  inflating: dataset/NUMTA/training-e/e14757.png  \n",
            "  inflating: dataset/NUMTA/training-e/e14758.png  \n",
            "  inflating: dataset/NUMTA/training-e/e14759.png  \n",
            "  inflating: dataset/NUMTA/training-e/e14760.png  \n",
            "  inflating: dataset/NUMTA/training-e/e14761.png  \n",
            "  inflating: dataset/NUMTA/training-e/e14762.png  \n",
            "  inflating: dataset/NUMTA/training-e/e14763.png  \n",
            "  inflating: dataset/NUMTA/training-e/e14764.png  \n",
            "  inflating: dataset/NUMTA/training-e/e14765.png  \n",
            "  inflating: dataset/NUMTA/training-e/e14766.png  \n",
            "  inflating: dataset/NUMTA/training-e/e14767.png  \n",
            "  inflating: dataset/NUMTA/training-e/e14768.png  \n",
            "  inflating: dataset/NUMTA/training-e/e14769.png  \n",
            "  inflating: dataset/NUMTA/training-e/e14770.png  \n",
            "  inflating: dataset/NUMTA/training-e/e14771.png  \n",
            "  inflating: dataset/NUMTA/training-e/e14772.png  \n",
            "  inflating: dataset/NUMTA/training-e/e14773.png  \n",
            "  inflating: dataset/NUMTA/training-e/e14774.png  \n",
            "  inflating: dataset/NUMTA/training-e/e14775.png  \n",
            "  inflating: dataset/NUMTA/training-e/e14776.png  \n",
            "  inflating: dataset/NUMTA/training-e/e14777.png  \n",
            "  inflating: dataset/NUMTA/training-e/e14778.png  \n",
            "  inflating: dataset/NUMTA/training-e/e14779.png  \n",
            "  inflating: dataset/NUMTA/training-e/e14780.png  \n",
            "  inflating: dataset/NUMTA/training-e/e14781.png  \n",
            "  inflating: dataset/NUMTA/training-e/e14782.png  \n",
            "  inflating: dataset/NUMTA/training-e/e14783.png  \n",
            "  inflating: dataset/NUMTA/training-e/e14784.png  \n",
            "  inflating: dataset/NUMTA/training-e/e14785.png  \n",
            "  inflating: dataset/NUMTA/training-e/e14786.png  \n",
            "  inflating: dataset/NUMTA/training-e/e14787.png  \n",
            "  inflating: dataset/NUMTA/training-e/e14788.png  \n",
            "  inflating: dataset/NUMTA/training-e/e14789.png  \n",
            "  inflating: dataset/NUMTA/training-e/e14790.png  \n",
            "  inflating: dataset/NUMTA/training-e/e14791.png  \n",
            "  inflating: dataset/NUMTA/training-e/e14792.png  \n",
            "  inflating: dataset/NUMTA/training-e/e14793.png  \n",
            "  inflating: dataset/NUMTA/training-e/e14794.png  \n",
            "  inflating: dataset/NUMTA/training-e/e14795.png  \n",
            "  inflating: dataset/NUMTA/training-e/e14796.png  \n",
            "  inflating: dataset/NUMTA/training-e/e14797.png  \n",
            "  inflating: dataset/NUMTA/training-e/e14798.png  \n",
            "  inflating: dataset/NUMTA/training-e/e14799.png  \n",
            "  inflating: dataset/NUMTA/training-e/e14800.png  \n",
            "  inflating: dataset/NUMTA/training-e/e14801.png  \n",
            "  inflating: dataset/NUMTA/training-e/e14802.png  \n",
            "  inflating: dataset/NUMTA/training-e/e14803.png  \n",
            "  inflating: dataset/NUMTA/training-e/e14804.png  \n",
            "  inflating: dataset/NUMTA/training-e/e14805.png  \n",
            "  inflating: dataset/NUMTA/training-e/e14806.png  \n",
            "  inflating: dataset/NUMTA/training-e/e14807.png  \n",
            "  inflating: dataset/NUMTA/training-e/e14808.png  \n",
            "  inflating: dataset/NUMTA/training-e/e14809.png  \n",
            "  inflating: dataset/NUMTA/training-e/e14810.png  \n",
            "  inflating: dataset/NUMTA/training-e/e14811.png  \n",
            "  inflating: dataset/NUMTA/training-e/e14812.png  \n",
            "  inflating: dataset/NUMTA/training-e/e14813.png  \n",
            "  inflating: dataset/NUMTA/training-e/e14814.png  \n",
            "  inflating: dataset/NUMTA/training-e/e14815.png  \n",
            "  inflating: dataset/NUMTA/training-e/e14816.png  \n",
            "  inflating: dataset/NUMTA/training-e/e14817.png  \n",
            "  inflating: dataset/NUMTA/training-e/e14818.png  \n",
            "  inflating: dataset/NUMTA/training-e/e14819.png  \n",
            "  inflating: dataset/NUMTA/training-e/e14820.png  \n",
            "  inflating: dataset/NUMTA/training-e/e14821.png  \n",
            "  inflating: dataset/NUMTA/training-e/e14822.png  \n",
            "  inflating: dataset/NUMTA/training-e/e14823.png  \n",
            "  inflating: dataset/NUMTA/training-e/e14824.png  \n",
            "  inflating: dataset/NUMTA/training-e/e14825.png  \n",
            "  inflating: dataset/NUMTA/training-e/e14826.png  \n",
            "  inflating: dataset/NUMTA/training-e/e14827.png  \n",
            "  inflating: dataset/NUMTA/training-e/e14828.png  \n",
            "  inflating: dataset/NUMTA/training-e/e14829.png  \n",
            "  inflating: dataset/NUMTA/training-e/e14830.png  \n",
            "  inflating: dataset/NUMTA/training-e/e14831.png  \n",
            "  inflating: dataset/NUMTA/training-e/e14832.png  \n",
            "  inflating: dataset/NUMTA/training-e/e14833.png  \n",
            "  inflating: dataset/NUMTA/training-e/e14834.png  \n",
            "  inflating: dataset/NUMTA/training-e/e14835.png  \n",
            "  inflating: dataset/NUMTA/training-e/e14836.png  \n",
            "  inflating: dataset/NUMTA/training-e/e14837.png  \n",
            "  inflating: dataset/NUMTA/training-e/e14838.png  \n",
            "  inflating: dataset/NUMTA/training-e/e14839.png  \n",
            "  inflating: dataset/NUMTA/training-e/e14840.png  \n",
            "  inflating: dataset/NUMTA/training-e/e14841.png  \n",
            "  inflating: dataset/NUMTA/training-e/e14842.png  \n",
            "  inflating: dataset/NUMTA/training-e/e14843.png  \n",
            "  inflating: dataset/NUMTA/training-e/e14844.png  \n",
            "  inflating: dataset/NUMTA/training-e/e14845.png  \n",
            "  inflating: dataset/NUMTA/training-e/e14846.png  \n",
            "  inflating: dataset/NUMTA/training-e/e14847.png  \n",
            "  inflating: dataset/NUMTA/training-e/e14848.png  \n",
            "  inflating: dataset/NUMTA/training-e/e14849.png  \n",
            "  inflating: dataset/NUMTA/training-e/e14850.png  \n",
            "  inflating: dataset/NUMTA/training-e/e14851.png  \n",
            "  inflating: dataset/NUMTA/training-e/e14852.png  \n",
            "  inflating: dataset/NUMTA/training-e/e14853.png  \n",
            "  inflating: dataset/NUMTA/training-e/e14854.png  \n",
            "  inflating: dataset/NUMTA/training-e/e14855.png  \n",
            "  inflating: dataset/NUMTA/training-e/e14856.png  \n",
            "  inflating: dataset/NUMTA/training-e/e14857.png  \n",
            "  inflating: dataset/NUMTA/training-e/e14858.png  \n",
            "  inflating: dataset/NUMTA/training-e/e14859.png  \n",
            "  inflating: dataset/NUMTA/training-e/e14860.png  \n",
            "  inflating: dataset/NUMTA/training-e/e14861.png  \n",
            "  inflating: dataset/NUMTA/training-e/e14862.png  \n",
            "  inflating: dataset/NUMTA/training-e/e14863.png  \n",
            "  inflating: dataset/NUMTA/training-e/e14864.png  \n",
            "  inflating: dataset/NUMTA/training-e/e14865.png  \n",
            "  inflating: dataset/NUMTA/training-e/e14866.png  \n",
            "  inflating: dataset/NUMTA/training-e/e14867.png  \n",
            "  inflating: dataset/NUMTA/training-e/e14868.png  \n",
            "  inflating: dataset/NUMTA/training-e/e14869.png  \n",
            "  inflating: dataset/NUMTA/training-e/e14870.png  \n",
            "  inflating: dataset/NUMTA/training-e/e14871.png  \n",
            "  inflating: dataset/NUMTA/training-e/e14872.png  \n",
            "  inflating: dataset/NUMTA/training-e/e14873.png  \n",
            "  inflating: dataset/NUMTA/training-e/e14874.png  \n",
            "  inflating: dataset/NUMTA/training-e/e14875.png  \n",
            "  inflating: dataset/NUMTA/training-e/e14876.png  \n",
            "  inflating: dataset/NUMTA/training-e/e14877.png  \n",
            "  inflating: dataset/NUMTA/training-e/e14878.png  \n",
            "  inflating: dataset/NUMTA/training-e/e14879.png  \n",
            "  inflating: dataset/NUMTA/training-e/e14880.png  \n",
            "  inflating: dataset/NUMTA/training-e/e14881.png  \n",
            "  inflating: dataset/NUMTA/training-e/e14882.png  \n",
            "  inflating: dataset/NUMTA/training-e/e14883.png  \n",
            "  inflating: dataset/NUMTA/training-e/e14884.png  \n",
            "  inflating: dataset/NUMTA/training-e/e14885.png  \n",
            "  inflating: dataset/NUMTA/training-e/e14886.png  \n",
            "  inflating: dataset/NUMTA/training-e/e14887.png  \n",
            "  inflating: dataset/NUMTA/training-e/e14888.png  \n",
            "  inflating: dataset/NUMTA/training-e/e14889.png  \n",
            "  inflating: dataset/NUMTA/training-e/e14890.png  \n",
            "  inflating: dataset/NUMTA/training-e/e14891.png  \n",
            "  inflating: dataset/NUMTA/training-e/e14892.png  \n",
            "  inflating: dataset/NUMTA/training-e/e14893.png  \n",
            "  inflating: dataset/NUMTA/training-e/e14894.png  \n",
            "  inflating: dataset/NUMTA/training-e/e14895.png  \n",
            "  inflating: dataset/NUMTA/training-e/e14896.png  \n",
            "  inflating: dataset/NUMTA/training-e/e14897.png  \n",
            "  inflating: dataset/NUMTA/training-e/e14898.png  \n",
            "  inflating: dataset/NUMTA/training-e/e14899.png  \n",
            "  inflating: dataset/NUMTA/training-e/e14900.png  \n",
            "  inflating: dataset/NUMTA/training-e/e14901.png  \n",
            "  inflating: dataset/NUMTA/training-e/e14902.png  \n",
            "  inflating: dataset/NUMTA/training-e/e14903.png  \n",
            "  inflating: dataset/NUMTA/training-e/e14904.png  \n",
            "  inflating: dataset/NUMTA/training-e/e14905.png  \n",
            "  inflating: dataset/NUMTA/training-e/e14906.png  \n",
            "  inflating: dataset/NUMTA/training-e/e14907.png  \n",
            "  inflating: dataset/NUMTA/training-e/e14908.png  \n",
            "  inflating: dataset/NUMTA/training-e/e14909.png  \n",
            "  inflating: dataset/NUMTA/training-e/e14910.png  \n",
            "  inflating: dataset/NUMTA/training-e/e14911.png  \n",
            "  inflating: dataset/NUMTA/training-e/e14912.png  \n",
            "  inflating: dataset/NUMTA/training-e/e14913.png  \n",
            "  inflating: dataset/NUMTA/training-e/e14914.png  \n",
            "  inflating: dataset/NUMTA/training-e/e14915.png  \n",
            "  inflating: dataset/NUMTA/training-e/e14916.png  \n",
            "  inflating: dataset/NUMTA/training-e/e14917.png  \n",
            "  inflating: dataset/NUMTA/training-e/e14918.png  \n",
            "  inflating: dataset/NUMTA/training-e/e14919.png  \n",
            "  inflating: dataset/NUMTA/training-e/e14920.png  \n",
            "  inflating: dataset/NUMTA/training-e/e14921.png  \n",
            "  inflating: dataset/NUMTA/training-e/e14922.png  \n",
            "  inflating: dataset/NUMTA/training-e/e14923.png  \n",
            "  inflating: dataset/NUMTA/training-e/e14924.png  \n",
            "  inflating: dataset/NUMTA/training-e/e14925.png  \n",
            "  inflating: dataset/NUMTA/training-e/e14926.png  \n",
            "  inflating: dataset/NUMTA/training-e/e14927.png  \n",
            "  inflating: dataset/NUMTA/training-e/e14928.png  \n",
            "  inflating: dataset/NUMTA/training-e/e14929.png  \n",
            "  inflating: dataset/NUMTA/training-e/e14930.png  \n",
            "  inflating: dataset/NUMTA/training-e/e14931.png  \n",
            "  inflating: dataset/NUMTA/training-e/e14932.png  \n",
            "  inflating: dataset/NUMTA/training-e/e14933.png  \n",
            "  inflating: dataset/NUMTA/training-e/e14934.png  \n",
            "  inflating: dataset/NUMTA/training-e/e14935.png  \n",
            "  inflating: dataset/NUMTA/training-e/e14936.png  \n",
            "  inflating: dataset/NUMTA/training-e/e14937.png  \n",
            "  inflating: dataset/NUMTA/training-e/e14938.png  \n",
            "  inflating: dataset/NUMTA/training-e/e14939.png  \n",
            "  inflating: dataset/NUMTA/training-e/e14940.png  \n",
            "  inflating: dataset/NUMTA/training-e/e14941.png  \n",
            "  inflating: dataset/NUMTA/training-e/e14942.png  \n",
            "  inflating: dataset/NUMTA/training-e/e14943.png  \n",
            "  inflating: dataset/NUMTA/training-e/e14944.png  \n",
            "  inflating: dataset/NUMTA/training-e/e14945.png  \n",
            "  inflating: dataset/NUMTA/training-e/e14946.png  \n",
            "  inflating: dataset/NUMTA/training-e/e14947.png  \n",
            "  inflating: dataset/NUMTA/training-e/e14948.png  \n",
            "  inflating: dataset/NUMTA/training-e/e14949.png  \n",
            "  inflating: dataset/NUMTA/training-e/e14950.png  \n",
            "  inflating: dataset/NUMTA/training-e/e14951.png  \n",
            "  inflating: dataset/NUMTA/training-e/e14952.png  \n",
            "  inflating: dataset/NUMTA/training-e/e14953.png  \n",
            "  inflating: dataset/NUMTA/training-e/e14954.png  \n",
            "  inflating: dataset/NUMTA/training-e/e14955.png  \n",
            "  inflating: dataset/NUMTA/training-e/e14956.png  \n",
            "  inflating: dataset/NUMTA/training-e/e14957.png  \n",
            "  inflating: dataset/NUMTA/training-e/e14958.png  \n",
            "  inflating: dataset/NUMTA/training-e/e14959.png  \n",
            "  inflating: dataset/NUMTA/training-e/e14960.png  \n",
            "  inflating: dataset/NUMTA/training-e/e14961.png  \n",
            "  inflating: dataset/NUMTA/training-e/e14962.png  \n",
            "  inflating: dataset/NUMTA/training-e/e14963.png  \n",
            "  inflating: dataset/NUMTA/training-e/e14964.png  \n",
            "  inflating: dataset/NUMTA/training-e/e14965.png  \n",
            "  inflating: dataset/NUMTA/training-e/e14966.png  \n",
            "  inflating: dataset/NUMTA/training-e/e14967.png  \n",
            "  inflating: dataset/NUMTA/training-e/e14968.png  \n",
            "  inflating: dataset/NUMTA/training-e/e14969.png  \n",
            "  inflating: dataset/NUMTA/training-e/e14970.png  \n",
            "  inflating: dataset/NUMTA/training-e/e14971.png  \n",
            "  inflating: dataset/NUMTA/training-e/e14972.png  \n",
            "  inflating: dataset/NUMTA/training-e/e14973.png  \n",
            "  inflating: dataset/NUMTA/training-e/e14974.png  \n",
            "  inflating: dataset/NUMTA/training-e/e14975.png  \n",
            "  inflating: dataset/NUMTA/training-e/e14976.png  \n",
            "  inflating: dataset/NUMTA/training-e/e14977.png  \n",
            "  inflating: dataset/NUMTA/training-e/e14978.png  \n",
            "  inflating: dataset/NUMTA/training-e/e14979.png  \n",
            "  inflating: dataset/NUMTA/training-e/e14980.png  \n",
            "  inflating: dataset/NUMTA/training-e/e14981.png  \n",
            "  inflating: dataset/NUMTA/training-e/e14982.png  \n",
            "  inflating: dataset/NUMTA/training-e/e14983.png  \n",
            "  inflating: dataset/NUMTA/training-e/e14984.png  \n",
            "  inflating: dataset/NUMTA/training-e/e14985.png  \n",
            "  inflating: dataset/NUMTA/training-e/e14986.png  \n",
            "  inflating: dataset/NUMTA/training-e/e14987.png  \n",
            "  inflating: dataset/NUMTA/training-e/e14988.png  \n",
            "  inflating: dataset/NUMTA/training-e/e14989.png  \n",
            "  inflating: dataset/NUMTA/training-e/e14990.png  \n",
            "  inflating: dataset/NUMTA/training-e/e14991.png  \n",
            "  inflating: dataset/NUMTA/training-e/e14992.png  \n",
            "  inflating: dataset/NUMTA/training-e/e14993.png  \n",
            "  inflating: dataset/NUMTA/training-e/e14994.png  \n",
            "  inflating: dataset/NUMTA/training-e/e14995.png  \n",
            "  inflating: dataset/NUMTA/training-e/e14996.png  \n",
            "  inflating: dataset/NUMTA/training-e/e14997.png  \n",
            "  inflating: dataset/NUMTA/training-e/e14998.png  \n",
            "  inflating: dataset/NUMTA/training-e/e14999.png  \n",
            "  inflating: dataset/NUMTA/training-e/e15000.png  \n",
            "  inflating: dataset/NUMTA/training-e/e15001.png  \n",
            "  inflating: dataset/NUMTA/training-e/e15002.png  \n",
            "  inflating: dataset/NUMTA/training-e/e15003.png  \n",
            "  inflating: dataset/NUMTA/training-e/e15004.png  \n",
            "  inflating: dataset/NUMTA/training-e/e15005.png  \n",
            "  inflating: dataset/NUMTA/training-e/e15006.png  \n",
            "  inflating: dataset/NUMTA/training-e/e15007.png  \n",
            "  inflating: dataset/NUMTA/training-e/e15008.png  \n",
            "  inflating: dataset/NUMTA/training-e/e15009.png  \n",
            "  inflating: dataset/NUMTA/training-e/e15010.png  \n",
            "  inflating: dataset/NUMTA/training-e/e15011.png  \n",
            "  inflating: dataset/NUMTA/training-e/e15012.png  \n",
            "  inflating: dataset/NUMTA/training-e/e15013.png  \n",
            "  inflating: dataset/NUMTA/training-e/e15014.png  \n",
            "  inflating: dataset/NUMTA/training-e/e15015.png  \n",
            "  inflating: dataset/NUMTA/training-e/e15016.png  \n",
            "  inflating: dataset/NUMTA/training-e/e15017.png  \n",
            "  inflating: dataset/NUMTA/training-e/e15018.png  \n",
            "  inflating: dataset/NUMTA/training-e/e15019.png  \n",
            "  inflating: dataset/NUMTA/training-e/e15020.png  \n",
            "  inflating: dataset/NUMTA/training-e/e15021.png  \n",
            "  inflating: dataset/NUMTA/training-e/e15022.png  \n",
            "  inflating: dataset/NUMTA/training-e/e15023.png  \n",
            "  inflating: dataset/NUMTA/training-e/e15024.png  \n",
            "  inflating: dataset/NUMTA/training-e/e15025.png  \n",
            "  inflating: dataset/NUMTA/training-e/e15026.png  \n",
            "  inflating: dataset/NUMTA/training-e/e15027.png  \n",
            "  inflating: dataset/NUMTA/training-e/e15028.png  \n",
            "  inflating: dataset/NUMTA/training-e/e15029.png  \n",
            "  inflating: dataset/NUMTA/training-e/e15030.png  \n",
            "  inflating: dataset/NUMTA/training-e/e15031.png  \n",
            "  inflating: dataset/NUMTA/training-e/e15032.png  \n",
            "  inflating: dataset/NUMTA/training-e/e15033.png  \n",
            "  inflating: dataset/NUMTA/training-e/e15034.png  \n",
            "  inflating: dataset/NUMTA/training-e/e15035.png  \n",
            "  inflating: dataset/NUMTA/training-e/e15036.png  \n",
            "  inflating: dataset/NUMTA/training-e/e15037.png  \n",
            "  inflating: dataset/NUMTA/training-e/e15038.png  \n",
            "  inflating: dataset/NUMTA/training-e/e15039.png  \n",
            "  inflating: dataset/NUMTA/training-e/e15040.png  \n",
            "  inflating: dataset/NUMTA/training-e/e15041.png  \n",
            "  inflating: dataset/NUMTA/training-e/e15042.png  \n",
            "  inflating: dataset/NUMTA/training-e/e15043.png  \n",
            "  inflating: dataset/NUMTA/training-e/e15044.png  \n",
            "  inflating: dataset/NUMTA/training-e/e15045.png  \n",
            "  inflating: dataset/NUMTA/training-e/e15046.png  \n",
            "  inflating: dataset/NUMTA/training-e/e15047.png  \n",
            "  inflating: dataset/NUMTA/training-e/e15048.png  \n",
            "  inflating: dataset/NUMTA/training-e/e15049.png  \n",
            "  inflating: dataset/NUMTA/training-e/e15050.png  \n",
            "  inflating: dataset/NUMTA/training-e/e15051.png  \n",
            "  inflating: dataset/NUMTA/training-e/e15052.png  \n",
            "  inflating: dataset/NUMTA/training-e/e15053.png  \n",
            "  inflating: dataset/NUMTA/training-e/e15054.png  \n",
            "  inflating: dataset/NUMTA/training-e/e15055.png  \n",
            "  inflating: dataset/NUMTA/training-e/e15056.png  \n",
            "  inflating: dataset/NUMTA/training-e/e15057.png  \n",
            "  inflating: dataset/NUMTA/training-e/e15058.png  \n",
            "  inflating: dataset/NUMTA/training-e/e15059.png  \n",
            "  inflating: dataset/NUMTA/training-e/e15060.png  \n",
            "  inflating: dataset/NUMTA/training-e/e15061.png  \n",
            "  inflating: dataset/NUMTA/training-e/e15062.png  \n",
            "  inflating: dataset/NUMTA/training-e/e15063.png  \n",
            "  inflating: dataset/NUMTA/training-e/e15064.png  \n",
            "  inflating: dataset/NUMTA/training-e/e15065.png  \n",
            "  inflating: dataset/NUMTA/training-e/e15066.png  \n",
            "  inflating: dataset/NUMTA/training-e/e15067.png  \n",
            "  inflating: dataset/NUMTA/training-e/e15068.png  \n",
            "  inflating: dataset/NUMTA/training-e/e15069.png  \n",
            "  inflating: dataset/NUMTA/training-e/e15070.png  \n",
            "  inflating: dataset/NUMTA/training-e/e15071.png  \n",
            "  inflating: dataset/NUMTA/training-e/e15072.png  \n",
            "  inflating: dataset/NUMTA/training-e/e15073.png  \n",
            "  inflating: dataset/NUMTA/training-e/e15074.png  \n",
            "  inflating: dataset/NUMTA/training-e/e15075.png  \n",
            "  inflating: dataset/NUMTA/training-e/e15076.png  \n",
            "  inflating: dataset/NUMTA/training-e/e15077.png  \n",
            "  inflating: dataset/NUMTA/training-e/e15078.png  \n",
            "  inflating: dataset/NUMTA/training-e/e15079.png  \n",
            "  inflating: dataset/NUMTA/training-e/e15080.png  \n",
            "  inflating: dataset/NUMTA/training-e/e15081.png  \n",
            "  inflating: dataset/NUMTA/training-e/e15082.png  \n",
            "  inflating: dataset/NUMTA/training-e/e15083.png  \n",
            "  inflating: dataset/NUMTA/training-e/e15084.png  \n",
            "  inflating: dataset/NUMTA/training-e/e15085.png  \n",
            "  inflating: dataset/NUMTA/training-e/e15086.png  \n",
            "  inflating: dataset/NUMTA/training-e/e15087.png  \n",
            "  inflating: dataset/NUMTA/training-e/e15088.png  \n",
            "  inflating: dataset/NUMTA/training-e/e15089.png  \n",
            "  inflating: dataset/NUMTA/training-e/e15090.png  \n",
            "  inflating: dataset/NUMTA/training-e/e15091.png  \n",
            "  inflating: dataset/NUMTA/training-e/e15092.png  \n",
            "  inflating: dataset/NUMTA/training-e/e15093.png  \n",
            "  inflating: dataset/NUMTA/training-e/e15094.png  \n",
            "  inflating: dataset/NUMTA/training-e/e15095.png  \n",
            "  inflating: dataset/NUMTA/training-e/e15096.png  \n",
            "  inflating: dataset/NUMTA/training-e/e15097.png  \n",
            "  inflating: dataset/NUMTA/training-e/e15098.png  \n",
            "  inflating: dataset/NUMTA/training-e/e15099.png  \n",
            "  inflating: dataset/NUMTA/training-e/e15100.png  \n",
            "  inflating: dataset/NUMTA/training-e/e15101.png  \n",
            "  inflating: dataset/NUMTA/training-e/e15102.png  \n",
            "  inflating: dataset/NUMTA/training-e/e15103.png  \n",
            "  inflating: dataset/NUMTA/training-e/e15104.png  \n",
            "  inflating: dataset/NUMTA/training-e/e15105.png  \n",
            "  inflating: dataset/NUMTA/training-e/e15106.png  \n",
            "  inflating: dataset/NUMTA/training-e/e15107.png  \n",
            "  inflating: dataset/NUMTA/training-e/e15108.png  \n",
            "  inflating: dataset/NUMTA/training-e/e15109.png  \n",
            "  inflating: dataset/NUMTA/training-e/e15110.png  \n",
            "  inflating: dataset/NUMTA/training-e/e15111.png  \n",
            "  inflating: dataset/NUMTA/training-e/e15112.png  \n",
            "  inflating: dataset/NUMTA/training-e/e15113.png  \n",
            "  inflating: dataset/NUMTA/training-e/e15114.png  \n",
            "  inflating: dataset/NUMTA/training-e/e15115.png  \n",
            "  inflating: dataset/NUMTA/training-e/e15116.png  \n",
            "  inflating: dataset/NUMTA/training-e/e15117.png  \n",
            "  inflating: dataset/NUMTA/training-e/e15118.png  \n",
            "  inflating: dataset/NUMTA/training-e/e15119.png  \n",
            "  inflating: dataset/NUMTA/training-e/e15120.png  \n",
            "  inflating: dataset/NUMTA/training-e/e15121.png  \n",
            "  inflating: dataset/NUMTA/training-e/e15122.png  \n",
            "  inflating: dataset/NUMTA/training-e/e15123.png  \n",
            "  inflating: dataset/NUMTA/training-e/e15124.png  \n",
            "  inflating: dataset/NUMTA/training-e/e15125.png  \n",
            "  inflating: dataset/NUMTA/training-e/e15126.png  \n",
            "  inflating: dataset/NUMTA/training-e/e15127.png  \n",
            "  inflating: dataset/NUMTA/training-e/e15128.png  \n",
            "  inflating: dataset/NUMTA/training-e/e15129.png  \n",
            "  inflating: dataset/NUMTA/training-e/e15130.png  \n",
            "  inflating: dataset/NUMTA/training-e/e15131.png  \n",
            "  inflating: dataset/NUMTA/training-e/e15132.png  \n",
            "  inflating: dataset/NUMTA/training-e/e15133.png  \n",
            "  inflating: dataset/NUMTA/training-e/e15134.png  \n",
            "  inflating: dataset/NUMTA/training-e/e15135.png  \n",
            "  inflating: dataset/NUMTA/training-e/e15136.png  \n",
            "  inflating: dataset/NUMTA/training-e/e15137.png  \n",
            "  inflating: dataset/NUMTA/training-e/e15138.png  \n",
            "  inflating: dataset/NUMTA/training-e/e15139.png  \n",
            "  inflating: dataset/NUMTA/training-e/e15140.png  \n",
            "  inflating: dataset/NUMTA/training-e/e15141.png  \n",
            "  inflating: dataset/NUMTA/training-e/e15142.png  \n",
            "  inflating: dataset/NUMTA/training-e/e15143.png  \n",
            "  inflating: dataset/NUMTA/training-e/e15144.png  \n",
            "  inflating: dataset/NUMTA/training-e/e15145.png  \n",
            "  inflating: dataset/NUMTA/training-e/e15146.png  \n",
            "  inflating: dataset/NUMTA/training-e/e15147.png  \n",
            "  inflating: dataset/NUMTA/training-e/e15148.png  \n",
            "  inflating: dataset/NUMTA/training-e/e15149.png  \n",
            "  inflating: dataset/NUMTA/training-e/e15150.png  \n",
            "  inflating: dataset/NUMTA/training-e/e15151.png  \n",
            "  inflating: dataset/NUMTA/training-e/e15152.png  \n",
            "  inflating: dataset/NUMTA/training-e/e15153.png  \n",
            "  inflating: dataset/NUMTA/training-e/e15154.png  \n",
            "  inflating: dataset/NUMTA/training-e/e15155.png  \n",
            "  inflating: dataset/NUMTA/training-e/e15156.png  \n",
            "  inflating: dataset/NUMTA/training-e/e15157.png  \n",
            "  inflating: dataset/NUMTA/training-e/e15158.png  \n",
            "  inflating: dataset/NUMTA/training-e/e15159.png  \n",
            "  inflating: dataset/NUMTA/training-e/e15160.png  \n",
            "  inflating: dataset/NUMTA/training-e/e15161.png  \n",
            "  inflating: dataset/NUMTA/training-e/e15162.png  \n",
            "  inflating: dataset/NUMTA/training-e/e15163.png  \n",
            "  inflating: dataset/NUMTA/training-e/e15164.png  \n",
            "  inflating: dataset/NUMTA/training-e/e15165.png  \n",
            "  inflating: dataset/NUMTA/training-e/e15166.png  \n",
            "  inflating: dataset/NUMTA/training-e/e15167.png  \n",
            "  inflating: dataset/NUMTA/training-e/e15168.png  \n",
            "  inflating: dataset/NUMTA/training-e/e15169.png  \n",
            "  inflating: dataset/NUMTA/training-e/e15170.png  \n",
            "  inflating: dataset/NUMTA/training-e/e15171.png  \n",
            "  inflating: dataset/NUMTA/training-e/e15172.png  \n",
            "  inflating: dataset/NUMTA/training-e/e15173.png  \n",
            "  inflating: dataset/NUMTA/training-e/e15174.png  \n",
            "  inflating: dataset/NUMTA/training-e/e15175.png  \n",
            "  inflating: dataset/NUMTA/training-e/e15176.png  \n",
            "  inflating: dataset/NUMTA/training-e/e15177.png  \n",
            "  inflating: dataset/NUMTA/training-e/e15178.png  \n",
            "  inflating: dataset/NUMTA/training-e/e15179.png  \n",
            "  inflating: dataset/NUMTA/training-e/e15180.png  \n",
            "  inflating: dataset/NUMTA/training-e/e15181.png  \n",
            "  inflating: dataset/NUMTA/training-e/e15182.png  \n",
            "  inflating: dataset/NUMTA/training-e/e15183.png  \n",
            "  inflating: dataset/NUMTA/training-e/e15184.png  \n",
            "  inflating: dataset/NUMTA/training-e/e15185.png  \n",
            "  inflating: dataset/NUMTA/training-e/e15186.png  \n",
            "  inflating: dataset/NUMTA/training-e/e15187.png  \n",
            "  inflating: dataset/NUMTA/training-e/e15188.png  \n",
            "  inflating: dataset/NUMTA/training-e/e15189.png  \n",
            "  inflating: dataset/NUMTA/training-e/e15190.png  \n",
            "  inflating: dataset/NUMTA/training-e/e15191.png  \n",
            "  inflating: dataset/NUMTA/training-e/e15192.png  \n",
            "  inflating: dataset/NUMTA/training-e/e15193.png  \n",
            "  inflating: dataset/NUMTA/training-e/e15194.png  \n",
            "  inflating: dataset/NUMTA/training-e/e15195.png  \n",
            "  inflating: dataset/NUMTA/training-e/e15196.png  \n",
            "  inflating: dataset/NUMTA/training-e/e15197.png  \n",
            "  inflating: dataset/NUMTA/training-e/e15198.png  \n",
            "  inflating: dataset/NUMTA/training-e/e15199.png  \n",
            "  inflating: dataset/NUMTA/training-e/e15200.png  \n",
            "  inflating: dataset/NUMTA/training-e/e15201.png  \n",
            "  inflating: dataset/NUMTA/training-e/e15202.png  \n",
            "  inflating: dataset/NUMTA/training-e/e15203.png  \n",
            "  inflating: dataset/NUMTA/training-e/e15204.png  \n",
            "  inflating: dataset/NUMTA/training-e/e15205.png  \n",
            "  inflating: dataset/NUMTA/training-e/e15206.png  \n",
            "  inflating: dataset/NUMTA/training-e/e15207.png  \n",
            "  inflating: dataset/NUMTA/training-e/e15208.png  \n",
            "  inflating: dataset/NUMTA/training-e/e15209.png  \n",
            "  inflating: dataset/NUMTA/training-e/e15210.png  \n",
            "  inflating: dataset/NUMTA/training-e/e15211.png  \n",
            "  inflating: dataset/NUMTA/training-e/e15212.png  \n",
            "  inflating: dataset/NUMTA/training-e/e15213.png  \n",
            "  inflating: dataset/NUMTA/training-e/e15214.png  \n",
            "  inflating: dataset/NUMTA/training-e/e15215.png  \n",
            "  inflating: dataset/NUMTA/training-e/e15216.png  \n",
            "  inflating: dataset/NUMTA/training-e/e15217.png  \n",
            "  inflating: dataset/NUMTA/training-e/e15218.png  \n",
            "  inflating: dataset/NUMTA/training-e/e15219.png  \n",
            "  inflating: dataset/NUMTA/training-e/e15220.png  \n",
            "  inflating: dataset/NUMTA/training-e/e15221.png  \n",
            "  inflating: dataset/NUMTA/training-e/e15222.png  \n",
            "  inflating: dataset/NUMTA/training-e/e15223.png  \n",
            "  inflating: dataset/NUMTA/training-e/e15224.png  \n",
            "  inflating: dataset/NUMTA/training-e/e15225.png  \n",
            "  inflating: dataset/NUMTA/training-e/e15226.png  \n",
            "  inflating: dataset/NUMTA/training-e/e15227.png  \n",
            "  inflating: dataset/NUMTA/training-e/e15228.png  \n",
            "  inflating: dataset/NUMTA/training-e/e15229.png  \n",
            "  inflating: dataset/NUMTA/training-e/e15230.png  \n",
            "  inflating: dataset/NUMTA/training-e/e15231.png  \n",
            "  inflating: dataset/NUMTA/training-e/e15232.png  \n",
            "  inflating: dataset/NUMTA/training-e/e15233.png  \n",
            "  inflating: dataset/NUMTA/training-e/e15234.png  \n",
            "  inflating: dataset/NUMTA/training-e/e15235.png  \n",
            "  inflating: dataset/NUMTA/training-e/e15236.png  \n",
            "  inflating: dataset/NUMTA/training-e/e15237.png  \n",
            "  inflating: dataset/NUMTA/training-e/e15238.png  \n",
            "  inflating: dataset/NUMTA/training-e/e15239.png  \n",
            "  inflating: dataset/NUMTA/training-e/e15240.png  \n",
            "  inflating: dataset/NUMTA/training-e/e15241.png  \n",
            "  inflating: dataset/NUMTA/training-e/e15242.png  \n",
            "  inflating: dataset/NUMTA/training-e/e15243.png  \n",
            "  inflating: dataset/NUMTA/training-e/e15244.png  \n",
            "  inflating: dataset/NUMTA/training-e/e15245.png  \n",
            "  inflating: dataset/NUMTA/training-e/e15246.png  \n",
            "  inflating: dataset/NUMTA/training-e/e15247.png  \n",
            "  inflating: dataset/NUMTA/training-e/e15248.png  \n",
            "  inflating: dataset/NUMTA/training-e/e15249.png  \n",
            "  inflating: dataset/NUMTA/training-e/e15250.png  \n",
            "  inflating: dataset/NUMTA/training-e/e15251.png  \n",
            "  inflating: dataset/NUMTA/training-e/e15252.png  \n",
            "  inflating: dataset/NUMTA/training-e/e15253.png  \n",
            "  inflating: dataset/NUMTA/training-e/e15254.png  \n",
            "  inflating: dataset/NUMTA/training-e/e15255.png  \n",
            "  inflating: dataset/NUMTA/training-e/e15256.png  \n",
            "  inflating: dataset/NUMTA/training-e/e15257.png  \n",
            "  inflating: dataset/NUMTA/training-e/e15258.png  \n",
            "  inflating: dataset/NUMTA/training-e/e15259.png  \n",
            "  inflating: dataset/NUMTA/training-e/e15260.png  \n",
            "  inflating: dataset/NUMTA/training-e/e15261.png  \n",
            "  inflating: dataset/NUMTA/training-e/e15262.png  \n",
            "  inflating: dataset/NUMTA/training-e/e15263.png  \n",
            "  inflating: dataset/NUMTA/training-e/e15264.png  \n",
            "  inflating: dataset/NUMTA/training-e/e15265.png  \n",
            "  inflating: dataset/NUMTA/training-e/e15266.png  \n",
            "  inflating: dataset/NUMTA/training-e/e15267.png  \n",
            "  inflating: dataset/NUMTA/training-e/e15268.png  \n",
            "  inflating: dataset/NUMTA/training-e/e15269.png  \n",
            "  inflating: dataset/NUMTA/training-e/e15270.png  \n",
            "  inflating: dataset/NUMTA/training-e/e15271.png  \n",
            "  inflating: dataset/NUMTA/training-e/e15272.png  \n",
            "  inflating: dataset/NUMTA/training-e/e15273.png  \n",
            "  inflating: dataset/NUMTA/training-e/e15274.png  \n",
            "  inflating: dataset/NUMTA/training-e/e15275.png  \n",
            "  inflating: dataset/NUMTA/training-e/e15276.png  \n",
            "  inflating: dataset/NUMTA/training-e/e15277.png  \n",
            "  inflating: dataset/NUMTA/training-e/e15278.png  \n",
            "  inflating: dataset/NUMTA/training-e/e15279.png  \n",
            "  inflating: dataset/NUMTA/training-e/e15280.png  \n",
            "  inflating: dataset/NUMTA/training-e/e15281.png  \n",
            "  inflating: dataset/NUMTA/training-e/e15282.png  \n",
            "  inflating: dataset/NUMTA/training-e/e15283.png  \n",
            "  inflating: dataset/NUMTA/training-e/e15284.png  \n",
            "  inflating: dataset/NUMTA/training-e/e15285.png  \n",
            "  inflating: dataset/NUMTA/training-e/e15286.png  \n",
            "  inflating: dataset/NUMTA/training-e/e15287.png  \n",
            "  inflating: dataset/NUMTA/training-e/e15288.png  \n",
            "  inflating: dataset/NUMTA/training-e/e15289.png  \n",
            "  inflating: dataset/NUMTA/training-e/e15290.png  \n",
            "  inflating: dataset/NUMTA/training-e/e15291.png  \n",
            "  inflating: dataset/NUMTA/training-e/e15292.png  \n",
            "  inflating: dataset/NUMTA/training-e/e15293.png  \n",
            "  inflating: dataset/NUMTA/training-e/e15294.png  \n",
            "  inflating: dataset/NUMTA/training-e/e15295.png  \n",
            "  inflating: dataset/NUMTA/training-e/e15296.png  \n",
            "  inflating: dataset/NUMTA/training-e/e15297.png  \n",
            "  inflating: dataset/NUMTA/training-e/e15298.png  \n",
            "  inflating: dataset/NUMTA/training-e/e15299.png  \n",
            "  inflating: dataset/NUMTA/training-e/e15300.png  \n",
            "  inflating: dataset/NUMTA/training-e/e15301.png  \n",
            "  inflating: dataset/NUMTA/training-e/e15302.png  \n",
            "  inflating: dataset/NUMTA/training-e/e15303.png  \n",
            "  inflating: dataset/NUMTA/training-e/e15304.png  \n",
            "  inflating: dataset/NUMTA/training-e/e15305.png  \n",
            "  inflating: dataset/NUMTA/training-e/e15306.png  \n",
            "  inflating: dataset/NUMTA/training-e/e15307.png  \n",
            "  inflating: dataset/NUMTA/training-e/e15308.png  \n",
            "  inflating: dataset/NUMTA/training-e/e15309.png  \n",
            "  inflating: dataset/NUMTA/training-e/e15310.png  \n",
            "  inflating: dataset/NUMTA/training-e/e15311.png  \n",
            "  inflating: dataset/NUMTA/training-e/e15312.png  \n",
            "  inflating: dataset/NUMTA/training-e/e15313.png  \n",
            "  inflating: dataset/NUMTA/training-e/e15314.png  \n",
            "  inflating: dataset/NUMTA/training-e/e15315.png  \n",
            "  inflating: dataset/NUMTA/training-e/e15316.png  \n",
            "  inflating: dataset/NUMTA/training-e/e15317.png  \n",
            "  inflating: dataset/NUMTA/training-e/e15318.png  \n",
            "  inflating: dataset/NUMTA/training-e/e15319.png  \n",
            "  inflating: dataset/NUMTA/training-e/e15320.png  \n",
            "  inflating: dataset/NUMTA/training-e/e15321.png  \n",
            "  inflating: dataset/NUMTA/training-e/e15322.png  \n",
            "  inflating: dataset/NUMTA/training-e/e15323.png  \n",
            "  inflating: dataset/NUMTA/training-e/e15324.png  \n",
            "  inflating: dataset/NUMTA/training-e/e15325.png  \n",
            "  inflating: dataset/NUMTA/training-e/e15326.png  \n",
            "  inflating: dataset/NUMTA/training-e/e15327.png  \n",
            "  inflating: dataset/NUMTA/training-e/e15328.png  \n",
            "  inflating: dataset/NUMTA/training-e/e15329.png  \n",
            "  inflating: dataset/NUMTA/training-e/e15330.png  \n",
            "  inflating: dataset/NUMTA/training-e/e15331.png  \n",
            "  inflating: dataset/NUMTA/training-e/e15332.png  \n",
            "  inflating: dataset/NUMTA/training-e/e15333.png  \n",
            "  inflating: dataset/NUMTA/training-e/e15334.png  \n",
            "  inflating: dataset/NUMTA/training-e/e15335.png  \n",
            "  inflating: dataset/NUMTA/training-e/e15336.png  \n",
            "  inflating: dataset/NUMTA/training-e/e15337.png  \n",
            "  inflating: dataset/NUMTA/training-e/e15338.png  \n",
            "  inflating: dataset/NUMTA/training-e/e15339.png  \n",
            "  inflating: dataset/NUMTA/training-e/e15340.png  \n",
            "  inflating: dataset/NUMTA/training-e/e15341.png  \n",
            "  inflating: dataset/NUMTA/training-e/e15342.png  \n",
            "  inflating: dataset/NUMTA/training-e/e15343.png  \n",
            "  inflating: dataset/NUMTA/training-e/e15344.png  \n",
            "  inflating: dataset/NUMTA/training-e/e15345.png  \n",
            "  inflating: dataset/NUMTA/training-e/e15346.png  \n",
            "  inflating: dataset/NUMTA/training-e/e15347.png  \n",
            "  inflating: dataset/NUMTA/training-e/e15348.png  \n",
            "  inflating: dataset/NUMTA/training-e/e15349.png  \n",
            "  inflating: dataset/NUMTA/training-e/e15350.png  \n",
            "  inflating: dataset/NUMTA/training-e/e15351.png  \n",
            "  inflating: dataset/NUMTA/training-e/e15352.png  \n",
            "  inflating: dataset/NUMTA/training-e/e15353.png  \n",
            "  inflating: dataset/NUMTA/training-e/e15354.png  \n",
            "  inflating: dataset/NUMTA/training-e/e15355.png  \n",
            "  inflating: dataset/NUMTA/training-e/e15356.png  \n",
            "  inflating: dataset/NUMTA/training-e/e15357.png  \n",
            "  inflating: dataset/NUMTA/training-e/e15358.png  \n",
            "  inflating: dataset/NUMTA/training-e/e15359.png  \n",
            "  inflating: dataset/NUMTA/training-e/e15360.png  \n",
            "  inflating: dataset/NUMTA/training-e/e15361.png  \n",
            "  inflating: dataset/NUMTA/training-e/e15362.png  \n",
            "  inflating: dataset/NUMTA/training-e/e15363.png  \n",
            "  inflating: dataset/NUMTA/training-e/e15364.png  \n",
            "  inflating: dataset/NUMTA/training-e/e15365.png  \n",
            "  inflating: dataset/NUMTA/training-e/e15366.png  \n",
            "  inflating: dataset/NUMTA/training-e/e15367.png  \n",
            "  inflating: dataset/NUMTA/training-e/e15368.png  \n",
            "  inflating: dataset/NUMTA/training-e/e15369.png  \n",
            "  inflating: dataset/NUMTA/training-e/e15370.png  \n",
            "  inflating: dataset/NUMTA/training-e/e15371.png  \n",
            "  inflating: dataset/NUMTA/training-e/e15372.png  \n",
            "  inflating: dataset/NUMTA/training-e/e15373.png  \n",
            "  inflating: dataset/NUMTA/training-e/e15374.png  \n",
            "  inflating: dataset/NUMTA/training-e/e15375.png  \n",
            "  inflating: dataset/NUMTA/training-e/e15376.png  \n",
            "  inflating: dataset/NUMTA/training-e/e15377.png  \n",
            "  inflating: dataset/NUMTA/training-e/e15378.png  \n",
            "  inflating: dataset/NUMTA/training-e/e15379.png  \n",
            "  inflating: dataset/NUMTA/training-e/e15380.png  \n",
            "  inflating: dataset/NUMTA/training-e/e15381.png  \n",
            "  inflating: dataset/NUMTA/training-e/e15382.png  \n",
            "  inflating: dataset/NUMTA/training-e/e15383.png  \n",
            "  inflating: dataset/NUMTA/training-e/e15384.png  \n",
            "  inflating: dataset/NUMTA/training-e/e15385.png  \n",
            "  inflating: dataset/NUMTA/training-e/e15386.png  \n",
            "  inflating: dataset/NUMTA/training-e/e15387.png  \n",
            "  inflating: dataset/NUMTA/training-e/e15388.png  \n",
            "  inflating: dataset/NUMTA/training-e/e15389.png  \n",
            "  inflating: dataset/NUMTA/training-e/e15390.png  \n",
            "  inflating: dataset/NUMTA/training-e/e15391.png  \n",
            "  inflating: dataset/NUMTA/training-e/e15392.png  \n",
            "  inflating: dataset/NUMTA/training-e/e15393.png  \n",
            "  inflating: dataset/NUMTA/training-e/e15394.png  \n",
            "  inflating: dataset/NUMTA/training-e/e15395.png  \n",
            "  inflating: dataset/NUMTA/training-e/e15396.png  \n",
            "  inflating: dataset/NUMTA/training-e/e15397.png  \n",
            "  inflating: dataset/NUMTA/training-e/e15398.png  \n",
            "  inflating: dataset/NUMTA/training-e/e15399.png  \n",
            "  inflating: dataset/NUMTA/training-e/e15400.png  \n",
            "  inflating: dataset/NUMTA/training-e/e15401.png  \n",
            "  inflating: dataset/NUMTA/training-e/e15402.png  \n",
            "  inflating: dataset/NUMTA/training-e/e15403.png  \n",
            "  inflating: dataset/NUMTA/training-e/e15404.png  \n",
            "  inflating: dataset/NUMTA/training-e/e15405.png  \n",
            "  inflating: dataset/NUMTA/training-e/e15406.png  \n",
            "  inflating: dataset/NUMTA/training-e/e15407.png  \n",
            "  inflating: dataset/NUMTA/training-e/e15408.png  \n",
            "  inflating: dataset/NUMTA/training-e/e15409.png  \n",
            "  inflating: dataset/NUMTA/training-e/e15410.png  \n",
            "  inflating: dataset/NUMTA/training-e/e15411.png  \n",
            "  inflating: dataset/NUMTA/training-e/e15412.png  \n",
            "  inflating: dataset/NUMTA/training-e/e15413.png  \n",
            "  inflating: dataset/NUMTA/training-e/e15414.png  \n",
            "  inflating: dataset/NUMTA/training-e/e15415.png  \n",
            "  inflating: dataset/NUMTA/training-e/e15416.png  \n",
            "  inflating: dataset/NUMTA/training-e/e15417.png  \n",
            "  inflating: dataset/NUMTA/training-e/e15418.png  \n",
            "  inflating: dataset/NUMTA/training-e/e15419.png  \n",
            "  inflating: dataset/NUMTA/training-e/e15420.png  \n",
            "  inflating: dataset/NUMTA/training-e/e15421.png  \n",
            "  inflating: dataset/NUMTA/training-e/e15422.png  \n",
            "  inflating: dataset/NUMTA/training-e/e15423.png  \n",
            "  inflating: dataset/NUMTA/training-e/e15424.png  \n",
            "  inflating: dataset/NUMTA/training-e/e15425.png  \n",
            "  inflating: dataset/NUMTA/training-e/e15426.png  \n",
            "  inflating: dataset/NUMTA/training-e/e15427.png  \n",
            "  inflating: dataset/NUMTA/training-e/e15428.png  \n",
            "  inflating: dataset/NUMTA/training-e/e15429.png  \n",
            "  inflating: dataset/NUMTA/training-e/e15430.png  \n",
            "  inflating: dataset/NUMTA/training-e/e15431.png  \n",
            "  inflating: dataset/NUMTA/training-e/e15432.png  \n",
            "  inflating: dataset/NUMTA/training-e/e15433.png  \n",
            "  inflating: dataset/NUMTA/training-e/e15434.png  \n",
            "  inflating: dataset/NUMTA/training-e/e15435.png  \n",
            "  inflating: dataset/NUMTA/training-e/e15436.png  \n",
            "  inflating: dataset/NUMTA/training-e/e15437.png  \n",
            "  inflating: dataset/NUMTA/training-e/e15438.png  \n",
            "  inflating: dataset/NUMTA/training-e/e15439.png  \n",
            "  inflating: dataset/NUMTA/training-e/e15440.png  \n",
            "  inflating: dataset/NUMTA/training-e/e15441.png  \n",
            "  inflating: dataset/NUMTA/training-e/e15442.png  \n",
            "  inflating: dataset/NUMTA/training-e/e15443.png  \n",
            "  inflating: dataset/NUMTA/training-e/e15444.png  \n",
            "  inflating: dataset/NUMTA/training-e/e15445.png  \n",
            "  inflating: dataset/NUMTA/training-e/e15446.png  \n",
            "  inflating: dataset/NUMTA/training-e/e15447.png  \n",
            "  inflating: dataset/NUMTA/training-e/e15448.png  \n",
            "  inflating: dataset/NUMTA/training-e/e15449.png  \n",
            "  inflating: dataset/NUMTA/training-e/e15450.png  \n",
            "  inflating: dataset/NUMTA/training-e/e15451.png  \n",
            "  inflating: dataset/NUMTA/training-e/e15452.png  \n",
            "  inflating: dataset/NUMTA/training-e/e15453.png  \n",
            "  inflating: dataset/NUMTA/training-e/e15454.png  \n",
            "  inflating: dataset/NUMTA/training-e/e15455.png  \n",
            "  inflating: dataset/NUMTA/training-e/e15456.png  \n",
            "  inflating: dataset/NUMTA/training-e/e15457.png  \n",
            "  inflating: dataset/NUMTA/training-e/e15458.png  \n",
            "  inflating: dataset/NUMTA/training-e/e15459.png  \n",
            "  inflating: dataset/NUMTA/training-e/e15460.png  \n",
            "  inflating: dataset/NUMTA/training-e/e15461.png  \n",
            "  inflating: dataset/NUMTA/training-e/e15462.png  \n",
            "  inflating: dataset/NUMTA/training-e/e15463.png  \n",
            "  inflating: dataset/NUMTA/training-e/e15464.png  \n",
            "  inflating: dataset/NUMTA/training-e/e15465.png  \n",
            "  inflating: dataset/NUMTA/training-e/e15466.png  \n",
            "  inflating: dataset/NUMTA/training-e/e15467.png  \n",
            "  inflating: dataset/NUMTA/training-e/e15468.png  \n",
            "  inflating: dataset/NUMTA/training-e/e15469.png  \n",
            "  inflating: dataset/NUMTA/training-e/e15470.png  \n",
            "  inflating: dataset/NUMTA/training-e/e15471.png  \n",
            "  inflating: dataset/NUMTA/training-e/e15472.png  \n",
            "  inflating: dataset/NUMTA/training-e/e15473.png  \n",
            "  inflating: dataset/NUMTA/training-e/e15474.png  \n",
            "  inflating: dataset/NUMTA/training-e/e15475.png  \n",
            "  inflating: dataset/NUMTA/training-e/e15476.png  \n",
            "  inflating: dataset/NUMTA/training-e/e15477.png  \n",
            "  inflating: dataset/NUMTA/training-e/e15478.png  \n",
            "  inflating: dataset/NUMTA/training-e/e15479.png  \n",
            "  inflating: dataset/NUMTA/training-e/e15480.png  \n",
            "  inflating: dataset/NUMTA/training-e/e15481.png  \n",
            "  inflating: dataset/NUMTA/training-e/e15482.png  \n",
            "  inflating: dataset/NUMTA/training-e/e15483.png  \n",
            "  inflating: dataset/NUMTA/training-e/e15484.png  \n",
            "  inflating: dataset/NUMTA/training-e/e15485.png  \n",
            "  inflating: dataset/NUMTA/training-e/e15486.png  \n",
            "  inflating: dataset/NUMTA/training-e/e15487.png  \n",
            "  inflating: dataset/NUMTA/training-e/e15488.png  \n",
            "  inflating: dataset/NUMTA/training-e/e15489.png  \n",
            "  inflating: dataset/NUMTA/training-e/e15490.png  \n",
            "  inflating: dataset/NUMTA/training-e/e15491.png  \n",
            "  inflating: dataset/NUMTA/training-e/e15492.png  \n",
            "  inflating: dataset/NUMTA/training-e/e15493.png  \n",
            "  inflating: dataset/NUMTA/training-e/e15494.png  \n",
            "  inflating: dataset/NUMTA/training-e/e15495.png  \n",
            "  inflating: dataset/NUMTA/training-e/e15496.png  \n",
            "  inflating: dataset/NUMTA/training-e/e15497.png  \n",
            "  inflating: dataset/NUMTA/training-e/e15498.png  \n",
            "  inflating: dataset/NUMTA/training-e/e15499.png  \n",
            "  inflating: dataset/NUMTA/training-e/e15500.png  \n",
            "  inflating: dataset/NUMTA/training-e/e15501.png  \n",
            "  inflating: dataset/NUMTA/training-e/e15502.png  \n",
            "  inflating: dataset/NUMTA/training-e/e15503.png  \n",
            "  inflating: dataset/NUMTA/training-e/e15504.png  \n",
            "  inflating: dataset/NUMTA/training-e/e15505.png  \n",
            "  inflating: dataset/NUMTA/training-e/e15506.png  \n",
            "  inflating: dataset/NUMTA/training-e/e15507.png  \n",
            "  inflating: dataset/NUMTA/training-e/e15508.png  \n",
            "  inflating: dataset/NUMTA/training-e/e15509.png  \n",
            "  inflating: dataset/NUMTA/training-e/e15510.png  \n",
            "  inflating: dataset/NUMTA/training-e/e15511.png  \n",
            "  inflating: dataset/NUMTA/training-e/e15512.png  \n",
            "  inflating: dataset/NUMTA/training-e/e15513.png  \n",
            "  inflating: dataset/NUMTA/training-e/e15514.png  \n",
            "  inflating: dataset/NUMTA/training-e/e15515.png  \n",
            "  inflating: dataset/NUMTA/training-e/e15516.png  \n",
            "  inflating: dataset/NUMTA/training-e/e15517.png  \n",
            "  inflating: dataset/NUMTA/training-e/e15518.png  \n",
            "  inflating: dataset/NUMTA/training-e/e15519.png  \n",
            "  inflating: dataset/NUMTA/training-e/e15520.png  \n",
            "  inflating: dataset/NUMTA/training-e/e15521.png  \n",
            "  inflating: dataset/NUMTA/training-e/e15522.png  \n",
            "  inflating: dataset/NUMTA/training-e/e15523.png  \n",
            "  inflating: dataset/NUMTA/training-e/e15524.png  \n",
            "  inflating: dataset/NUMTA/training-e/e15525.png  \n",
            "  inflating: dataset/NUMTA/training-e/e15526.png  \n",
            "  inflating: dataset/NUMTA/training-e/e15527.png  \n",
            "  inflating: dataset/NUMTA/training-e/e15528.png  \n",
            "  inflating: dataset/NUMTA/training-e/e15529.png  \n",
            "  inflating: dataset/NUMTA/training-e/e15530.png  \n",
            "  inflating: dataset/NUMTA/training-e/e15531.png  \n",
            "  inflating: dataset/NUMTA/training-e/e15532.png  \n",
            "  inflating: dataset/NUMTA/training-e/e15533.png  \n",
            "  inflating: dataset/NUMTA/training-e/e15534.png  \n",
            "  inflating: dataset/NUMTA/training-e/e15535.png  \n",
            "  inflating: dataset/NUMTA/training-e/e15536.png  \n",
            "  inflating: dataset/NUMTA/training-e/e15537.png  \n",
            "  inflating: dataset/NUMTA/training-e/e15538.png  \n",
            "  inflating: dataset/NUMTA/training-e/e15539.png  \n",
            "  inflating: dataset/NUMTA/training-e/e15540.png  \n",
            "  inflating: dataset/NUMTA/training-e/e15541.png  \n",
            "  inflating: dataset/NUMTA/training-e/e15542.png  \n",
            "  inflating: dataset/NUMTA/training-e/e15543.png  \n",
            "  inflating: dataset/NUMTA/training-e/e15544.png  \n",
            "  inflating: dataset/NUMTA/training-e/e15545.png  \n",
            "  inflating: dataset/NUMTA/training-e/e15546.png  \n",
            "  inflating: dataset/NUMTA/training-e/e15547.png  \n",
            "  inflating: dataset/NUMTA/training-e/e15548.png  \n",
            "  inflating: dataset/NUMTA/training-e/e15549.png  \n",
            "  inflating: dataset/NUMTA/training-e/e15550.png  \n",
            "  inflating: dataset/NUMTA/training-e/e15551.png  \n",
            "  inflating: dataset/NUMTA/training-e/e15552.png  \n",
            "  inflating: dataset/NUMTA/training-e/e15553.png  \n",
            "  inflating: dataset/NUMTA/training-e/e15554.png  \n",
            "  inflating: dataset/NUMTA/training-e/e15555.png  \n",
            "  inflating: dataset/NUMTA/training-e/e15556.png  \n",
            "  inflating: dataset/NUMTA/training-e/e15557.png  \n",
            "  inflating: dataset/NUMTA/training-e/e15558.png  \n",
            "  inflating: dataset/NUMTA/training-e/e15559.png  \n",
            "  inflating: dataset/NUMTA/training-e/e15560.png  \n",
            "  inflating: dataset/NUMTA/training-e/e15561.png  \n",
            "  inflating: dataset/NUMTA/training-e/e15562.png  \n",
            "  inflating: dataset/NUMTA/training-e/e15563.png  \n",
            "  inflating: dataset/NUMTA/training-e/e15564.png  \n",
            "  inflating: dataset/NUMTA/training-e/e15565.png  \n",
            "  inflating: dataset/NUMTA/training-e/e15566.png  \n",
            "  inflating: dataset/NUMTA/training-e/e15567.png  \n",
            "  inflating: dataset/NUMTA/training-e/e15568.png  \n",
            "  inflating: dataset/NUMTA/training-e/e15569.png  \n",
            "  inflating: dataset/NUMTA/training-e/e15570.png  \n",
            "  inflating: dataset/NUMTA/training-e/e15571.png  \n",
            "  inflating: dataset/NUMTA/training-e/e15572.png  \n",
            "  inflating: dataset/NUMTA/training-e/e15573.png  \n",
            "  inflating: dataset/NUMTA/training-e/e15574.png  \n",
            "  inflating: dataset/NUMTA/training-e/e15575.png  \n",
            "  inflating: dataset/NUMTA/training-e/e15576.png  \n",
            "  inflating: dataset/NUMTA/training-e/e15577.png  \n",
            "  inflating: dataset/NUMTA/training-e/e15578.png  \n",
            "  inflating: dataset/NUMTA/training-e/e15579.png  \n",
            "  inflating: dataset/NUMTA/training-e/e15580.png  \n",
            "  inflating: dataset/NUMTA/training-e/e15581.png  \n",
            "  inflating: dataset/NUMTA/training-e/e15582.png  \n",
            "  inflating: dataset/NUMTA/training-e/e15583.png  \n",
            "  inflating: dataset/NUMTA/training-e/e15584.png  \n",
            "  inflating: dataset/NUMTA/training-e/e15585.png  \n",
            "  inflating: dataset/NUMTA/training-e/e15586.png  \n",
            "  inflating: dataset/NUMTA/training-e/e15587.png  \n",
            "  inflating: dataset/NUMTA/training-e/e15588.png  \n",
            "  inflating: dataset/NUMTA/training-e/e15589.png  \n",
            "  inflating: dataset/NUMTA/training-e/e15590.png  \n",
            "  inflating: dataset/NUMTA/training-e/e15591.png  \n",
            "  inflating: dataset/NUMTA/training-e/e15592.png  \n",
            "  inflating: dataset/NUMTA/training-e/e15593.png  \n",
            "  inflating: dataset/NUMTA/training-e/e15594.png  \n",
            "  inflating: dataset/NUMTA/training-e/e15595.png  \n",
            "  inflating: dataset/NUMTA/training-e/e15596.png  \n",
            "  inflating: dataset/NUMTA/training-e/e15597.png  \n",
            "  inflating: dataset/NUMTA/training-e/e15598.png  \n",
            "  inflating: dataset/NUMTA/training-e/e15599.png  \n",
            "  inflating: dataset/NUMTA/training-e/e15600.png  \n",
            "  inflating: dataset/NUMTA/training-e/e15601.png  \n",
            "  inflating: dataset/NUMTA/training-e/e15602.png  \n",
            "  inflating: dataset/NUMTA/training-e/e15603.png  \n",
            "  inflating: dataset/NUMTA/training-e/e15604.png  \n",
            "  inflating: dataset/NUMTA/training-e/e15605.png  \n",
            "  inflating: dataset/NUMTA/training-e/e15606.png  \n",
            "  inflating: dataset/NUMTA/training-e/e15607.png  \n",
            "  inflating: dataset/NUMTA/training-e/e15608.png  \n",
            "  inflating: dataset/NUMTA/training-e/e15609.png  \n",
            "  inflating: dataset/NUMTA/training-e/e15610.png  \n",
            "  inflating: dataset/NUMTA/training-e/e15611.png  \n",
            "  inflating: dataset/NUMTA/training-e/e15612.png  \n",
            "  inflating: dataset/NUMTA/training-e/e15613.png  \n",
            "  inflating: dataset/NUMTA/training-e/e15614.png  \n",
            "  inflating: dataset/NUMTA/training-e/e15615.png  \n",
            "  inflating: dataset/NUMTA/training-e/e15616.png  \n",
            "  inflating: dataset/NUMTA/training-e/e15617.png  \n",
            "  inflating: dataset/NUMTA/training-e/e15618.png  \n",
            "  inflating: dataset/NUMTA/training-e/e15619.png  \n",
            "  inflating: dataset/NUMTA/training-e/e15620.png  \n",
            "  inflating: dataset/NUMTA/training-e/e15621.png  \n",
            "  inflating: dataset/NUMTA/training-e/e15622.png  \n",
            "  inflating: dataset/NUMTA/training-e/e15623.png  \n",
            "  inflating: dataset/NUMTA/training-e/e15624.png  \n",
            "  inflating: dataset/NUMTA/training-e/e15625.png  \n",
            "  inflating: dataset/NUMTA/training-e/e15626.png  \n",
            "  inflating: dataset/NUMTA/training-e/e15627.png  \n",
            "  inflating: dataset/NUMTA/training-e/e15628.png  \n",
            "  inflating: dataset/NUMTA/training-e/e15629.png  \n",
            "  inflating: dataset/NUMTA/training-e/e15630.png  \n",
            "  inflating: dataset/NUMTA/training-e/e15631.png  \n",
            "  inflating: dataset/NUMTA/training-e/e15632.png  \n",
            "  inflating: dataset/NUMTA/training-e/e15633.png  \n",
            "  inflating: dataset/NUMTA/training-e/e15634.png  \n",
            "  inflating: dataset/NUMTA/training-e/e15635.png  \n",
            "  inflating: dataset/NUMTA/training-e/e15636.png  \n",
            "  inflating: dataset/NUMTA/training-e/e15637.png  \n",
            "  inflating: dataset/NUMTA/training-e/e15638.png  \n",
            "  inflating: dataset/NUMTA/training-e/e15639.png  \n",
            "  inflating: dataset/NUMTA/training-e/e15640.png  \n",
            "  inflating: dataset/NUMTA/training-e/e15641.png  \n",
            "  inflating: dataset/NUMTA/training-e/e15642.png  \n",
            "  inflating: dataset/NUMTA/training-e/e15643.png  \n",
            "  inflating: dataset/NUMTA/training-e/e15644.png  \n",
            "  inflating: dataset/NUMTA/training-e/e15645.png  \n",
            "  inflating: dataset/NUMTA/training-e/e15646.png  \n",
            "  inflating: dataset/NUMTA/training-e/e15647.png  \n",
            "  inflating: dataset/NUMTA/training-e/e15648.png  \n",
            "  inflating: dataset/NUMTA/training-e/e15649.png  \n",
            "  inflating: dataset/NUMTA/training-e/e15650.png  \n",
            "  inflating: dataset/NUMTA/training-e/e15651.png  \n",
            "  inflating: dataset/NUMTA/training-e/e15652.png  \n",
            "  inflating: dataset/NUMTA/training-e/e15653.png  \n",
            "  inflating: dataset/NUMTA/training-e/e15654.png  \n",
            "  inflating: dataset/NUMTA/training-e/e15655.png  \n",
            "  inflating: dataset/NUMTA/training-e/e15656.png  \n",
            "  inflating: dataset/NUMTA/training-e/e15657.png  \n",
            "  inflating: dataset/NUMTA/training-e/e15658.png  \n",
            "  inflating: dataset/NUMTA/training-e/e15659.png  \n",
            "  inflating: dataset/NUMTA/training-e/e15660.png  \n",
            "  inflating: dataset/NUMTA/training-e/e15661.png  \n",
            "  inflating: dataset/NUMTA/training-e/e15662.png  \n",
            "  inflating: dataset/NUMTA/training-e/e15663.png  \n",
            "  inflating: dataset/NUMTA/training-e/e15664.png  \n",
            "  inflating: dataset/NUMTA/training-e/e15665.png  \n",
            "  inflating: dataset/NUMTA/training-e/e15666.png  \n",
            "  inflating: dataset/NUMTA/training-e/e15667.png  \n",
            "  inflating: dataset/NUMTA/training-e/e15668.png  \n",
            "  inflating: dataset/NUMTA/training-e/e15669.png  \n",
            "  inflating: dataset/NUMTA/training-e/e15670.png  \n",
            "  inflating: dataset/NUMTA/training-e/e15671.png  \n",
            "  inflating: dataset/NUMTA/training-e/e15672.png  \n",
            "  inflating: dataset/NUMTA/training-e/e15673.png  \n",
            "  inflating: dataset/NUMTA/training-e/e15674.png  \n",
            "  inflating: dataset/NUMTA/training-e/e15675.png  \n",
            "  inflating: dataset/NUMTA/training-e/e15676.png  \n",
            "  inflating: dataset/NUMTA/training-e/e15677.png  \n",
            "  inflating: dataset/NUMTA/training-e/e15678.png  \n",
            "  inflating: dataset/NUMTA/training-e/e15679.png  \n",
            "  inflating: dataset/NUMTA/training-e/e15680.png  \n",
            "  inflating: dataset/NUMTA/training-e/e15681.png  \n",
            "  inflating: dataset/NUMTA/training-e/e15682.png  \n",
            "  inflating: dataset/NUMTA/training-e/e15683.png  \n",
            "  inflating: dataset/NUMTA/training-e/e15684.png  \n",
            "  inflating: dataset/NUMTA/training-e/e15685.png  \n",
            "  inflating: dataset/NUMTA/training-e/e15686.png  \n",
            "  inflating: dataset/NUMTA/training-e/e15687.png  \n",
            "  inflating: dataset/NUMTA/training-e/e15688.png  \n",
            "  inflating: dataset/NUMTA/training-e/e15689.png  \n",
            "  inflating: dataset/NUMTA/training-e/e15690.png  \n",
            "  inflating: dataset/NUMTA/training-e/e15691.png  \n",
            "  inflating: dataset/NUMTA/training-e/e15692.png  \n",
            "  inflating: dataset/NUMTA/training-e/e15693.png  \n",
            "  inflating: dataset/NUMTA/training-e/e15694.png  \n",
            "  inflating: dataset/NUMTA/training-e/e15695.png  \n",
            "  inflating: dataset/NUMTA/training-e/e15696.png  \n",
            "  inflating: dataset/NUMTA/training-e/e15697.png  \n",
            "  inflating: dataset/NUMTA/training-e/e15698.png  \n",
            "  inflating: dataset/NUMTA/training-e/e15699.png  \n",
            "  inflating: dataset/NUMTA/training-e/e15700.png  \n",
            "  inflating: dataset/NUMTA/training-e/e15701.png  \n",
            "  inflating: dataset/NUMTA/training-e/e15702.png  \n",
            "  inflating: dataset/NUMTA/training-e/e15703.png  \n",
            "  inflating: dataset/NUMTA/training-e/e15704.png  \n",
            "  inflating: dataset/NUMTA/training-e/e15705.png  \n",
            "  inflating: dataset/NUMTA/training-e/e15706.png  \n",
            "  inflating: dataset/NUMTA/training-e/e15707.png  \n",
            "  inflating: dataset/NUMTA/training-e/e15708.png  \n",
            "  inflating: dataset/NUMTA/training-e/e15709.png  \n",
            "  inflating: dataset/NUMTA/training-e/e15710.png  \n",
            "  inflating: dataset/NUMTA/training-e/e15711.png  \n",
            "  inflating: dataset/NUMTA/training-e/e15712.png  \n",
            "  inflating: dataset/NUMTA/training-e/e15713.png  \n",
            "  inflating: dataset/NUMTA/training-e/e15714.png  \n",
            "  inflating: dataset/NUMTA/training-e/e15715.png  \n",
            "  inflating: dataset/NUMTA/training-e/e15716.png  \n",
            "  inflating: dataset/NUMTA/training-e/e15717.png  \n",
            "  inflating: dataset/NUMTA/training-e/e15718.png  \n",
            "  inflating: dataset/NUMTA/training-e/e15719.png  \n",
            "  inflating: dataset/NUMTA/training-e/e15720.png  \n",
            "  inflating: dataset/NUMTA/training-e/e15721.png  \n",
            "  inflating: dataset/NUMTA/training-e/e15722.png  \n",
            "  inflating: dataset/NUMTA/training-e/e15723.png  \n",
            "  inflating: dataset/NUMTA/training-e/e15724.png  \n",
            "  inflating: dataset/NUMTA/training-e/e15725.png  \n",
            "  inflating: dataset/NUMTA/training-e/e15726.png  \n",
            "  inflating: dataset/NUMTA/training-e/e15727.png  \n",
            "  inflating: dataset/NUMTA/training-e/e15728.png  \n",
            "  inflating: dataset/NUMTA/training-e/e15729.png  \n",
            "  inflating: dataset/NUMTA/training-e/e15730.png  \n",
            "  inflating: dataset/NUMTA/training-e/e15731.png  \n",
            "  inflating: dataset/NUMTA/training-e/e15732.png  \n",
            "  inflating: dataset/NUMTA/training-e/e15733.png  \n",
            "  inflating: dataset/NUMTA/training-e/e15734.png  \n",
            "  inflating: dataset/NUMTA/training-e/e15735.png  \n",
            "  inflating: dataset/NUMTA/training-e/e15736.png  \n",
            "  inflating: dataset/NUMTA/training-e/e15737.png  \n",
            "  inflating: dataset/NUMTA/training-e/e15738.png  \n",
            "  inflating: dataset/NUMTA/training-e/e15739.png  \n",
            "  inflating: dataset/NUMTA/training-e/e15740.png  \n",
            "  inflating: dataset/NUMTA/training-e/e15741.png  \n",
            "  inflating: dataset/NUMTA/training-e/e15742.png  \n",
            "  inflating: dataset/NUMTA/training-e/e15743.png  \n",
            "  inflating: dataset/NUMTA/training-e/e15744.png  \n",
            "  inflating: dataset/NUMTA/training-e/e15745.png  \n",
            "  inflating: dataset/NUMTA/training-e/e15746.png  \n",
            "  inflating: dataset/NUMTA/training-e/e15747.png  \n",
            "  inflating: dataset/NUMTA/training-e/e15748.png  \n",
            "  inflating: dataset/NUMTA/training-e/e15749.png  \n",
            "  inflating: dataset/NUMTA/training-e/e15750.png  \n",
            "  inflating: dataset/NUMTA/training-e/e15751.png  \n",
            "  inflating: dataset/NUMTA/training-e/e15752.png  \n",
            "  inflating: dataset/NUMTA/training-e/e15753.png  \n",
            "  inflating: dataset/NUMTA/training-e/e15754.png  \n",
            "  inflating: dataset/NUMTA/training-e/e15755.png  \n",
            "  inflating: dataset/NUMTA/training-e/e15756.png  \n",
            "  inflating: dataset/NUMTA/training-e/e15757.png  \n",
            "  inflating: dataset/NUMTA/training-e/e15758.png  \n",
            "  inflating: dataset/NUMTA/training-e/e15759.png  \n",
            "  inflating: dataset/NUMTA/training-e/e15760.png  \n",
            "  inflating: dataset/NUMTA/training-e/e15761.png  \n",
            "  inflating: dataset/NUMTA/training-e/e15762.png  \n",
            "  inflating: dataset/NUMTA/training-e/e15763.png  \n",
            "  inflating: dataset/NUMTA/training-e/e15764.png  \n",
            "  inflating: dataset/NUMTA/training-e/e15765.png  \n",
            "  inflating: dataset/NUMTA/training-e/e15766.png  \n",
            "  inflating: dataset/NUMTA/training-e/e15767.png  \n",
            "  inflating: dataset/NUMTA/training-e/e15768.png  \n",
            "  inflating: dataset/NUMTA/training-e/e15769.png  \n",
            "  inflating: dataset/NUMTA/training-e/e15770.png  \n",
            "  inflating: dataset/NUMTA/training-e/e15771.png  \n",
            "  inflating: dataset/NUMTA/training-e/e15772.png  \n",
            "  inflating: dataset/NUMTA/training-e/e15773.png  \n",
            "  inflating: dataset/NUMTA/training-e/e15774.png  \n",
            "  inflating: dataset/NUMTA/training-e/e15775.png  \n",
            "  inflating: dataset/NUMTA/training-e/e15776.png  \n",
            "  inflating: dataset/NUMTA/training-e/e15777.png  \n",
            "  inflating: dataset/NUMTA/training-e/e15778.png  \n",
            "  inflating: dataset/NUMTA/training-e/e15779.png  \n",
            "  inflating: dataset/NUMTA/training-e/e15780.png  \n",
            "  inflating: dataset/NUMTA/training-e/e15781.png  \n",
            "  inflating: dataset/NUMTA/training-e/e15782.png  \n",
            "  inflating: dataset/NUMTA/training-e/e15783.png  \n",
            "  inflating: dataset/NUMTA/training-e/e15784.png  \n",
            "  inflating: dataset/NUMTA/training-e/e15785.png  \n",
            "  inflating: dataset/NUMTA/training-e/e15786.png  \n",
            "  inflating: dataset/NUMTA/training-e/e15787.png  \n",
            "  inflating: dataset/NUMTA/training-e/e15788.png  \n",
            "  inflating: dataset/NUMTA/training-e/e15789.png  \n",
            "  inflating: dataset/NUMTA/training-e/e15790.png  \n",
            "  inflating: dataset/NUMTA/training-e/e15791.png  \n",
            "  inflating: dataset/NUMTA/training-e/e15792.png  \n",
            "  inflating: dataset/NUMTA/training-e/e15793.png  \n",
            "  inflating: dataset/NUMTA/training-e/e15794.png  \n",
            "  inflating: dataset/NUMTA/training-e/e15795.png  \n",
            "  inflating: dataset/NUMTA/training-e/e15796.png  \n",
            "  inflating: dataset/NUMTA/training-e/e15797.png  \n",
            "  inflating: dataset/NUMTA/training-e/e15798.png  \n",
            "  inflating: dataset/NUMTA/training-e/e15799.png  \n",
            "  inflating: dataset/NUMTA/training-e/e15800.png  \n",
            "  inflating: dataset/NUMTA/training-e/e15801.png  \n",
            "  inflating: dataset/NUMTA/training-e/e15802.png  \n",
            "  inflating: dataset/NUMTA/training-e/e15803.png  \n",
            "  inflating: dataset/NUMTA/training-e/e15804.png  \n",
            "  inflating: dataset/NUMTA/training-e/e15805.png  \n",
            "  inflating: dataset/NUMTA/training-e/e15806.png  \n",
            "  inflating: dataset/NUMTA/training-e/e15807.png  \n",
            "  inflating: dataset/NUMTA/training-e/e15808.png  \n",
            "  inflating: dataset/NUMTA/training-e/e15809.png  \n",
            "  inflating: dataset/NUMTA/training-e/e15810.png  \n",
            "  inflating: dataset/NUMTA/training-e/e15811.png  \n",
            "  inflating: dataset/NUMTA/training-e/e15812.png  \n",
            "  inflating: dataset/NUMTA/training-e/e15813.png  \n",
            "  inflating: dataset/NUMTA/training-e/e15814.png  \n",
            "  inflating: dataset/NUMTA/training-e/e15815.png  \n",
            "  inflating: dataset/NUMTA/training-e/e15816.png  \n",
            "  inflating: dataset/NUMTA/training-e/e15817.png  \n",
            "  inflating: dataset/NUMTA/training-e/e15818.png  \n",
            "  inflating: dataset/NUMTA/training-e/e15819.png  \n",
            "  inflating: dataset/NUMTA/training-e/e15820.png  \n",
            "  inflating: dataset/NUMTA/training-e/e15821.png  \n",
            "  inflating: dataset/NUMTA/training-e/e15822.png  \n",
            "  inflating: dataset/NUMTA/training-e/e15823.png  \n",
            "  inflating: dataset/NUMTA/training-e/e15824.png  \n",
            "  inflating: dataset/NUMTA/training-e/e15825.png  \n",
            "  inflating: dataset/NUMTA/training-e/e15826.png  \n",
            "  inflating: dataset/NUMTA/training-e/e15827.png  \n",
            "  inflating: dataset/NUMTA/training-e/e15828.png  \n",
            "  inflating: dataset/NUMTA/training-e/e15829.png  \n",
            "  inflating: dataset/NUMTA/training-e/e15830.png  \n",
            "  inflating: dataset/NUMTA/training-e/e15831.png  \n",
            "  inflating: dataset/NUMTA/training-e/e15832.png  \n",
            "  inflating: dataset/NUMTA/training-e/e15833.png  \n",
            "  inflating: dataset/NUMTA/training-e/e15834.png  \n",
            "  inflating: dataset/NUMTA/training-e/e15835.png  \n",
            "  inflating: dataset/NUMTA/training-e/e15836.png  \n",
            "  inflating: dataset/NUMTA/training-e/e15837.png  \n",
            "  inflating: dataset/NUMTA/training-e/e15838.png  \n",
            "  inflating: dataset/NUMTA/training-e/e15839.png  \n",
            "  inflating: dataset/NUMTA/training-e/e15840.png  \n",
            "  inflating: dataset/NUMTA/training-e/e15841.png  \n",
            "  inflating: dataset/NUMTA/training-e/e15842.png  \n",
            "  inflating: dataset/NUMTA/training-e/e15843.png  \n",
            "  inflating: dataset/NUMTA/training-e/e15844.png  \n",
            "  inflating: dataset/NUMTA/training-e/e15845.png  \n",
            "  inflating: dataset/NUMTA/training-e/e15846.png  \n",
            "  inflating: dataset/NUMTA/training-e/e15847.png  \n",
            "  inflating: dataset/NUMTA/training-e/e15848.png  \n",
            "  inflating: dataset/NUMTA/training-e/e15849.png  \n",
            "  inflating: dataset/NUMTA/training-e/e15850.png  \n",
            "  inflating: dataset/NUMTA/training-e/e15851.png  \n",
            "  inflating: dataset/NUMTA/training-e/e15852.png  \n",
            "  inflating: dataset/NUMTA/training-e/e15853.png  \n",
            "  inflating: dataset/NUMTA/training-e/e15854.png  \n",
            "  inflating: dataset/NUMTA/training-e/e15855.png  \n",
            "  inflating: dataset/NUMTA/training-e/e15856.png  \n",
            "  inflating: dataset/NUMTA/training-e/e15857.png  \n",
            "  inflating: dataset/NUMTA/training-e/e15858.png  \n",
            "  inflating: dataset/NUMTA/training-e/e15859.png  \n",
            "  inflating: dataset/NUMTA/training-e/e15860.png  \n",
            "  inflating: dataset/NUMTA/training-e/e15861.png  \n",
            "  inflating: dataset/NUMTA/training-e/e15862.png  \n",
            "  inflating: dataset/NUMTA/training-e/e15863.png  \n",
            "  inflating: dataset/NUMTA/training-e/e15864.png  \n",
            "  inflating: dataset/NUMTA/training-e/e15865.png  \n",
            "  inflating: dataset/NUMTA/training-e/e15866.png  \n",
            "  inflating: dataset/NUMTA/training-e/e15867.png  \n",
            "  inflating: dataset/NUMTA/training-e/e15868.png  \n",
            "  inflating: dataset/NUMTA/training-e/e15869.png  \n",
            "  inflating: dataset/NUMTA/training-e/e15870.png  \n",
            "  inflating: dataset/NUMTA/training-e/e15871.png  \n",
            "  inflating: dataset/NUMTA/training-e/e15872.png  \n",
            "  inflating: dataset/NUMTA/training-e/e15873.png  \n",
            "  inflating: dataset/NUMTA/training-e/e15874.png  \n",
            "  inflating: dataset/NUMTA/training-e/e15875.png  \n",
            "  inflating: dataset/NUMTA/training-e/e15876.png  \n",
            "  inflating: dataset/NUMTA/training-e/e15877.png  \n",
            "  inflating: dataset/NUMTA/training-e/e15878.png  \n",
            "  inflating: dataset/NUMTA/training-e/e15879.png  \n",
            "  inflating: dataset/NUMTA/training-e/e15880.png  \n",
            "  inflating: dataset/NUMTA/training-e/e15881.png  \n",
            "  inflating: dataset/NUMTA/training-e/e15882.png  \n",
            "  inflating: dataset/NUMTA/training-e/e15883.png  \n",
            "  inflating: dataset/NUMTA/training-e/e15884.png  \n",
            "  inflating: dataset/NUMTA/training-e/e15885.png  \n",
            "  inflating: dataset/NUMTA/training-e/e15886.png  \n",
            "  inflating: dataset/NUMTA/training-e/e15887.png  \n",
            "  inflating: dataset/NUMTA/training-e/e15888.png  \n",
            "  inflating: dataset/NUMTA/training-e/e15889.png  \n",
            "  inflating: dataset/NUMTA/training-e/e15890.png  \n",
            "  inflating: dataset/NUMTA/training-e/e15891.png  \n",
            "  inflating: dataset/NUMTA/training-e/e15892.png  \n",
            "  inflating: dataset/NUMTA/training-e/e15893.png  \n",
            "  inflating: dataset/NUMTA/training-e/e15894.png  \n",
            "  inflating: dataset/NUMTA/training-e/e15895.png  \n",
            "  inflating: dataset/NUMTA/training-e/e15896.png  \n",
            "  inflating: dataset/NUMTA/training-e/e15897.png  \n",
            "  inflating: dataset/NUMTA/training-e/e15898.png  \n",
            "  inflating: dataset/NUMTA/training-e/e15899.png  \n",
            "  inflating: dataset/NUMTA/training-e/e15900.png  \n",
            "  inflating: dataset/NUMTA/training-e/e15901.png  \n",
            "  inflating: dataset/NUMTA/training-e/e15902.png  \n",
            "  inflating: dataset/NUMTA/training-e/e15903.png  \n",
            "  inflating: dataset/NUMTA/training-e/e15904.png  \n",
            "  inflating: dataset/NUMTA/training-e/e15905.png  \n",
            "  inflating: dataset/NUMTA/training-e/e15906.png  \n",
            "  inflating: dataset/NUMTA/training-e/e15907.png  \n",
            "  inflating: dataset/NUMTA/training-e/e15908.png  \n",
            "  inflating: dataset/NUMTA/training-e/e15909.png  \n",
            "  inflating: dataset/NUMTA/training-e/e15910.png  \n",
            "  inflating: dataset/NUMTA/training-e/e15911.png  \n",
            "  inflating: dataset/NUMTA/training-e/e15912.png  \n",
            "  inflating: dataset/NUMTA/training-e/e15913.png  \n",
            "  inflating: dataset/NUMTA/training-e/e15914.png  \n",
            "  inflating: dataset/NUMTA/training-e/e15915.png  \n",
            "  inflating: dataset/NUMTA/training-e/e15916.png  \n",
            "  inflating: dataset/NUMTA/training-e/e15917.png  \n",
            "  inflating: dataset/NUMTA/training-e/e15918.png  \n",
            "  inflating: dataset/NUMTA/training-e/e15919.png  \n",
            "  inflating: dataset/NUMTA/training-e/e15920.png  \n",
            "  inflating: dataset/NUMTA/training-e/e15921.png  \n",
            "  inflating: dataset/NUMTA/training-e/e15922.png  \n",
            "  inflating: dataset/NUMTA/training-e/e15923.png  \n",
            "  inflating: dataset/NUMTA/training-e/e15924.png  \n",
            "  inflating: dataset/NUMTA/training-e/e15925.png  \n",
            "  inflating: dataset/NUMTA/training-e/e15926.png  \n",
            "  inflating: dataset/NUMTA/training-e/e15927.png  \n",
            "  inflating: dataset/NUMTA/training-e/e15928.png  \n",
            "  inflating: dataset/NUMTA/training-e/e15929.png  \n",
            "  inflating: dataset/NUMTA/training-e/e15930.png  \n",
            "  inflating: dataset/NUMTA/training-e/e15931.png  \n",
            "  inflating: dataset/NUMTA/training-e/e15932.png  \n",
            "  inflating: dataset/NUMTA/training-e/e15933.png  \n",
            "  inflating: dataset/NUMTA/training-e/e15934.png  \n",
            "  inflating: dataset/NUMTA/training-e/e15935.png  \n",
            "  inflating: dataset/NUMTA/training-e/e15936.png  \n",
            "  inflating: dataset/NUMTA/training-e/e15937.png  \n",
            "  inflating: dataset/NUMTA/training-e/e15938.png  \n",
            "  inflating: dataset/NUMTA/training-e/e15939.png  \n",
            "  inflating: dataset/NUMTA/training-e/e15940.png  \n",
            "  inflating: dataset/NUMTA/training-e/e15941.png  \n",
            "  inflating: dataset/NUMTA/training-e/e15942.png  \n",
            "  inflating: dataset/NUMTA/training-e/e15943.png  \n",
            "  inflating: dataset/NUMTA/training-e/e15944.png  \n",
            "  inflating: dataset/NUMTA/training-e/e15945.png  \n",
            "  inflating: dataset/NUMTA/training-e/e15946.png  \n",
            "  inflating: dataset/NUMTA/training-e/e15947.png  \n",
            "  inflating: dataset/NUMTA/training-e/e15948.png  \n",
            "  inflating: dataset/NUMTA/training-e/e15949.png  \n",
            "  inflating: dataset/NUMTA/training-e/e15950.png  \n",
            "  inflating: dataset/NUMTA/training-e/e15951.png  \n",
            "  inflating: dataset/NUMTA/training-e/e15952.png  \n",
            "  inflating: dataset/NUMTA/training-e/e15953.png  \n",
            "  inflating: dataset/NUMTA/training-e/e15954.png  \n",
            "  inflating: dataset/NUMTA/training-e/e15955.png  \n",
            "  inflating: dataset/NUMTA/training-e/e15956.png  \n",
            "  inflating: dataset/NUMTA/training-e/e15957.png  \n",
            "  inflating: dataset/NUMTA/training-e/e15958.png  \n",
            "  inflating: dataset/NUMTA/training-e/e15959.png  \n",
            "  inflating: dataset/NUMTA/training-e/e15960.png  \n",
            "  inflating: dataset/NUMTA/training-e/e15961.png  \n",
            "  inflating: dataset/NUMTA/training-e/e15962.png  \n",
            "  inflating: dataset/NUMTA/training-e/e15963.png  \n",
            "  inflating: dataset/NUMTA/training-e/e15964.png  \n",
            "  inflating: dataset/NUMTA/training-e/e15965.png  \n",
            "  inflating: dataset/NUMTA/training-e/e15966.png  \n",
            "  inflating: dataset/NUMTA/training-e/e15967.png  \n",
            "  inflating: dataset/NUMTA/training-e/e15968.png  \n",
            "  inflating: dataset/NUMTA/training-e/e15969.png  \n",
            "  inflating: dataset/NUMTA/training-e/e15970.png  \n",
            "  inflating: dataset/NUMTA/training-e/e15971.png  \n",
            "  inflating: dataset/NUMTA/training-e/e15972.png  \n",
            "  inflating: dataset/NUMTA/training-e/e15973.png  \n",
            "  inflating: dataset/NUMTA/training-e/e15974.png  \n",
            "  inflating: dataset/NUMTA/training-e/e15975.png  \n",
            "  inflating: dataset/NUMTA/training-e/e15976.png  \n",
            "  inflating: dataset/NUMTA/training-e/e15977.png  \n",
            "  inflating: dataset/NUMTA/training-e/e15978.png  \n",
            "  inflating: dataset/NUMTA/training-e/e15979.png  \n",
            "  inflating: dataset/NUMTA/training-e/e15980.png  \n",
            "  inflating: dataset/NUMTA/training-e/e15981.png  \n",
            "  inflating: dataset/NUMTA/training-e/e15982.png  \n",
            "  inflating: dataset/NUMTA/training-e/e15983.png  \n",
            "  inflating: dataset/NUMTA/training-e/e15984.png  \n",
            "  inflating: dataset/NUMTA/training-e/e15985.png  \n",
            "  inflating: dataset/NUMTA/training-e/e15986.png  \n",
            "  inflating: dataset/NUMTA/training-e/e15987.png  \n",
            "  inflating: dataset/NUMTA/training-e/e15988.png  \n",
            "  inflating: dataset/NUMTA/training-e/e15989.png  \n",
            "  inflating: dataset/NUMTA/training-e/e15990.png  \n",
            "  inflating: dataset/NUMTA/training-e/e15991.png  \n",
            "  inflating: dataset/NUMTA/training-e/e15992.png  \n",
            "  inflating: dataset/NUMTA/training-e/e15993.png  \n",
            "  inflating: dataset/NUMTA/training-e/e15994.png  \n",
            "  inflating: dataset/NUMTA/training-e/e15995.png  \n",
            "  inflating: dataset/NUMTA/training-e/e15996.png  \n",
            "  inflating: dataset/NUMTA/training-e/e15997.png  \n",
            "  inflating: dataset/NUMTA/training-e/e15998.png  \n",
            "  inflating: dataset/NUMTA/training-e/e15999.png  \n",
            "  inflating: dataset/NUMTA/training-e/e16000.png  \n",
            "  inflating: dataset/NUMTA/training-e/e16001.png  \n",
            "  inflating: dataset/NUMTA/training-e/e16002.png  \n",
            "  inflating: dataset/NUMTA/training-e/e16003.png  \n",
            "  inflating: dataset/NUMTA/training-e/e16004.png  \n",
            "  inflating: dataset/NUMTA/training-e/e16005.png  \n",
            "  inflating: dataset/NUMTA/training-e/e16006.png  \n",
            "  inflating: dataset/NUMTA/training-e/e16007.png  \n",
            "  inflating: dataset/NUMTA/training-e/e16008.png  \n",
            "  inflating: dataset/NUMTA/training-e/e16009.png  \n",
            "  inflating: dataset/NUMTA/training-e/e16010.png  \n",
            "  inflating: dataset/NUMTA/training-e/e16011.png  \n",
            "  inflating: dataset/NUMTA/training-e/e16012.png  \n",
            "  inflating: dataset/NUMTA/training-e/e16013.png  \n",
            "  inflating: dataset/NUMTA/training-e/e16014.png  \n",
            "  inflating: dataset/NUMTA/training-e/e16015.png  \n",
            "  inflating: dataset/NUMTA/training-e/e16016.png  \n",
            "  inflating: dataset/NUMTA/training-e/e16017.png  \n",
            "  inflating: dataset/NUMTA/training-e/e16018.png  \n",
            "  inflating: dataset/NUMTA/training-e/e16019.png  \n",
            "  inflating: dataset/NUMTA/training-e/e16020.png  \n",
            "  inflating: dataset/NUMTA/training-e/e16021.png  \n",
            "  inflating: dataset/NUMTA/training-e/e16022.png  \n",
            "  inflating: dataset/NUMTA/training-e/e16023.png  \n",
            "  inflating: dataset/NUMTA/training-e/e16024.png  \n",
            "  inflating: dataset/NUMTA/training-e/e16025.png  \n",
            "  inflating: dataset/NUMTA/training-e/e16026.png  \n",
            "  inflating: dataset/NUMTA/training-e/e16027.png  \n",
            "  inflating: dataset/NUMTA/training-e/e16028.png  \n",
            "  inflating: dataset/NUMTA/training-e/e16029.png  \n",
            "  inflating: dataset/NUMTA/training-e/e16030.png  \n",
            "  inflating: dataset/NUMTA/training-e/e16031.png  \n",
            "  inflating: dataset/NUMTA/training-e/e16032.png  \n",
            "  inflating: dataset/NUMTA/training-e/e16033.png  \n",
            "  inflating: dataset/NUMTA/training-e/e16034.png  \n",
            "  inflating: dataset/NUMTA/training-e/e16035.png  \n",
            "  inflating: dataset/NUMTA/training-e/e16036.png  \n",
            "  inflating: dataset/NUMTA/training-e/e16037.png  \n",
            "  inflating: dataset/NUMTA/training-e/e16038.png  \n",
            "  inflating: dataset/NUMTA/training-e/e16039.png  \n",
            "  inflating: dataset/NUMTA/training-e/e16040.png  \n",
            "  inflating: dataset/NUMTA/training-e/e16041.png  \n",
            "  inflating: dataset/NUMTA/training-e/e16042.png  \n",
            "  inflating: dataset/NUMTA/training-e/e16043.png  \n",
            "  inflating: dataset/NUMTA/training-e/e16044.png  \n",
            "  inflating: dataset/NUMTA/training-e/e16045.png  \n",
            "  inflating: dataset/NUMTA/training-e/e16046.png  \n",
            "  inflating: dataset/NUMTA/training-e/e16047.png  \n",
            "  inflating: dataset/NUMTA/training-e/e16048.png  \n",
            "  inflating: dataset/NUMTA/training-e/e16049.png  \n",
            "  inflating: dataset/NUMTA/training-e/e16050.png  \n",
            "  inflating: dataset/NUMTA/training-e/e16051.png  \n",
            "  inflating: dataset/NUMTA/training-e/e16052.png  \n",
            "  inflating: dataset/NUMTA/training-e/e16053.png  \n",
            "  inflating: dataset/NUMTA/training-e/e16054.png  \n",
            "  inflating: dataset/NUMTA/training-e/e16055.png  \n",
            "  inflating: dataset/NUMTA/training-e/e16056.png  \n",
            "  inflating: dataset/NUMTA/training-e/e16057.png  \n",
            "  inflating: dataset/NUMTA/training-e/e16058.png  \n",
            "  inflating: dataset/NUMTA/training-e/e16059.png  \n",
            "  inflating: dataset/NUMTA/training-e/e16060.png  \n",
            "  inflating: dataset/NUMTA/training-e/e16061.png  \n",
            "  inflating: dataset/NUMTA/training-e/e16062.png  \n",
            "  inflating: dataset/NUMTA/training-e/e16063.png  \n",
            "  inflating: dataset/NUMTA/training-e/e16064.png  \n",
            "  inflating: dataset/NUMTA/training-e/e16065.png  \n",
            "  inflating: dataset/NUMTA/training-e/e16066.png  \n",
            "  inflating: dataset/NUMTA/training-e/e16067.png  \n",
            "  inflating: dataset/NUMTA/training-e/e16068.png  \n",
            "  inflating: dataset/NUMTA/training-e/e16069.png  \n",
            "  inflating: dataset/NUMTA/training-e/e16070.png  \n",
            "  inflating: dataset/NUMTA/training-e/e16071.png  \n",
            "  inflating: dataset/NUMTA/training-e/e16072.png  \n",
            "  inflating: dataset/NUMTA/training-e/e16073.png  \n",
            "  inflating: dataset/NUMTA/training-e/e16074.png  \n",
            "  inflating: dataset/NUMTA/training-e/e16075.png  \n",
            "  inflating: dataset/NUMTA/training-e/e16076.png  \n",
            "  inflating: dataset/NUMTA/training-e/e16077.png  \n",
            "  inflating: dataset/NUMTA/training-e/e16078.png  \n",
            "  inflating: dataset/NUMTA/training-e/e16079.png  \n",
            "  inflating: dataset/NUMTA/training-e/e16080.png  \n",
            "  inflating: dataset/NUMTA/training-e/e16081.png  \n",
            "  inflating: dataset/NUMTA/training-e/e16082.png  \n",
            "  inflating: dataset/NUMTA/training-e/e16083.png  \n",
            "  inflating: dataset/NUMTA/training-e/e16084.png  \n",
            "  inflating: dataset/NUMTA/training-e/e16085.png  \n",
            "  inflating: dataset/NUMTA/training-e/e16086.png  \n",
            "  inflating: dataset/NUMTA/training-e/e16087.png  \n",
            "  inflating: dataset/NUMTA/training-e/e16088.png  \n",
            "  inflating: dataset/NUMTA/training-e/e16089.png  \n",
            "  inflating: dataset/NUMTA/training-e/e16090.png  \n",
            "  inflating: dataset/NUMTA/training-e/e16091.png  \n",
            "  inflating: dataset/NUMTA/training-e/e16092.png  \n",
            "  inflating: dataset/NUMTA/training-e/e16093.png  \n",
            "  inflating: dataset/NUMTA/training-e/e16094.png  \n",
            "  inflating: dataset/NUMTA/training-e/e16095.png  \n",
            "  inflating: dataset/NUMTA/training-e/e16096.png  \n",
            "  inflating: dataset/NUMTA/training-e/e16097.png  \n",
            "  inflating: dataset/NUMTA/training-e/e16098.png  \n",
            "  inflating: dataset/NUMTA/training-e/e16099.png  \n",
            "  inflating: dataset/NUMTA/training-e/e16100.png  \n",
            "  inflating: dataset/NUMTA/training-e/e16101.png  \n",
            "  inflating: dataset/NUMTA/training-e/e16102.png  \n",
            "  inflating: dataset/NUMTA/training-e/e16103.png  \n",
            "  inflating: dataset/NUMTA/training-e/e16104.png  \n",
            "  inflating: dataset/NUMTA/training-e/e16105.png  \n",
            "  inflating: dataset/NUMTA/training-e/e16106.png  \n",
            "  inflating: dataset/NUMTA/training-e/e16107.png  \n",
            "  inflating: dataset/NUMTA/training-e/e16108.png  \n",
            "  inflating: dataset/NUMTA/training-e/e16109.png  \n",
            "  inflating: dataset/NUMTA/training-e/e16110.png  \n",
            "  inflating: dataset/NUMTA/training-e/e16111.png  \n",
            "  inflating: dataset/NUMTA/training-e/e16112.png  \n",
            "  inflating: dataset/NUMTA/training-e/e16113.png  \n",
            "  inflating: dataset/NUMTA/training-e/e16114.png  \n",
            "  inflating: dataset/NUMTA/training-e/e16115.png  \n",
            "  inflating: dataset/NUMTA/training-e/e16116.png  \n",
            "  inflating: dataset/NUMTA/training-e/e16117.png  \n",
            "  inflating: dataset/NUMTA/training-e/e16118.png  \n",
            "  inflating: dataset/NUMTA/training-e/e16119.png  \n",
            "  inflating: dataset/NUMTA/training-e/e16120.png  \n",
            "  inflating: dataset/NUMTA/training-e/e16121.png  \n",
            "  inflating: dataset/NUMTA/training-e/e16122.png  \n",
            "  inflating: dataset/NUMTA/training-e/e16123.png  \n",
            "  inflating: dataset/NUMTA/training-e/e16124.png  \n",
            "  inflating: dataset/NUMTA/training-e/e16125.png  \n",
            "  inflating: dataset/NUMTA/training-e/e16126.png  \n",
            "  inflating: dataset/NUMTA/training-e/e16127.png  \n",
            "  inflating: dataset/NUMTA/training-e/e16128.png  \n",
            "  inflating: dataset/NUMTA/training-e/e16129.png  \n",
            "  inflating: dataset/NUMTA/training-e/e16130.png  \n",
            "  inflating: dataset/NUMTA/training-e/e16131.png  \n",
            "  inflating: dataset/NUMTA/training-e/e16132.png  \n",
            "  inflating: dataset/NUMTA/training-e/e16133.png  \n",
            "  inflating: dataset/NUMTA/training-e/e16134.png  \n",
            "  inflating: dataset/NUMTA/training-e/e16135.png  \n",
            "  inflating: dataset/NUMTA/training-e/e16136.png  \n",
            "  inflating: dataset/NUMTA/training-e/e16137.png  \n",
            "  inflating: dataset/NUMTA/training-e/e16138.png  \n",
            "  inflating: dataset/NUMTA/training-e/e16139.png  \n",
            "  inflating: dataset/NUMTA/training-e/e16140.png  \n",
            "  inflating: dataset/NUMTA/training-e/e16141.png  \n",
            "  inflating: dataset/NUMTA/training-e/e16142.png  \n",
            "  inflating: dataset/NUMTA/training-e/e16143.png  \n",
            "  inflating: dataset/NUMTA/training-e/e16144.png  \n",
            "  inflating: dataset/NUMTA/training-e/e16145.png  \n",
            "  inflating: dataset/NUMTA/training-e/e16146.png  \n",
            "  inflating: dataset/NUMTA/training-e/e16147.png  \n",
            "  inflating: dataset/NUMTA/training-e/e16148.png  \n",
            "  inflating: dataset/NUMTA/training-e/e16149.png  \n",
            "  inflating: dataset/NUMTA/training-e/e16150.png  \n",
            "  inflating: dataset/NUMTA/training-e/e16151.png  \n",
            "  inflating: dataset/NUMTA/training-e/e16152.png  \n",
            "  inflating: dataset/NUMTA/training-e/e16153.png  \n",
            "  inflating: dataset/NUMTA/training-e/e16154.png  \n",
            "  inflating: dataset/NUMTA/training-e/e16155.png  \n",
            "  inflating: dataset/NUMTA/training-e/e16156.png  \n",
            "  inflating: dataset/NUMTA/training-e/e16157.png  \n",
            "  inflating: dataset/NUMTA/training-e/e16158.png  \n",
            "  inflating: dataset/NUMTA/training-e/e16159.png  \n",
            "  inflating: dataset/NUMTA/training-e/e16160.png  \n",
            "  inflating: dataset/NUMTA/training-e/e16161.png  \n",
            "  inflating: dataset/NUMTA/training-e/e16162.png  \n",
            "  inflating: dataset/NUMTA/training-e/e16163.png  \n",
            "  inflating: dataset/NUMTA/training-e/e16164.png  \n",
            "  inflating: dataset/NUMTA/training-e/e16165.png  \n",
            "  inflating: dataset/NUMTA/training-e/e16166.png  \n",
            "  inflating: dataset/NUMTA/training-e/e16167.png  \n",
            "  inflating: dataset/NUMTA/training-e/e16168.png  \n",
            "  inflating: dataset/NUMTA/training-e/e16169.png  \n",
            "  inflating: dataset/NUMTA/training-e/e16170.png  \n",
            "  inflating: dataset/NUMTA/training-e/e16171.png  \n",
            "  inflating: dataset/NUMTA/training-e/e16172.png  \n",
            "  inflating: dataset/NUMTA/training-e/e16173.png  \n",
            "  inflating: dataset/NUMTA/training-e/e16174.png  \n",
            "  inflating: dataset/NUMTA/training-e/e16175.png  \n",
            "  inflating: dataset/NUMTA/training-e/e16176.png  \n",
            "  inflating: dataset/NUMTA/training-e/e16177.png  \n",
            "  inflating: dataset/NUMTA/training-e/e16178.png  \n",
            "  inflating: dataset/NUMTA/training-e/e16179.png  \n",
            "  inflating: dataset/NUMTA/training-e/e16180.png  \n",
            "  inflating: dataset/NUMTA/training-e/e16181.png  \n",
            "  inflating: dataset/NUMTA/training-e/e16182.png  \n",
            "  inflating: dataset/NUMTA/training-e/e16183.png  \n",
            "  inflating: dataset/NUMTA/training-e/e16184.png  \n",
            "  inflating: dataset/NUMTA/training-e/e16185.png  \n",
            "  inflating: dataset/NUMTA/training-e/e16186.png  \n",
            "  inflating: dataset/NUMTA/training-e/e16187.png  \n",
            "  inflating: dataset/NUMTA/training-e/e16188.png  \n",
            "  inflating: dataset/NUMTA/training-e/e16189.png  \n",
            "  inflating: dataset/NUMTA/training-e/e16190.png  \n",
            "  inflating: dataset/NUMTA/training-e/e16191.png  \n",
            "  inflating: dataset/NUMTA/training-e/e16192.png  \n",
            "  inflating: dataset/NUMTA/training-e/e16193.png  \n",
            "  inflating: dataset/NUMTA/training-e/e16194.png  \n",
            "  inflating: dataset/NUMTA/training-e/e16195.png  \n",
            "  inflating: dataset/NUMTA/training-e/e16196.png  \n",
            "  inflating: dataset/NUMTA/training-e/e16197.png  \n",
            "  inflating: dataset/NUMTA/training-e/e16198.png  \n",
            "  inflating: dataset/NUMTA/training-e/e16199.png  \n",
            "  inflating: dataset/NUMTA/training-e/e16200.png  \n",
            "  inflating: dataset/NUMTA/training-e/e16201.png  \n",
            "  inflating: dataset/NUMTA/training-e/e16202.png  \n",
            "  inflating: dataset/NUMTA/training-e/e16203.png  \n",
            "  inflating: dataset/NUMTA/training-e/e16204.png  \n",
            "  inflating: dataset/NUMTA/training-e/e16205.png  \n",
            "  inflating: dataset/NUMTA/training-e/e16206.png  \n",
            "  inflating: dataset/NUMTA/training-e/e16207.png  \n",
            "  inflating: dataset/NUMTA/training-e/e16208.png  \n",
            "  inflating: dataset/NUMTA/training-e/e16209.png  \n",
            "  inflating: dataset/NUMTA/training-e/e16210.png  \n",
            "  inflating: dataset/NUMTA/training-e/e16211.png  \n",
            "  inflating: dataset/NUMTA/training-e/e16212.png  \n",
            "  inflating: dataset/NUMTA/training-e/e16213.png  \n",
            "  inflating: dataset/NUMTA/training-e/e16214.png  \n",
            "  inflating: dataset/NUMTA/training-e/e16215.png  \n",
            "  inflating: dataset/NUMTA/training-e/e16216.png  \n",
            "  inflating: dataset/NUMTA/training-e/e16217.png  \n",
            "  inflating: dataset/NUMTA/training-e/e16218.png  \n",
            "  inflating: dataset/NUMTA/training-e/e16219.png  \n",
            "  inflating: dataset/NUMTA/training-e/e16220.png  \n",
            "  inflating: dataset/NUMTA/training-e/e16221.png  \n",
            "  inflating: dataset/NUMTA/training-e/e16222.png  \n",
            "  inflating: dataset/NUMTA/training-e/e16223.png  \n",
            "  inflating: dataset/NUMTA/training-e/e16224.png  \n",
            "  inflating: dataset/NUMTA/training-e/e16225.png  \n",
            "  inflating: dataset/NUMTA/training-e/e16226.png  \n",
            "  inflating: dataset/NUMTA/training-e/e16227.png  \n",
            "  inflating: dataset/NUMTA/training-e/e16228.png  \n",
            "  inflating: dataset/NUMTA/training-e/e16229.png  \n",
            "  inflating: dataset/NUMTA/training-e/e16230.png  \n",
            "  inflating: dataset/NUMTA/training-e/e16231.png  \n",
            "  inflating: dataset/NUMTA/training-e/e16232.png  \n",
            "  inflating: dataset/NUMTA/training-e/e16233.png  \n",
            "  inflating: dataset/NUMTA/training-e/e16234.png  \n",
            "  inflating: dataset/NUMTA/training-e/e16235.png  \n",
            "  inflating: dataset/NUMTA/training-e/e16236.png  \n",
            "  inflating: dataset/NUMTA/training-e/e16237.png  \n",
            "  inflating: dataset/NUMTA/training-e/e16238.png  \n",
            "  inflating: dataset/NUMTA/training-e/e16239.png  \n",
            "  inflating: dataset/NUMTA/training-e/e16240.png  \n",
            "  inflating: dataset/NUMTA/training-e/e16241.png  \n",
            "  inflating: dataset/NUMTA/training-e/e16242.png  \n",
            "  inflating: dataset/NUMTA/training-e/e16243.png  \n",
            "  inflating: dataset/NUMTA/training-e/e16244.png  \n",
            "  inflating: dataset/NUMTA/training-e/e16245.png  \n",
            "  inflating: dataset/NUMTA/training-e/e16246.png  \n",
            "  inflating: dataset/NUMTA/training-e/e16247.png  \n",
            "  inflating: dataset/NUMTA/training-e/e16248.png  \n",
            "  inflating: dataset/NUMTA/training-e/e16249.png  \n",
            "  inflating: dataset/NUMTA/training-e/e16250.png  \n",
            "  inflating: dataset/NUMTA/training-e/e16251.png  \n",
            "  inflating: dataset/NUMTA/training-e/e16252.png  \n",
            "  inflating: dataset/NUMTA/training-e/e16253.png  \n",
            "  inflating: dataset/NUMTA/training-e/e16254.png  \n",
            "  inflating: dataset/NUMTA/training-e/e16255.png  \n",
            "  inflating: dataset/NUMTA/training-e/e16256.png  \n",
            "  inflating: dataset/NUMTA/training-e/e16257.png  \n",
            "  inflating: dataset/NUMTA/training-e/e16258.png  \n",
            "  inflating: dataset/NUMTA/training-e/e16259.png  \n",
            "  inflating: dataset/NUMTA/training-e/e16260.png  \n",
            "  inflating: dataset/NUMTA/training-e/e16261.png  \n",
            "  inflating: dataset/NUMTA/training-e/e16262.png  \n",
            "  inflating: dataset/NUMTA/training-e/e16263.png  \n",
            "  inflating: dataset/NUMTA/training-e/e16264.png  \n",
            "  inflating: dataset/NUMTA/training-e/e16265.png  \n",
            "  inflating: dataset/NUMTA/training-e/e16266.png  \n",
            "  inflating: dataset/NUMTA/training-e/e16267.png  \n",
            "  inflating: dataset/NUMTA/training-e/e16268.png  \n",
            "  inflating: dataset/NUMTA/training-e/e16269.png  \n",
            "  inflating: dataset/NUMTA/training-e/e16270.png  \n",
            "  inflating: dataset/NUMTA/training-e/e16271.png  \n",
            "  inflating: dataset/NUMTA/training-e/e16272.png  \n",
            "  inflating: dataset/NUMTA/training-e/e16273.png  \n",
            "  inflating: dataset/NUMTA/training-e/e16274.png  \n",
            "  inflating: dataset/NUMTA/training-e/e16275.png  \n",
            "  inflating: dataset/NUMTA/training-e/e16276.png  \n",
            "  inflating: dataset/NUMTA/training-e/e16277.png  \n",
            "  inflating: dataset/NUMTA/training-e/e16278.png  \n",
            "  inflating: dataset/NUMTA/training-e/e16279.png  \n",
            "  inflating: dataset/NUMTA/training-e/e16280.png  \n",
            "  inflating: dataset/NUMTA/training-e/e16281.png  \n",
            "  inflating: dataset/NUMTA/training-e/e16282.png  \n",
            "  inflating: dataset/NUMTA/training-e/e16283.png  \n",
            "  inflating: dataset/NUMTA/training-e/e16284.png  \n",
            "  inflating: dataset/NUMTA/training-e/e16285.png  \n",
            "  inflating: dataset/NUMTA/training-e/e16286.png  \n",
            "  inflating: dataset/NUMTA/training-e/e16287.png  \n",
            "  inflating: dataset/NUMTA/training-e/e16288.png  \n",
            "  inflating: dataset/NUMTA/training-e/e16289.png  \n",
            "  inflating: dataset/NUMTA/training-e/e16290.png  \n",
            "  inflating: dataset/NUMTA/training-e/e16291.png  \n",
            "  inflating: dataset/NUMTA/training-e/e16292.png  \n",
            "  inflating: dataset/NUMTA/training-e/e16293.png  \n",
            "  inflating: dataset/NUMTA/training-e/e16294.png  \n",
            "  inflating: dataset/NUMTA/training-e/e16295.png  \n",
            "  inflating: dataset/NUMTA/training-e/e16296.png  \n",
            "  inflating: dataset/NUMTA/training-e/e16297.png  \n",
            "  inflating: dataset/NUMTA/training-e/e16298.png  \n",
            "  inflating: dataset/NUMTA/training-e/e16299.png  \n",
            "  inflating: dataset/NUMTA/training-e/e16300.png  \n",
            "  inflating: dataset/NUMTA/training-e/e16301.png  \n",
            "  inflating: dataset/NUMTA/training-e/e16302.png  \n",
            "  inflating: dataset/NUMTA/training-e/e16303.png  \n",
            "  inflating: dataset/NUMTA/training-e/e16304.png  \n",
            "  inflating: dataset/NUMTA/training-e/e16305.png  \n",
            "  inflating: dataset/NUMTA/training-e/e16306.png  \n",
            "  inflating: dataset/NUMTA/training-e/e16307.png  \n",
            "  inflating: dataset/NUMTA/training-e/e16308.png  \n",
            "  inflating: dataset/NUMTA/training-e/e16309.png  \n",
            "  inflating: dataset/NUMTA/training-e/e16310.png  \n",
            "  inflating: dataset/NUMTA/training-e/e16311.png  \n",
            "  inflating: dataset/NUMTA/training-e/e16312.png  \n",
            "  inflating: dataset/NUMTA/training-e/e16313.png  \n",
            "  inflating: dataset/NUMTA/training-e/e16314.png  \n",
            "  inflating: dataset/NUMTA/training-e/e16315.png  \n",
            "  inflating: dataset/NUMTA/training-e/e16316.png  \n",
            "  inflating: dataset/NUMTA/training-e/e16317.png  \n",
            "  inflating: dataset/NUMTA/training-e/e16318.png  \n",
            "  inflating: dataset/NUMTA/training-e/e16319.png  \n",
            "  inflating: dataset/NUMTA/training-e/e16320.png  \n",
            "  inflating: dataset/NUMTA/training-e/e16321.png  \n",
            "  inflating: dataset/NUMTA/training-e/e16322.png  \n",
            "  inflating: dataset/NUMTA/training-e/e16323.png  \n",
            "  inflating: dataset/NUMTA/training-e/e16324.png  \n",
            "  inflating: dataset/NUMTA/training-e/e16325.png  \n",
            "  inflating: dataset/NUMTA/training-e/e16326.png  \n",
            "  inflating: dataset/NUMTA/training-e/e16327.png  \n",
            "  inflating: dataset/NUMTA/training-e/e16328.png  \n",
            "  inflating: dataset/NUMTA/training-e/e16329.png  \n",
            "  inflating: dataset/NUMTA/training-e/e16330.png  \n",
            "  inflating: dataset/NUMTA/training-e/e16331.png  \n",
            "  inflating: dataset/NUMTA/training-e/e16332.png  \n",
            "  inflating: dataset/NUMTA/training-e/e16333.png  \n",
            "  inflating: dataset/NUMTA/training-e/e16334.png  \n",
            "  inflating: dataset/NUMTA/training-e/e16335.png  \n",
            "  inflating: dataset/NUMTA/training-e/e16336.png  \n",
            "  inflating: dataset/NUMTA/training-e/e16337.png  \n",
            "  inflating: dataset/NUMTA/training-e/e16338.png  \n",
            "  inflating: dataset/NUMTA/training-e/e16339.png  \n",
            "  inflating: dataset/NUMTA/training-e/e16340.png  \n",
            "  inflating: dataset/NUMTA/training-e/e16341.png  \n",
            "  inflating: dataset/NUMTA/training-e/e16342.png  \n",
            "  inflating: dataset/NUMTA/training-e/e16343.png  \n",
            "  inflating: dataset/NUMTA/training-e/e16344.png  \n",
            "  inflating: dataset/NUMTA/training-e/e16345.png  \n",
            "  inflating: dataset/NUMTA/training-e/e16346.png  \n",
            "  inflating: dataset/NUMTA/training-e/e16347.png  \n",
            "  inflating: dataset/NUMTA/training-e/e16348.png  \n",
            "  inflating: dataset/NUMTA/training-e/e16349.png  \n",
            "  inflating: dataset/NUMTA/training-e/e16350.png  \n",
            "  inflating: dataset/NUMTA/training-e/e16351.png  \n",
            "  inflating: dataset/NUMTA/training-e/e16352.png  \n",
            "  inflating: dataset/NUMTA/training-e/e16353.png  \n",
            "  inflating: dataset/NUMTA/training-e/e16354.png  \n",
            "  inflating: dataset/NUMTA/training-e/e16355.png  \n",
            "  inflating: dataset/NUMTA/training-e/e16356.png  \n",
            "  inflating: dataset/NUMTA/training-e/e16357.png  \n",
            "  inflating: dataset/NUMTA/training-e/e16358.png  \n",
            "  inflating: dataset/NUMTA/training-e/e16359.png  \n",
            "  inflating: dataset/NUMTA/training-e/e16360.png  \n",
            "  inflating: dataset/NUMTA/training-e/e16361.png  \n",
            "  inflating: dataset/NUMTA/training-e/e16362.png  \n",
            "  inflating: dataset/NUMTA/training-e/e16363.png  \n",
            "  inflating: dataset/NUMTA/training-e/e16364.png  \n",
            "  inflating: dataset/NUMTA/training-e/e16365.png  \n",
            "  inflating: dataset/NUMTA/training-e/e16366.png  \n",
            "  inflating: dataset/NUMTA/training-e/e16367.png  \n",
            "  inflating: dataset/NUMTA/training-e/e16368.png  \n",
            "  inflating: dataset/NUMTA/training-e/e16369.png  \n",
            "  inflating: dataset/NUMTA/training-e/e16370.png  \n",
            "  inflating: dataset/NUMTA/training-e/e16371.png  \n",
            "  inflating: dataset/NUMTA/training-e/e16372.png  \n",
            "  inflating: dataset/NUMTA/training-e/e16373.png  \n",
            "  inflating: dataset/NUMTA/training-e/e16374.png  \n",
            "  inflating: dataset/NUMTA/training-e/e16375.png  \n",
            "  inflating: dataset/NUMTA/training-e/e16376.png  \n",
            "  inflating: dataset/NUMTA/training-e/e16377.png  \n",
            "  inflating: dataset/NUMTA/training-e/e16378.png  \n",
            "  inflating: dataset/NUMTA/training-e/e16379.png  \n",
            "  inflating: dataset/NUMTA/training-e/e16380.png  \n",
            "  inflating: dataset/NUMTA/training-e/e16381.png  \n",
            "  inflating: dataset/NUMTA/training-e/e16382.png  \n",
            "  inflating: dataset/NUMTA/training-e/e16383.png  \n",
            "  inflating: dataset/NUMTA/training-e/e16384.png  \n",
            "  inflating: dataset/NUMTA/training-e/e16385.png  \n",
            "  inflating: dataset/NUMTA/training-e/e16386.png  \n",
            "  inflating: dataset/NUMTA/training-e/e16387.png  \n",
            "  inflating: dataset/NUMTA/training-e/e16388.png  \n",
            "  inflating: dataset/NUMTA/training-e/e16389.png  \n",
            "  inflating: dataset/NUMTA/training-e/e16390.png  \n",
            "  inflating: dataset/NUMTA/training-e/e16391.png  \n",
            "  inflating: dataset/NUMTA/training-e/e16392.png  \n",
            "  inflating: dataset/NUMTA/training-e/e16393.png  \n",
            "  inflating: dataset/NUMTA/training-e/e16394.png  \n",
            "  inflating: dataset/NUMTA/training-e/e16395.png  \n",
            "  inflating: dataset/NUMTA/training-e/e16396.png  \n",
            "  inflating: dataset/NUMTA/training-e/e16397.png  \n",
            "  inflating: dataset/NUMTA/training-e/e16398.png  \n",
            "  inflating: dataset/NUMTA/training-e/e16399.png  \n",
            "  inflating: dataset/NUMTA/training-e/e16400.png  \n",
            "  inflating: dataset/NUMTA/training-e/e16401.png  \n",
            "  inflating: dataset/NUMTA/training-e/e16402.png  \n",
            "  inflating: dataset/NUMTA/training-e/e16403.png  \n",
            "  inflating: dataset/NUMTA/training-e/e16404.png  \n",
            "  inflating: dataset/NUMTA/training-e/e16405.png  \n",
            "  inflating: dataset/NUMTA/training-e/e16406.png  \n",
            "  inflating: dataset/NUMTA/training-e/e16407.png  \n",
            "  inflating: dataset/NUMTA/training-e/e16408.png  \n",
            "  inflating: dataset/NUMTA/training-e/e16409.png  \n",
            "  inflating: dataset/NUMTA/training-e/e16410.png  \n",
            "  inflating: dataset/NUMTA/training-e/e16411.png  \n",
            "  inflating: dataset/NUMTA/training-e/e16412.png  \n",
            "  inflating: dataset/NUMTA/training-e/e16413.png  \n",
            "  inflating: dataset/NUMTA/training-e/e16414.png  \n",
            "  inflating: dataset/NUMTA/training-e/e16415.png  \n",
            "  inflating: dataset/NUMTA/training-e/e16416.png  \n",
            "  inflating: dataset/NUMTA/training-e/e16417.png  \n",
            "  inflating: dataset/NUMTA/training-e/e16418.png  \n",
            "  inflating: dataset/NUMTA/training-e/e16419.png  \n",
            "  inflating: dataset/NUMTA/training-e/e16420.png  \n",
            "  inflating: dataset/NUMTA/training-e/e16421.png  \n",
            "  inflating: dataset/NUMTA/training-e/e16422.png  \n",
            "  inflating: dataset/NUMTA/training-e/e16423.png  \n",
            "  inflating: dataset/NUMTA/training-e/e16424.png  \n",
            "  inflating: dataset/NUMTA/training-e/e16425.png  \n",
            "  inflating: dataset/NUMTA/training-e/e16426.png  \n",
            "  inflating: dataset/NUMTA/training-e/e16427.png  \n",
            "  inflating: dataset/NUMTA/training-e/e16428.png  \n",
            "  inflating: dataset/NUMTA/training-e/e16429.png  \n",
            "  inflating: dataset/NUMTA/training-e/e16430.png  \n",
            "  inflating: dataset/NUMTA/training-e/e16431.png  \n",
            "  inflating: dataset/NUMTA/training-e/e16432.png  \n",
            "  inflating: dataset/NUMTA/training-e/e16433.png  \n",
            "  inflating: dataset/NUMTA/training-e/e16434.png  \n",
            "  inflating: dataset/NUMTA/training-e/e16435.png  \n",
            "  inflating: dataset/NUMTA/training-e/e16436.png  \n",
            "  inflating: dataset/NUMTA/training-e/e16437.png  \n",
            "  inflating: dataset/NUMTA/training-e/e16438.png  \n",
            "  inflating: dataset/NUMTA/training-e/e16439.png  \n",
            "  inflating: dataset/NUMTA/training-e/e16440.png  \n",
            "  inflating: dataset/NUMTA/training-e/e16441.png  \n",
            "  inflating: dataset/NUMTA/training-e/e16442.png  \n",
            "  inflating: dataset/NUMTA/training-e/e16443.png  \n",
            "  inflating: dataset/NUMTA/training-e/e16444.png  \n",
            "  inflating: dataset/NUMTA/training-e/e16445.png  \n",
            "  inflating: dataset/NUMTA/training-e/e16446.png  \n",
            "  inflating: dataset/NUMTA/training-e/e16447.png  \n",
            "  inflating: dataset/NUMTA/training-e/e16448.png  \n",
            "  inflating: dataset/NUMTA/training-e/e16449.png  \n",
            "  inflating: dataset/NUMTA/training-e/e16450.png  \n",
            "  inflating: dataset/NUMTA/training-e/e16451.png  \n",
            "  inflating: dataset/NUMTA/training-e/e16452.png  \n",
            "  inflating: dataset/NUMTA/training-e/e16453.png  \n",
            "  inflating: dataset/NUMTA/training-e/e16454.png  \n",
            "  inflating: dataset/NUMTA/training-e/e16455.png  \n",
            "  inflating: dataset/NUMTA/training-e/e16456.png  \n",
            "  inflating: dataset/NUMTA/training-e/e16457.png  \n",
            "  inflating: dataset/NUMTA/training-e/e16458.png  \n",
            "  inflating: dataset/NUMTA/training-e/e16459.png  \n",
            "  inflating: dataset/NUMTA/training-e/e16460.png  \n",
            "  inflating: dataset/NUMTA/training-e/e16461.png  \n",
            "  inflating: dataset/NUMTA/training-e/e16462.png  \n",
            "  inflating: dataset/NUMTA/training-e/e16463.png  \n",
            "  inflating: dataset/NUMTA/training-e/e16464.png  \n",
            "  inflating: dataset/NUMTA/training-e/e16465.png  \n",
            "  inflating: dataset/NUMTA/training-e/e16466.png  \n",
            "  inflating: dataset/NUMTA/training-e/e16467.png  \n",
            "  inflating: dataset/NUMTA/training-e/e16468.png  \n",
            "  inflating: dataset/NUMTA/training-e/e16469.png  \n",
            "  inflating: dataset/NUMTA/training-e/e16470.png  \n",
            "  inflating: dataset/NUMTA/training-e/e16471.png  \n",
            "  inflating: dataset/NUMTA/training-e/e16472.png  \n",
            "  inflating: dataset/NUMTA/training-e/e16473.png  \n",
            "  inflating: dataset/NUMTA/training-e/e16474.png  \n",
            "  inflating: dataset/NUMTA/training-e/e16475.png  \n",
            "  inflating: dataset/NUMTA/training-e/e16476.png  \n",
            "  inflating: dataset/NUMTA/training-e/e16477.png  \n",
            "  inflating: dataset/NUMTA/training-e/e16478.png  \n",
            "  inflating: dataset/NUMTA/training-e/e16479.png  \n",
            "  inflating: dataset/NUMTA/training-e/e16480.png  \n",
            "  inflating: dataset/NUMTA/training-e/e16481.png  \n",
            "  inflating: dataset/NUMTA/training-e/e16482.png  \n",
            "  inflating: dataset/NUMTA/training-e/e16483.png  \n",
            "  inflating: dataset/NUMTA/training-e/e16484.png  \n",
            "  inflating: dataset/NUMTA/training-e/e16485.png  \n",
            "  inflating: dataset/NUMTA/training-e/e16486.png  \n",
            "  inflating: dataset/NUMTA/training-e/e16487.png  \n",
            "  inflating: dataset/NUMTA/training-e/e16488.png  \n",
            "  inflating: dataset/NUMTA/training-e/e16489.png  \n",
            "  inflating: dataset/NUMTA/training-e/e16490.png  \n",
            "  inflating: dataset/NUMTA/training-e/e16491.png  \n",
            "  inflating: dataset/NUMTA/training-e/e16492.png  \n",
            "  inflating: dataset/NUMTA/training-e/e16493.png  \n",
            "  inflating: dataset/NUMTA/training-e/e16494.png  \n",
            "  inflating: dataset/NUMTA/training-e/e16495.png  \n",
            "  inflating: dataset/NUMTA/training-e/e16496.png  \n",
            "  inflating: dataset/NUMTA/training-e/e16497.png  \n",
            "  inflating: dataset/NUMTA/training-e/e16498.png  \n",
            "  inflating: dataset/NUMTA/training-e/e16499.png  \n",
            "  inflating: dataset/NUMTA/training-e/e16500.png  \n",
            "  inflating: dataset/NUMTA/training-e/e16501.png  \n",
            "  inflating: dataset/NUMTA/training-e/e16502.png  \n",
            "  inflating: dataset/NUMTA/training-e/e16503.png  \n",
            "  inflating: dataset/NUMTA/training-e/e16504.png  \n",
            "  inflating: dataset/NUMTA/training-e/e16505.png  \n",
            "  inflating: dataset/NUMTA/training-e/e16506.png  \n",
            "  inflating: dataset/NUMTA/training-e/e16507.png  \n",
            "  inflating: dataset/NUMTA/training-e/e16508.png  \n",
            "  inflating: dataset/NUMTA/training-e/e16509.png  \n",
            "  inflating: dataset/NUMTA/training-e/e16510.png  \n",
            "  inflating: dataset/NUMTA/training-e/e16511.png  \n",
            "  inflating: dataset/NUMTA/training-e/e16512.png  \n",
            "  inflating: dataset/NUMTA/training-e/e16513.png  \n",
            "  inflating: dataset/NUMTA/training-e/e16514.png  \n",
            "  inflating: dataset/NUMTA/training-e/e16515.png  \n",
            "  inflating: dataset/NUMTA/training-e/e16516.png  \n",
            "  inflating: dataset/NUMTA/training-e/e16517.png  \n",
            "  inflating: dataset/NUMTA/training-e/e16518.png  \n",
            "  inflating: dataset/NUMTA/training-e/e16519.png  \n",
            "  inflating: dataset/NUMTA/training-e/e16520.png  \n",
            "  inflating: dataset/NUMTA/training-e/e16521.png  \n",
            "  inflating: dataset/NUMTA/training-e/e16522.png  \n",
            "  inflating: dataset/NUMTA/training-e/e16523.png  \n",
            "  inflating: dataset/NUMTA/training-e/e16524.png  \n",
            "  inflating: dataset/NUMTA/training-e/e16525.png  \n",
            "  inflating: dataset/NUMTA/training-e/e16526.png  \n",
            "  inflating: dataset/NUMTA/training-e/e16527.png  \n",
            "  inflating: dataset/NUMTA/training-e/e16528.png  \n",
            "  inflating: dataset/NUMTA/training-e/e16529.png  \n",
            "  inflating: dataset/NUMTA/training-e/e16530.png  \n",
            "  inflating: dataset/NUMTA/training-e/e16531.png  \n",
            "  inflating: dataset/NUMTA/training-e/e16532.png  \n",
            "  inflating: dataset/NUMTA/training-e/e16533.png  \n",
            "  inflating: dataset/NUMTA/training-e/e16534.png  \n",
            "  inflating: dataset/NUMTA/training-e/e16535.png  \n",
            "  inflating: dataset/NUMTA/training-e/e16536.png  \n",
            "  inflating: dataset/NUMTA/training-e/e16537.png  \n",
            "  inflating: dataset/NUMTA/training-e/e16538.png  \n",
            "  inflating: dataset/NUMTA/training-e/e16539.png  \n",
            "  inflating: dataset/NUMTA/training-e/e16540.png  \n",
            "  inflating: dataset/NUMTA/training-e/e16541.png  \n",
            "  inflating: dataset/NUMTA/training-e/e16542.png  \n",
            "  inflating: dataset/NUMTA/training-e/e16543.png  \n",
            "  inflating: dataset/NUMTA/training-e/e16544.png  \n",
            "  inflating: dataset/NUMTA/training-e/e16545.png  \n",
            "  inflating: dataset/NUMTA/training-e/e16546.png  \n",
            "  inflating: dataset/NUMTA/training-e/e16547.png  \n",
            "  inflating: dataset/NUMTA/training-e/e16548.png  \n",
            "  inflating: dataset/NUMTA/training-e/e16549.png  \n",
            "  inflating: dataset/NUMTA/training-e/e16550.png  \n",
            "  inflating: dataset/NUMTA/training-e/e16551.png  \n",
            "  inflating: dataset/NUMTA/training-e/e16552.png  \n",
            "  inflating: dataset/NUMTA/training-e/e16553.png  \n",
            "  inflating: dataset/NUMTA/training-e/e16554.png  \n",
            "  inflating: dataset/NUMTA/training-e/e16555.png  \n",
            "  inflating: dataset/NUMTA/training-e/e16556.png  \n",
            "  inflating: dataset/NUMTA/training-e/e16557.png  \n",
            "  inflating: dataset/NUMTA/training-e/e16558.png  \n",
            "  inflating: dataset/NUMTA/training-e/e16559.png  \n",
            "  inflating: dataset/NUMTA/training-e/e16560.png  \n",
            "  inflating: dataset/NUMTA/training-e/e16561.png  \n",
            "  inflating: dataset/NUMTA/training-e/e16562.png  \n",
            "  inflating: dataset/NUMTA/training-e/e16563.png  \n",
            "  inflating: dataset/NUMTA/training-e/e16564.png  \n",
            "  inflating: dataset/NUMTA/training-e/e16565.png  \n",
            "  inflating: dataset/NUMTA/training-e/e16566.png  \n",
            "  inflating: dataset/NUMTA/training-e/e16567.png  \n",
            "  inflating: dataset/NUMTA/training-e/e16568.png  \n",
            "  inflating: dataset/NUMTA/training-e/e16569.png  \n",
            "  inflating: dataset/NUMTA/training-e/e16570.png  \n",
            "  inflating: dataset/NUMTA/training-e/e16571.png  \n",
            "  inflating: dataset/NUMTA/training-e/e16572.png  \n",
            "  inflating: dataset/NUMTA/training-e/e16573.png  \n",
            "  inflating: dataset/NUMTA/training-e/e16574.png  \n",
            "  inflating: dataset/NUMTA/training-e/e16575.png  \n",
            "  inflating: dataset/NUMTA/training-e/e16576.png  \n",
            "  inflating: dataset/NUMTA/training-e/e16577.png  \n",
            "  inflating: dataset/NUMTA/training-e/e16578.png  \n",
            "  inflating: dataset/NUMTA/training-e/e16579.png  \n",
            "  inflating: dataset/NUMTA/training-e/e16580.png  \n",
            "  inflating: dataset/NUMTA/training-e/e16581.png  \n",
            "  inflating: dataset/NUMTA/training-e/e16582.png  \n",
            "  inflating: dataset/NUMTA/training-e/e16583.png  \n",
            "  inflating: dataset/NUMTA/training-e/e16584.png  \n",
            "  inflating: dataset/NUMTA/training-e/e16585.png  \n",
            "  inflating: dataset/NUMTA/training-e/e16586.png  \n",
            "  inflating: dataset/NUMTA/training-e/e16587.png  \n",
            "  inflating: dataset/NUMTA/training-e/e16588.png  \n",
            "  inflating: dataset/NUMTA/training-e/e16589.png  \n",
            "  inflating: dataset/NUMTA/training-e/e16590.png  \n",
            "  inflating: dataset/NUMTA/training-e/e16591.png  \n",
            "  inflating: dataset/NUMTA/training-e/e16592.png  \n",
            "  inflating: dataset/NUMTA/training-e/e16593.png  \n",
            "  inflating: dataset/NUMTA/training-e/e16594.png  \n",
            "  inflating: dataset/NUMTA/training-e/e16595.png  \n",
            "  inflating: dataset/NUMTA/training-e/e16596.png  \n",
            "  inflating: dataset/NUMTA/training-e/e16597.png  \n",
            "  inflating: dataset/NUMTA/training-e/e16598.png  \n",
            "  inflating: dataset/NUMTA/training-e/e16599.png  \n",
            "  inflating: dataset/NUMTA/training-e/e16600.png  \n",
            "  inflating: dataset/NUMTA/training-e/e16601.png  \n",
            "  inflating: dataset/NUMTA/training-e/e16602.png  \n",
            "  inflating: dataset/NUMTA/training-e/e16603.png  \n",
            "  inflating: dataset/NUMTA/training-e/e16604.png  \n",
            "  inflating: dataset/NUMTA/training-e/e16605.png  \n",
            "  inflating: dataset/NUMTA/training-e/e16606.png  \n",
            "  inflating: dataset/NUMTA/training-e/e16607.png  \n",
            "  inflating: dataset/NUMTA/training-e/e16608.png  \n",
            "  inflating: dataset/NUMTA/training-e/e16609.png  \n",
            "  inflating: dataset/NUMTA/training-e/e16610.png  \n",
            "  inflating: dataset/NUMTA/training-e/e16611.png  \n",
            "  inflating: dataset/NUMTA/training-e/e16612.png  \n",
            "  inflating: dataset/NUMTA/training-e/e16613.png  \n",
            "  inflating: dataset/NUMTA/training-e/e16614.png  \n",
            "  inflating: dataset/NUMTA/training-e/e16615.png  \n",
            "  inflating: dataset/NUMTA/training-e/e16616.png  \n",
            "  inflating: dataset/NUMTA/training-e/e16617.png  \n",
            "  inflating: dataset/NUMTA/training-e/e16618.png  \n",
            "  inflating: dataset/NUMTA/training-e/e16619.png  \n",
            "  inflating: dataset/NUMTA/training-e/e16620.png  \n",
            "  inflating: dataset/NUMTA/training-e/e16621.png  \n",
            "  inflating: dataset/NUMTA/training-e/e16622.png  \n",
            "  inflating: dataset/NUMTA/training-e/e16623.png  \n",
            "  inflating: dataset/NUMTA/training-e/e16624.png  \n",
            "  inflating: dataset/NUMTA/training-e/e16625.png  \n",
            "  inflating: dataset/NUMTA/training-e/e16626.png  \n",
            "  inflating: dataset/NUMTA/training-e/e16627.png  \n",
            "  inflating: dataset/NUMTA/training-e/e16628.png  \n",
            "  inflating: dataset/NUMTA/training-e/e16629.png  \n",
            "  inflating: dataset/NUMTA/training-e/e16630.png  \n",
            "  inflating: dataset/NUMTA/training-e/e16631.png  \n",
            "  inflating: dataset/NUMTA/training-e/e16632.png  \n",
            "  inflating: dataset/NUMTA/training-e/e16633.png  \n",
            "  inflating: dataset/NUMTA/training-e/e16634.png  \n",
            "  inflating: dataset/NUMTA/training-e/e16635.png  \n",
            "  inflating: dataset/NUMTA/training-e/e16636.png  \n",
            "  inflating: dataset/NUMTA/training-e/e16637.png  \n",
            "  inflating: dataset/NUMTA/training-e/e16638.png  \n",
            "  inflating: dataset/NUMTA/training-e/e16639.png  \n",
            "  inflating: dataset/NUMTA/training-e/e16640.png  \n",
            "  inflating: dataset/NUMTA/training-e/e16641.png  \n",
            "  inflating: dataset/NUMTA/training-e/e16642.png  \n",
            "  inflating: dataset/NUMTA/training-e/e16643.png  \n",
            "  inflating: dataset/NUMTA/training-e/e16644.png  \n",
            "  inflating: dataset/NUMTA/training-e/e16645.png  \n",
            "  inflating: dataset/NUMTA/training-e/e16646.png  \n",
            "  inflating: dataset/NUMTA/training-e/e16647.png  \n",
            "  inflating: dataset/NUMTA/training-e/e16648.png  \n",
            "  inflating: dataset/NUMTA/training-e/e16649.png  \n",
            "  inflating: dataset/NUMTA/training-e/e16650.png  \n",
            "  inflating: dataset/NUMTA/training-e/e16651.png  \n",
            "  inflating: dataset/NUMTA/training-e/e16652.png  \n",
            "  inflating: dataset/NUMTA/training-e/e16653.png  \n",
            "  inflating: dataset/NUMTA/training-e/e16654.png  \n",
            "  inflating: dataset/NUMTA/training-e/e16655.png  \n",
            "  inflating: dataset/NUMTA/training-e/e16656.png  \n",
            "  inflating: dataset/NUMTA/training-e/e16657.png  \n",
            "  inflating: dataset/NUMTA/training-e/e16658.png  \n",
            "  inflating: dataset/NUMTA/training-e/e16659.png  \n",
            "  inflating: dataset/NUMTA/training-e/e16660.png  \n",
            "  inflating: dataset/NUMTA/training-e/e16661.png  \n",
            "  inflating: dataset/NUMTA/training-e/e16662.png  \n",
            "  inflating: dataset/NUMTA/training-e/e16663.png  \n",
            "  inflating: dataset/NUMTA/training-e/e16664.png  \n",
            "  inflating: dataset/NUMTA/training-e/e16665.png  \n",
            "  inflating: dataset/NUMTA/training-e/e16666.png  \n",
            "  inflating: dataset/NUMTA/training-e/e16667.png  \n",
            "  inflating: dataset/NUMTA/training-e/e16668.png  \n",
            "  inflating: dataset/NUMTA/training-e/e16669.png  \n",
            "  inflating: dataset/NUMTA/training-e/e16670.png  \n",
            "  inflating: dataset/NUMTA/training-e/e16671.png  \n",
            "  inflating: dataset/NUMTA/training-e/e16672.png  \n",
            "  inflating: dataset/NUMTA/training-e/e16673.png  \n",
            "  inflating: dataset/NUMTA/training-e/e16674.png  \n",
            "  inflating: dataset/NUMTA/training-e/e16675.png  \n",
            "  inflating: dataset/NUMTA/training-e/e16676.png  \n",
            "  inflating: dataset/NUMTA/training-e/e16677.png  \n",
            "  inflating: dataset/NUMTA/training-e/e16678.png  \n",
            "  inflating: dataset/NUMTA/training-e/e16679.png  \n",
            "  inflating: dataset/NUMTA/training-e/e16680.png  \n",
            "  inflating: dataset/NUMTA/training-e/e16681.png  \n",
            "  inflating: dataset/NUMTA/training-e/e16682.png  \n",
            "  inflating: dataset/NUMTA/training-e/e16683.png  \n",
            "  inflating: dataset/NUMTA/training-e/e16684.png  \n",
            "  inflating: dataset/NUMTA/training-e/e16685.png  \n",
            "  inflating: dataset/NUMTA/training-e/e16686.png  \n",
            "  inflating: dataset/NUMTA/training-e/e16687.png  \n",
            "  inflating: dataset/NUMTA/training-e/e16688.png  \n",
            "  inflating: dataset/NUMTA/training-e/e16689.png  \n",
            "  inflating: dataset/NUMTA/training-e/e16690.png  \n",
            "  inflating: dataset/NUMTA/training-e/e16691.png  \n",
            "  inflating: dataset/NUMTA/training-e/e16692.png  \n",
            "  inflating: dataset/NUMTA/training-e/e16693.png  \n",
            "  inflating: dataset/NUMTA/training-e/e16694.png  \n",
            "  inflating: dataset/NUMTA/training-e/e16695.png  \n",
            "  inflating: dataset/NUMTA/training-e/e16696.png  \n",
            "  inflating: dataset/NUMTA/training-e/e16697.png  \n",
            "  inflating: dataset/NUMTA/training-e/e16698.png  \n",
            "  inflating: dataset/NUMTA/training-e/e16699.png  \n",
            "  inflating: dataset/NUMTA/training-e/e16700.png  \n",
            "  inflating: dataset/NUMTA/training-e/e16701.png  \n",
            "  inflating: dataset/NUMTA/training-e/e16702.png  \n",
            "  inflating: dataset/NUMTA/training-e/e16703.png  \n",
            "  inflating: dataset/NUMTA/training-e/e16704.png  \n",
            "  inflating: dataset/NUMTA/training-e/e16705.png  \n",
            "  inflating: dataset/NUMTA/training-e/e16706.png  \n",
            "  inflating: dataset/NUMTA/training-e/e16707.png  \n",
            "  inflating: dataset/NUMTA/training-e/e16708.png  \n",
            "  inflating: dataset/NUMTA/training-e/e16709.png  \n",
            "  inflating: dataset/NUMTA/training-e/e16710.png  \n",
            "  inflating: dataset/NUMTA/training-e/e16711.png  \n",
            "  inflating: dataset/NUMTA/training-e/e16712.png  \n",
            "  inflating: dataset/NUMTA/training-e/e16713.png  \n",
            "  inflating: dataset/NUMTA/training-e/e16714.png  \n",
            "  inflating: dataset/NUMTA/training-e/e16715.png  \n",
            "  inflating: dataset/NUMTA/training-e/e16716.png  \n",
            "  inflating: dataset/NUMTA/training-e/e16717.png  \n",
            "  inflating: dataset/NUMTA/training-e/e16718.png  \n",
            "  inflating: dataset/NUMTA/training-e/e16719.png  \n",
            "  inflating: dataset/NUMTA/training-e/e16720.png  \n",
            "  inflating: dataset/NUMTA/training-e/e16721.png  \n",
            "  inflating: dataset/NUMTA/training-e/e16722.png  \n",
            "  inflating: dataset/NUMTA/training-e/e16723.png  \n",
            "  inflating: dataset/NUMTA/training-e/e16724.png  \n",
            "  inflating: dataset/NUMTA/training-e/e16725.png  \n",
            "  inflating: dataset/NUMTA/training-e/e16726.png  \n",
            "  inflating: dataset/NUMTA/training-e/e16727.png  \n",
            "  inflating: dataset/NUMTA/training-e/e16728.png  \n",
            "  inflating: dataset/NUMTA/training-e/e16729.png  \n",
            "  inflating: dataset/NUMTA/training-e/e16730.png  \n",
            "  inflating: dataset/NUMTA/training-e/e16731.png  \n",
            "  inflating: dataset/NUMTA/training-e/e16732.png  \n",
            "  inflating: dataset/NUMTA/training-e/e16733.png  \n",
            "  inflating: dataset/NUMTA/training-e/e16734.png  \n",
            "  inflating: dataset/NUMTA/training-e/e16735.png  \n",
            "  inflating: dataset/NUMTA/training-e/e16736.png  \n",
            "  inflating: dataset/NUMTA/training-e/e16737.png  \n",
            "  inflating: dataset/NUMTA/training-e/e16738.png  \n",
            "  inflating: dataset/NUMTA/training-e/e16739.png  \n",
            "  inflating: dataset/NUMTA/training-e/e16740.png  \n",
            "  inflating: dataset/NUMTA/training-e/e16741.png  \n",
            "  inflating: dataset/NUMTA/training-e/e16742.png  \n",
            "  inflating: dataset/NUMTA/training-e/e16743.png  \n",
            "  inflating: dataset/NUMTA/training-e/e16744.png  \n",
            "  inflating: dataset/NUMTA/training-e/e16745.png  \n",
            "  inflating: dataset/NUMTA/training-e/e16746.png  \n",
            "  inflating: dataset/NUMTA/training-e/e16747.png  \n",
            "  inflating: dataset/NUMTA/training-e/e16748.png  \n",
            "  inflating: dataset/NUMTA/training-e/e16749.png  \n",
            "  inflating: dataset/NUMTA/training-e/e16750.png  \n",
            "  inflating: dataset/NUMTA/training-e/e16751.png  \n",
            "  inflating: dataset/NUMTA/training-e/e16752.png  \n",
            "  inflating: dataset/NUMTA/training-e/e16753.png  \n",
            "  inflating: dataset/NUMTA/training-e/e16754.png  \n",
            "  inflating: dataset/NUMTA/training-e/e16755.png  \n",
            "  inflating: dataset/NUMTA/training-e/e16756.png  \n",
            "  inflating: dataset/NUMTA/training-e/e16757.png  \n",
            "  inflating: dataset/NUMTA/training-e/e16758.png  \n",
            "  inflating: dataset/NUMTA/training-e/e16759.png  \n",
            "  inflating: dataset/NUMTA/training-e/e16760.png  \n",
            "  inflating: dataset/NUMTA/training-e/e16761.png  \n",
            "  inflating: dataset/NUMTA/training-e/e16762.png  \n",
            "  inflating: dataset/NUMTA/training-e/e16763.png  \n",
            "  inflating: dataset/NUMTA/training-e/e16764.png  \n",
            "  inflating: dataset/NUMTA/training-e/e16765.png  \n",
            "  inflating: dataset/NUMTA/training-e/e16766.png  \n",
            "  inflating: dataset/NUMTA/training-e/e16767.png  \n",
            "  inflating: dataset/NUMTA/training-e/e16768.png  \n",
            "  inflating: dataset/NUMTA/training-e/e16769.png  \n",
            "  inflating: dataset/NUMTA/training-e/e16770.png  \n",
            "  inflating: dataset/NUMTA/training-e/e16771.png  \n",
            "  inflating: dataset/NUMTA/training-e/e16772.png  \n",
            "  inflating: dataset/NUMTA/training-e/e16773.png  \n",
            "  inflating: dataset/NUMTA/training-e/e16774.png  \n",
            "  inflating: dataset/NUMTA/training-e/e16775.png  \n",
            "  inflating: dataset/NUMTA/training-e/e16776.png  \n",
            "  inflating: dataset/NUMTA/training-e/e16777.png  \n"
          ]
        }
      ]
    },
    {
      "cell_type": "code",
      "source": [
        "os.listdir('dataset/NUMTA')"
      ],
      "metadata": {
        "colab": {
          "base_uri": "https://localhost:8080/",
          "height": 166
        },
        "id": "ngxSQxkB97be",
        "outputId": "700bd606-94df-4dd0-e698-70fcfba41bbc"
      },
      "execution_count": null,
      "outputs": [
        {
          "output_type": "error",
          "ename": "NameError",
          "evalue": "ignored",
          "traceback": [
            "\u001b[0;31m---------------------------------------------------------------------------\u001b[0m",
            "\u001b[0;31mNameError\u001b[0m                                 Traceback (most recent call last)",
            "\u001b[0;32m<ipython-input-2-27dc86615340>\u001b[0m in \u001b[0;36m<module>\u001b[0;34m()\u001b[0m\n\u001b[0;32m----> 1\u001b[0;31m \u001b[0mos\u001b[0m\u001b[0;34m.\u001b[0m\u001b[0mlistdir\u001b[0m\u001b[0;34m(\u001b[0m\u001b[0;34m'dataset/NUMTA'\u001b[0m\u001b[0;34m)\u001b[0m\u001b[0;34m\u001b[0m\u001b[0;34m\u001b[0m\u001b[0m\n\u001b[0m",
            "\u001b[0;31mNameError\u001b[0m: name 'os' is not defined"
          ]
        }
      ]
    },
    {
      "cell_type": "code",
      "source": [
        "import os\n",
        "from os import path\n",
        "import shutil\n",
        "import numpy as np\n",
        "import pandas as pd\n",
        "\n",
        "#Import PyTorch\n",
        "import torch\n",
        "import torch.nn as nn\n",
        "import torch.nn.functional as F\n",
        "import torch.optim as optim\n",
        "from torch.utils.data import Dataset\n",
        "from torch.utils.data.sampler import SubsetRandomSampler\n",
        "from torchvision import datasets, transforms, models\n",
        "\n",
        "#Import Matplotlib\n",
        "import matplotlib\n",
        "import matplotlib.pyplot as plt\n",
        "from PIL import Image"
      ],
      "metadata": {
        "id": "69wkkwmuNgnQ"
      },
      "execution_count": null,
      "outputs": []
    },
    {
      "cell_type": "code",
      "source": [
        "PATH = 'dataset/NUMTA/'\n",
        "TRAIN_PATH = 'dataset/NUMTA/training-a/'\n",
        "TEST_PATH = 'dataset/NUMTA/testing-a/'\n",
        "os.listdir(PATH)"
      ],
      "metadata": {
        "id": "Io6ilGCWQV9T",
        "colab": {
          "base_uri": "https://localhost:8080/"
        },
        "outputId": "4a66ccb9-3d5b-49c5-84a6-cfffa49e9935"
      },
      "execution_count": null,
      "outputs": [
        {
          "output_type": "execute_result",
          "data": {
            "text/plain": [
              "['training-e',\n",
              " 'training-e.csv',\n",
              " 'training-b',\n",
              " 'testing-augc',\n",
              " 'training-b.csv',\n",
              " 'training-a',\n",
              " 'testing-a',\n",
              " 'testing-b',\n",
              " 'testing-f',\n",
              " 'testing-e',\n",
              " 'testing-all-corrected',\n",
              " 'training-c.csv',\n",
              " 'training-d.csv',\n",
              " 'testing-c',\n",
              " 'training-d',\n",
              " 'testing-auga',\n",
              " 'testing-d',\n",
              " 'training-c',\n",
              " 'training-a.csv']"
            ]
          },
          "metadata": {},
          "execution_count": 4
        }
      ]
    },
    {
      "cell_type": "code",
      "source": [
        "class CustomDataset(Dataset):\n",
        "    def __init__(self, df, root, transform=None):\n",
        "        self.data = df\n",
        "        self.root = root\n",
        "        self.transform = transform\n",
        "        \n",
        "    def __len__(self):\n",
        "        return len(self.data)\n",
        "    \n",
        "    def __getitem__(self, index):\n",
        "        item = self.data.iloc[index]\n",
        "        \n",
        "        path = self.root + \"/\" + item[0]\n",
        "        image = Image.open(path).convert('L')\n",
        "        label = item[1]\n",
        "        \n",
        "        if self.transform is not None:\n",
        "            image = self.transform(image)\n",
        "            \n",
        "        return image, label"
      ],
      "metadata": {
        "id": "BS1LpQ6eyzxf"
      },
      "execution_count": null,
      "outputs": []
    },
    {
      "cell_type": "code",
      "source": [
        "a_csv = pd.read_csv(PATH + \"training-a.csv\")[['filename', 'digit']]\n",
        "\n",
        "a_csv.head()"
      ],
      "metadata": {
        "colab": {
          "base_uri": "https://localhost:8080/",
          "height": 206
        },
        "id": "7bjUW4ntzC9Y",
        "outputId": "b5ab8511-6282-4080-8da8-f59e44461572"
      },
      "execution_count": null,
      "outputs": [
        {
          "output_type": "execute_result",
          "data": {
            "text/html": [
              "\n",
              "  <div id=\"df-cc9a5413-1407-4070-8a8c-d11e132857b1\">\n",
              "    <div class=\"colab-df-container\">\n",
              "      <div>\n",
              "<style scoped>\n",
              "    .dataframe tbody tr th:only-of-type {\n",
              "        vertical-align: middle;\n",
              "    }\n",
              "\n",
              "    .dataframe tbody tr th {\n",
              "        vertical-align: top;\n",
              "    }\n",
              "\n",
              "    .dataframe thead th {\n",
              "        text-align: right;\n",
              "    }\n",
              "</style>\n",
              "<table border=\"1\" class=\"dataframe\">\n",
              "  <thead>\n",
              "    <tr style=\"text-align: right;\">\n",
              "      <th></th>\n",
              "      <th>filename</th>\n",
              "      <th>digit</th>\n",
              "    </tr>\n",
              "  </thead>\n",
              "  <tbody>\n",
              "    <tr>\n",
              "      <th>0</th>\n",
              "      <td>a00000.png</td>\n",
              "      <td>5</td>\n",
              "    </tr>\n",
              "    <tr>\n",
              "      <th>1</th>\n",
              "      <td>a00001.png</td>\n",
              "      <td>3</td>\n",
              "    </tr>\n",
              "    <tr>\n",
              "      <th>2</th>\n",
              "      <td>a00002.png</td>\n",
              "      <td>1</td>\n",
              "    </tr>\n",
              "    <tr>\n",
              "      <th>3</th>\n",
              "      <td>a00003.png</td>\n",
              "      <td>7</td>\n",
              "    </tr>\n",
              "    <tr>\n",
              "      <th>4</th>\n",
              "      <td>a00004.png</td>\n",
              "      <td>0</td>\n",
              "    </tr>\n",
              "  </tbody>\n",
              "</table>\n",
              "</div>\n",
              "      <button class=\"colab-df-convert\" onclick=\"convertToInteractive('df-cc9a5413-1407-4070-8a8c-d11e132857b1')\"\n",
              "              title=\"Convert this dataframe to an interactive table.\"\n",
              "              style=\"display:none;\">\n",
              "        \n",
              "  <svg xmlns=\"http://www.w3.org/2000/svg\" height=\"24px\"viewBox=\"0 0 24 24\"\n",
              "       width=\"24px\">\n",
              "    <path d=\"M0 0h24v24H0V0z\" fill=\"none\"/>\n",
              "    <path d=\"M18.56 5.44l.94 2.06.94-2.06 2.06-.94-2.06-.94-.94-2.06-.94 2.06-2.06.94zm-11 1L8.5 8.5l.94-2.06 2.06-.94-2.06-.94L8.5 2.5l-.94 2.06-2.06.94zm10 10l.94 2.06.94-2.06 2.06-.94-2.06-.94-.94-2.06-.94 2.06-2.06.94z\"/><path d=\"M17.41 7.96l-1.37-1.37c-.4-.4-.92-.59-1.43-.59-.52 0-1.04.2-1.43.59L10.3 9.45l-7.72 7.72c-.78.78-.78 2.05 0 2.83L4 21.41c.39.39.9.59 1.41.59.51 0 1.02-.2 1.41-.59l7.78-7.78 2.81-2.81c.8-.78.8-2.07 0-2.86zM5.41 20L4 18.59l7.72-7.72 1.47 1.35L5.41 20z\"/>\n",
              "  </svg>\n",
              "      </button>\n",
              "      \n",
              "  <style>\n",
              "    .colab-df-container {\n",
              "      display:flex;\n",
              "      flex-wrap:wrap;\n",
              "      gap: 12px;\n",
              "    }\n",
              "\n",
              "    .colab-df-convert {\n",
              "      background-color: #E8F0FE;\n",
              "      border: none;\n",
              "      border-radius: 50%;\n",
              "      cursor: pointer;\n",
              "      display: none;\n",
              "      fill: #1967D2;\n",
              "      height: 32px;\n",
              "      padding: 0 0 0 0;\n",
              "      width: 32px;\n",
              "    }\n",
              "\n",
              "    .colab-df-convert:hover {\n",
              "      background-color: #E2EBFA;\n",
              "      box-shadow: 0px 1px 2px rgba(60, 64, 67, 0.3), 0px 1px 3px 1px rgba(60, 64, 67, 0.15);\n",
              "      fill: #174EA6;\n",
              "    }\n",
              "\n",
              "    [theme=dark] .colab-df-convert {\n",
              "      background-color: #3B4455;\n",
              "      fill: #D2E3FC;\n",
              "    }\n",
              "\n",
              "    [theme=dark] .colab-df-convert:hover {\n",
              "      background-color: #434B5C;\n",
              "      box-shadow: 0px 1px 3px 1px rgba(0, 0, 0, 0.15);\n",
              "      filter: drop-shadow(0px 1px 2px rgba(0, 0, 0, 0.3));\n",
              "      fill: #FFFFFF;\n",
              "    }\n",
              "  </style>\n",
              "\n",
              "      <script>\n",
              "        const buttonEl =\n",
              "          document.querySelector('#df-cc9a5413-1407-4070-8a8c-d11e132857b1 button.colab-df-convert');\n",
              "        buttonEl.style.display =\n",
              "          google.colab.kernel.accessAllowed ? 'block' : 'none';\n",
              "\n",
              "        async function convertToInteractive(key) {\n",
              "          const element = document.querySelector('#df-cc9a5413-1407-4070-8a8c-d11e132857b1');\n",
              "          const dataTable =\n",
              "            await google.colab.kernel.invokeFunction('convertToInteractive',\n",
              "                                                     [key], {});\n",
              "          if (!dataTable) return;\n",
              "\n",
              "          const docLinkHtml = 'Like what you see? Visit the ' +\n",
              "            '<a target=\"_blank\" href=https://colab.research.google.com/notebooks/data_table.ipynb>data table notebook</a>'\n",
              "            + ' to learn more about interactive tables.';\n",
              "          element.innerHTML = '';\n",
              "          dataTable['output_type'] = 'display_data';\n",
              "          await google.colab.output.renderOutput(dataTable, element);\n",
              "          const docLink = document.createElement('div');\n",
              "          docLink.innerHTML = docLinkHtml;\n",
              "          element.appendChild(docLink);\n",
              "        }\n",
              "      </script>\n",
              "    </div>\n",
              "  </div>\n",
              "  "
            ],
            "text/plain": [
              "     filename  digit\n",
              "0  a00000.png      5\n",
              "1  a00001.png      3\n",
              "2  a00002.png      1\n",
              "3  a00003.png      7\n",
              "4  a00004.png      0"
            ]
          },
          "metadata": {},
          "execution_count": 6
        }
      ]
    },
    {
      "cell_type": "code",
      "source": [
        "mean = [0.5,]\n",
        "std = [0.5, ]\n",
        "\n",
        "transform = test_transform = transforms.Compose([\n",
        "        transforms.Resize(28),\n",
        "        transforms.ToTensor(),\n",
        "        transforms.Normalize(mean, std)\n",
        "])"
      ],
      "metadata": {
        "id": "tvwkLZAD0YFi"
      },
      "execution_count": null,
      "outputs": []
    },
    {
      "cell_type": "code",
      "source": [
        "train_dataset = CustomDataset(a_csv, \n",
        "                        TRAIN_PATH, \n",
        "                        transform)"
      ],
      "metadata": {
        "id": "2HlM6jNJzxtm"
      },
      "execution_count": null,
      "outputs": []
    },
    {
      "cell_type": "code",
      "source": [
        "len(train_dataset)"
      ],
      "metadata": {
        "colab": {
          "base_uri": "https://localhost:8080/"
        },
        "id": "_VsMLrcA0c0S",
        "outputId": "73217716-70c9-4261-91b8-4ca05e48f8e2"
      },
      "execution_count": null,
      "outputs": [
        {
          "output_type": "execute_result",
          "data": {
            "text/plain": [
              "19702"
            ]
          },
          "metadata": {},
          "execution_count": 9
        }
      ]
    },
    {
      "cell_type": "code",
      "source": [
        "show_img = train_dataset[0][0].numpy().reshape(28, 28)\n",
        "plt.imshow(show_img, cmap='gray')"
      ],
      "metadata": {
        "colab": {
          "base_uri": "https://localhost:8080/",
          "height": 282
        },
        "id": "h9l7l3-6003y",
        "outputId": "a180e093-f3fb-4f0c-9f1e-2da1f9ea2fa9"
      },
      "execution_count": null,
      "outputs": [
        {
          "output_type": "execute_result",
          "data": {
            "text/plain": [
              "<matplotlib.image.AxesImage at 0x7fef4ed83b10>"
            ]
          },
          "metadata": {},
          "execution_count": 10
        },
        {
          "output_type": "display_data",
          "data": {
            "image/png": "[encoded data removed]",
            "text/plain": [
              "<Figure size 432x288 with 1 Axes>"
            ]
          },
          "metadata": {
            "needs_background": "light"
          }
        }
      ]
    },
    {
      "cell_type": "code",
      "source": [
        "train_dataset[0][1]"
      ],
      "metadata": {
        "colab": {
          "base_uri": "https://localhost:8080/"
        },
        "id": "F7-CbPnF25lY",
        "outputId": "75223588-b4fc-4ab6-b17e-202b83397644"
      },
      "execution_count": null,
      "outputs": [
        {
          "output_type": "execute_result",
          "data": {
            "text/plain": [
              "5"
            ]
          },
          "metadata": {},
          "execution_count": 11
        }
      ]
    },
    {
      "cell_type": "code",
      "source": [
        "figure = plt.figure()\n",
        "num_of_images = 60\n",
        "for index in range(1, num_of_images + 1):\n",
        "    plt.subplot(6, 10, index)\n",
        "    plt.axis('off')\n",
        "    plt.imshow(train_dataset[index][0].squeeze(), cmap='gray')"
      ],
      "metadata": {
        "id": "fvOUCH2rkL4B",
        "colab": {
          "base_uri": "https://localhost:8080/",
          "height": 246
        },
        "outputId": "5ecaa6be-548c-4840-d4e8-0901d2572dfc"
      },
      "execution_count": null,
      "outputs": [
        {
          "output_type": "display_data",
          "data": {
            "image/png": "[encoded data removed]",
            "text/plain": [
              "<Figure size 432x288 with 60 Axes>"
            ]
          },
          "metadata": {
            "needs_background": "light"
          }
        }
      ]
    },
    {
      "cell_type": "code",
      "source": [
        ""
      ],
      "metadata": {
        "id": "IE1pJx2dde3h"
      },
      "execution_count": null,
      "outputs": []
    }
  ]
}